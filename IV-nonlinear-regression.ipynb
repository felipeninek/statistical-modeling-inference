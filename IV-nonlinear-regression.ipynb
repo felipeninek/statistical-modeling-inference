{
 "cells": [
  {
   "cell_type": "markdown",
   "metadata": {
    "id": "dGoQTWG-bzGK"
   },
   "source": [
    "### Adequação de modelos e regressão não linear"
   ]
  },
  {
   "cell_type": "markdown",
   "metadata": {},
   "source": [
    "regressão com variaveis transformadas\n",
    "b1_inf = (xy_sum - x_sum*y_sum/n) / (x_sum**2 - (x_sum**2)/n)\n",
    "b0_inf = (y_sum - b1_inf*x_sum) / n"
   ]
  },
  {
   "cell_type": "markdown",
   "metadata": {},
   "source": [
    "##### Imports"
   ]
  },
  {
   "cell_type": "code",
   "execution_count": 2,
   "metadata": {
    "executionInfo": {
     "elapsed": 5,
     "status": "ok",
     "timestamp": 1646159743340,
     "user": {
      "displayName": "victoria alejandra herrera",
      "photoUrl": "https://lh3.googleusercontent.com/a/default-user=s64",
      "userId": "16346835995419242908"
     },
     "user_tz": 180
    },
    "id": "pDrxMQnfRDSO"
   },
   "outputs": [],
   "source": [
    "import numpy as np\n",
    "import pandas as pd\n",
    "import matplotlib.pyplot as plt\n",
    "import statsmodels.api as sm\n",
    "import seaborn as sns\n",
    "import math\n",
    "\n",
    "from statsmodels.graphics.gofplots import ProbPlot\n",
    "from scipy.stats import t\n",
    "from numpy.core.fromnumeric import mean"
   ]
  },
  {
   "cell_type": "markdown",
   "metadata": {},
   "source": [
    "##### Help functions"
   ]
  },
  {
   "cell_type": "code",
   "execution_count": 32,
   "metadata": {},
   "outputs": [],
   "source": [
    "def df_residual(x, y):\n",
    "    #create a new df for residual analysis\n",
    "    #variable response = y\n",
    "\n",
    "    #variable predict = x\n",
    "\n",
    "    #predict variable response\n",
    "    y_pred=list(modelo.predict())\n",
    "\n",
    "    #sns.resid(modelo)\n",
    "    resi=list(modelo.resid)\n",
    "\n",
    "    #create instance influence\n",
    "    influence = modelo.get_influence()\n",
    "\n",
    "    #get standard residuals\n",
    "    stdresid = list(influence.resid_studentized_internal)\n",
    "\n",
    "    #e/e* verify proportionality between error and standard error\n",
    "    prop=np.divide(resi,stdresid)\n",
    "\n",
    "    #tabela geral\n",
    "    df = pd.DataFrame(list(zip(x, y, y_pred, resi, stdresid, prop)),\n",
    "                columns =['x', 'y', 'yc', 'e', 'e*', 'e/e*'])\n",
    "    return df"
   ]
  },
  {
   "cell_type": "markdown",
   "metadata": {},
   "source": [
    "##### Load dataset"
   ]
  },
  {
   "cell_type": "code",
   "execution_count": 33,
   "metadata": {},
   "outputs": [
    {
     "data": {
      "text/html": [
       "<div>\n",
       "<style scoped>\n",
       "    .dataframe tbody tr th:only-of-type {\n",
       "        vertical-align: middle;\n",
       "    }\n",
       "\n",
       "    .dataframe tbody tr th {\n",
       "        vertical-align: top;\n",
       "    }\n",
       "\n",
       "    .dataframe thead th {\n",
       "        text-align: right;\n",
       "    }\n",
       "</style>\n",
       "<table border=\"1\" class=\"dataframe\">\n",
       "  <thead>\n",
       "    <tr style=\"text-align: right;\">\n",
       "      <th></th>\n",
       "      <th>brand/model/year</th>\n",
       "      <th>cap_vol</th>\n",
       "      <th>consumo</th>\n",
       "      <th>power</th>\n",
       "      <th>weight</th>\n",
       "      <th>cemm</th>\n",
       "      <th>nu_cy</th>\n",
       "      <th>Etype</th>\n",
       "    </tr>\n",
       "  </thead>\n",
       "  <tbody>\n",
       "    <tr>\n",
       "      <th>0</th>\n",
       "      <td>Gurgel BR800 0.8 1991</td>\n",
       "      <td>792</td>\n",
       "      <td>12.0</td>\n",
       "      <td>33</td>\n",
       "      <td>650</td>\n",
       "      <td>34.4</td>\n",
       "      <td>2</td>\n",
       "      <td>0</td>\n",
       "    </tr>\n",
       "    <tr>\n",
       "      <th>1</th>\n",
       "      <td>FIAT UNO Mille EP 1996</td>\n",
       "      <td>994</td>\n",
       "      <td>10.4</td>\n",
       "      <td>58</td>\n",
       "      <td>870</td>\n",
       "      <td>18.6</td>\n",
       "      <td>4</td>\n",
       "      <td>0</td>\n",
       "    </tr>\n",
       "    <tr>\n",
       "      <th>2</th>\n",
       "      <td>Hyundai HB20 Sense 2020</td>\n",
       "      <td>1000</td>\n",
       "      <td>12.8</td>\n",
       "      <td>80</td>\n",
       "      <td>989</td>\n",
       "      <td>14.5</td>\n",
       "      <td>3</td>\n",
       "      <td>0</td>\n",
       "    </tr>\n",
       "    <tr>\n",
       "      <th>3</th>\n",
       "      <td>FIAT Strada 1.4 2016</td>\n",
       "      <td>1368</td>\n",
       "      <td>10.3</td>\n",
       "      <td>86</td>\n",
       "      <td>1084</td>\n",
       "      <td>12.5</td>\n",
       "      <td>4</td>\n",
       "      <td>0</td>\n",
       "    </tr>\n",
       "    <tr>\n",
       "      <th>4</th>\n",
       "      <td>VolksWagen GOL 1.6 2015</td>\n",
       "      <td>1598</td>\n",
       "      <td>10.5</td>\n",
       "      <td>104</td>\n",
       "      <td>961</td>\n",
       "      <td>9.8</td>\n",
       "      <td>4</td>\n",
       "      <td>0</td>\n",
       "    </tr>\n",
       "    <tr>\n",
       "      <th>5</th>\n",
       "      <td>Chevrolet Cruze LTZ 1.8 2016</td>\n",
       "      <td>1796</td>\n",
       "      <td>8.5</td>\n",
       "      <td>144</td>\n",
       "      <td>1427</td>\n",
       "      <td>10.2</td>\n",
       "      <td>4</td>\n",
       "      <td>0</td>\n",
       "    </tr>\n",
       "    <tr>\n",
       "      <th>6</th>\n",
       "      <td>Honda Civic EXR 2016</td>\n",
       "      <td>1997</td>\n",
       "      <td>9.5</td>\n",
       "      <td>155</td>\n",
       "      <td>1294</td>\n",
       "      <td>10.9</td>\n",
       "      <td>4</td>\n",
       "      <td>0</td>\n",
       "    </tr>\n",
       "    <tr>\n",
       "      <th>7</th>\n",
       "      <td>Ford Focus 2.0 GLX 2012</td>\n",
       "      <td>1999</td>\n",
       "      <td>9.2</td>\n",
       "      <td>148</td>\n",
       "      <td>1347</td>\n",
       "      <td>10.4</td>\n",
       "      <td>4</td>\n",
       "      <td>0</td>\n",
       "    </tr>\n",
       "    <tr>\n",
       "      <th>8</th>\n",
       "      <td>BMW 325i 3.0 2012</td>\n",
       "      <td>2996</td>\n",
       "      <td>6.5</td>\n",
       "      <td>218</td>\n",
       "      <td>1460</td>\n",
       "      <td>7.1</td>\n",
       "      <td>6</td>\n",
       "      <td>0</td>\n",
       "    </tr>\n",
       "    <tr>\n",
       "      <th>9</th>\n",
       "      <td>AUDI A4 3.2 V6 Fsi 2011</td>\n",
       "      <td>3197</td>\n",
       "      <td>7.1</td>\n",
       "      <td>269</td>\n",
       "      <td>1610</td>\n",
       "      <td>6.4</td>\n",
       "      <td>6</td>\n",
       "      <td>0</td>\n",
       "    </tr>\n",
       "    <tr>\n",
       "      <th>10</th>\n",
       "      <td>Mercedes-Benz CLS 350 3.5 V6 2012</td>\n",
       "      <td>3498</td>\n",
       "      <td>6.6</td>\n",
       "      <td>306</td>\n",
       "      <td>1735</td>\n",
       "      <td>6.1</td>\n",
       "      <td>6</td>\n",
       "      <td>0</td>\n",
       "    </tr>\n",
       "    <tr>\n",
       "      <th>11</th>\n",
       "      <td>Mercedes-Benz CLS 500 5.5 V8 2007</td>\n",
       "      <td>5461</td>\n",
       "      <td>4.2</td>\n",
       "      <td>388</td>\n",
       "      <td>1760</td>\n",
       "      <td>5.4</td>\n",
       "      <td>8</td>\n",
       "      <td>0</td>\n",
       "    </tr>\n",
       "    <tr>\n",
       "      <th>12</th>\n",
       "      <td>Chevrolet Camaro SS 6.2 V8 2018</td>\n",
       "      <td>6162</td>\n",
       "      <td>6.4</td>\n",
       "      <td>461</td>\n",
       "      <td>1709</td>\n",
       "      <td>4.2</td>\n",
       "      <td>8</td>\n",
       "      <td>0</td>\n",
       "    </tr>\n",
       "    <tr>\n",
       "      <th>13</th>\n",
       "      <td>Pagani Zonda F 7.3 V12 2006</td>\n",
       "      <td>7291</td>\n",
       "      <td>3.0</td>\n",
       "      <td>602</td>\n",
       "      <td>1230</td>\n",
       "      <td>3.6</td>\n",
       "      <td>12</td>\n",
       "      <td>0</td>\n",
       "    </tr>\n",
       "    <tr>\n",
       "      <th>14</th>\n",
       "      <td>Volkswagen Polo Highline 1.0 Tsi 2021</td>\n",
       "      <td>999</td>\n",
       "      <td>11.4</td>\n",
       "      <td>128</td>\n",
       "      <td>1147</td>\n",
       "      <td>9.6</td>\n",
       "      <td>3</td>\n",
       "      <td>1</td>\n",
       "    </tr>\n",
       "    <tr>\n",
       "      <th>15</th>\n",
       "      <td>Chevrolet Tracker Premier 1.2 T 2021</td>\n",
       "      <td>1199</td>\n",
       "      <td>11.2</td>\n",
       "      <td>133</td>\n",
       "      <td>1271</td>\n",
       "      <td>9.4</td>\n",
       "      <td>3</td>\n",
       "      <td>1</td>\n",
       "    </tr>\n",
       "    <tr>\n",
       "      <th>16</th>\n",
       "      <td>Chevrolet Cruze LTZ 1.4 T 2021</td>\n",
       "      <td>1399</td>\n",
       "      <td>11.0</td>\n",
       "      <td>153</td>\n",
       "      <td>1321</td>\n",
       "      <td>9.0</td>\n",
       "      <td>4</td>\n",
       "      <td>1</td>\n",
       "    </tr>\n",
       "    <tr>\n",
       "      <th>17</th>\n",
       "      <td>Honda Civic Touring 1.5 T 2021</td>\n",
       "      <td>1498</td>\n",
       "      <td>11.0</td>\n",
       "      <td>173</td>\n",
       "      <td>1329</td>\n",
       "      <td>8.6</td>\n",
       "      <td>4</td>\n",
       "      <td>1</td>\n",
       "    </tr>\n",
       "    <tr>\n",
       "      <th>18</th>\n",
       "      <td>Peugeot 306 Griffe 1.6 THP 2019</td>\n",
       "      <td>1598</td>\n",
       "      <td>10.6</td>\n",
       "      <td>173</td>\n",
       "      <td>1392</td>\n",
       "      <td>8.3</td>\n",
       "      <td>4</td>\n",
       "      <td>1</td>\n",
       "    </tr>\n",
       "    <tr>\n",
       "      <th>19</th>\n",
       "      <td>Audi A4 Attraction 1.8 TSFi 2015</td>\n",
       "      <td>1798</td>\n",
       "      <td>8.7</td>\n",
       "      <td>170</td>\n",
       "      <td>1470</td>\n",
       "      <td>8.3</td>\n",
       "      <td>4</td>\n",
       "      <td>1</td>\n",
       "    </tr>\n",
       "    <tr>\n",
       "      <th>20</th>\n",
       "      <td>BMW 320i Sport 2.0 T 2020</td>\n",
       "      <td>1998</td>\n",
       "      <td>10.5</td>\n",
       "      <td>184</td>\n",
       "      <td>1460</td>\n",
       "      <td>7.1</td>\n",
       "      <td>4</td>\n",
       "      <td>1</td>\n",
       "    </tr>\n",
       "    <tr>\n",
       "      <th>21</th>\n",
       "      <td>Porsche Panamera 3.0 V6 2018</td>\n",
       "      <td>2995</td>\n",
       "      <td>7.8</td>\n",
       "      <td>330</td>\n",
       "      <td>1815</td>\n",
       "      <td>5.7</td>\n",
       "      <td>6</td>\n",
       "      <td>1</td>\n",
       "    </tr>\n",
       "    <tr>\n",
       "      <th>22</th>\n",
       "      <td>Honda NSX 3.5 V6 T 2017</td>\n",
       "      <td>3493</td>\n",
       "      <td>7.0</td>\n",
       "      <td>507</td>\n",
       "      <td>1725</td>\n",
       "      <td>3.3</td>\n",
       "      <td>6</td>\n",
       "      <td>1</td>\n",
       "    </tr>\n",
       "    <tr>\n",
       "      <th>23</th>\n",
       "      <td>Nissan GTR Nismo 3.8 V6 T 2015</td>\n",
       "      <td>3799</td>\n",
       "      <td>5.0</td>\n",
       "      <td>608</td>\n",
       "      <td>1729</td>\n",
       "      <td>2.7</td>\n",
       "      <td>6</td>\n",
       "      <td>1</td>\n",
       "    </tr>\n",
       "    <tr>\n",
       "      <th>24</th>\n",
       "      <td>Mercedes-Benz E63 S AMG 4.0 V8 2021</td>\n",
       "      <td>3982</td>\n",
       "      <td>6.1</td>\n",
       "      <td>612</td>\n",
       "      <td>1935</td>\n",
       "      <td>3.4</td>\n",
       "      <td>8</td>\n",
       "      <td>1</td>\n",
       "    </tr>\n",
       "    <tr>\n",
       "      <th>25</th>\n",
       "      <td>Aston Martin DB11 5.2 V12 T 2017</td>\n",
       "      <td>5204</td>\n",
       "      <td>2.6</td>\n",
       "      <td>608</td>\n",
       "      <td>1770</td>\n",
       "      <td>3.9</td>\n",
       "      <td>12</td>\n",
       "      <td>1</td>\n",
       "    </tr>\n",
       "    <tr>\n",
       "      <th>26</th>\n",
       "      <td>Pagani Huayra 6.0 V12 T 2014</td>\n",
       "      <td>5980</td>\n",
       "      <td>3.0</td>\n",
       "      <td>730</td>\n",
       "      <td>1350</td>\n",
       "      <td>3.3</td>\n",
       "      <td>12</td>\n",
       "      <td>1</td>\n",
       "    </tr>\n",
       "    <tr>\n",
       "      <th>27</th>\n",
       "      <td>Bugatti Chiron 8.0 W16 2016</td>\n",
       "      <td>7993</td>\n",
       "      <td>3.8</td>\n",
       "      <td>1500</td>\n",
       "      <td>1998</td>\n",
       "      <td>2.5</td>\n",
       "      <td>16</td>\n",
       "      <td>1</td>\n",
       "    </tr>\n",
       "  </tbody>\n",
       "</table>\n",
       "</div>"
      ],
      "text/plain": [
       "                         brand/model/year  cap_vol  consumo  power  weight  \\\n",
       "0                   Gurgel BR800 0.8 1991      792     12.0     33     650   \n",
       "1                  FIAT UNO Mille EP 1996      994     10.4     58     870   \n",
       "2                 Hyundai HB20 Sense 2020     1000     12.8     80     989   \n",
       "3                    FIAT Strada 1.4 2016     1368     10.3     86    1084   \n",
       "4                 VolksWagen GOL 1.6 2015     1598     10.5    104     961   \n",
       "5            Chevrolet Cruze LTZ 1.8 2016     1796      8.5    144    1427   \n",
       "6                    Honda Civic EXR 2016     1997      9.5    155    1294   \n",
       "7                 Ford Focus 2.0 GLX 2012     1999      9.2    148    1347   \n",
       "8                       BMW 325i 3.0 2012     2996      6.5    218    1460   \n",
       "9                 AUDI A4 3.2 V6 Fsi 2011     3197      7.1    269    1610   \n",
       "10      Mercedes-Benz CLS 350 3.5 V6 2012     3498      6.6    306    1735   \n",
       "11      Mercedes-Benz CLS 500 5.5 V8 2007     5461      4.2    388    1760   \n",
       "12        Chevrolet Camaro SS 6.2 V8 2018     6162      6.4    461    1709   \n",
       "13            Pagani Zonda F 7.3 V12 2006     7291      3.0    602    1230   \n",
       "14  Volkswagen Polo Highline 1.0 Tsi 2021      999     11.4    128    1147   \n",
       "15   Chevrolet Tracker Premier 1.2 T 2021     1199     11.2    133    1271   \n",
       "16         Chevrolet Cruze LTZ 1.4 T 2021     1399     11.0    153    1321   \n",
       "17         Honda Civic Touring 1.5 T 2021     1498     11.0    173    1329   \n",
       "18        Peugeot 306 Griffe 1.6 THP 2019     1598     10.6    173    1392   \n",
       "19       Audi A4 Attraction 1.8 TSFi 2015     1798      8.7    170    1470   \n",
       "20              BMW 320i Sport 2.0 T 2020     1998     10.5    184    1460   \n",
       "21           Porsche Panamera 3.0 V6 2018     2995      7.8    330    1815   \n",
       "22                Honda NSX 3.5 V6 T 2017     3493      7.0    507    1725   \n",
       "23         Nissan GTR Nismo 3.8 V6 T 2015     3799      5.0    608    1729   \n",
       "24    Mercedes-Benz E63 S AMG 4.0 V8 2021     3982      6.1    612    1935   \n",
       "25       Aston Martin DB11 5.2 V12 T 2017     5204      2.6    608    1770   \n",
       "26           Pagani Huayra 6.0 V12 T 2014     5980      3.0    730    1350   \n",
       "27            Bugatti Chiron 8.0 W16 2016     7993      3.8   1500    1998   \n",
       "\n",
       "    cemm  nu_cy  Etype  \n",
       "0   34.4      2      0  \n",
       "1   18.6      4      0  \n",
       "2   14.5      3      0  \n",
       "3   12.5      4      0  \n",
       "4    9.8      4      0  \n",
       "5   10.2      4      0  \n",
       "6   10.9      4      0  \n",
       "7   10.4      4      0  \n",
       "8    7.1      6      0  \n",
       "9    6.4      6      0  \n",
       "10   6.1      6      0  \n",
       "11   5.4      8      0  \n",
       "12   4.2      8      0  \n",
       "13   3.6     12      0  \n",
       "14   9.6      3      1  \n",
       "15   9.4      3      1  \n",
       "16   9.0      4      1  \n",
       "17   8.6      4      1  \n",
       "18   8.3      4      1  \n",
       "19   8.3      4      1  \n",
       "20   7.1      4      1  \n",
       "21   5.7      6      1  \n",
       "22   3.3      6      1  \n",
       "23   2.7      6      1  \n",
       "24   3.4      8      1  \n",
       "25   3.9     12      1  \n",
       "26   3.3     12      1  \n",
       "27   2.5     16      1  "
      ]
     },
     "execution_count": 33,
     "metadata": {},
     "output_type": "execute_result"
    }
   ],
   "source": [
    "df = pd.read_csv('data/carst.csv', delimiter=',')\n",
    "df"
   ]
  },
  {
   "cell_type": "markdown",
   "metadata": {},
   "source": [
    "##### 1. Faça uma análise de resíduos para carros do tipo 0 (dataset carst_csv)"
   ]
  },
  {
   "cell_type": "code",
   "execution_count": 34,
   "metadata": {
    "colab": {
     "base_uri": "https://localhost:8080/",
     "height": 369
    },
    "executionInfo": {
     "elapsed": 755,
     "status": "ok",
     "timestamp": 1646159758409,
     "user": {
      "displayName": "victoria alejandra herrera",
      "photoUrl": "https://lh3.googleusercontent.com/a/default-user=s64",
      "userId": "16346835995419242908"
     },
     "user_tz": 180
    },
    "id": "oio7uwljcIbA",
    "outputId": "10d3ac5b-4a53-45ba-ed0b-04831b9c7636"
   },
   "outputs": [
    {
     "data": {
      "image/png": "[encoded data removed]",
      "text/plain": [
       "<Figure size 402.375x360 with 1 Axes>"
      ]
     },
     "metadata": {
      "needs_background": "light"
     },
     "output_type": "display_data"
    }
   ],
   "source": [
    "#graph dispersion (cap_vol x consumo)\n",
    "sns.lmplot(x='cap_vol', y='consumo',hue='Etype', data=df);plt.grid(True)"
   ]
  },
  {
   "cell_type": "code",
   "execution_count": 35,
   "metadata": {
    "colab": {
     "base_uri": "https://localhost:8080/",
     "height": 488
    },
    "executionInfo": {
     "elapsed": 16,
     "status": "ok",
     "timestamp": 1646159758410,
     "user": {
      "displayName": "victoria alejandra herrera",
      "photoUrl": "https://lh3.googleusercontent.com/a/default-user=s64",
      "userId": "16346835995419242908"
     },
     "user_tz": 180
    },
    "id": "1_5bDBMEd2-B",
    "outputId": "4764898a-0034-4ce3-b134-9608ac5c476c"
   },
   "outputs": [
    {
     "data": {
      "text/html": [
       "<div>\n",
       "<style scoped>\n",
       "    .dataframe tbody tr th:only-of-type {\n",
       "        vertical-align: middle;\n",
       "    }\n",
       "\n",
       "    .dataframe tbody tr th {\n",
       "        vertical-align: top;\n",
       "    }\n",
       "\n",
       "    .dataframe thead th {\n",
       "        text-align: right;\n",
       "    }\n",
       "</style>\n",
       "<table border=\"1\" class=\"dataframe\">\n",
       "  <thead>\n",
       "    <tr style=\"text-align: right;\">\n",
       "      <th></th>\n",
       "      <th>brand/model/year</th>\n",
       "      <th>cap_vol</th>\n",
       "      <th>consumo</th>\n",
       "      <th>power</th>\n",
       "      <th>weight</th>\n",
       "      <th>cemm</th>\n",
       "      <th>nu_cy</th>\n",
       "      <th>Etype</th>\n",
       "    </tr>\n",
       "  </thead>\n",
       "  <tbody>\n",
       "    <tr>\n",
       "      <th>0</th>\n",
       "      <td>Gurgel BR800 0.8 1991</td>\n",
       "      <td>792</td>\n",
       "      <td>12.0</td>\n",
       "      <td>33</td>\n",
       "      <td>650</td>\n",
       "      <td>34.4</td>\n",
       "      <td>2</td>\n",
       "      <td>0</td>\n",
       "    </tr>\n",
       "    <tr>\n",
       "      <th>1</th>\n",
       "      <td>FIAT UNO Mille EP 1996</td>\n",
       "      <td>994</td>\n",
       "      <td>10.4</td>\n",
       "      <td>58</td>\n",
       "      <td>870</td>\n",
       "      <td>18.6</td>\n",
       "      <td>4</td>\n",
       "      <td>0</td>\n",
       "    </tr>\n",
       "    <tr>\n",
       "      <th>2</th>\n",
       "      <td>Hyundai HB20 Sense 2020</td>\n",
       "      <td>1000</td>\n",
       "      <td>12.8</td>\n",
       "      <td>80</td>\n",
       "      <td>989</td>\n",
       "      <td>14.5</td>\n",
       "      <td>3</td>\n",
       "      <td>0</td>\n",
       "    </tr>\n",
       "    <tr>\n",
       "      <th>3</th>\n",
       "      <td>FIAT Strada 1.4 2016</td>\n",
       "      <td>1368</td>\n",
       "      <td>10.3</td>\n",
       "      <td>86</td>\n",
       "      <td>1084</td>\n",
       "      <td>12.5</td>\n",
       "      <td>4</td>\n",
       "      <td>0</td>\n",
       "    </tr>\n",
       "    <tr>\n",
       "      <th>4</th>\n",
       "      <td>VolksWagen GOL 1.6 2015</td>\n",
       "      <td>1598</td>\n",
       "      <td>10.5</td>\n",
       "      <td>104</td>\n",
       "      <td>961</td>\n",
       "      <td>9.8</td>\n",
       "      <td>4</td>\n",
       "      <td>0</td>\n",
       "    </tr>\n",
       "    <tr>\n",
       "      <th>5</th>\n",
       "      <td>Chevrolet Cruze LTZ 1.8 2016</td>\n",
       "      <td>1796</td>\n",
       "      <td>8.5</td>\n",
       "      <td>144</td>\n",
       "      <td>1427</td>\n",
       "      <td>10.2</td>\n",
       "      <td>4</td>\n",
       "      <td>0</td>\n",
       "    </tr>\n",
       "    <tr>\n",
       "      <th>6</th>\n",
       "      <td>Honda Civic EXR 2016</td>\n",
       "      <td>1997</td>\n",
       "      <td>9.5</td>\n",
       "      <td>155</td>\n",
       "      <td>1294</td>\n",
       "      <td>10.9</td>\n",
       "      <td>4</td>\n",
       "      <td>0</td>\n",
       "    </tr>\n",
       "    <tr>\n",
       "      <th>7</th>\n",
       "      <td>Ford Focus 2.0 GLX 2012</td>\n",
       "      <td>1999</td>\n",
       "      <td>9.2</td>\n",
       "      <td>148</td>\n",
       "      <td>1347</td>\n",
       "      <td>10.4</td>\n",
       "      <td>4</td>\n",
       "      <td>0</td>\n",
       "    </tr>\n",
       "    <tr>\n",
       "      <th>8</th>\n",
       "      <td>BMW 325i 3.0 2012</td>\n",
       "      <td>2996</td>\n",
       "      <td>6.5</td>\n",
       "      <td>218</td>\n",
       "      <td>1460</td>\n",
       "      <td>7.1</td>\n",
       "      <td>6</td>\n",
       "      <td>0</td>\n",
       "    </tr>\n",
       "    <tr>\n",
       "      <th>9</th>\n",
       "      <td>AUDI A4 3.2 V6 Fsi 2011</td>\n",
       "      <td>3197</td>\n",
       "      <td>7.1</td>\n",
       "      <td>269</td>\n",
       "      <td>1610</td>\n",
       "      <td>6.4</td>\n",
       "      <td>6</td>\n",
       "      <td>0</td>\n",
       "    </tr>\n",
       "    <tr>\n",
       "      <th>10</th>\n",
       "      <td>Mercedes-Benz CLS 350 3.5 V6 2012</td>\n",
       "      <td>3498</td>\n",
       "      <td>6.6</td>\n",
       "      <td>306</td>\n",
       "      <td>1735</td>\n",
       "      <td>6.1</td>\n",
       "      <td>6</td>\n",
       "      <td>0</td>\n",
       "    </tr>\n",
       "    <tr>\n",
       "      <th>11</th>\n",
       "      <td>Mercedes-Benz CLS 500 5.5 V8 2007</td>\n",
       "      <td>5461</td>\n",
       "      <td>4.2</td>\n",
       "      <td>388</td>\n",
       "      <td>1760</td>\n",
       "      <td>5.4</td>\n",
       "      <td>8</td>\n",
       "      <td>0</td>\n",
       "    </tr>\n",
       "    <tr>\n",
       "      <th>12</th>\n",
       "      <td>Chevrolet Camaro SS 6.2 V8 2018</td>\n",
       "      <td>6162</td>\n",
       "      <td>6.4</td>\n",
       "      <td>461</td>\n",
       "      <td>1709</td>\n",
       "      <td>4.2</td>\n",
       "      <td>8</td>\n",
       "      <td>0</td>\n",
       "    </tr>\n",
       "    <tr>\n",
       "      <th>13</th>\n",
       "      <td>Pagani Zonda F 7.3 V12 2006</td>\n",
       "      <td>7291</td>\n",
       "      <td>3.0</td>\n",
       "      <td>602</td>\n",
       "      <td>1230</td>\n",
       "      <td>3.6</td>\n",
       "      <td>12</td>\n",
       "      <td>0</td>\n",
       "    </tr>\n",
       "  </tbody>\n",
       "</table>\n",
       "</div>"
      ],
      "text/plain": [
       "                     brand/model/year  cap_vol  consumo  power  weight  cemm  \\\n",
       "0               Gurgel BR800 0.8 1991      792     12.0     33     650  34.4   \n",
       "1              FIAT UNO Mille EP 1996      994     10.4     58     870  18.6   \n",
       "2             Hyundai HB20 Sense 2020     1000     12.8     80     989  14.5   \n",
       "3                FIAT Strada 1.4 2016     1368     10.3     86    1084  12.5   \n",
       "4             VolksWagen GOL 1.6 2015     1598     10.5    104     961   9.8   \n",
       "5        Chevrolet Cruze LTZ 1.8 2016     1796      8.5    144    1427  10.2   \n",
       "6                Honda Civic EXR 2016     1997      9.5    155    1294  10.9   \n",
       "7             Ford Focus 2.0 GLX 2012     1999      9.2    148    1347  10.4   \n",
       "8                   BMW 325i 3.0 2012     2996      6.5    218    1460   7.1   \n",
       "9             AUDI A4 3.2 V6 Fsi 2011     3197      7.1    269    1610   6.4   \n",
       "10  Mercedes-Benz CLS 350 3.5 V6 2012     3498      6.6    306    1735   6.1   \n",
       "11  Mercedes-Benz CLS 500 5.5 V8 2007     5461      4.2    388    1760   5.4   \n",
       "12    Chevrolet Camaro SS 6.2 V8 2018     6162      6.4    461    1709   4.2   \n",
       "13        Pagani Zonda F 7.3 V12 2006     7291      3.0    602    1230   3.6   \n",
       "\n",
       "    nu_cy  Etype  \n",
       "0       2      0  \n",
       "1       4      0  \n",
       "2       3      0  \n",
       "3       4      0  \n",
       "4       4      0  \n",
       "5       4      0  \n",
       "6       4      0  \n",
       "7       4      0  \n",
       "8       6      0  \n",
       "9       6      0  \n",
       "10      6      0  \n",
       "11      8      0  \n",
       "12      8      0  \n",
       "13     12      0  "
      ]
     },
     "execution_count": 35,
     "metadata": {},
     "output_type": "execute_result"
    }
   ],
   "source": [
    "#select cars type = 0\n",
    "df1 = df[df['Etype'] == 0]\n",
    "df1"
   ]
  },
  {
   "cell_type": "code",
   "execution_count": 36,
   "metadata": {},
   "outputs": [
    {
     "data": {
      "image/png": "[encoded data removed]",
      "text/plain": [
       "<Figure size 579.375x360 with 1 Axes>"
      ]
     },
     "metadata": {
      "needs_background": "light"
     },
     "output_type": "display_data"
    }
   ],
   "source": [
    "#dispersion graph\n",
    "sns.lmplot(x='cap_vol', y='consumo',hue='brand/model/year', data=df1);"
   ]
  },
  {
   "cell_type": "code",
   "execution_count": 37,
   "metadata": {
    "colab": {
     "base_uri": "https://localhost:8080/"
    },
    "executionInfo": {
     "elapsed": 57,
     "status": "ok",
     "timestamp": 1646159759211,
     "user": {
      "displayName": "victoria alejandra herrera",
      "photoUrl": "https://lh3.googleusercontent.com/a/default-user=s64",
      "userId": "16346835995419242908"
     },
     "user_tz": 180
    },
    "id": "XqLD8P1KKcK1",
    "outputId": "f63b73f3-78fa-4358-9e20-8c5b014a1436"
   },
   "outputs": [
    {
     "name": "stdout",
     "output_type": "stream",
     "text": [
      "                            OLS Regression Results                            \n",
      "==============================================================================\n",
      "Dep. Variable:                consumo   R-squared:                       0.834\n",
      "Model:                            OLS   Adj. R-squared:                  0.820\n",
      "Method:                 Least Squares   F-statistic:                     60.33\n",
      "Date:                Tue, 03 May 2022   Prob (F-statistic):           5.08e-06\n",
      "Time:                        14:17:54   Log-Likelihood:                -21.429\n",
      "No. Observations:                  14   AIC:                             46.86\n",
      "Df Residuals:                      12   BIC:                             48.14\n",
      "Df Model:                           1                                         \n",
      "Covariance Type:            nonrobust                                         \n",
      "==============================================================================\n",
      "                 coef    std err          t      P>|t|      [0.025      0.975]\n",
      "------------------------------------------------------------------------------\n",
      "const         11.9686      0.566     21.145      0.000      10.735      13.202\n",
      "cap_vol       -0.0013      0.000     -7.767      0.000      -0.002      -0.001\n",
      "==============================================================================\n",
      "Omnibus:                        1.442   Durbin-Watson:                   1.883\n",
      "Prob(Omnibus):                  0.486   Jarque-Bera (JB):                1.002\n",
      "Skew:                           0.615   Prob(JB):                        0.606\n",
      "Kurtosis:                       2.548   Cond. No.                     6.12e+03\n",
      "==============================================================================\n",
      "\n",
      "Notes:\n",
      "[1] Standard Errors assume that the covariance matrix of the errors is correctly specified.\n",
      "[2] The condition number is large, 6.12e+03. This might indicate that there are\n",
      "strong multicollinearity or other numerical problems.\n"
     ]
    },
    {
     "name": "stderr",
     "output_type": "stream",
     "text": [
      "/home/felipe_oliveira/data-science/Statistical Modeling and Inference/statistical-modeling-inference/venv/lib/python3.9/site-packages/scipy/stats/_stats_py.py:1477: UserWarning: kurtosistest only valid for n>=20 ... continuing anyway, n=14\n",
      "  warnings.warn(\"kurtosistest only valid for n>=20 ... continuing \"\n"
     ]
    }
   ],
   "source": [
    "#Regression results\n",
    "#select a response variable\n",
    "y = df1['consumo']\n",
    "\n",
    "#select a predict variable\n",
    "x = df1['cap_vol']\n",
    "\n",
    "#add a predict constant\n",
    "x = sm.add_constant(x)\n",
    "\n",
    "#fit linear regression model\n",
    "modelo = sm.OLS(y, x).fit()\n",
    "print(modelo.summary())"
   ]
  },
  {
   "cell_type": "code",
   "execution_count": 38,
   "metadata": {
    "colab": {
     "base_uri": "https://localhost:8080/"
    },
    "executionInfo": {
     "elapsed": 49,
     "status": "ok",
     "timestamp": 1646159759212,
     "user": {
      "displayName": "victoria alejandra herrera",
      "photoUrl": "https://lh3.googleusercontent.com/a/default-user=s64",
      "userId": "16346835995419242908"
     },
     "user_tz": 180
    },
    "id": "ITfydX6ueZum",
    "outputId": "2c6b6428-ea0b-49a3-ddf3-9403d3b67e2e"
   },
   "outputs": [
    {
     "name": "stdout",
     "output_type": "stream",
     "text": [
      "y= 11.968578736702083-0.00125931162205358 x\n"
     ]
    }
   ],
   "source": [
    "#equation of straight line\n",
    "b=modelo.params\n",
    "b0=b[0]                     #intercepto\n",
    "b1=b[1]                     #inclinação\n",
    "print('y= {0}{1} x'.format(b0,b1))"
   ]
  },
  {
   "cell_type": "code",
   "execution_count": 39,
   "metadata": {},
   "outputs": [
    {
     "data": {
      "text/html": [
       "<div>\n",
       "<style scoped>\n",
       "    .dataframe tbody tr th:only-of-type {\n",
       "        vertical-align: middle;\n",
       "    }\n",
       "\n",
       "    .dataframe tbody tr th {\n",
       "        vertical-align: top;\n",
       "    }\n",
       "\n",
       "    .dataframe thead th {\n",
       "        text-align: right;\n",
       "    }\n",
       "</style>\n",
       "<table border=\"1\" class=\"dataframe\">\n",
       "  <thead>\n",
       "    <tr style=\"text-align: right;\">\n",
       "      <th></th>\n",
       "      <th>0</th>\n",
       "      <th>1</th>\n",
       "    </tr>\n",
       "  </thead>\n",
       "  <tbody>\n",
       "    <tr>\n",
       "      <th>const</th>\n",
       "      <td>10.735300</td>\n",
       "      <td>13.201858</td>\n",
       "    </tr>\n",
       "    <tr>\n",
       "      <th>cap_vol</th>\n",
       "      <td>-0.001613</td>\n",
       "      <td>-0.000906</td>\n",
       "    </tr>\n",
       "  </tbody>\n",
       "</table>\n",
       "</div>"
      ],
      "text/plain": [
       "                 0          1\n",
       "const    10.735300  13.201858\n",
       "cap_vol  -0.001613  -0.000906"
      ]
     },
     "execution_count": 39,
     "metadata": {},
     "output_type": "execute_result"
    }
   ],
   "source": [
    "#confidence interval b0 and b1\n",
    "a = modelo.conf_int(alpha=0.05, cols=None)\n",
    "a"
   ]
  },
  {
   "cell_type": "code",
   "execution_count": 40,
   "metadata": {
    "executionInfo": {
     "elapsed": 41,
     "status": "ok",
     "timestamp": 1646159759213,
     "user": {
      "displayName": "victoria alejandra herrera",
      "photoUrl": "https://lh3.googleusercontent.com/a/default-user=s64",
      "userId": "16346835995419242908"
     },
     "user_tz": 180
    },
    "id": "th8xak3KKqsB"
   },
   "outputs": [
    {
     "data": {
      "text/html": [
       "<div>\n",
       "<style scoped>\n",
       "    .dataframe tbody tr th:only-of-type {\n",
       "        vertical-align: middle;\n",
       "    }\n",
       "\n",
       "    .dataframe tbody tr th {\n",
       "        vertical-align: top;\n",
       "    }\n",
       "\n",
       "    .dataframe thead th {\n",
       "        text-align: right;\n",
       "    }\n",
       "</style>\n",
       "<table border=\"1\" class=\"dataframe\">\n",
       "  <thead>\n",
       "    <tr style=\"text-align: right;\">\n",
       "      <th></th>\n",
       "      <th>x</th>\n",
       "      <th>y</th>\n",
       "      <th>yc</th>\n",
       "      <th>e</th>\n",
       "      <th>e*</th>\n",
       "      <th>e/e*</th>\n",
       "    </tr>\n",
       "  </thead>\n",
       "  <tbody>\n",
       "    <tr>\n",
       "      <th>0</th>\n",
       "      <td>792</td>\n",
       "      <td>12.0</td>\n",
       "      <td>10.971204</td>\n",
       "      <td>1.028796</td>\n",
       "      <td>0.923383</td>\n",
       "      <td>1.114160</td>\n",
       "    </tr>\n",
       "    <tr>\n",
       "      <th>1</th>\n",
       "      <td>994</td>\n",
       "      <td>10.4</td>\n",
       "      <td>10.716823</td>\n",
       "      <td>-0.316823</td>\n",
       "      <td>-0.281988</td>\n",
       "      <td>1.123532</td>\n",
       "    </tr>\n",
       "    <tr>\n",
       "      <th>2</th>\n",
       "      <td>1000</td>\n",
       "      <td>12.8</td>\n",
       "      <td>10.709267</td>\n",
       "      <td>2.090733</td>\n",
       "      <td>1.860422</td>\n",
       "      <td>1.123795</td>\n",
       "    </tr>\n",
       "    <tr>\n",
       "      <th>3</th>\n",
       "      <td>1368</td>\n",
       "      <td>10.3</td>\n",
       "      <td>10.245840</td>\n",
       "      <td>0.054160</td>\n",
       "      <td>0.047584</td>\n",
       "      <td>1.138197</td>\n",
       "    </tr>\n",
       "    <tr>\n",
       "      <th>4</th>\n",
       "      <td>1598</td>\n",
       "      <td>10.5</td>\n",
       "      <td>9.956199</td>\n",
       "      <td>0.543801</td>\n",
       "      <td>0.474716</td>\n",
       "      <td>1.145529</td>\n",
       "    </tr>\n",
       "    <tr>\n",
       "      <th>5</th>\n",
       "      <td>1796</td>\n",
       "      <td>8.5</td>\n",
       "      <td>9.706855</td>\n",
       "      <td>-1.206855</td>\n",
       "      <td>-1.048677</td>\n",
       "      <td>1.150836</td>\n",
       "    </tr>\n",
       "    <tr>\n",
       "      <th>6</th>\n",
       "      <td>1997</td>\n",
       "      <td>9.5</td>\n",
       "      <td>9.453733</td>\n",
       "      <td>0.046267</td>\n",
       "      <td>0.040048</td>\n",
       "      <td>1.155287</td>\n",
       "    </tr>\n",
       "    <tr>\n",
       "      <th>7</th>\n",
       "      <td>1999</td>\n",
       "      <td>9.2</td>\n",
       "      <td>9.451215</td>\n",
       "      <td>-0.251215</td>\n",
       "      <td>-0.217440</td>\n",
       "      <td>1.155327</td>\n",
       "    </tr>\n",
       "    <tr>\n",
       "      <th>8</th>\n",
       "      <td>2996</td>\n",
       "      <td>6.5</td>\n",
       "      <td>8.195681</td>\n",
       "      <td>-1.695681</td>\n",
       "      <td>-1.457151</td>\n",
       "      <td>1.163696</td>\n",
       "    </tr>\n",
       "    <tr>\n",
       "      <th>9</th>\n",
       "      <td>3197</td>\n",
       "      <td>7.1</td>\n",
       "      <td>7.942559</td>\n",
       "      <td>-0.842559</td>\n",
       "      <td>-0.724684</td>\n",
       "      <td>1.162657</td>\n",
       "    </tr>\n",
       "    <tr>\n",
       "      <th>10</th>\n",
       "      <td>3498</td>\n",
       "      <td>6.6</td>\n",
       "      <td>7.563507</td>\n",
       "      <td>-0.963507</td>\n",
       "      <td>-0.831048</td>\n",
       "      <td>1.159388</td>\n",
       "    </tr>\n",
       "    <tr>\n",
       "      <th>11</th>\n",
       "      <td>5461</td>\n",
       "      <td>4.2</td>\n",
       "      <td>5.091478</td>\n",
       "      <td>-0.891478</td>\n",
       "      <td>-0.821422</td>\n",
       "      <td>1.085286</td>\n",
       "    </tr>\n",
       "    <tr>\n",
       "      <th>12</th>\n",
       "      <td>6162</td>\n",
       "      <td>6.4</td>\n",
       "      <td>4.208701</td>\n",
       "      <td>2.191299</td>\n",
       "      <td>2.119047</td>\n",
       "      <td>1.034097</td>\n",
       "    </tr>\n",
       "    <tr>\n",
       "      <th>13</th>\n",
       "      <td>7291</td>\n",
       "      <td>3.0</td>\n",
       "      <td>2.786938</td>\n",
       "      <td>0.213062</td>\n",
       "      <td>0.232426</td>\n",
       "      <td>0.916688</td>\n",
       "    </tr>\n",
       "  </tbody>\n",
       "</table>\n",
       "</div>"
      ],
      "text/plain": [
       "       x     y         yc         e        e*      e/e*\n",
       "0    792  12.0  10.971204  1.028796  0.923383  1.114160\n",
       "1    994  10.4  10.716823 -0.316823 -0.281988  1.123532\n",
       "2   1000  12.8  10.709267  2.090733  1.860422  1.123795\n",
       "3   1368  10.3  10.245840  0.054160  0.047584  1.138197\n",
       "4   1598  10.5   9.956199  0.543801  0.474716  1.145529\n",
       "5   1796   8.5   9.706855 -1.206855 -1.048677  1.150836\n",
       "6   1997   9.5   9.453733  0.046267  0.040048  1.155287\n",
       "7   1999   9.2   9.451215 -0.251215 -0.217440  1.155327\n",
       "8   2996   6.5   8.195681 -1.695681 -1.457151  1.163696\n",
       "9   3197   7.1   7.942559 -0.842559 -0.724684  1.162657\n",
       "10  3498   6.6   7.563507 -0.963507 -0.831048  1.159388\n",
       "11  5461   4.2   5.091478 -0.891478 -0.821422  1.085286\n",
       "12  6162   6.4   4.208701  2.191299  2.119047  1.034097\n",
       "13  7291   3.0   2.786938  0.213062  0.232426  0.916688"
      ]
     },
     "execution_count": 40,
     "metadata": {},
     "output_type": "execute_result"
    }
   ],
   "source": [
    "#create a df for residual analysis\n",
    "dft = df_residual(df1['cap_vol'], df1['consumo'])\n",
    "dft"
   ]
  },
  {
   "cell_type": "code",
   "execution_count": 41,
   "metadata": {
    "colab": {
     "base_uri": "https://localhost:8080/",
     "height": 369
    },
    "executionInfo": {
     "elapsed": 34,
     "status": "ok",
     "timestamp": 1646159759216,
     "user": {
      "displayName": "victoria alejandra herrera",
      "photoUrl": "https://lh3.googleusercontent.com/a/default-user=s64",
      "userId": "16346835995419242908"
     },
     "user_tz": 180
    },
    "id": "mVaDoM8Ku8zL",
    "outputId": "6b7605d2-77ba-4c4b-e9fa-17d43aa3da61"
   },
   "outputs": [
    {
     "data": {
      "image/png": "[encoded data removed]",
      "text/plain": [
       "<Figure size 360x360 with 1 Axes>"
      ]
     },
     "metadata": {
      "needs_background": "light"
     },
     "output_type": "display_data"
    }
   ],
   "source": [
    "#graph (y x yc)\n",
    "sns.lmplot(x='y', y='yc', data=dft);plt.grid(True)"
   ]
  },
  {
   "cell_type": "code",
   "execution_count": 42,
   "metadata": {
    "colab": {
     "base_uri": "https://localhost:8080/",
     "height": 361
    },
    "executionInfo": {
     "elapsed": 1397,
     "status": "ok",
     "timestamp": 1646159777745,
     "user": {
      "displayName": "victoria alejandra herrera",
      "photoUrl": "https://lh3.googleusercontent.com/a/default-user=s64",
      "userId": "16346835995419242908"
     },
     "user_tz": 180
    },
    "id": "L4w3cKt_w4QT",
    "outputId": "e82289df-28ba-44a5-c912-7fe976aa0bd5"
   },
   "outputs": [
    {
     "data": {
      "image/png": "[encoded data removed]",
      "text/plain": [
       "<Figure size 432x288 with 1 Axes>"
      ]
     },
     "metadata": {
      "needs_background": "light"
     },
     "output_type": "display_data"
    }
   ],
   "source": [
    "#graph (e* x x)\n",
    "sns.scatterplot(x='x', y='e*', data=dft);plt.grid(True)\n",
    "plt.xlabel('x= Capacidade Volumétrica')\n",
    "plt.ylabel('e*= Resíduos padronizados')\n",
    "plt.axhline(y=0, color='black', linestyle='--', linewidth=1)\n",
    "plt.show()"
   ]
  },
  {
   "cell_type": "code",
   "execution_count": 43,
   "metadata": {
    "colab": {
     "base_uri": "https://localhost:8080/",
     "height": 361
    },
    "executionInfo": {
     "elapsed": 435,
     "status": "ok",
     "timestamp": 1646159780872,
     "user": {
      "displayName": "victoria alejandra herrera",
      "photoUrl": "https://lh3.googleusercontent.com/a/default-user=s64",
      "userId": "16346835995419242908"
     },
     "user_tz": 180
    },
    "id": "JsuKnBpz2DO2",
    "outputId": "c4a8d323-53f6-407c-e971-ceaf4af3b184"
   },
   "outputs": [
    {
     "data": {
      "image/png": "[encoded data removed]",
      "text/plain": [
       "<Figure size 432x288 with 1 Axes>"
      ]
     },
     "metadata": {
      "needs_background": "light"
     },
     "output_type": "display_data"
    }
   ],
   "source": [
    "#graph (e* x y)\n",
    "sns.scatterplot(x='y', y='e*', data=dft);plt.grid(True)\n",
    "plt.xlabel('y= Consumo')\n",
    "plt.ylabel('e*= Resíduos padronizados')\n",
    "plt.axhline(y=0, color='black', linestyle='--', linewidth=1)\n",
    "plt.show()"
   ]
  },
  {
   "cell_type": "code",
   "execution_count": 77,
   "metadata": {
    "colab": {
     "base_uri": "https://localhost:8080/",
     "height": 378
    },
    "executionInfo": {
     "elapsed": 498,
     "status": "ok",
     "timestamp": 1646159793838,
     "user": {
      "displayName": "victoria alejandra herrera",
      "photoUrl": "https://lh3.googleusercontent.com/a/default-user=s64",
      "userId": "16346835995419242908"
     },
     "user_tz": 180
    },
    "id": "4DRDBzV0zicR",
    "outputId": "22c423e0-8d68-4ff4-f5e7-5f8b62518b57"
   },
   "outputs": [
    {
     "name": "stderr",
     "output_type": "stream",
     "text": [
      "/home/felipe_oliveira/data-science/Statistical Modeling and Inference/statistical-modeling-inference/venv/lib/python3.9/site-packages/statsmodels/graphics/gofplots.py:1045: UserWarning: color is redundantly defined by the 'color' keyword argument and the fmt string \"b\" (-> color=(0.0, 0.0, 1.0, 1)). The keyword argument will take precedence.\n",
      "  ax.plot(x, y, fmt, **plot_style)\n"
     ]
    },
    {
     "data": {
      "text/plain": [
       "Text(0, 0.5, 'Resíduos padronizados')"
      ]
     },
     "execution_count": 77,
     "metadata": {},
     "output_type": "execute_result"
    },
    {
     "data": {
      "image/png": "[encoded data removed]",
      "text/plain": [
       "<Figure size 432x288 with 1 Axes>"
      ]
     },
     "metadata": {
      "needs_background": "light"
     },
     "output_type": "display_data"
    }
   ],
   "source": [
    "#graph V(normal distribution)\n",
    "influence = modelo.get_influence()\n",
    "QQ = ProbPlot(influence.resid_studentized_internal)\n",
    "plot_lm_2 = QQ.qqplot(line='45', alpha=0.5, color='#4C72B0', lw=1)\n",
    "plot_lm_2.axes[0].set_xlabel('Percentil')\n",
    "plot_lm_2.axes[0].set_ylabel('Resíduos padronizados')"
   ]
  },
  {
   "cell_type": "markdown",
   "metadata": {
    "id": "rFZL2EkWcWtx"
   },
   "source": [
    "#### 2.  Os seguintes dados: x=tempo de fritura (s) e y= teor de umidade (%).\n"
   ]
  },
  {
   "cell_type": "markdown",
   "metadata": {},
   "source": [
    "##### a.   Construa um gráfico de dispersão de y versus x e comente."
   ]
  },
  {
   "cell_type": "code",
   "execution_count": null,
   "metadata": {
    "colab": {
     "base_uri": "https://localhost:8080/",
     "height": 206
    },
    "executionInfo": {
     "elapsed": 35,
     "status": "ok",
     "timestamp": 1646159796105,
     "user": {
      "displayName": "victoria alejandra herrera",
      "photoUrl": "https://lh3.googleusercontent.com/a/default-user=s64",
      "userId": "16346835995419242908"
     },
     "user_tz": 180
    },
    "id": "T_g0QX3LdAFb",
    "outputId": "d8518836-1dde-40c5-a331-ca3afacd94ff"
   },
   "outputs": [
    {
     "data": {
      "image/png": "[encoded data removed]",
      "text/plain": [
       "<Figure size 432x288 with 1 Axes>"
      ]
     },
     "metadata": {
      "needs_background": "light"
     },
     "output_type": "display_data"
    }
   ],
   "source": [
    "#data\n",
    "x = [5, 10, 15, 20, 25, 30, 45, 60]\n",
    "y= [16.3, 9.7, 8.1, 4.2, 3.4, 2.9, 1.9, 1.3]\n",
    "\n",
    "#create df\n",
    "df3 = pd.DataFrame({'x':x, 'y':y})\n",
    "\n",
    "#dispersion graph (x x y)\n",
    "plt.scatter(df3['x'], df3['y'])\n",
    "plt.xlabel('tempo de fritura')\n",
    "plt.ylabel('teor de umidade')\n",
    "plt.grid(True)\n",
    "plt.show()"
   ]
  },
  {
   "cell_type": "markdown",
   "metadata": {},
   "source": [
    "##### b.   Construa um gráfico de dispersão dos pares (ln(x), ln(y)) e comente."
   ]
  },
  {
   "cell_type": "code",
   "execution_count": null,
   "metadata": {
    "colab": {
     "base_uri": "https://localhost:8080/",
     "height": 703
    },
    "executionInfo": {
     "elapsed": 30,
     "status": "ok",
     "timestamp": 1646159796107,
     "user": {
      "displayName": "victoria alejandra herrera",
      "photoUrl": "https://lh3.googleusercontent.com/a/default-user=s64",
      "userId": "16346835995419242908"
     },
     "user_tz": 180
    },
    "id": "WCoKNygvjTHy",
    "outputId": "5e6fbacd-6659-4b6b-aaae-d9c9170d0871"
   },
   "outputs": [
    {
     "data": {
      "image/png": "[encoded data removed]",
      "text/plain": [
       "<Figure size 432x288 with 1 Axes>"
      ]
     },
     "metadata": {
      "needs_background": "light"
     },
     "output_type": "display_data"
    }
   ],
   "source": [
    "#linearization\n",
    "vtx=np.log(df3['x'])\n",
    "vty=np.log(df3['y'])\n",
    "\n",
    "#dispersion graph\n",
    "plt.scatter(vtx, vty)\n",
    "plt.xlabel('Tempo de fritura (s)');\n",
    "plt.ylabel('Teor de umidade (%)')\n",
    "plt.title('Gráfico com variáveis x e y transformadas')\n",
    "plt.grid(True)\n",
    "plt.show()"
   ]
  },
  {
   "cell_type": "code",
   "execution_count": null,
   "metadata": {
    "colab": {
     "base_uri": "https://localhost:8080/",
     "height": 206
    },
    "executionInfo": {
     "elapsed": 30,
     "status": "ok",
     "timestamp": 1646159796108,
     "user": {
      "displayName": "victoria alejandra herrera",
      "photoUrl": "https://lh3.googleusercontent.com/a/default-user=s64",
      "userId": "16346835995419242908"
     },
     "user_tz": 180
    },
    "id": "i1NnNrezkAXb",
    "outputId": "d9482217-19c6-41a8-f00f-6a405cf0aecf"
   },
   "outputs": [
    {
     "data": {
      "text/html": [
       "<div>\n",
       "<style scoped>\n",
       "    .dataframe tbody tr th:only-of-type {\n",
       "        vertical-align: middle;\n",
       "    }\n",
       "\n",
       "    .dataframe tbody tr th {\n",
       "        vertical-align: top;\n",
       "    }\n",
       "\n",
       "    .dataframe thead th {\n",
       "        text-align: right;\n",
       "    }\n",
       "</style>\n",
       "<table border=\"1\" class=\"dataframe\">\n",
       "  <thead>\n",
       "    <tr style=\"text-align: right;\">\n",
       "      <th></th>\n",
       "      <th>x</th>\n",
       "      <th>y</th>\n",
       "      <th>ln_x</th>\n",
       "      <th>ln_y</th>\n",
       "    </tr>\n",
       "  </thead>\n",
       "  <tbody>\n",
       "    <tr>\n",
       "      <th>0</th>\n",
       "      <td>5</td>\n",
       "      <td>16.3</td>\n",
       "      <td>1.609438</td>\n",
       "      <td>2.791165</td>\n",
       "    </tr>\n",
       "    <tr>\n",
       "      <th>1</th>\n",
       "      <td>10</td>\n",
       "      <td>9.7</td>\n",
       "      <td>2.302585</td>\n",
       "      <td>2.272126</td>\n",
       "    </tr>\n",
       "    <tr>\n",
       "      <th>2</th>\n",
       "      <td>15</td>\n",
       "      <td>8.1</td>\n",
       "      <td>2.708050</td>\n",
       "      <td>2.091864</td>\n",
       "    </tr>\n",
       "    <tr>\n",
       "      <th>3</th>\n",
       "      <td>20</td>\n",
       "      <td>4.2</td>\n",
       "      <td>2.995732</td>\n",
       "      <td>1.435085</td>\n",
       "    </tr>\n",
       "    <tr>\n",
       "      <th>4</th>\n",
       "      <td>25</td>\n",
       "      <td>3.4</td>\n",
       "      <td>3.218876</td>\n",
       "      <td>1.223775</td>\n",
       "    </tr>\n",
       "    <tr>\n",
       "      <th>5</th>\n",
       "      <td>30</td>\n",
       "      <td>2.9</td>\n",
       "      <td>3.401197</td>\n",
       "      <td>1.064711</td>\n",
       "    </tr>\n",
       "    <tr>\n",
       "      <th>6</th>\n",
       "      <td>45</td>\n",
       "      <td>1.9</td>\n",
       "      <td>3.806662</td>\n",
       "      <td>0.641854</td>\n",
       "    </tr>\n",
       "    <tr>\n",
       "      <th>7</th>\n",
       "      <td>60</td>\n",
       "      <td>1.3</td>\n",
       "      <td>4.094345</td>\n",
       "      <td>0.262364</td>\n",
       "    </tr>\n",
       "  </tbody>\n",
       "</table>\n",
       "</div>"
      ],
      "text/plain": [
       "    x     y      ln_x      ln_y\n",
       "0   5  16.3  1.609438  2.791165\n",
       "1  10   9.7  2.302585  2.272126\n",
       "2  15   8.1  2.708050  2.091864\n",
       "3  20   4.2  2.995732  1.435085\n",
       "4  25   3.4  3.218876  1.223775\n",
       "5  30   2.9  3.401197  1.064711\n",
       "6  45   1.9  3.806662  0.641854\n",
       "7  60   1.3  4.094345  0.262364"
      ]
     },
     "execution_count": 18,
     "metadata": {},
     "output_type": "execute_result"
    }
   ],
   "source": [
    "#df comparison\n",
    "df4 = pd.DataFrame({'x':x, 'y':y, 'ln_x':vtx, 'ln_y':vty})\n",
    "df4"
   ]
  },
  {
   "cell_type": "markdown",
   "metadata": {},
   "source": [
    "##### c.   Qual é a relação probabilística entre x e y sugerido pelo padrão linear no gráfico da parte (b)?"
   ]
  },
  {
   "cell_type": "code",
   "execution_count": null,
   "metadata": {
    "colab": {
     "base_uri": "https://localhost:8080/"
    },
    "executionInfo": {
     "elapsed": 29,
     "status": "ok",
     "timestamp": 1646159796108,
     "user": {
      "displayName": "victoria alejandra herrera",
      "photoUrl": "https://lh3.googleusercontent.com/a/default-user=s64",
      "userId": "16346835995419242908"
     },
     "user_tz": 180
    },
    "id": "cEP2uQL5nhDl",
    "outputId": "5e3d0731-63f0-4377-bf64-f719700e5e65"
   },
   "outputs": [
    {
     "name": "stdout",
     "output_type": "stream",
     "text": [
      "                            OLS Regression Results                            \n",
      "==============================================================================\n",
      "Dep. Variable:                      y   R-squared:                       0.976\n",
      "Model:                            OLS   Adj. R-squared:                  0.971\n",
      "Method:                 Least Squares   F-statistic:                     239.1\n",
      "Date:                Tue, 03 May 2022   Prob (F-statistic):           4.63e-06\n",
      "Time:                        14:16:19   Log-Likelihood:                 5.2525\n",
      "No. Observations:                   8   AIC:                            -6.505\n",
      "Df Residuals:                       6   BIC:                            -6.346\n",
      "Df Model:                           1                                         \n",
      "Covariance Type:            nonrobust                                         \n",
      "==============================================================================\n",
      "                 coef    std err          t      P>|t|      [0.025      0.975]\n",
      "------------------------------------------------------------------------------\n",
      "const          4.6384      0.211     21.978      0.000       4.122       5.155\n",
      "x             -1.0492      0.068    -15.462      0.000      -1.215      -0.883\n",
      "==============================================================================\n",
      "Omnibus:                        8.964   Durbin-Watson:                   1.881\n",
      "Prob(Omnibus):                  0.011   Jarque-Bera (JB):                2.783\n",
      "Skew:                           1.325   Prob(JB):                        0.249\n",
      "Kurtosis:                       4.154   Cond. No.                         14.1\n",
      "==============================================================================\n",
      "\n",
      "Notes:\n",
      "[1] Standard Errors assume that the covariance matrix of the errors is correctly specified.\n"
     ]
    },
    {
     "name": "stderr",
     "output_type": "stream",
     "text": [
      "/home/felipe_oliveira/data-science/Statistical Modeling and Inference/statistical-modeling-inference/venv/lib/python3.9/site-packages/scipy/stats/_stats_py.py:1477: UserWarning: kurtosistest only valid for n>=20 ... continuing anyway, n=8\n",
      "  warnings.warn(\"kurtosistest only valid for n>=20 ... continuing \"\n"
     ]
    }
   ],
   "source": [
    "#Regression results\n",
    "#select a response variable\n",
    "y = vty\n",
    "\n",
    "#select a predict variable\n",
    "x = vtx\n",
    "\n",
    "#add a predict constant\n",
    "x = sm.add_constant(x)\n",
    "\n",
    "#fit linear regression model\n",
    "modelo = sm.OLS(y, x).fit()\n",
    "print(modelo.summary())"
   ]
  },
  {
   "cell_type": "code",
   "execution_count": null,
   "metadata": {
    "colab": {
     "base_uri": "https://localhost:8080/"
    },
    "executionInfo": {
     "elapsed": 28,
     "status": "ok",
     "timestamp": 1646159796109,
     "user": {
      "displayName": "victoria alejandra herrera",
      "photoUrl": "https://lh3.googleusercontent.com/a/default-user=s64",
      "userId": "16346835995419242908"
     },
     "user_tz": 180
    },
    "id": "1g7mrWG5oBji",
    "outputId": "d7ce1936-5f4b-4e13-bab8-8963746790bb"
   },
   "outputs": [
    {
     "name": "stdout",
     "output_type": "stream",
     "text": [
      "y= 4.638414883849997-1.049198121311452 x\n"
     ]
    }
   ],
   "source": [
    "# parâmetros da reta intrinsecamente linear\n",
    "b=modelo.params\n",
    "b0=b[0] #intercepto\n",
    "b1=b[1] #inclinação\n",
    "print('y= {0}{1} x'.format(b0,b1))"
   ]
  },
  {
   "cell_type": "markdown",
   "metadata": {},
   "source": [
    "##### d.   Preveja o valor do teor de umidade ao fritar as batatas por 20s, de uma forma que transmite informações sobre confiabilidade e precisão."
   ]
  },
  {
   "cell_type": "code",
   "execution_count": null,
   "metadata": {
    "colab": {
     "base_uri": "https://localhost:8080/"
    },
    "executionInfo": {
     "elapsed": 371,
     "status": "ok",
     "timestamp": 1646159997891,
     "user": {
      "displayName": "victoria alejandra herrera",
      "photoUrl": "https://lh3.googleusercontent.com/a/default-user=s64",
      "userId": "16346835995419242908"
     },
     "user_tz": 180
    },
    "id": "E7Er0Ow89zub",
    "outputId": "e03a0d17-4764-4060-9124-c00f895e82f0"
   },
   "outputs": [
    {
     "name": "stdout",
     "output_type": "stream",
     "text": [
      "t=: 2.4469118487916806\n"
     ]
    }
   ],
   "source": [
    "#t_student\n",
    "alpha = 0.05                #nível de significia = 5% \n",
    "df = len(x) - 2             #gl (n - 2)                                     \n",
    "t_student = t.ppf(1 - alpha/2, df) \n",
    "print('t=: {}'.format(t_student)) "
   ]
  },
  {
   "cell_type": "code",
   "execution_count": null,
   "metadata": {
    "colab": {
     "base_uri": "https://localhost:8080/"
    },
    "executionInfo": {
     "elapsed": 6,
     "status": "ok",
     "timestamp": 1646160000129,
     "user": {
      "displayName": "victoria alejandra herrera",
      "photoUrl": "https://lh3.googleusercontent.com/a/default-user=s64",
      "userId": "16346835995419242908"
     },
     "user_tz": 180
    },
    "id": "gGsfwEsLvzZ0",
    "outputId": "323008f0-f02b-435e-9c58-563a8dacb48a"
   },
   "outputs": [
    {
     "data": {
      "text/plain": [
       "(0.1259894484543931, 0.02099824140906552, 0.14490769961967348)"
      ]
     },
     "execution_count": 27,
     "metadata": {},
     "output_type": "execute_result"
    }
   ],
   "source": [
    "x=df3['x']\n",
    "y=df3['y']\n",
    "vtx=np.log(x)\n",
    "vty=np.log(y)\n",
    "y_pred=list(modelo.predict())\n",
    "\n",
    "#sns.resid(modelo)\n",
    "resi=(modelo.resid)\n",
    "\n",
    "#SQE = sum(y - y_inf)\n",
    "sqe = np.sum(resi*resi) \n",
    "\n",
    "#s2 = sqe/n-2\n",
    "gl = modelo.df_resid\n",
    "s2 = sqe/gl\n",
    "\n",
    "#s\n",
    "s = pow(s2, 1/2)\n",
    "\n",
    "sqe, s2, s"
   ]
  },
  {
   "cell_type": "code",
   "execution_count": 46,
   "metadata": {
    "colab": {
     "base_uri": "https://localhost:8080/"
    },
    "executionInfo": {
     "elapsed": 4,
     "status": "ok",
     "timestamp": 1646160079318,
     "user": {
      "displayName": "victoria alejandra herrera",
      "photoUrl": "https://lh3.googleusercontent.com/a/default-user=s64",
      "userId": "16346835995419242908"
     },
     "user_tz": 180
    },
    "id": "DMzuRrHr3zQK",
    "outputId": "4a769286-71db-4b46-d9fd-a3e53094774f"
   },
   "outputs": [
    {
     "data": {
      "text/plain": [
       "0.03873167543010773"
      ]
     },
     "execution_count": 46,
     "metadata": {},
     "output_type": "execute_result"
    }
   ],
   "source": [
    "#sy_inf = s * pow(((1/n) + ((vtxs-vtxm)**2)/sxx), 1/2)\n",
    "#x* = ln(20)\n",
    "vtxs = np.log(20)\n",
    "\n",
    "#x mean\n",
    "vtxm = vtx.mean()                 \n",
    "\n",
    "#n\n",
    "n = modelo.df_resid + 2\n",
    "\n",
    "#sxx\n",
    "xx = np.sum(vtx*vtx)\n",
    "xau = np.sum(vtx)\n",
    "sxx = xx-xau * xau/n\n",
    "\n",
    "#sy_inf\n",
    "sy_inf = s * pow(((1/n)+(vtxs-vtxm)*(vtxs-vtxm)/sxx),1/2)\n",
    "sy_inf\n"
   ]
  },
  {
   "cell_type": "code",
   "execution_count": 47,
   "metadata": {
    "colab": {
     "base_uri": "https://localhost:8080/"
    },
    "executionInfo": {
     "elapsed": 9,
     "status": "ok",
     "timestamp": 1646160123000,
     "user": {
      "displayName": "victoria alejandra herrera",
      "photoUrl": "https://lh3.googleusercontent.com/a/default-user=s64",
      "userId": "16346835995419242908"
     },
     "user_tz": 180
    },
    "id": "5ZSV8L4WyY7u",
    "outputId": "c596ed9c-4626-4da2-f536-37cfa759fcb5"
   },
   "outputs": [
    {
     "data": {
      "text/plain": [
       "11.964806176233436"
      ]
     },
     "execution_count": 47,
     "metadata": {},
     "output_type": "execute_result"
    }
   ],
   "source": [
    "#valor esperado de x = 20 deve ser usado como ln20(vtxs)\n",
    "yln20 = b0 + (b1*vtxs)\n",
    "yln20"
   ]
  },
  {
   "cell_type": "code",
   "execution_count": 49,
   "metadata": {
    "colab": {
     "base_uri": "https://localhost:8080/"
    },
    "executionInfo": {
     "elapsed": 5,
     "status": "ok",
     "timestamp": 1646160124952,
     "user": {
      "displayName": "victoria alejandra herrera",
      "photoUrl": "https://lh3.googleusercontent.com/a/default-user=s64",
      "userId": "16346835995419242908"
     },
     "user_tz": 180
    },
    "id": "qNHfobbV9aMU",
    "outputId": "55424b58-064b-4eca-fcbf-34f8c5e268bf"
   },
   "outputs": [
    {
     "data": {
      "text/plain": [
       "([11.597782579110135, 12.331829773356738],\n",
       " 108856.15155372194,\n",
       " 226801.34323174114)"
      ]
     },
     "execution_count": 49,
     "metadata": {},
     "output_type": "execute_result"
    }
   ],
   "source": [
    "#intervalo de previsão\n",
    "sy_ip = np.sqrt((s2) + (sy_inf**2))\n",
    "\n",
    "#desvio padrao calculado\n",
    "ip = t_student * sy_ip\n",
    "\n",
    "#ip linearized model\n",
    "ip_yln20 = ([yln20 - ip, yln20 + ip])\n",
    "\n",
    "#ip in original model(exponential)\n",
    "#interval 1\n",
    "ip_yexp200=pow(math.e,ip_yln20[0])\n",
    "\n",
    "#interval 2\n",
    "ip_yexp201=pow(math.e,ip_yln20[1])\n",
    "ip_yln20, ip_yexp200, ip_yexp201"
   ]
  },
  {
   "cell_type": "markdown",
   "metadata": {},
   "source": [
    "##### e.   Analise os resíduos do ajuste do modelo de regressão linear para os dados transformados e comente."
   ]
  },
  {
   "cell_type": "code",
   "execution_count": 50,
   "metadata": {
    "colab": {
     "base_uri": "https://localhost:8080/",
     "height": 300
    },
    "executionInfo": {
     "elapsed": 32,
     "status": "ok",
     "timestamp": 1646160036564,
     "user": {
      "displayName": "victoria alejandra herrera",
      "photoUrl": "https://lh3.googleusercontent.com/a/default-user=s64",
      "userId": "16346835995419242908"
     },
     "user_tz": 180
    },
    "id": "1qtWbb5gv5PZ",
    "outputId": "1cb175b9-6619-4297-e396-108cfb2887f7"
   },
   "outputs": [
    {
     "data": {
      "text/html": [
       "<div>\n",
       "<style scoped>\n",
       "    .dataframe tbody tr th:only-of-type {\n",
       "        vertical-align: middle;\n",
       "    }\n",
       "\n",
       "    .dataframe tbody tr th {\n",
       "        vertical-align: top;\n",
       "    }\n",
       "\n",
       "    .dataframe thead th {\n",
       "        text-align: right;\n",
       "    }\n",
       "</style>\n",
       "<table border=\"1\" class=\"dataframe\">\n",
       "  <thead>\n",
       "    <tr style=\"text-align: right;\">\n",
       "      <th></th>\n",
       "      <th>x</th>\n",
       "      <th>y</th>\n",
       "      <th>yc</th>\n",
       "      <th>e</th>\n",
       "      <th>e*</th>\n",
       "      <th>e/e*</th>\n",
       "    </tr>\n",
       "  </thead>\n",
       "  <tbody>\n",
       "    <tr>\n",
       "      <th>0</th>\n",
       "      <td>1.609438</td>\n",
       "      <td>2.791165</td>\n",
       "      <td>10.971204</td>\n",
       "      <td>1.028796</td>\n",
       "      <td>0.923383</td>\n",
       "      <td>1.114160</td>\n",
       "    </tr>\n",
       "    <tr>\n",
       "      <th>1</th>\n",
       "      <td>2.302585</td>\n",
       "      <td>2.272126</td>\n",
       "      <td>10.716823</td>\n",
       "      <td>-0.316823</td>\n",
       "      <td>-0.281988</td>\n",
       "      <td>1.123532</td>\n",
       "    </tr>\n",
       "    <tr>\n",
       "      <th>2</th>\n",
       "      <td>2.708050</td>\n",
       "      <td>2.091864</td>\n",
       "      <td>10.709267</td>\n",
       "      <td>2.090733</td>\n",
       "      <td>1.860422</td>\n",
       "      <td>1.123795</td>\n",
       "    </tr>\n",
       "    <tr>\n",
       "      <th>3</th>\n",
       "      <td>2.995732</td>\n",
       "      <td>1.435085</td>\n",
       "      <td>10.245840</td>\n",
       "      <td>0.054160</td>\n",
       "      <td>0.047584</td>\n",
       "      <td>1.138197</td>\n",
       "    </tr>\n",
       "    <tr>\n",
       "      <th>4</th>\n",
       "      <td>3.218876</td>\n",
       "      <td>1.223775</td>\n",
       "      <td>9.956199</td>\n",
       "      <td>0.543801</td>\n",
       "      <td>0.474716</td>\n",
       "      <td>1.145529</td>\n",
       "    </tr>\n",
       "    <tr>\n",
       "      <th>5</th>\n",
       "      <td>3.401197</td>\n",
       "      <td>1.064711</td>\n",
       "      <td>9.706855</td>\n",
       "      <td>-1.206855</td>\n",
       "      <td>-1.048677</td>\n",
       "      <td>1.150836</td>\n",
       "    </tr>\n",
       "    <tr>\n",
       "      <th>6</th>\n",
       "      <td>3.806662</td>\n",
       "      <td>0.641854</td>\n",
       "      <td>9.453733</td>\n",
       "      <td>0.046267</td>\n",
       "      <td>0.040048</td>\n",
       "      <td>1.155287</td>\n",
       "    </tr>\n",
       "    <tr>\n",
       "      <th>7</th>\n",
       "      <td>4.094345</td>\n",
       "      <td>0.262364</td>\n",
       "      <td>9.451215</td>\n",
       "      <td>-0.251215</td>\n",
       "      <td>-0.217440</td>\n",
       "      <td>1.155327</td>\n",
       "    </tr>\n",
       "  </tbody>\n",
       "</table>\n",
       "</div>"
      ],
      "text/plain": [
       "          x         y         yc         e        e*      e/e*\n",
       "0  1.609438  2.791165  10.971204  1.028796  0.923383  1.114160\n",
       "1  2.302585  2.272126  10.716823 -0.316823 -0.281988  1.123532\n",
       "2  2.708050  2.091864  10.709267  2.090733  1.860422  1.123795\n",
       "3  2.995732  1.435085  10.245840  0.054160  0.047584  1.138197\n",
       "4  3.218876  1.223775   9.956199  0.543801  0.474716  1.145529\n",
       "5  3.401197  1.064711   9.706855 -1.206855 -1.048677  1.150836\n",
       "6  3.806662  0.641854   9.453733  0.046267  0.040048  1.155287\n",
       "7  4.094345  0.262364   9.451215 -0.251215 -0.217440  1.155327"
      ]
     },
     "execution_count": 50,
     "metadata": {},
     "output_type": "execute_result"
    }
   ],
   "source": [
    "dft2 = df_residual(vtx, vty)\n",
    "dft2"
   ]
  },
  {
   "cell_type": "code",
   "execution_count": 51,
   "metadata": {
    "colab": {
     "base_uri": "https://localhost:8080/",
     "height": 701
    },
    "executionInfo": {
     "elapsed": 29,
     "status": "ok",
     "timestamp": 1646160036565,
     "user": {
      "displayName": "victoria alejandra herrera",
      "photoUrl": "https://lh3.googleusercontent.com/a/default-user=s64",
      "userId": "16346835995419242908"
     },
     "user_tz": 180
    },
    "id": "x9zV7W2_wbGO",
    "outputId": "3bfaff9c-1193-4edb-c205-8ef00dfe7fbf"
   },
   "outputs": [
    {
     "ename": "NameError",
     "evalue": "name 'influence' is not defined",
     "output_type": "error",
     "traceback": [
      "\u001b[0;31m---------------------------------------------------------------------------\u001b[0m",
      "\u001b[0;31mNameError\u001b[0m                                 Traceback (most recent call last)",
      "\u001b[1;32m/home/felipe_oliveira/data-science/Statistical Modeling and Inference/statistical-modeling-inference/04_adequacao_modelos_regressao_nao_linear.ipynb Cell 38'\u001b[0m in \u001b[0;36m<cell line: 2>\u001b[0;34m()\u001b[0m\n\u001b[1;32m      <a href='vscode-notebook-cell:/home/felipe_oliveira/data-science/Statistical%20Modeling%20and%20Inference/statistical-modeling-inference/04_adequacao_modelos_regressao_nao_linear.ipynb#ch0000036?line=0'>1</a>\u001b[0m \u001b[39m#normal distribution\u001b[39;00m\n\u001b[0;32m----> <a href='vscode-notebook-cell:/home/felipe_oliveira/data-science/Statistical%20Modeling%20and%20Inference/statistical-modeling-inference/04_adequacao_modelos_regressao_nao_linear.ipynb#ch0000036?line=1'>2</a>\u001b[0m QQ \u001b[39m=\u001b[39m ProbPlot(influence\u001b[39m.\u001b[39mresid_studentized_internal)\n\u001b[1;32m      <a href='vscode-notebook-cell:/home/felipe_oliveira/data-science/Statistical%20Modeling%20and%20Inference/statistical-modeling-inference/04_adequacao_modelos_regressao_nao_linear.ipynb#ch0000036?line=2'>3</a>\u001b[0m plot_lm_2 \u001b[39m=\u001b[39m QQ\u001b[39m.\u001b[39mqqplot(line\u001b[39m=\u001b[39m\u001b[39m'\u001b[39m\u001b[39m45\u001b[39m\u001b[39m'\u001b[39m, alpha\u001b[39m=\u001b[39m\u001b[39m0.5\u001b[39m, color\u001b[39m=\u001b[39m\u001b[39m'\u001b[39m\u001b[39m#4C72B0\u001b[39m\u001b[39m'\u001b[39m, lw\u001b[39m=\u001b[39m\u001b[39m1\u001b[39m)\n\u001b[1;32m      <a href='vscode-notebook-cell:/home/felipe_oliveira/data-science/Statistical%20Modeling%20and%20Inference/statistical-modeling-inference/04_adequacao_modelos_regressao_nao_linear.ipynb#ch0000036?line=3'>4</a>\u001b[0m plot_lm_2\u001b[39m.\u001b[39maxes[\u001b[39m0\u001b[39m]\u001b[39m.\u001b[39mset_xlabel(\u001b[39m'\u001b[39m\u001b[39mPercentil\u001b[39m\u001b[39m'\u001b[39m)\n",
      "\u001b[0;31mNameError\u001b[0m: name 'influence' is not defined"
     ]
    }
   ],
   "source": [
    "#normal distribution\n",
    "QQ = ProbPlot(influence.resid_studentized_internal)\n",
    "plot_lm_2 = QQ.qqplot(line='45', alpha=0.5, color='#4C72B0', lw=1)\n",
    "plot_lm_2.axes[0].set_xlabel('Percentil')\n",
    "plot_lm_2.axes[0].set_ylabel('Resíduos padronizados')"
   ]
  },
  {
   "cell_type": "markdown",
   "metadata": {},
   "source": [
    "#### 3. Os dados a seguir: índice de massa de queima(x) e o comprimento da chama(y)"
   ]
  },
  {
   "cell_type": "markdown",
   "metadata": {},
   "source": [
    "##### a. Estime os parâmetros do modelo de função potência"
   ]
  },
  {
   "cell_type": "code",
   "execution_count": 126,
   "metadata": {},
   "outputs": [
    {
     "name": "stdout",
     "output_type": "stream",
     "text": [
      "                            OLS Regression Results                            \n",
      "==============================================================================\n",
      "Dep. Variable:                      y   R-squared:                       0.960\n",
      "Model:                            OLS   Adj. R-squared:                  0.956\n",
      "Method:                 Least Squares   F-statistic:                     261.5\n",
      "Date:                Fri, 22 Apr 2022   Prob (F-statistic):           5.15e-09\n",
      "Time:                        11:08:16   Log-Likelihood:                 12.264\n",
      "No. Observations:                  13   AIC:                            -20.53\n",
      "Df Residuals:                      11   BIC:                            -19.40\n",
      "Df Model:                           1                                         \n",
      "Covariance Type:            nonrobust                                         \n",
      "==============================================================================\n",
      "                 coef    std err          t      P>|t|      [0.025      0.975]\n",
      "------------------------------------------------------------------------------\n",
      "const         -0.4676      0.097     -4.836      0.001      -0.680      -0.255\n",
      "x1             1.2536      0.078     16.172      0.000       1.083       1.424\n",
      "==============================================================================\n",
      "Omnibus:                        2.244   Durbin-Watson:                   2.426\n",
      "Prob(Omnibus):                  0.326   Jarque-Bera (JB):                0.986\n",
      "Skew:                           0.163   Prob(JB):                        0.611\n",
      "Kurtosis:                       1.691   Cond. No.                         6.83\n",
      "==============================================================================\n",
      "\n",
      "Notes:\n",
      "[1] Standard Errors assume that the covariance matrix of the errors is correctly specified.\n"
     ]
    },
    {
     "name": "stderr",
     "output_type": "stream",
     "text": [
      "/home/felipe_oliveira/data-science/Statistical Modeling and Inference/statistical-modeling-inference/venv/lib/python3.9/site-packages/scipy/stats/_stats_py.py:1477: UserWarning: kurtosistest only valid for n>=20 ... continuing anyway, n=13\n",
      "  warnings.warn(\"kurtosistest only valid for n>=20 ... continuing \"\n"
     ]
    }
   ],
   "source": [
    "x = [1.7, 2.2, 2.3, 2.6, 2.7, 3.0, 3.2, 3.3, 4.1, 4.3, 4.6, 5.7, 6.1]\n",
    "y = [1.3, 1.8, 1.6, 2.0, 2.1, 2.2, 3.0, 2.6, 4.1, 3.7, 5.0, 5.8, 5.3]\n",
    "\n",
    "vtx = np.log(x)\n",
    "vty = np.log(y)\n",
    "\n",
    "df5 = pd.DataFrame({'x':x, 'y':y, 'ln_x':vtx, 'ln_y':vty})\n",
    "\n",
    "#Regression results\n",
    "#add a predict constant\n",
    "vtx = sm.add_constant(vtx)\n",
    "\n",
    "#fit linear regression model\n",
    "modelo = sm.OLS(vty, vtx).fit()\n",
    "print(modelo.summary())"
   ]
  },
  {
   "cell_type": "code",
   "execution_count": 127,
   "metadata": {},
   "outputs": [
    {
     "name": "stdout",
     "output_type": "stream",
     "text": [
      "y= -0.4676194453983054+1.2535562199105885 x\n"
     ]
    }
   ],
   "source": [
    "#equation of straight line\n",
    "b=modelo.params\n",
    "b0=b[0]                     #intercepto\n",
    "b1=b[1]                     #inclinação\n",
    "print('y= {0}+{1} x'.format(b0,b1))"
   ]
  },
  {
   "cell_type": "code",
   "execution_count": 128,
   "metadata": {},
   "outputs": [
    {
     "name": "stdout",
     "output_type": "stream",
     "text": [
      "y = 0.626491892671147x^1.2535562199105885\n"
     ]
    }
   ],
   "source": [
    "#original representation\n",
    "b0 = pow(math.e, b0)\n",
    "print('y = {}x^{}'.format(b0, b1))"
   ]
  },
  {
   "cell_type": "markdown",
   "metadata": {},
   "source": [
    "##### b. Construa gráficos de diagnóstico para verificar se uma função de potência é um modelo apropriado"
   ]
  },
  {
   "cell_type": "code",
   "execution_count": 129,
   "metadata": {},
   "outputs": [
    {
     "data": {
      "text/html": [
       "<div>\n",
       "<style scoped>\n",
       "    .dataframe tbody tr th:only-of-type {\n",
       "        vertical-align: middle;\n",
       "    }\n",
       "\n",
       "    .dataframe tbody tr th {\n",
       "        vertical-align: top;\n",
       "    }\n",
       "\n",
       "    .dataframe thead th {\n",
       "        text-align: right;\n",
       "    }\n",
       "</style>\n",
       "<table border=\"1\" class=\"dataframe\">\n",
       "  <thead>\n",
       "    <tr style=\"text-align: right;\">\n",
       "      <th></th>\n",
       "      <th>x</th>\n",
       "      <th>y</th>\n",
       "      <th>yc</th>\n",
       "      <th>e</th>\n",
       "      <th>e*</th>\n",
       "      <th>e/e*</th>\n",
       "    </tr>\n",
       "  </thead>\n",
       "  <tbody>\n",
       "    <tr>\n",
       "      <th>0</th>\n",
       "      <td>0.530628</td>\n",
       "      <td>0.262364</td>\n",
       "      <td>0.197553</td>\n",
       "      <td>0.064811</td>\n",
       "      <td>0.771906</td>\n",
       "      <td>0.083963</td>\n",
       "    </tr>\n",
       "    <tr>\n",
       "      <th>1</th>\n",
       "      <td>0.788457</td>\n",
       "      <td>0.587787</td>\n",
       "      <td>0.520756</td>\n",
       "      <td>0.067030</td>\n",
       "      <td>0.718614</td>\n",
       "      <td>0.093277</td>\n",
       "    </tr>\n",
       "    <tr>\n",
       "      <th>2</th>\n",
       "      <td>0.832909</td>\n",
       "      <td>0.470004</td>\n",
       "      <td>0.576479</td>\n",
       "      <td>-0.106475</td>\n",
       "      <td>-1.128347</td>\n",
       "      <td>0.094364</td>\n",
       "    </tr>\n",
       "    <tr>\n",
       "      <th>3</th>\n",
       "      <td>0.955511</td>\n",
       "      <td>0.693147</td>\n",
       "      <td>0.730168</td>\n",
       "      <td>-0.037021</td>\n",
       "      <td>-0.382985</td>\n",
       "      <td>0.096664</td>\n",
       "    </tr>\n",
       "    <tr>\n",
       "      <th>4</th>\n",
       "      <td>0.993252</td>\n",
       "      <td>0.741937</td>\n",
       "      <td>0.777477</td>\n",
       "      <td>-0.035540</td>\n",
       "      <td>-0.365738</td>\n",
       "      <td>0.097174</td>\n",
       "    </tr>\n",
       "    <tr>\n",
       "      <th>5</th>\n",
       "      <td>1.098612</td>\n",
       "      <td>0.788457</td>\n",
       "      <td>0.909553</td>\n",
       "      <td>-0.121095</td>\n",
       "      <td>-1.234118</td>\n",
       "      <td>0.098123</td>\n",
       "    </tr>\n",
       "    <tr>\n",
       "      <th>6</th>\n",
       "      <td>1.163151</td>\n",
       "      <td>1.098612</td>\n",
       "      <td>0.990455</td>\n",
       "      <td>0.108157</td>\n",
       "      <td>1.099536</td>\n",
       "      <td>0.098366</td>\n",
       "    </tr>\n",
       "    <tr>\n",
       "      <th>7</th>\n",
       "      <td>1.193922</td>\n",
       "      <td>0.955511</td>\n",
       "      <td>1.029029</td>\n",
       "      <td>-0.073518</td>\n",
       "      <td>-0.747197</td>\n",
       "      <td>0.098392</td>\n",
       "    </tr>\n",
       "    <tr>\n",
       "      <th>8</th>\n",
       "      <td>1.410987</td>\n",
       "      <td>1.410987</td>\n",
       "      <td>1.301132</td>\n",
       "      <td>0.109855</td>\n",
       "      <td>1.133441</td>\n",
       "      <td>0.096922</td>\n",
       "    </tr>\n",
       "    <tr>\n",
       "      <th>9</th>\n",
       "      <td>1.458615</td>\n",
       "      <td>1.308333</td>\n",
       "      <td>1.360836</td>\n",
       "      <td>-0.052504</td>\n",
       "      <td>-0.545758</td>\n",
       "      <td>0.096203</td>\n",
       "    </tr>\n",
       "    <tr>\n",
       "      <th>10</th>\n",
       "      <td>1.526056</td>\n",
       "      <td>1.609438</td>\n",
       "      <td>1.445378</td>\n",
       "      <td>0.164060</td>\n",
       "      <td>1.728198</td>\n",
       "      <td>0.094931</td>\n",
       "    </tr>\n",
       "    <tr>\n",
       "      <th>11</th>\n",
       "      <td>1.740466</td>\n",
       "      <td>1.757858</td>\n",
       "      <td>1.714153</td>\n",
       "      <td>0.043705</td>\n",
       "      <td>0.492472</td>\n",
       "      <td>0.088747</td>\n",
       "    </tr>\n",
       "    <tr>\n",
       "      <th>12</th>\n",
       "      <td>1.808289</td>\n",
       "      <td>1.667707</td>\n",
       "      <td>1.799172</td>\n",
       "      <td>-0.131465</td>\n",
       "      <td>-1.528090</td>\n",
       "      <td>0.086033</td>\n",
       "    </tr>\n",
       "  </tbody>\n",
       "</table>\n",
       "</div>"
      ],
      "text/plain": [
       "           x         y        yc         e        e*      e/e*\n",
       "0   0.530628  0.262364  0.197553  0.064811  0.771906  0.083963\n",
       "1   0.788457  0.587787  0.520756  0.067030  0.718614  0.093277\n",
       "2   0.832909  0.470004  0.576479 -0.106475 -1.128347  0.094364\n",
       "3   0.955511  0.693147  0.730168 -0.037021 -0.382985  0.096664\n",
       "4   0.993252  0.741937  0.777477 -0.035540 -0.365738  0.097174\n",
       "5   1.098612  0.788457  0.909553 -0.121095 -1.234118  0.098123\n",
       "6   1.163151  1.098612  0.990455  0.108157  1.099536  0.098366\n",
       "7   1.193922  0.955511  1.029029 -0.073518 -0.747197  0.098392\n",
       "8   1.410987  1.410987  1.301132  0.109855  1.133441  0.096922\n",
       "9   1.458615  1.308333  1.360836 -0.052504 -0.545758  0.096203\n",
       "10  1.526056  1.609438  1.445378  0.164060  1.728198  0.094931\n",
       "11  1.740466  1.757858  1.714153  0.043705  0.492472  0.088747\n",
       "12  1.808289  1.667707  1.799172 -0.131465 -1.528090  0.086033"
      ]
     },
     "execution_count": 129,
     "metadata": {},
     "output_type": "execute_result"
    }
   ],
   "source": [
    "vtx = np.log(x)\n",
    "vty = np.log(y)\n",
    "\n",
    "dft5 = df_residual(vtx, vty)\n",
    "dft5"
   ]
  },
  {
   "cell_type": "code",
   "execution_count": 130,
   "metadata": {},
   "outputs": [
    {
     "data": {
      "image/png": "[encoded data removed]",
      "text/plain": [
       "<Figure size 500x500 with 1 Axes>"
      ]
     },
     "metadata": {
      "needs_background": "light"
     },
     "output_type": "display_data"
    }
   ],
   "source": [
    "#graph (y x yc)\n",
    "sns.lmplot(x='y', y='yc', data=dft5);plt.grid(True)"
   ]
  },
  {
   "cell_type": "code",
   "execution_count": 131,
   "metadata": {},
   "outputs": [
    {
     "data": {
      "image/png": "[encoded data removed]",
      "text/plain": [
       "<Figure size 1000x800 with 1 Axes>"
      ]
     },
     "metadata": {
      "needs_background": "light"
     },
     "output_type": "display_data"
    }
   ],
   "source": [
    "#graph (e* x x)\n",
    "sns.scatterplot(x='x', y='e*', data=dft5);plt.grid(True)\n",
    "plt.xlabel('x= Massa de queima')\n",
    "plt.ylabel('e*= Resíduos padronizados')\n",
    "plt.axhline(y=0, color='black', linestyle='--', linewidth=1)\n",
    "plt.show()"
   ]
  },
  {
   "cell_type": "code",
   "execution_count": 132,
   "metadata": {},
   "outputs": [
    {
     "data": {
      "image/png": "[encoded data removed]",
      "text/plain": [
       "<Figure size 1000x800 with 1 Axes>"
      ]
     },
     "metadata": {
      "needs_background": "light"
     },
     "output_type": "display_data"
    }
   ],
   "source": [
    "#graph (e* x y)\n",
    "sns.scatterplot(x='y', y='e*', data=dft5);plt.grid(True)\n",
    "plt.xlabel('y= Comprimento da chama')\n",
    "plt.ylabel('e*= Resíduos padronizados')\n",
    "plt.axhline(y=0, color='black', linestyle='--', linewidth=1)\n",
    "plt.show()"
   ]
  },
  {
   "cell_type": "code",
   "execution_count": 52,
   "metadata": {},
   "outputs": [
    {
     "name": "stderr",
     "output_type": "stream",
     "text": [
      "/home/felipe_oliveira/data-science/Statistical Modeling and Inference/statistical-modeling-inference/venv/lib/python3.9/site-packages/statsmodels/graphics/gofplots.py:1045: UserWarning: color is redundantly defined by the 'color' keyword argument and the fmt string \"b\" (-> color=(0.0, 0.0, 1.0, 1)). The keyword argument will take precedence.\n",
      "  ax.plot(x, y, fmt, **plot_style)\n"
     ]
    },
    {
     "data": {
      "text/plain": [
       "Text(0, 0.5, 'Resíduos padronizados')"
      ]
     },
     "execution_count": 52,
     "metadata": {},
     "output_type": "execute_result"
    },
    {
     "data": {
      "image/png": "[encoded data removed]",
      "text/plain": [
       "<Figure size 432x288 with 1 Axes>"
      ]
     },
     "metadata": {
      "needs_background": "light"
     },
     "output_type": "display_data"
    }
   ],
   "source": [
    "#graph V(normal distribution)\n",
    "influence = modelo.get_influence()\n",
    "QQ = ProbPlot(influence.resid_studentized_internal)\n",
    "plot_lm_2 = QQ.qqplot(line='45', alpha=0.5, color='#4C72B0', lw=1)\n",
    "plot_lm_2.axes[0].set_xlabel('Percentil')\n",
    "plot_lm_2.axes[0].set_ylabel('Resíduos padronizados')"
   ]
  },
  {
   "cell_type": "markdown",
   "metadata": {},
   "source": [
    "#### 4. Uma amostra de 20 observações, foi submetida ao processo de determinação da reta de regressão. Quando a variável preditora adota o valor de 3,5, a variável resposta adota o valor de 15. Após a obtenção da reta verifica-se que o valor esperado de da variável resposta para esse valor de 3,5 é 14,23. O valor médio da variável preditora é 2,2, o Sxx = 548 e o desvio padrão estimado s=0,98. Com todos estes dados calcular o valor do resíduo padronizado para a o dado especificado no problema."
   ]
  },
  {
   "cell_type": "code",
   "execution_count": 55,
   "metadata": {},
   "outputs": [
    {
     "data": {
      "text/plain": [
       "0.8702471582326528"
      ]
     },
     "execution_count": 55,
     "metadata": {},
     "output_type": "execute_result"
    }
   ],
   "source": [
    "n = 20\n",
    "x = 3.5\n",
    "y = 15\n",
    "y_inf = 14.23\n",
    "x_mean = 2.2\n",
    "sxx = 548\n",
    "s = 0.98\n",
    "\n",
    "#fórmula para calculo do resíduo padronizado (obter resultado sem utilizar a função)\n",
    "e_std = y - y_inf / s * pow(1 - (1/n) - ((x - x_mean)**2/sxx),1/2)\n",
    "e_std"
   ]
  },
  {
   "cell_type": "markdown",
   "metadata": {},
   "source": [
    "#### 5. Um conjunto de dados foi coletado e e visto que eles tem a caraterística de ser representados por um modelo logarítmico. Dito conjunto observa-se na seguinte tabela. Realizando a transformação de variáveis adequada para o modelo logarítmico, qual é o conjunto de dados adequado?"
   ]
  },
  {
   "cell_type": "code",
   "execution_count": 7,
   "metadata": {},
   "outputs": [
    {
     "data": {
      "text/html": [
       "<div>\n",
       "<style scoped>\n",
       "    .dataframe tbody tr th:only-of-type {\n",
       "        vertical-align: middle;\n",
       "    }\n",
       "\n",
       "    .dataframe tbody tr th {\n",
       "        vertical-align: top;\n",
       "    }\n",
       "\n",
       "    .dataframe thead th {\n",
       "        text-align: right;\n",
       "    }\n",
       "</style>\n",
       "<table border=\"1\" class=\"dataframe\">\n",
       "  <thead>\n",
       "    <tr style=\"text-align: right;\">\n",
       "      <th></th>\n",
       "      <th>y</th>\n",
       "      <th>vtx</th>\n",
       "    </tr>\n",
       "  </thead>\n",
       "  <tbody>\n",
       "    <tr>\n",
       "      <th>0</th>\n",
       "      <td>3.8</td>\n",
       "      <td>0.000000</td>\n",
       "    </tr>\n",
       "    <tr>\n",
       "      <th>1</th>\n",
       "      <td>4.5</td>\n",
       "      <td>0.693147</td>\n",
       "    </tr>\n",
       "    <tr>\n",
       "      <th>2</th>\n",
       "      <td>4.7</td>\n",
       "      <td>1.098612</td>\n",
       "    </tr>\n",
       "    <tr>\n",
       "      <th>3</th>\n",
       "      <td>5.0</td>\n",
       "      <td>1.386294</td>\n",
       "    </tr>\n",
       "    <tr>\n",
       "      <th>4</th>\n",
       "      <td>5.1</td>\n",
       "      <td>1.609438</td>\n",
       "    </tr>\n",
       "    <tr>\n",
       "      <th>5</th>\n",
       "      <td>5.5</td>\n",
       "      <td>1.791759</td>\n",
       "    </tr>\n",
       "    <tr>\n",
       "      <th>6</th>\n",
       "      <td>5.6</td>\n",
       "      <td>1.945910</td>\n",
       "    </tr>\n",
       "    <tr>\n",
       "      <th>7</th>\n",
       "      <td>5.9</td>\n",
       "      <td>2.079442</td>\n",
       "    </tr>\n",
       "    <tr>\n",
       "      <th>8</th>\n",
       "      <td>6.0</td>\n",
       "      <td>2.197225</td>\n",
       "    </tr>\n",
       "    <tr>\n",
       "      <th>9</th>\n",
       "      <td>6.2</td>\n",
       "      <td>2.302585</td>\n",
       "    </tr>\n",
       "    <tr>\n",
       "      <th>10</th>\n",
       "      <td>6.5</td>\n",
       "      <td>2.397895</td>\n",
       "    </tr>\n",
       "    <tr>\n",
       "      <th>11</th>\n",
       "      <td>6.6</td>\n",
       "      <td>2.484907</td>\n",
       "    </tr>\n",
       "  </tbody>\n",
       "</table>\n",
       "</div>"
      ],
      "text/plain": [
       "      y       vtx\n",
       "0   3.8  0.000000\n",
       "1   4.5  0.693147\n",
       "2   4.7  1.098612\n",
       "3   5.0  1.386294\n",
       "4   5.1  1.609438\n",
       "5   5.5  1.791759\n",
       "6   5.6  1.945910\n",
       "7   5.9  2.079442\n",
       "8   6.0  2.197225\n",
       "9   6.2  2.302585\n",
       "10  6.5  2.397895\n",
       "11  6.6  2.484907"
      ]
     },
     "execution_count": 7,
     "metadata": {},
     "output_type": "execute_result"
    }
   ],
   "source": [
    "#Transforma apenas x\n",
    "x = [1, 2 , 3 , 4 , 5 , 6 , 7 , 8 , 9 , 10 , 11, 12]\n",
    "y = [3.8, 4.5, 4.7, 5.0, 5.1, 5.5, 5.6, 5.9, 6.0, 6.2, 6.5, 6.6]\n",
    "vtx = np.log(x)\n",
    "df = pd.DataFrame({'y':y, 'vtx':vtx})\n",
    "df"
   ]
  },
  {
   "cell_type": "markdown",
   "metadata": {},
   "source": [
    "#### 6. O artigo “Effect of crystal orientation on fatigue failure of single crystal nickel base turbine blade superalloys” (J. of Engineering for Gas Turbines and Power, 2002: 161-176) apresentou os dados a seguir e ajustou um modelo de regressão não linear a fim de prever a amplitude do esforço dos ciclos em motores de avião até uma falha ocorrer. "
   ]
  },
  {
   "cell_type": "code",
   "execution_count": 82,
   "metadata": {},
   "outputs": [
    {
     "name": "stdout",
     "output_type": "stream",
     "text": [
      "Função intrinsecamente linear y= 0.019709249726031424-0.0012805224969148728x'\n",
      "valor previsto para x = 2710: y = 0.009587098532865046\n"
     ]
    }
   ],
   "source": [
    "x = (1326,1593,4414,5673,29516,26,843,1016,3410,7101,7356,7904,79,4175,34676,114789,2672,7532,30220)\n",
    "y = (0.01495,0.01470,0.01100,0.01190,0.00873,0.01819,0.00810,0.00801,0.00600,0.00575,0.00576,0.00580,0.01212,0.00782,0.00596,0.00600,0.00880,0.00883,0.00676)\n",
    "vtx = np.log(x)\n",
    "vty = np.log(y)\n",
    "\n",
    "#construir o DataFrame e nomear as colunas\n",
    "df = pd.DataFrame(list(zip(vtx, y)), columns =[\"ln_x\",\"y\"])\n",
    "vtx = df['ln_x']\n",
    "y = df['y']\n",
    "\n",
    "#Regressão linear com as variáveis transformadas\n",
    "vtx  = sm.add_constant(vtx)\n",
    "modelo = sm.OLS(y, vtx ).fit() #atenção esta variável será usada no IC\n",
    "\n",
    "# parâmetros da reta\n",
    "b=modelo.params\n",
    "b0=b[0] #intercepto\n",
    "b1=b[1] #inclinação\n",
    "print(\"Função intrinsecamente linear y= {0}{1}x'\".format(b0,b1))\n",
    "\n",
    "#RESULTADO\n",
    "y = b0 + (b1 * np.log(2710))\n",
    "print('valor previsto para x = 2710: y = {}'.format(y))"
   ]
  }
 ],
 "metadata": {
  "colab": {
   "authorship_tag": "ABX9TyP9Vw9in8Tu255f0znT2rlG",
   "name": "S4-Aula10Pynotes.ipynb",
   "provenance": [],
   "toc_visible": true
  },
  "kernelspec": {
   "display_name": "Python 3 (ipykernel)",
   "language": "python",
   "name": "python3"
  },
  "language_info": {
   "codemirror_mode": {
    "name": "ipython",
    "version": 3
   },
   "file_extension": ".py",
   "mimetype": "text/x-python",
   "name": "python",
   "nbconvert_exporter": "python",
   "pygments_lexer": "ipython3",
   "version": "3.9.7"
  },
  "varInspector": {
   "cols": {
    "lenName": 16,
    "lenType": 16,
    "lenVar": 40
   },
   "kernels_config": {
    "python": {
     "delete_cmd_postfix": "",
     "delete_cmd_prefix": "del ",
     "library": "var_list.py",
     "varRefreshCmd": "print(var_dic_list())"
    },
    "r": {
     "delete_cmd_postfix": ") ",
     "delete_cmd_prefix": "rm(",
     "library": "var_list.r",
     "varRefreshCmd": "cat(var_dic_list()) "
    }
   },
   "types_to_exclude": [
    "module",
    "function",
    "builtin_function_or_method",
    "instance",
    "_Feature"
   ],
   "window_display": false
  }
 },
 "nbformat": 4,
 "nbformat_minor": 1
}
