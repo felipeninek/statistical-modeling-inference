{
 "cells": [
  {
   "cell_type": "markdown",
   "metadata": {
    "heading_collapsed": true,
    "id": "PoEDHy5Jqbt_"
   },
   "source": [
    "### Modelos de regressão múltipla"
   ]
  },
  {
   "cell_type": "markdown",
   "metadata": {
    "ExecuteTime": {
     "end_time": "2022-05-04T16:55:49.099491Z",
     "start_time": "2022-05-04T16:55:49.096072Z"
    },
    "hidden": true
   },
   "source": [
    "#### imports"
   ]
  },
  {
   "cell_type": "code",
   "execution_count": 1,
   "metadata": {
    "ExecuteTime": {
     "end_time": "2022-05-04T17:42:06.296338Z",
     "start_time": "2022-05-04T17:42:01.687062Z"
    },
    "colab": {
     "base_uri": "https://localhost:8080/"
    },
    "executionInfo": {
     "elapsed": 2877,
     "status": "ok",
     "timestamp": 1649136510090,
     "user": {
      "displayName": "victoria alejandra herrera",
      "userId": "16346835995419242908"
     },
     "user_tz": 180
    },
    "hidden": true,
    "id": "Ax98aziZcnIJ",
    "outputId": "6898a2ff-391a-4df0-a1ed-843294890b63"
   },
   "outputs": [],
   "source": [
    "import numpy                       as np\n",
    "import pandas                      as pd\n",
    "import matplotlib.pyplot           as plt\n",
    "import statsmodels.api             as sm\n",
    "import statsmodels.formula.api     as smf\n",
    "import seaborn                     as sns\n",
    "import scipy.stats                 as stats\n",
    "\n",
    "from statsmodels.graphics.gofplots import ProbPlot\n",
    "from scipy.stats                   import t\n",
    "from scipy.stats                   import f\n",
    "from statsmodels.formula.api       import ols"
   ]
  },
  {
   "cell_type": "markdown",
   "metadata": {
    "heading_collapsed": true,
    "hidden": true
   },
   "source": [
    "#### 1. y = deflexão máxima (mm) de vigas de cimento compostas com dureza ultrarreforçada era influenciada por x1 = proporção do alcance do cisalhamento e x2 = resistência à tensão de divisão (MPa), e uma variável x3= x1x2, resultando nos dados a seguir: "
   ]
  },
  {
   "cell_type": "code",
   "execution_count": 11,
   "metadata": {
    "ExecuteTime": {
     "end_time": "2022-05-04T17:04:47.800611Z",
     "start_time": "2022-05-04T17:04:47.794027Z"
    },
    "hidden": true,
    "id": "3YVvixaBFEr5"
   },
   "outputs": [],
   "source": [
    "x1 = (2.04, 2.04, 3.06, 3.06, 4.08, 4.08, 2.06, 2.06, 3.08, 3.08, 4.11, 4.11, 2.01, 3.02, 4.03)\n",
    "x2 = (3.55, 6.07, 3.55, 6.07, 3.55, 6.16, 3.62, 6.16, 3.62, 5.89, 3.62, 5.89, 6.18, 6.18, 6.18)\n",
    "x3 = np.multiply(x1, x2)\n",
    "y= (3.11, 3.26, 3.89, 10.25, 3.11, 13.48, 3.94, 3.53, 3.36, 6.49, 2.72, 12.48, 2.82, 5.19, 8.04)\n",
    "\n",
    "# Construir o DataFrame e nomear as colunas\n",
    "df = pd.DataFrame(list(zip(x1, x2, x3,y)), columns =[\"x1\",\"x2\",\"x3\",\"y\"])"
   ]
  },
  {
   "cell_type": "code",
   "execution_count": 12,
   "metadata": {
    "ExecuteTime": {
     "end_time": "2022-05-04T17:04:48.893031Z",
     "start_time": "2022-05-04T17:04:48.876924Z"
    },
    "hidden": true,
    "id": "1iD2QwT5HD3Y"
   },
   "outputs": [],
   "source": [
    "regmul = smf.ols('y ~ x1 + x2 + x3', data = df) #members of reg object print(dir(reg))\n",
    "res = regmul.fit()"
   ]
  },
  {
   "cell_type": "code",
   "execution_count": 13,
   "metadata": {
    "ExecuteTime": {
     "end_time": "2022-05-04T17:04:49.360734Z",
     "start_time": "2022-05-04T17:04:49.337270Z"
    },
    "colab": {
     "base_uri": "https://localhost:8080/"
    },
    "executionInfo": {
     "elapsed": 8,
     "status": "ok",
     "timestamp": 1649136510090,
     "user": {
      "displayName": "victoria alejandra herrera",
      "userId": "16346835995419242908"
     },
     "user_tz": 180
    },
    "hidden": true,
    "id": "FysJyYPbq0Fz",
    "outputId": "6e14ae49-df0e-4b05-e964-4fc456969c70"
   },
   "outputs": [
    {
     "name": "stdout",
     "output_type": "stream",
     "text": [
      "                            OLS Regression Results                            \n",
      "==============================================================================\n",
      "Dep. Variable:                      y   R-squared:                       0.825\n",
      "Model:                            OLS   Adj. R-squared:                  0.778\n",
      "Method:                 Least Squares   F-statistic:                     17.31\n",
      "Date:                Wed, 04 May 2022   Prob (F-statistic):           0.000178\n",
      "Time:                        14:04:49   Log-Likelihood:                -27.112\n",
      "No. Observations:                  15   AIC:                             62.22\n",
      "Df Residuals:                      11   BIC:                             65.06\n",
      "Df Model:                           3                                         \n",
      "Covariance Type:            nonrobust                                         \n",
      "==============================================================================\n",
      "                 coef    std err          t      P>|t|      [0.025      0.975]\n",
      "------------------------------------------------------------------------------\n",
      "Intercept     17.2787      7.167      2.411      0.035       1.505      33.053\n",
      "x1            -6.3678      2.260     -2.817      0.017     -11.343      -1.393\n",
      "x2            -3.6584      1.364     -2.682      0.021      -6.660      -0.656\n",
      "x3             1.7067      0.431      3.956      0.002       0.757       2.656\n",
      "==============================================================================\n",
      "Omnibus:                        2.192   Durbin-Watson:                   1.037\n",
      "Prob(Omnibus):                  0.334   Jarque-Bera (JB):                0.535\n",
      "Skew:                          -0.320   Prob(JB):                        0.765\n",
      "Kurtosis:                       3.668   Cond. No.                         302.\n",
      "==============================================================================\n",
      "\n",
      "Notes:\n",
      "[1] Standard Errors assume that the covariance matrix of the errors is correctly specified.\n"
     ]
    },
    {
     "name": "stderr",
     "output_type": "stream",
     "text": [
      "/home/felipe_oliveira/anaconda3/envs/env_01/lib/python3.9/site-packages/scipy/stats/stats.py:1541: UserWarning: kurtosistest only valid for n>=20 ... continuing anyway, n=15\n",
      "  warnings.warn(\"kurtosistest only valid for n>=20 ... continuing \"\n"
     ]
    }
   ],
   "source": [
    "#resultado detalhado\n",
    "print(res.summary())"
   ]
  },
  {
   "cell_type": "markdown",
   "metadata": {
    "heading_collapsed": true,
    "hidden": true
   },
   "source": [
    "##### a. Se R2=0,825 observe a seguir alguns resultados obtidos no python, descreva o modelo resultante e faça um teste de utilidade do modelo."
   ]
  },
  {
   "cell_type": "code",
   "execution_count": 33,
   "metadata": {
    "ExecuteTime": {
     "end_time": "2022-05-04T17:25:46.607448Z",
     "start_time": "2022-05-04T17:25:46.593423Z"
    },
    "hidden": true
   },
   "outputs": [
    {
     "name": "stdout",
     "output_type": "stream",
     "text": [
      "y = 17.278693889099568 -6.3677576237921585x1 -3.6584262268631904x2 +1.7067315338624036x1x2\n"
     ]
    }
   ],
   "source": [
    "#equação do modelo\n",
    "b = res.params\n",
    "b0 = b[0]\n",
    "b1 = b[1]\n",
    "b2 = b[2]\n",
    "b3 = b[3]\n",
    "sb3_inf = 0.431\n",
    "print('y = {} {}x1 {}x2 +{}x1x2'.format(b0, b1, b2, b3))"
   ]
  },
  {
   "cell_type": "code",
   "execution_count": 34,
   "metadata": {
    "ExecuteTime": {
     "end_time": "2022-05-04T17:25:47.842857Z",
     "start_time": "2022-05-04T17:25:47.838255Z"
    },
    "colab": {
     "base_uri": "https://localhost:8080/"
    },
    "executionInfo": {
     "elapsed": 8,
     "status": "ok",
     "timestamp": 1649136510091,
     "user": {
      "displayName": "victoria alejandra herrera",
      "userId": "16346835995419242908"
     },
     "user_tz": 180
    },
    "hidden": true,
    "id": "VJHZNVT4GHyn",
    "outputId": "544337b7-2ee9-456c-ed7e-22a6b973a281"
   },
   "outputs": [
    {
     "name": "stdout",
     "output_type": "stream",
     "text": [
      "17.31014032440992\n",
      "0.00017770492846607525\n"
     ]
    }
   ],
   "source": [
    "#estatística de teste f\n",
    "print(res.fvalue)             # este valor deve ser menor do que o Fcrit para aceitar H0\n",
    "print(res.f_pvalue)           # este valor deve ser maior do que o alpha para aceitar H0\n",
    "\n",
    "#tabela f:\n",
    "f_crit = 3.59\n",
    "\n",
    "#como fstatistic > f_crit (tabela f), pose -se co cluir que pelo menops um dos preditores é maior que 0"
   ]
  },
  {
   "cell_type": "markdown",
   "metadata": {
    "heading_collapsed": true,
    "hidden": true
   },
   "source": [
    "##### b. O preditor de interação deve ser retido no modelo? Faça um teste de hipótese utilizando um nível de significância de 0.05"
   ]
  },
  {
   "cell_type": "code",
   "execution_count": 39,
   "metadata": {
    "ExecuteTime": {
     "end_time": "2022-05-04T17:28:31.881652Z",
     "start_time": "2022-05-04T17:28:31.876307Z"
    },
    "hidden": true
   },
   "outputs": [
    {
     "data": {
      "text/plain": [
       "3.9599339532770386"
      ]
     },
     "execution_count": 39,
     "metadata": {},
     "output_type": "execute_result"
    }
   ],
   "source": [
    "#t_calc em beta3\n",
    "t_calc = b3 / sb3_inf\n",
    "t_calc"
   ]
  },
  {
   "cell_type": "code",
   "execution_count": 38,
   "metadata": {
    "ExecuteTime": {
     "end_time": "2022-05-04T17:27:45.809216Z",
     "start_time": "2022-05-04T17:27:45.801459Z"
    },
    "colab": {
     "base_uri": "https://localhost:8080/"
    },
    "executionInfo": {
     "elapsed": 2,
     "status": "ok",
     "timestamp": 1649136534984,
     "user": {
      "displayName": "victoria alejandra herrera",
      "userId": "16346835995419242908"
     },
     "user_tz": 180
    },
    "hidden": true,
    "id": "sdOHKdbbQHyN",
    "outputId": "b25f2bb5-bde2-4b41-b2c1-31972ca240c2"
   },
   "outputs": [
    {
     "name": "stdout",
     "output_type": "stream",
     "text": [
      "t_crit=: 2.200985160082949\n"
     ]
    }
   ],
   "source": [
    "#tabela tstudent\n",
    "k=res.df_model # grau do modelo\n",
    "n=res.nobs # num. amostras\n",
    "alpha = 0.05  # significancia = 99% \n",
    "df = n-(k+1) # graus de liberdade                                      \n",
    "v = t.ppf(1 - alpha/2, df) \n",
    "tt=v\n",
    "print(f't_crit=: {v}')"
   ]
  },
  {
   "cell_type": "code",
   "execution_count": 40,
   "metadata": {
    "ExecuteTime": {
     "end_time": "2022-05-04T17:29:35.246917Z",
     "start_time": "2022-05-04T17:29:35.241952Z"
    },
    "hidden": true
   },
   "outputs": [],
   "source": [
    "#t_calc > t_crit, rejeitar hipótese nula! beta3 deve ser mantido"
   ]
  },
  {
   "cell_type": "markdown",
   "metadata": {
    "heading_collapsed": true,
    "hidden": true,
    "id": "l5rzk0mmsByk"
   },
   "source": [
    "##### c. Se o modelo completo fosse ajustado aos dados. Considerando que os preditores x1, x2 e x1x2 permanecem no modelo, os preditores quadráticos fornecem informações adicionais úteis? Declare e teste as hipóteses apropriadas."
   ]
  },
  {
   "cell_type": "code",
   "execution_count": 43,
   "metadata": {
    "ExecuteTime": {
     "end_time": "2022-05-04T17:32:50.293345Z",
     "start_time": "2022-05-04T17:32:50.286018Z"
    },
    "hidden": true,
    "id": "JTozEW_7-La_"
   },
   "outputs": [],
   "source": [
    "#testar hipótese nula em beta3 e beta 4 do modelo completo\n",
    "x1 = (2.04, 2.04, 3.06, 3.06, 4.08, 4.08, 2.06, 2.06, 3.08, 3.08, 4.11, 4.11, 2.01, 3.02, 4.03)\n",
    "x2 = (3.55, 6.07, 3.55, 6.07, 3.55, 6.16, 3.62, 6.16, 3.62, 5.89, 3.62, 5.89, 6.18, 6.18, 6.18)\n",
    "x3 = np.multiply(x1, x1)\n",
    "x4 = np.multiply(x2, x2)\n",
    "x5 = np.multiply(x1, x2)\n",
    "y = (3.11, 3.26, 3.89, 10.25, 3.11, 13.48, 3.94, 3.53, 3.36, 6.49, 2.72, 12.48, 2.82, 5.19, 8.04)\n",
    "\n",
    "# Construir o DataFrame e nomear as colunas\n",
    "df = pd.DataFrame(list(zip(x1, x2, x3, x4, x5, y)), columns =[\"x1\",\"x2\",\"x3\",\"x4\",\"x5\",\"y\"])"
   ]
  },
  {
   "cell_type": "code",
   "execution_count": 44,
   "metadata": {
    "ExecuteTime": {
     "end_time": "2022-05-04T17:32:56.213727Z",
     "start_time": "2022-05-04T17:32:56.194422Z"
    },
    "colab": {
     "base_uri": "https://localhost:8080/"
    },
    "executionInfo": {
     "elapsed": 5,
     "status": "ok",
     "timestamp": 1649136511038,
     "user": {
      "displayName": "victoria alejandra herrera",
      "userId": "16346835995419242908"
     },
     "user_tz": 180
    },
    "hidden": true,
    "id": "8IcPQU87-kpQ",
    "outputId": "49e25bcf-e27c-41a0-b0f9-e43d0c126735"
   },
   "outputs": [
    {
     "name": "stdout",
     "output_type": "stream",
     "text": [
      "                            OLS Regression Results                            \n",
      "==============================================================================\n",
      "Dep. Variable:                      y   R-squared:                       0.845\n",
      "Model:                            OLS   Adj. R-squared:                  0.759\n",
      "Method:                 Least Squares   F-statistic:                     9.807\n",
      "Date:                Wed, 04 May 2022   Prob (F-statistic):            0.00192\n",
      "Time:                        14:32:56   Log-Likelihood:                -26.215\n",
      "No. Observations:                  15   AIC:                             64.43\n",
      "Df Residuals:                       9   BIC:                             68.68\n",
      "Df Model:                           5                                         \n",
      "Covariance Type:            nonrobust                                         \n",
      "==============================================================================\n",
      "                 coef    std err          t      P>|t|      [0.025      0.975]\n",
      "------------------------------------------------------------------------------\n",
      "Intercept    -34.3227     48.933     -0.701      0.501    -145.017      76.372\n",
      "x1            -6.5682      6.364     -1.032      0.329     -20.964       7.827\n",
      "x2            19.3469     21.662      0.893      0.395     -29.657      68.351\n",
      "x3             0.0585      0.954      0.061      0.952      -2.100       2.217\n",
      "x4            -2.3586      2.217     -1.064      0.315      -7.373       2.656\n",
      "x5             1.6549      0.452      3.661      0.005       0.632       2.677\n",
      "==============================================================================\n",
      "Omnibus:                        0.777   Durbin-Watson:                   1.067\n",
      "Prob(Omnibus):                  0.678   Jarque-Bera (JB):                0.068\n",
      "Skew:                           0.153   Prob(JB):                        0.967\n",
      "Kurtosis:                       3.121   Cond. No.                     4.12e+03\n",
      "==============================================================================\n",
      "\n",
      "Notes:\n",
      "[1] Standard Errors assume that the covariance matrix of the errors is correctly specified.\n",
      "[2] The condition number is large, 4.12e+03. This might indicate that there are\n",
      "strong multicollinearity or other numerical problems.\n"
     ]
    },
    {
     "name": "stderr",
     "output_type": "stream",
     "text": [
      "/home/felipe_oliveira/anaconda3/envs/env_01/lib/python3.9/site-packages/scipy/stats/stats.py:1541: UserWarning: kurtosistest only valid for n>=20 ... continuing anyway, n=15\n",
      "  warnings.warn(\"kurtosistest only valid for n>=20 ... continuing \"\n"
     ]
    }
   ],
   "source": [
    "regmul = smf.ols('y ~ x1 + x2 + x3 + x4 + x5', data = df) \n",
    "res = regmul.fit()\n",
    "print(res.summary())"
   ]
  },
  {
   "cell_type": "code",
   "execution_count": 46,
   "metadata": {
    "ExecuteTime": {
     "end_time": "2022-05-04T17:36:31.316488Z",
     "start_time": "2022-05-04T17:36:31.308408Z"
    },
    "colab": {
     "base_uri": "https://localhost:8080/"
    },
    "executionInfo": {
     "elapsed": 4,
     "status": "ok",
     "timestamp": 1649136511038,
     "user": {
      "displayName": "victoria alejandra herrera",
      "userId": "16346835995419242908"
     },
     "user_tz": 180
    },
    "hidden": true,
    "id": "if6VwaIeCt3n",
    "outputId": "b66aa584-3243-4260-cadd-f76c02a6b359"
   },
   "outputs": [
    {
     "name": "stdout",
     "output_type": "stream",
     "text": [
      "t_crit=: 2.2621571627409915\n"
     ]
    }
   ],
   "source": [
    "#tabela tstudent\n",
    "k=res.df_model # grau do modelo\n",
    "n=res.nobs # num. amostras\n",
    "alpha = 0.05  # significia = 5% \n",
    "df = n-(k+1) # graus de liberdade                                      \n",
    "v = t.ppf(1 - alpha/2, df) \n",
    "tt=v\n",
    "print(f't_crit=: {v}')\n",
    "\n",
    "#t_calc beta3 = 0.061 e beta4 = -1.064, não proveeem informações relevantes"
   ]
  },
  {
   "cell_type": "code",
   "execution_count": 47,
   "metadata": {
    "ExecuteTime": {
     "end_time": "2022-05-04T17:36:31.879017Z",
     "start_time": "2022-05-04T17:36:31.861535Z"
    },
    "colab": {
     "base_uri": "https://localhost:8080/"
    },
    "executionInfo": {
     "elapsed": 3,
     "status": "ok",
     "timestamp": 1649136511038,
     "user": {
      "displayName": "victoria alejandra herrera",
      "userId": "16346835995419242908"
     },
     "user_tz": 180
    },
    "hidden": true,
    "id": "EbThHHwgSr69",
    "outputId": "7897bef1-b463-4a6c-dcc0-65dd46f50f02"
   },
   "outputs": [
    {
     "name": "stdout",
     "output_type": "stream",
     "text": [
      "y = -34.32270295981466  -6.568222504584055 x1 + 19.34687646800448 x2 + 0.05846139826540697 x1^2 -2.3586012993086802 x2^2  + 1.6549086999127844 x1x2 \n"
     ]
    }
   ],
   "source": [
    "#estimated coefficients \n",
    "b=res.params\n",
    "b0=b[0]\n",
    "b1=b[1]\n",
    "b2=b[2]\n",
    "b3=b[3]\n",
    "b4=b[4]\n",
    "b5=b[5]\n",
    "print('y = {0}  {1} x1 + {2} x2 + {3} x1^2 {4} x2^2  + {5} x1x2 '.format(b0,b1,b2,b3,b4,b5))"
   ]
  },
  {
   "cell_type": "markdown",
   "metadata": {
    "heading_collapsed": true,
    "hidden": true,
    "id": "PoEDHy5Jqbt_"
   },
   "source": [
    "#### 2. Um experimento realizado para investigar o efeito do número de mols de cobalto (x1) e a temperatura de calcificação (x2) na área de superfície de um catalisador de hidróxido ferro-cobalto (y) gerou os dados a seguir (“Structural changes and surface properties of CoxFe3 _ xO4 Spinels”, J. of Che-mical Tech. and Biotech., 1994: 161-170). \n",
    "\n"
   ]
  },
  {
   "cell_type": "markdown",
   "metadata": {
    "hidden": true
   },
   "source": [
    "##### a. Realize o processo de regressão no python aplicando um modelo com preditores de primeira ordem com interação."
   ]
  },
  {
   "cell_type": "code",
   "execution_count": 4,
   "metadata": {
    "ExecuteTime": {
     "end_time": "2022-05-04T17:45:16.110337Z",
     "start_time": "2022-05-04T17:45:16.102863Z"
    },
    "colab": {
     "base_uri": "https://localhost:8080/",
     "height": 677
    },
    "executionInfo": {
     "elapsed": 227,
     "status": "ok",
     "timestamp": 1648787472885,
     "user": {
      "displayName": "victoria alejandra herrera",
      "userId": "16346835995419242908"
     },
     "user_tz": 180
    },
    "hidden": true,
    "id": "3YVvixaBFEr5",
    "outputId": "3f394440-fdb5-4e48-844e-8d8c15c59909"
   },
   "outputs": [],
   "source": [
    "x1 = (0.6, 0.6, 0.6, 0.6, 0.6, 1.0, 1.0, 1.0, 1.0, 1.0, 2.6, 2.6, 2.6, 2.6, 2.6, 2.8, 2.8, 2.8, 2.8, 2.8)\n",
    "x2 = (200, 250, 400, 500, 600, 200, 250, 400, 500, 600, 200, 250, 400, 500, 600, 200, 250, 400, 500, 600)\n",
    "x3= np.multiply(x1, x2)\n",
    "y= (90.6, 82.7, 58.7, 43.2, 25.0, 127.1, 112.3, 19.6, 17.8, 9.1, 53.1, 52.0, 43.4, 42.4, 31.6, 40.9, 37.9, 27.5, 27.3, 19.0)\n",
    "\n",
    "#construir o DataFrame e nomear as colunas\n",
    "df = pd.DataFrame(list(zip(x1, x2, x3,y)), columns =[\"x1\",\"x2\",\"x3\",\"y\"])"
   ]
  },
  {
   "cell_type": "code",
   "execution_count": 5,
   "metadata": {
    "ExecuteTime": {
     "end_time": "2022-05-04T17:45:16.535550Z",
     "start_time": "2022-05-04T17:45:16.507959Z"
    },
    "colab": {
     "base_uri": "https://localhost:8080/"
    },
    "executionInfo": {
     "elapsed": 217,
     "status": "ok",
     "timestamp": 1648787745074,
     "user": {
      "displayName": "victoria alejandra herrera",
      "userId": "16346835995419242908"
     },
     "user_tz": 180
    },
    "hidden": true,
    "id": "1iD2QwT5HD3Y",
    "outputId": "d86fa6d0-b6a1-46b2-9594-4c51820b4368"
   },
   "outputs": [
    {
     "name": "stdout",
     "output_type": "stream",
     "text": [
      "                            OLS Regression Results                            \n",
      "==============================================================================\n",
      "Dep. Variable:                      y   R-squared:                       0.780\n",
      "Model:                            OLS   Adj. R-squared:                  0.739\n",
      "Method:                 Least Squares   F-statistic:                     18.92\n",
      "Date:                Wed, 04 May 2022   Prob (F-statistic):           1.64e-05\n",
      "Time:                        14:45:16   Log-Likelihood:                -82.063\n",
      "No. Observations:                  20   AIC:                             172.1\n",
      "Df Residuals:                      16   BIC:                             176.1\n",
      "Df Model:                           3                                         \n",
      "Covariance Type:            nonrobust                                         \n",
      "==============================================================================\n",
      "                 coef    std err          t      P>|t|      [0.025      0.975]\n",
      "------------------------------------------------------------------------------\n",
      "Intercept    185.4857     21.197      8.750      0.000     140.549     230.422\n",
      "x1           -45.9695     10.612     -4.332      0.001     -68.466     -23.473\n",
      "x2            -0.3015      0.051     -5.942      0.000      -0.409      -0.194\n",
      "x3             0.0888      0.025      3.496      0.003       0.035       0.143\n",
      "==============================================================================\n",
      "Omnibus:                        0.894   Durbin-Watson:                   1.182\n",
      "Prob(Omnibus):                  0.639   Jarque-Bera (JB):                0.082\n",
      "Skew:                          -0.043   Prob(JB):                        0.960\n",
      "Kurtosis:                       3.302   Cond. No.                     5.81e+03\n",
      "==============================================================================\n",
      "\n",
      "Notes:\n",
      "[1] Standard Errors assume that the covariance matrix of the errors is correctly specified.\n",
      "[2] The condition number is large, 5.81e+03. This might indicate that there are\n",
      "strong multicollinearity or other numerical problems.\n"
     ]
    }
   ],
   "source": [
    "regmul = smf.ols('y ~ x1 + x2 + x3', data = df) \n",
    "res = regmul.fit()\n",
    "print(res.summary())"
   ]
  },
  {
   "cell_type": "code",
   "execution_count": 6,
   "metadata": {
    "ExecuteTime": {
     "end_time": "2022-05-04T17:45:28.198103Z",
     "start_time": "2022-05-04T17:45:28.192580Z"
    },
    "colab": {
     "base_uri": "https://localhost:8080/"
    },
    "executionInfo": {
     "elapsed": 189,
     "status": "ok",
     "timestamp": 1648787956938,
     "user": {
      "displayName": "victoria alejandra herrera",
      "userId": "16346835995419242908"
     },
     "user_tz": 180
    },
    "hidden": true,
    "id": "EKRMkR5waPGc",
    "outputId": "ce1d5c56-0ea4-4074-de5a-9e91e6951ee6"
   },
   "outputs": [
    {
     "name": "stdout",
     "output_type": "stream",
     "text": [
      "y = 185.48573955525512  -45.969465970352765 x1  -0.3015028638814051 x2 + 0.08880138140162638 x1x2 \n"
     ]
    }
   ],
   "source": [
    "#coeficientes estimados \n",
    "b=res.params\n",
    "b0=b[0]\n",
    "b1=b[1]\n",
    "b2=b[2]\n",
    "b3=b[3]\n",
    "print('y = {0}  {1} x1  {2} x2 + {3} x1x2 '.format(b0,b1,b2,b3))"
   ]
  },
  {
   "cell_type": "markdown",
   "metadata": {
    "hidden": true
   },
   "source": [
    "##### b. Calcule uma previsão para o valor da área de superfície em relação a um teor de cobalto de 2,6, temperatura de 250, e calcule o valor do resíduo correspondente."
   ]
  },
  {
   "cell_type": "code",
   "execution_count": 25,
   "metadata": {
    "ExecuteTime": {
     "end_time": "2022-05-04T17:54:59.708034Z",
     "start_time": "2022-05-04T17:54:59.702075Z"
    },
    "hidden": true
   },
   "outputs": [
    {
     "data": {
      "text/plain": [
       "48.3103099730438"
      ]
     },
     "execution_count": 25,
     "metadata": {},
     "output_type": "execute_result"
    }
   ],
   "source": [
    "#calculo do valor esperado\n",
    "x1 = 2.6\n",
    "x2 = 250\n",
    "x3 = x1 * x2\n",
    "y = b0 + b1*x1 + b2*x2 + b3*x1*x2\n",
    "y"
   ]
  },
  {
   "cell_type": "code",
   "execution_count": 29,
   "metadata": {
    "ExecuteTime": {
     "end_time": "2022-05-04T17:56:18.774772Z",
     "start_time": "2022-05-04T17:56:18.749785Z"
    },
    "colab": {
     "base_uri": "https://localhost:8080/",
     "height": 206
    },
    "executionInfo": {
     "elapsed": 216,
     "status": "ok",
     "timestamp": 1648789096931,
     "user": {
      "displayName": "victoria alejandra herrera",
      "userId": "16346835995419242908"
     },
     "user_tz": 180
    },
    "hidden": true,
    "id": "k_a9a9C5eflF",
    "outputId": "101e77dd-273d-4fe6-f957-a9e23de86d49"
   },
   "outputs": [
    {
     "data": {
      "text/html": [
       "<div>\n",
       "<style scoped>\n",
       "    .dataframe tbody tr th:only-of-type {\n",
       "        vertical-align: middle;\n",
       "    }\n",
       "\n",
       "    .dataframe tbody tr th {\n",
       "        vertical-align: top;\n",
       "    }\n",
       "\n",
       "    .dataframe thead th {\n",
       "        text-align: right;\n",
       "    }\n",
       "</style>\n",
       "<table border=\"1\" class=\"dataframe\">\n",
       "  <thead>\n",
       "    <tr style=\"text-align: right;\">\n",
       "      <th></th>\n",
       "      <th>x1</th>\n",
       "      <th>x2</th>\n",
       "      <th>x3</th>\n",
       "      <th>y</th>\n",
       "    </tr>\n",
       "  </thead>\n",
       "  <tbody>\n",
       "    <tr>\n",
       "      <th>11</th>\n",
       "      <td>2.6</td>\n",
       "      <td>250</td>\n",
       "      <td>650.0</td>\n",
       "      <td>52.0</td>\n",
       "    </tr>\n",
       "  </tbody>\n",
       "</table>\n",
       "</div>"
      ],
      "text/plain": [
       "     x1   x2     x3     y\n",
       "11  2.6  250  650.0  52.0"
      ]
     },
     "execution_count": 29,
     "metadata": {},
     "output_type": "execute_result"
    }
   ],
   "source": [
    "#valor observado nas condições do enunciado\n",
    "df[(df['x1'] == 2.6) & (df['x2'] == 250)]\n",
    "#y_obs = 52"
   ]
  },
  {
   "cell_type": "code",
   "execution_count": 27,
   "metadata": {
    "ExecuteTime": {
     "end_time": "2022-05-04T17:55:00.518811Z",
     "start_time": "2022-05-04T17:55:00.511399Z"
    },
    "hidden": true
   },
   "outputs": [
    {
     "data": {
      "text/plain": [
       "3.6896900269561996"
      ]
     },
     "execution_count": 27,
     "metadata": {},
     "output_type": "execute_result"
    }
   ],
   "source": [
    "#calcular residuo e\n",
    "e = y_obs - y\n",
    "e"
   ]
  },
  {
   "cell_type": "code",
   "execution_count": 35,
   "metadata": {
    "ExecuteTime": {
     "end_time": "2022-05-04T17:58:15.309059Z",
     "start_time": "2022-05-04T17:58:15.293961Z"
    },
    "colab": {
     "base_uri": "https://localhost:8080/",
     "height": 206
    },
    "executionInfo": {
     "elapsed": 199,
     "status": "ok",
     "timestamp": 1648790081271,
     "user": {
      "displayName": "victoria alejandra herrera",
      "userId": "16346835995419242908"
     },
     "user_tz": 180
    },
    "hidden": true,
    "id": "9x7vks52iSXB",
    "outputId": "5d6904c3-ce49-49e7-f5de-c9e1069e2310"
   },
   "outputs": [
    {
     "data": {
      "text/html": [
       "<div>\n",
       "<style scoped>\n",
       "    .dataframe tbody tr th:only-of-type {\n",
       "        vertical-align: middle;\n",
       "    }\n",
       "\n",
       "    .dataframe tbody tr th {\n",
       "        vertical-align: top;\n",
       "    }\n",
       "\n",
       "    .dataframe thead th {\n",
       "        text-align: right;\n",
       "    }\n",
       "</style>\n",
       "<table border=\"1\" class=\"dataframe\">\n",
       "  <thead>\n",
       "    <tr style=\"text-align: right;\">\n",
       "      <th></th>\n",
       "      <th>x1</th>\n",
       "      <th>x2</th>\n",
       "      <th>x3</th>\n",
       "      <th>y</th>\n",
       "      <th>e</th>\n",
       "    </tr>\n",
       "  </thead>\n",
       "  <tbody>\n",
       "    <tr>\n",
       "      <th>0</th>\n",
       "      <td>0.6</td>\n",
       "      <td>200</td>\n",
       "      <td>120.0</td>\n",
       "      <td>90.6</td>\n",
       "      <td>-17.659653</td>\n",
       "    </tr>\n",
       "    <tr>\n",
       "      <th>1</th>\n",
       "      <td>0.6</td>\n",
       "      <td>250</td>\n",
       "      <td>150.0</td>\n",
       "      <td>82.7</td>\n",
       "      <td>-13.148551</td>\n",
       "    </tr>\n",
       "    <tr>\n",
       "      <th>2</th>\n",
       "      <td>0.6</td>\n",
       "      <td>400</td>\n",
       "      <td>240.0</td>\n",
       "      <td>58.7</td>\n",
       "      <td>0.084754</td>\n",
       "    </tr>\n",
       "    <tr>\n",
       "      <th>3</th>\n",
       "      <td>0.6</td>\n",
       "      <td>500</td>\n",
       "      <td>300.0</td>\n",
       "      <td>43.2</td>\n",
       "      <td>9.406958</td>\n",
       "    </tr>\n",
       "    <tr>\n",
       "      <th>4</th>\n",
       "      <td>0.6</td>\n",
       "      <td>600</td>\n",
       "      <td>360.0</td>\n",
       "      <td>25.0</td>\n",
       "      <td>16.029161</td>\n",
       "    </tr>\n",
       "  </tbody>\n",
       "</table>\n",
       "</div>"
      ],
      "text/plain": [
       "    x1   x2     x3     y          e\n",
       "0  0.6  200  120.0  90.6 -17.659653\n",
       "1  0.6  250  150.0  82.7 -13.148551\n",
       "2  0.6  400  240.0  58.7   0.084754\n",
       "3  0.6  500  300.0  43.2   9.406958\n",
       "4  0.6  600  360.0  25.0  16.029161"
      ]
     },
     "execution_count": 35,
     "metadata": {},
     "output_type": "execute_result"
    }
   ],
   "source": [
    "#calcular todos os residuos\n",
    "resi=res.resid\n",
    "df1 = pd.DataFrame(list(zip(df['x1'], df['x2'], df['x3'], df['y'], resi)), columns =[\"x1\",\"x2\",\"x3\",\"y\",\"e\"])\n",
    "df1.head()"
   ]
  },
  {
   "cell_type": "markdown",
   "metadata": {
    "hidden": true
   },
   "source": [
    "##### d. Há uma relação linear útil entre y e os preditores?"
   ]
  },
  {
   "cell_type": "code",
   "execution_count": 36,
   "metadata": {
    "ExecuteTime": {
     "end_time": "2022-05-04T18:00:36.512008Z",
     "start_time": "2022-05-04T18:00:36.503625Z"
    },
    "colab": {
     "base_uri": "https://localhost:8080/"
    },
    "executionInfo": {
     "elapsed": 237,
     "status": "ok",
     "timestamp": 1648792916721,
     "user": {
      "displayName": "victoria alejandra herrera",
      "userId": "16346835995419242908"
     },
     "user_tz": 180
    },
    "hidden": true,
    "id": "VJHZNVT4GHyn",
    "outputId": "92d6baec-57b6-4215-d833-dc420d4433c3"
   },
   "outputs": [
    {
     "name": "stdout",
     "output_type": "stream",
     "text": [
      "F_crit= 3.238871517453585\n"
     ]
    }
   ],
   "source": [
    "#fazer teste de utilidade do modelo\n",
    "F=res.fvalue\n",
    "k=res.df_model # grau do modelo\n",
    "n=res.nobs # num. amostras\n",
    "dfn=k\n",
    "dfd=n-(k+1)\n",
    "alpha = 0.05 #nível de confiança.\n",
    "F_critico=scipy.stats.f.ppf(1-alpha, dfn, dfd)\n",
    "print(\"F_crit=\",F_critico) #tabela F-dist"
   ]
  },
  {
   "cell_type": "code",
   "execution_count": null,
   "metadata": {
    "hidden": true
   },
   "outputs": [],
   "source": [
    "#f-statistic = 18.92 (tabela OLS)\n",
    "\n",
    "#f-statistic > f_crit, hipótese h0 reheitada, há relação entre y e pelo menos um parâmetro"
   ]
  },
  {
   "cell_type": "markdown",
   "metadata": {
    "hidden": true
   },
   "source": [
    "##### e. O desvio padrão estimado de sy_inf quando o número de mols é 2,0 e a temperatura de calcificação é 500 é sy_inf = 4,69. Calcule um intervalo de confiança de 95% para o valor médio da área de superfície sob essas circunstâncias. "
   ]
  },
  {
   "cell_type": "code",
   "execution_count": 48,
   "metadata": {
    "ExecuteTime": {
     "end_time": "2022-05-04T18:11:06.212736Z",
     "start_time": "2022-05-04T18:11:06.205300Z"
    },
    "colab": {
     "base_uri": "https://localhost:8080/"
    },
    "executionInfo": {
     "elapsed": 226,
     "status": "ok",
     "timestamp": 1648794685228,
     "user": {
      "displayName": "victoria alejandra herrera",
      "userId": "16346835995419242908"
     },
     "user_tz": 180
    },
    "hidden": true,
    "id": "ez9I1ioLlf_O",
    "outputId": "279dd278-4f36-4bba-84d9-02f877b2adce"
   },
   "outputs": [
    {
     "name": "stdout",
     "output_type": "stream",
     "text": [
      "valor esperado de y: 31.59675707547342\n",
      "t_crit=: 2.1199052992210112\n",
      "21.65440122212688 < uy < 41.53911292881996\n"
     ]
    }
   ],
   "source": [
    "#informações\n",
    "x1 = 2\n",
    "x2 = 500\n",
    "sy_inf = 4.69\n",
    "alpha = 0.05\n",
    "\n",
    "#valor esperado\n",
    "y = b0 + b1*x1 + b2*x2 + b3*x1*x2\n",
    "print('valor esperado de y:', y)\n",
    "\n",
    "#utabela tstudent\n",
    "alpha = 0.05  # significia = 5% \n",
    "df = n-(k+1) # graus de liberdade                                      \n",
    "v = t.ppf(1 - alpha/2, df) \n",
    "tt=v\n",
    "print(f't_crit=: {v}')\n",
    "\n",
    "#ic\n",
    "ic = sy_inf * v\n",
    "print('{} < uy < {}'.format(y - ic, y + ic))"
   ]
  }
 ],
 "metadata": {
  "colab": {
   "authorship_tag": "ABX9TyPA52XEu1MzYevmXfaX4SrV",
   "name": "Semana6-Aula14.ipynb",
   "provenance": [],
   "toc_visible": true
  },
  "kernelspec": {
   "display_name": "Python 3 (ipykernel)",
   "language": "python",
   "name": "python3"
  },
  "language_info": {
   "codemirror_mode": {
    "name": "ipython",
    "version": 3
   },
   "file_extension": ".py",
   "mimetype": "text/x-python",
   "name": "python",
   "nbconvert_exporter": "python",
   "pygments_lexer": "ipython3",
   "version": "3.9.7"
  },
  "varInspector": {
   "cols": {
    "lenName": 16,
    "lenType": 16,
    "lenVar": 40
   },
   "kernels_config": {
    "python": {
     "delete_cmd_postfix": "",
     "delete_cmd_prefix": "del ",
     "library": "var_list.py",
     "varRefreshCmd": "print(var_dic_list())"
    },
    "r": {
     "delete_cmd_postfix": ") ",
     "delete_cmd_prefix": "rm(",
     "library": "var_list.r",
     "varRefreshCmd": "cat(var_dic_list()) "
    }
   },
   "types_to_exclude": [
    "module",
    "function",
    "builtin_function_or_method",
    "instance",
    "_Feature"
   ],
   "window_display": false
  }
 },
 "nbformat": 4,
 "nbformat_minor": 1
}
