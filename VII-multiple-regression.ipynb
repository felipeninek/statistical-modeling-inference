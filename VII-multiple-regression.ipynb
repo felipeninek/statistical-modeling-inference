{
 "cells": [
  {
   "cell_type": "markdown",
   "metadata": {
    "id": "iI8LNacDkEEh"
   },
   "source": [
    "# Regressão Múltipla II"
   ]
  },
  {
   "cell_type": "markdown",
   "metadata": {
    "heading_collapsed": true
   },
   "source": [
    "#### Imports"
   ]
  },
  {
   "cell_type": "code",
   "execution_count": 11,
   "metadata": {
    "ExecuteTime": {
     "end_time": "2022-05-04T19:02:03.341168Z",
     "start_time": "2022-05-04T19:02:03.335997Z"
    },
    "hidden": true
   },
   "outputs": [],
   "source": [
    "import numpy as np\n",
    "import pandas as pd\n",
    "import matplotlib.pyplot as plt\n",
    "import statsmodels.api as sm\n",
    "import statsmodels.formula.api as smf\n",
    "import seaborn as sns\n",
    "import scipy.stats as stats\n",
    "\n",
    "from scipy.stats import f\n",
    "from statsmodels.graphics.gofplots import ProbPlot\n",
    "from statsmodels.formula.api import ols"
   ]
  },
  {
   "cell_type": "markdown",
   "metadata": {
    "heading_collapsed": true
   },
   "source": [
    "#### 1. A loja \"GT Auto\" decidiu aprimorar os treinamentos de vendedores inexperientes de carros, criando uma base de dados dos veículos disponíveis que apresente algumas informações importantes para treinar os novos vendedores. A base de dados foi criada em um documento de texto e contém as seguintes informações:\n",
    "\n",
    "*   Marca/Modelo/Ano do carro: brand/model/year\n",
    "*   Capacidade volumétrica (cc) ou volume de deslocamento do motor: cap_vol.\n",
    "*   Consumo de combustível (km/l): consumo.\n",
    "*   Potência (cv): power.\n",
    "*   Peso (kg): weight.\n",
    "*   0-100 (s), tempo que o carro demora para atingir a velocidade de 100km/h: cemm. \n",
    "*   Número de cilindros: nu_cy.\n",
    "*   Tipo de motor, aspirado (0) ou turbo (1): Etype.\n",
    " \n",
    "\n",
    "Após ter realizado a análise dos dados apresentados, obter o modelo de regressão múltipla, escolha as variáveis adequadas."
   ]
  },
  {
   "cell_type": "code",
   "execution_count": 12,
   "metadata": {
    "ExecuteTime": {
     "end_time": "2022-05-04T19:02:09.617821Z",
     "start_time": "2022-05-04T19:02:09.612937Z"
    },
    "colab": {
     "base_uri": "https://localhost:8080/"
    },
    "executionInfo": {
     "elapsed": 6,
     "status": "ok",
     "timestamp": 1649554657288,
     "user": {
      "displayName": "victoria alejandra herrera",
      "userId": "16346835995419242908"
     },
     "user_tz": 180
    },
    "hidden": true,
    "id": "PQ4mdfVtN9YY",
    "outputId": "88b9f54f-6a8c-4440-9108-ef66c5a849c9"
   },
   "outputs": [
    {
     "data": {
      "text/plain": [
       "Index(['brand_model_year', 'cap_vol', 'consumo', 'power', 'weight', 'cemm',\n",
       "       'nu_cy', 'Etype'],\n",
       "      dtype='object')"
      ]
     },
     "execution_count": 12,
     "metadata": {},
     "output_type": "execute_result"
    }
   ],
   "source": [
    "#Observar os nomes das variáveis\n",
    "cars.columns"
   ]
  },
  {
   "cell_type": "code",
   "execution_count": 13,
   "metadata": {
    "ExecuteTime": {
     "end_time": "2022-05-04T19:02:19.844541Z",
     "start_time": "2022-05-04T19:02:19.828517Z"
    },
    "colab": {
     "base_uri": "https://localhost:8080/"
    },
    "executionInfo": {
     "elapsed": 4,
     "status": "ok",
     "timestamp": 1649554657288,
     "user": {
      "displayName": "victoria alejandra herrera",
      "userId": "16346835995419242908"
     },
     "user_tz": 180
    },
    "hidden": true,
    "id": "M1RI-tGzuyYZ",
    "outputId": "22c9cec2-5d13-41b2-c05f-973a763dcd7d"
   },
   "outputs": [
    {
     "data": {
      "text/plain": [
       "brand_model_year     object\n",
       "cap_vol               int64\n",
       "consumo             float64\n",
       "power                 int64\n",
       "weight                int64\n",
       "cemm                float64\n",
       "nu_cy                 int64\n",
       "Etype                 int64\n",
       "dtype: object"
      ]
     },
     "execution_count": 13,
     "metadata": {},
     "output_type": "execute_result"
    }
   ],
   "source": [
    "#Observar o tipo de dado de cada coluna\n",
    "cars.dtypes"
   ]
  },
  {
   "cell_type": "code",
   "execution_count": 14,
   "metadata": {
    "ExecuteTime": {
     "end_time": "2022-05-04T19:02:30.581850Z",
     "start_time": "2022-05-04T19:02:30.574819Z"
    },
    "colab": {
     "base_uri": "https://localhost:8080/"
    },
    "executionInfo": {
     "elapsed": 460,
     "status": "ok",
     "timestamp": 1649554657745,
     "user": {
      "displayName": "victoria alejandra herrera",
      "userId": "16346835995419242908"
     },
     "user_tz": 180
    },
    "hidden": true,
    "id": "JPgD3cyjvFvy",
    "outputId": "bf8cff48-5ac0-470e-9d5c-41657331cd94"
   },
   "outputs": [
    {
     "data": {
      "text/plain": [
       "RangeIndex(start=0, stop=28, step=1)"
      ]
     },
     "execution_count": 14,
     "metadata": {},
     "output_type": "execute_result"
    }
   ],
   "source": [
    "#Observar os índices\n",
    "cars.index"
   ]
  },
  {
   "cell_type": "code",
   "execution_count": 18,
   "metadata": {
    "ExecuteTime": {
     "end_time": "2022-05-04T19:03:52.959154Z",
     "start_time": "2022-05-04T19:03:52.946268Z"
    },
    "colab": {
     "base_uri": "https://localhost:8080/",
     "height": 488
    },
    "executionInfo": {
     "elapsed": 19,
     "status": "ok",
     "timestamp": 1649554657745,
     "user": {
      "displayName": "victoria alejandra herrera",
      "userId": "16346835995419242908"
     },
     "user_tz": 180
    },
    "hidden": true,
    "id": "xs6m5-VzmNCP",
    "outputId": "87258e04-0a69-4606-fdee-191662aa31dd"
   },
   "outputs": [
    {
     "data": {
      "text/html": [
       "<div>\n",
       "<style scoped>\n",
       "    .dataframe tbody tr th:only-of-type {\n",
       "        vertical-align: middle;\n",
       "    }\n",
       "\n",
       "    .dataframe tbody tr th {\n",
       "        vertical-align: top;\n",
       "    }\n",
       "\n",
       "    .dataframe thead th {\n",
       "        text-align: right;\n",
       "    }\n",
       "</style>\n",
       "<table border=\"1\" class=\"dataframe\">\n",
       "  <thead>\n",
       "    <tr style=\"text-align: right;\">\n",
       "      <th></th>\n",
       "      <th>brand_model_year</th>\n",
       "      <th>cap_vol</th>\n",
       "      <th>consumo</th>\n",
       "      <th>power</th>\n",
       "      <th>weight</th>\n",
       "      <th>cemm</th>\n",
       "      <th>nu_cy</th>\n",
       "      <th>Etype</th>\n",
       "    </tr>\n",
       "  </thead>\n",
       "  <tbody>\n",
       "    <tr>\n",
       "      <th>0</th>\n",
       "      <td>Gurgel BR800 0.8 1991</td>\n",
       "      <td>792</td>\n",
       "      <td>12.0</td>\n",
       "      <td>33</td>\n",
       "      <td>650</td>\n",
       "      <td>34.4</td>\n",
       "      <td>2</td>\n",
       "      <td>0</td>\n",
       "    </tr>\n",
       "    <tr>\n",
       "      <th>1</th>\n",
       "      <td>FIAT UNO Mille EP 1996</td>\n",
       "      <td>994</td>\n",
       "      <td>10.4</td>\n",
       "      <td>58</td>\n",
       "      <td>870</td>\n",
       "      <td>18.6</td>\n",
       "      <td>4</td>\n",
       "      <td>0</td>\n",
       "    </tr>\n",
       "    <tr>\n",
       "      <th>2</th>\n",
       "      <td>Hyundai HB20 Sense 2020</td>\n",
       "      <td>1000</td>\n",
       "      <td>12.8</td>\n",
       "      <td>80</td>\n",
       "      <td>989</td>\n",
       "      <td>14.5</td>\n",
       "      <td>3</td>\n",
       "      <td>0</td>\n",
       "    </tr>\n",
       "    <tr>\n",
       "      <th>3</th>\n",
       "      <td>FIAT Strada 1.4 2016</td>\n",
       "      <td>1368</td>\n",
       "      <td>10.3</td>\n",
       "      <td>86</td>\n",
       "      <td>1084</td>\n",
       "      <td>12.5</td>\n",
       "      <td>4</td>\n",
       "      <td>0</td>\n",
       "    </tr>\n",
       "    <tr>\n",
       "      <th>4</th>\n",
       "      <td>VolksWagen GOL 1.6 2015</td>\n",
       "      <td>1598</td>\n",
       "      <td>10.5</td>\n",
       "      <td>104</td>\n",
       "      <td>961</td>\n",
       "      <td>9.8</td>\n",
       "      <td>4</td>\n",
       "      <td>0</td>\n",
       "    </tr>\n",
       "    <tr>\n",
       "      <th>5</th>\n",
       "      <td>Chevrolet Cruze LTZ 1.8 2016</td>\n",
       "      <td>1796</td>\n",
       "      <td>8.5</td>\n",
       "      <td>144</td>\n",
       "      <td>1427</td>\n",
       "      <td>10.2</td>\n",
       "      <td>4</td>\n",
       "      <td>0</td>\n",
       "    </tr>\n",
       "    <tr>\n",
       "      <th>6</th>\n",
       "      <td>Honda Civic EXR 2016</td>\n",
       "      <td>1997</td>\n",
       "      <td>9.5</td>\n",
       "      <td>155</td>\n",
       "      <td>1294</td>\n",
       "      <td>10.9</td>\n",
       "      <td>4</td>\n",
       "      <td>0</td>\n",
       "    </tr>\n",
       "    <tr>\n",
       "      <th>7</th>\n",
       "      <td>Ford Focus 2.0 GLX 2012</td>\n",
       "      <td>1999</td>\n",
       "      <td>9.2</td>\n",
       "      <td>148</td>\n",
       "      <td>1347</td>\n",
       "      <td>10.4</td>\n",
       "      <td>4</td>\n",
       "      <td>0</td>\n",
       "    </tr>\n",
       "    <tr>\n",
       "      <th>8</th>\n",
       "      <td>BMW 325i 3.0 2012</td>\n",
       "      <td>2996</td>\n",
       "      <td>6.5</td>\n",
       "      <td>218</td>\n",
       "      <td>1460</td>\n",
       "      <td>7.1</td>\n",
       "      <td>6</td>\n",
       "      <td>0</td>\n",
       "    </tr>\n",
       "    <tr>\n",
       "      <th>9</th>\n",
       "      <td>AUDI A4 3.2 V6 Fsi 2011</td>\n",
       "      <td>3197</td>\n",
       "      <td>7.1</td>\n",
       "      <td>269</td>\n",
       "      <td>1610</td>\n",
       "      <td>6.4</td>\n",
       "      <td>6</td>\n",
       "      <td>0</td>\n",
       "    </tr>\n",
       "    <tr>\n",
       "      <th>10</th>\n",
       "      <td>Mercedes-Benz CLS 350 3.5 V6 2012</td>\n",
       "      <td>3498</td>\n",
       "      <td>6.6</td>\n",
       "      <td>306</td>\n",
       "      <td>1735</td>\n",
       "      <td>6.1</td>\n",
       "      <td>6</td>\n",
       "      <td>0</td>\n",
       "    </tr>\n",
       "    <tr>\n",
       "      <th>11</th>\n",
       "      <td>Mercedes-Benz CLS 500 5.5 V8 2007</td>\n",
       "      <td>5461</td>\n",
       "      <td>4.2</td>\n",
       "      <td>388</td>\n",
       "      <td>1760</td>\n",
       "      <td>5.4</td>\n",
       "      <td>8</td>\n",
       "      <td>0</td>\n",
       "    </tr>\n",
       "    <tr>\n",
       "      <th>12</th>\n",
       "      <td>Chevrolet Camaro SS 6.2 V8 2018</td>\n",
       "      <td>6162</td>\n",
       "      <td>6.4</td>\n",
       "      <td>461</td>\n",
       "      <td>1709</td>\n",
       "      <td>4.2</td>\n",
       "      <td>8</td>\n",
       "      <td>0</td>\n",
       "    </tr>\n",
       "    <tr>\n",
       "      <th>13</th>\n",
       "      <td>Pagani Zonda F 7.3 V12 2006</td>\n",
       "      <td>7291</td>\n",
       "      <td>3.0</td>\n",
       "      <td>602</td>\n",
       "      <td>1230</td>\n",
       "      <td>3.6</td>\n",
       "      <td>12</td>\n",
       "      <td>0</td>\n",
       "    </tr>\n",
       "  </tbody>\n",
       "</table>\n",
       "</div>"
      ],
      "text/plain": [
       "                     brand_model_year  cap_vol  consumo  power  weight  cemm  \\\n",
       "0               Gurgel BR800 0.8 1991      792     12.0     33     650  34.4   \n",
       "1              FIAT UNO Mille EP 1996      994     10.4     58     870  18.6   \n",
       "2             Hyundai HB20 Sense 2020     1000     12.8     80     989  14.5   \n",
       "3                FIAT Strada 1.4 2016     1368     10.3     86    1084  12.5   \n",
       "4             VolksWagen GOL 1.6 2015     1598     10.5    104     961   9.8   \n",
       "5        Chevrolet Cruze LTZ 1.8 2016     1796      8.5    144    1427  10.2   \n",
       "6                Honda Civic EXR 2016     1997      9.5    155    1294  10.9   \n",
       "7             Ford Focus 2.0 GLX 2012     1999      9.2    148    1347  10.4   \n",
       "8                   BMW 325i 3.0 2012     2996      6.5    218    1460   7.1   \n",
       "9             AUDI A4 3.2 V6 Fsi 2011     3197      7.1    269    1610   6.4   \n",
       "10  Mercedes-Benz CLS 350 3.5 V6 2012     3498      6.6    306    1735   6.1   \n",
       "11  Mercedes-Benz CLS 500 5.5 V8 2007     5461      4.2    388    1760   5.4   \n",
       "12    Chevrolet Camaro SS 6.2 V8 2018     6162      6.4    461    1709   4.2   \n",
       "13        Pagani Zonda F 7.3 V12 2006     7291      3.0    602    1230   3.6   \n",
       "\n",
       "    nu_cy  Etype  \n",
       "0       2      0  \n",
       "1       4      0  \n",
       "2       3      0  \n",
       "3       4      0  \n",
       "4       4      0  \n",
       "5       4      0  \n",
       "6       4      0  \n",
       "7       4      0  \n",
       "8       6      0  \n",
       "9       6      0  \n",
       "10      6      0  \n",
       "11      8      0  \n",
       "12      8      0  \n",
       "13     12      0  "
      ]
     },
     "execution_count": 18,
     "metadata": {},
     "output_type": "execute_result"
    }
   ],
   "source": [
    "# Reduzir a base de dados para usar apenas \n",
    "# o motor naturalmente aspirado\n",
    "dfcars = cars[cars['Etype'] == 0] \n",
    "dfcars"
   ]
  },
  {
   "cell_type": "code",
   "execution_count": 26,
   "metadata": {
    "ExecuteTime": {
     "end_time": "2022-05-04T19:05:39.444157Z",
     "start_time": "2022-05-04T19:05:39.437963Z"
    },
    "colab": {
     "base_uri": "https://localhost:8080/"
    },
    "executionInfo": {
     "elapsed": 19,
     "status": "ok",
     "timestamp": 1649554657745,
     "user": {
      "displayName": "victoria alejandra herrera",
      "userId": "16346835995419242908"
     },
     "user_tz": 180
    },
    "hidden": true,
    "id": "I3s_XzOou2KA",
    "outputId": "087e46aa-1e72-400b-964a-c14bb30cc75d"
   },
   "outputs": [
    {
     "data": {
      "text/plain": [
       "(14, 8)"
      ]
     },
     "execution_count": 26,
     "metadata": {},
     "output_type": "execute_result"
    }
   ],
   "source": [
    "#número de instâncias \n",
    "na = dfcars.shape[0]\n",
    "\n",
    "# número de variáveis\n",
    "pa = dfcars.shape[1]\n",
    "\n",
    "na, pa"
   ]
  },
  {
   "cell_type": "code",
   "execution_count": 31,
   "metadata": {
    "ExecuteTime": {
     "end_time": "2022-05-04T19:06:05.059999Z",
     "start_time": "2022-05-04T19:06:05.038844Z"
    },
    "executionInfo": {
     "elapsed": 18,
     "status": "ok",
     "timestamp": 1649554657746,
     "user": {
      "displayName": "victoria alejandra herrera",
      "userId": "16346835995419242908"
     },
     "user_tz": 180
    },
    "hidden": true,
    "id": "qVlwbqr4pqkg"
   },
   "outputs": [
    {
     "name": "stdout",
     "output_type": "stream",
     "text": [
      "                            OLS Regression Results                            \n",
      "==============================================================================\n",
      "Dep. Variable:                consumo   R-squared:                       0.877\n",
      "Model:                            OLS   Adj. R-squared:                  0.841\n",
      "Method:                 Least Squares   F-statistic:                     23.87\n",
      "Date:                Wed, 04 May 2022   Prob (F-statistic):           7.08e-05\n",
      "Time:                        16:06:05   Log-Likelihood:                -19.307\n",
      "No. Observations:                  14   AIC:                             46.61\n",
      "Df Residuals:                      10   BIC:                             49.17\n",
      "Df Model:                           3                                         \n",
      "Covariance Type:            nonrobust                                         \n",
      "==============================================================================\n",
      "                 coef    std err          t      P>|t|      [0.025      0.975]\n",
      "------------------------------------------------------------------------------\n",
      "Intercept     13.9363      1.328     10.496      0.000      10.978      16.895\n",
      "cap_vol       -0.0005      0.001     -0.439      0.670      -0.003       0.002\n",
      "power         -0.0062      0.015     -0.416      0.686      -0.040       0.027\n",
      "weight        -0.0021      0.001     -1.759      0.109      -0.005       0.001\n",
      "==============================================================================\n",
      "Omnibus:                        5.384   Durbin-Watson:                   2.778\n",
      "Prob(Omnibus):                  0.068   Jarque-Bera (JB):                2.752\n",
      "Skew:                           1.050   Prob(JB):                        0.253\n",
      "Kurtosis:                       3.553   Cond. No.                     1.62e+04\n",
      "==============================================================================\n",
      "\n",
      "Notes:\n",
      "[1] Standard Errors assume that the covariance matrix of the errors is correctly specified.\n",
      "[2] The condition number is large, 1.62e+04. This might indicate that there are\n",
      "strong multicollinearity or other numerical problems.\n"
     ]
    },
    {
     "name": "stderr",
     "output_type": "stream",
     "text": [
      "/home/felipe_oliveira/anaconda3/envs/env_01/lib/python3.9/site-packages/scipy/stats/stats.py:1541: UserWarning: kurtosistest only valid for n>=20 ... continuing anyway, n=14\n",
      "  warnings.warn(\"kurtosistest only valid for n>=20 ... continuing \"\n"
     ]
    }
   ],
   "source": [
    "#Regressão Primeira opção\n",
    "#Regressão com a fórmula import statsmodels.formula.api as smf \n",
    "regmul = smf.ols('consumo ~ cap_vol + power + weight', data = dfcars) \n",
    "\n",
    "#Realizar o processo de modelagem\n",
    "res = regmul.fit()\n",
    "\n",
    "#Resultado detalhado\n",
    "print(res.summary())"
   ]
  },
  {
   "cell_type": "code",
   "execution_count": 15,
   "metadata": {
    "colab": {
     "base_uri": "https://localhost:8080/"
    },
    "executionInfo": {
     "elapsed": 14,
     "status": "ok",
     "timestamp": 1649554657747,
     "user": {
      "displayName": "victoria alejandra herrera",
      "userId": "16346835995419242908"
     },
     "user_tz": 180
    },
    "hidden": true,
    "id": "_0X2j85WaUxR",
    "outputId": "6c8e2db4-9c0c-447d-c45e-82c2a0ca664b"
   },
   "outputs": [
    {
     "name": "stdout",
     "output_type": "stream",
     "text": [
      "F_crit= 2.8128629971823895\n"
     ]
    }
   ],
   "source": [
    "#cálculo do Fcrit (tabela)\n",
    "import scipy.stats\n",
    "F=res.fvalue\n",
    "k=res.df_model # grau do modelo\n",
    "n=res.nobs # num. amostras\n",
    "dfn=k\n",
    "dfd=n-(k+1)\n",
    "alpha = 0.1 #nível de confiança.\n",
    "F_critico=scipy.stats.f.ppf(1-alpha, dfn, dfd)\n",
    "print(\"F_crit=\",F_critico) #tabela F-dist\n",
    "\n",
    "#como f-statistic > f_crit, pelo menso um doa parâmetros é diferente de 0"
   ]
  },
  {
   "cell_type": "code",
   "execution_count": 36,
   "metadata": {
    "ExecuteTime": {
     "end_time": "2022-05-04T19:16:14.245562Z",
     "start_time": "2022-05-04T19:16:14.236859Z"
    },
    "colab": {
     "base_uri": "https://localhost:8080/"
    },
    "executionInfo": {
     "elapsed": 917,
     "status": "ok",
     "timestamp": 1649570106301,
     "user": {
      "displayName": "victoria alejandra herrera",
      "userId": "16346835995419242908"
     },
     "user_tz": 180
    },
    "hidden": true,
    "id": "u4FxlBhVbGE6",
    "outputId": "a61aedef-a701-4b36-8db5-0bb5b23eacc1"
   },
   "outputs": [
    {
     "name": "stdout",
     "output_type": "stream",
     "text": [
      "t_crit=: 1.7958848187036691\n"
     ]
    }
   ],
   "source": [
    "#Fazer um teste para cada parâmetro\n",
    "#cálculo t_crit (tabela t-student)\n",
    "from scipy.stats import t\n",
    "alpha = 0.1  # significia = 5% \n",
    "df = 11 # graus de liberdade                                      \n",
    "v = t.ppf(1 - alpha/2, df) \n",
    "tt=v\n",
    "print(f't_crit=: {v}')\n",
    "\n",
    "#controntar com os valores t da tabela OLS"
   ]
  },
  {
   "cell_type": "code",
   "execution_count": 38,
   "metadata": {
    "ExecuteTime": {
     "end_time": "2022-05-04T19:18:08.561289Z",
     "start_time": "2022-05-04T19:18:08.530465Z"
    },
    "colab": {
     "base_uri": "https://localhost:8080/"
    },
    "executionInfo": {
     "elapsed": 11,
     "status": "ok",
     "timestamp": 1649554657747,
     "user": {
      "displayName": "victoria alejandra herrera",
      "userId": "16346835995419242908"
     },
     "user_tz": 180
    },
    "hidden": true,
    "id": "E6JB5DJ2eN_C",
    "outputId": "927c2d4c-7760-459d-90de-a458cc6384be"
   },
   "outputs": [
    {
     "name": "stdout",
     "output_type": "stream",
     "text": [
      "                            OLS Regression Results                            \n",
      "==============================================================================\n",
      "Dep. Variable:                consumo   R-squared:                       0.943\n",
      "Model:                            OLS   Adj. R-squared:                  0.917\n",
      "Method:                 Least Squares   F-statistic:                     37.02\n",
      "Date:                Wed, 04 May 2022   Prob (F-statistic):           1.35e-05\n",
      "Time:                        16:18:08   Log-Likelihood:                -13.987\n",
      "No. Observations:                  14   AIC:                             37.97\n",
      "Df Residuals:                       9   BIC:                             41.17\n",
      "Df Model:                           4                                         \n",
      "Covariance Type:            nonrobust                                         \n",
      "==============================================================================\n",
      "                 coef    std err          t      P>|t|      [0.025      0.975]\n",
      "------------------------------------------------------------------------------\n",
      "Intercept     17.8674      1.557     11.475      0.000      14.345      21.390\n",
      "cap_vol       -0.0004      0.001     -0.438      0.672      -0.002       0.002\n",
      "power          0.0128      0.012      1.041      0.325      -0.015       0.041\n",
      "weight        -0.0033      0.001     -3.548      0.006      -0.005      -0.001\n",
      "nu_cy         -1.2889      0.403     -3.201      0.011      -2.200      -0.378\n",
      "==============================================================================\n",
      "Omnibus:                        1.424   Durbin-Watson:                   1.550\n",
      "Prob(Omnibus):                  0.491   Jarque-Bera (JB):                0.475\n",
      "Skew:                           0.449   Prob(JB):                        0.789\n",
      "Kurtosis:                       3.081   Cond. No.                     2.69e+04\n",
      "==============================================================================\n",
      "\n",
      "Notes:\n",
      "[1] Standard Errors assume that the covariance matrix of the errors is correctly specified.\n",
      "[2] The condition number is large, 2.69e+04. This might indicate that there are\n",
      "strong multicollinearity or other numerical problems.\n"
     ]
    },
    {
     "name": "stderr",
     "output_type": "stream",
     "text": [
      "/home/felipe_oliveira/anaconda3/envs/env_01/lib/python3.9/site-packages/scipy/stats/stats.py:1541: UserWarning: kurtosistest only valid for n>=20 ... continuing anyway, n=14\n",
      "  warnings.warn(\"kurtosistest only valid for n>=20 ... continuing \"\n"
     ]
    }
   ],
   "source": [
    "#Regressão Segunda opção\n",
    "regmul2 = smf.ols('consumo ~ cap_vol + power + weight + nu_cy', data = dfcars) \n",
    "#Realizar o processo de modelagem\n",
    "res2 = regmul2.fit()\n",
    "#Resultado detalhado\n",
    "print(res2.summary())"
   ]
  },
  {
   "cell_type": "code",
   "execution_count": 39,
   "metadata": {
    "ExecuteTime": {
     "end_time": "2022-05-04T19:18:57.518965Z",
     "start_time": "2022-05-04T19:18:57.475862Z"
    },
    "colab": {
     "base_uri": "https://localhost:8080/"
    },
    "executionInfo": {
     "elapsed": 10,
     "status": "ok",
     "timestamp": 1649554657747,
     "user": {
      "displayName": "victoria alejandra herrera",
      "userId": "16346835995419242908"
     },
     "user_tz": 180
    },
    "hidden": true,
    "id": "COAREYHQfP7j",
    "outputId": "97c7299b-5646-400f-89b9-d067e6130bf5"
   },
   "outputs": [
    {
     "name": "stdout",
     "output_type": "stream",
     "text": [
      "                            OLS Regression Results                            \n",
      "==============================================================================\n",
      "Dep. Variable:                consumo   R-squared:                       0.941\n",
      "Model:                            OLS   Adj. R-squared:                  0.924\n",
      "Method:                 Least Squares   F-statistic:                     53.63\n",
      "Date:                Wed, 04 May 2022   Prob (F-statistic):           1.81e-06\n",
      "Time:                        16:18:57   Log-Likelihood:                -14.134\n",
      "No. Observations:                  14   AIC:                             36.27\n",
      "Df Residuals:                      10   BIC:                             38.82\n",
      "Df Model:                           3                                         \n",
      "Covariance Type:            nonrobust                                         \n",
      "==============================================================================\n",
      "                 coef    std err          t      P>|t|      [0.025      0.975]\n",
      "------------------------------------------------------------------------------\n",
      "Intercept     17.8003      1.485     11.983      0.000      14.490      21.110\n",
      "power          0.0083      0.006      1.285      0.228      -0.006       0.023\n",
      "weight        -0.0033      0.001     -3.696      0.004      -0.005      -0.001\n",
      "nu_cy         -1.2983      0.385     -3.368      0.007      -2.157      -0.439\n",
      "==============================================================================\n",
      "Omnibus:                        1.673   Durbin-Watson:                   1.573\n",
      "Prob(Omnibus):                  0.433   Jarque-Bera (JB):                0.374\n",
      "Skew:                           0.357   Prob(JB):                        0.829\n",
      "Kurtosis:                       3.364   Cond. No.                     9.82e+03\n",
      "==============================================================================\n",
      "\n",
      "Notes:\n",
      "[1] Standard Errors assume that the covariance matrix of the errors is correctly specified.\n",
      "[2] The condition number is large, 9.82e+03. This might indicate that there are\n",
      "strong multicollinearity or other numerical problems.\n"
     ]
    },
    {
     "name": "stderr",
     "output_type": "stream",
     "text": [
      "/home/felipe_oliveira/anaconda3/envs/env_01/lib/python3.9/site-packages/scipy/stats/stats.py:1541: UserWarning: kurtosistest only valid for n>=20 ... continuing anyway, n=14\n",
      "  warnings.warn(\"kurtosistest only valid for n>=20 ... continuing \"\n"
     ]
    }
   ],
   "source": [
    "#regressão Terceira opção\n",
    "regmul3 = smf.ols('consumo ~ power + weight + nu_cy', data = dfcars) \n",
    "#Realizar o processo de modelagem\n",
    "res3 = regmul3.fit()\n",
    "#Resultado detalhado\n",
    "print(res3.summary())"
   ]
  },
  {
   "cell_type": "code",
   "execution_count": 40,
   "metadata": {
    "ExecuteTime": {
     "end_time": "2022-05-04T19:18:58.167615Z",
     "start_time": "2022-05-04T19:18:58.151425Z"
    },
    "colab": {
     "base_uri": "https://localhost:8080/"
    },
    "executionInfo": {
     "elapsed": 10,
     "status": "ok",
     "timestamp": 1649554657748,
     "user": {
      "displayName": "victoria alejandra herrera",
      "userId": "16346835995419242908"
     },
     "user_tz": 180
    },
    "hidden": true,
    "id": "cvm8hCsGkEGH",
    "outputId": "b5470a54-055a-4331-8cb0-93b5e42500e2"
   },
   "outputs": [
    {
     "data": {
      "text/plain": [
       "Intercept    17.800264\n",
       "power         0.008318\n",
       "weight       -0.003322\n",
       "nu_cy        -1.298316\n",
       "dtype: float64"
      ]
     },
     "execution_count": 40,
     "metadata": {},
     "output_type": "execute_result"
    }
   ],
   "source": [
    "res3.params"
   ]
  },
  {
   "cell_type": "code",
   "execution_count": 41,
   "metadata": {
    "ExecuteTime": {
     "end_time": "2022-05-04T19:19:57.095960Z",
     "start_time": "2022-05-04T19:19:56.987191Z"
    },
    "executionInfo": {
     "elapsed": 8,
     "status": "ok",
     "timestamp": 1649554657748,
     "user": {
      "displayName": "victoria alejandra herrera",
      "userId": "16346835995419242908"
     },
     "user_tz": 180
    },
    "hidden": true,
    "id": "KvDv7DAKcFRl"
   },
   "outputs": [],
   "source": [
    "#gráficos dispersão e resíduos\n",
    "#Valores previstos e residuos\n",
    "y_pred=list(res3.predict())\n",
    "resi=list(res3.resid)\n",
    "\n",
    "#crear instancia influence\n",
    "influence = res3.get_influence()\n",
    "\n",
    "#obter residuos standardizados\n",
    "stdresid = list(influence.resid_studentized_internal)\n",
    "prop=np.divide(resi,stdresid) #e/e*"
   ]
  },
  {
   "cell_type": "code",
   "execution_count": 42,
   "metadata": {
    "ExecuteTime": {
     "end_time": "2022-05-04T19:19:57.495052Z",
     "start_time": "2022-05-04T19:19:57.472243Z"
    },
    "colab": {
     "base_uri": "https://localhost:8080/",
     "height": 363
    },
    "executionInfo": {
     "elapsed": 8,
     "status": "ok",
     "timestamp": 1649554657748,
     "user": {
      "displayName": "victoria alejandra herrera",
      "userId": "16346835995419242908"
     },
     "user_tz": 180
    },
    "hidden": true,
    "id": "F5C_ug5UfQk2",
    "outputId": "cc9a25a0-e61e-4780-cc93-bb1c89ad29d3"
   },
   "outputs": [
    {
     "data": {
      "text/html": [
       "<div>\n",
       "<style scoped>\n",
       "    .dataframe tbody tr th:only-of-type {\n",
       "        vertical-align: middle;\n",
       "    }\n",
       "\n",
       "    .dataframe tbody tr th {\n",
       "        vertical-align: top;\n",
       "    }\n",
       "\n",
       "    .dataframe thead th {\n",
       "        text-align: right;\n",
       "    }\n",
       "</style>\n",
       "<table border=\"1\" class=\"dataframe\">\n",
       "  <thead>\n",
       "    <tr style=\"text-align: right;\">\n",
       "      <th></th>\n",
       "      <th>y</th>\n",
       "      <th>y_p</th>\n",
       "      <th>e</th>\n",
       "      <th>e*</th>\n",
       "      <th>e/e*</th>\n",
       "    </tr>\n",
       "  </thead>\n",
       "  <tbody>\n",
       "    <tr>\n",
       "      <th>0</th>\n",
       "      <td>12.0</td>\n",
       "      <td>13.318762</td>\n",
       "      <td>-1.318762</td>\n",
       "      <td>-2.556230</td>\n",
       "      <td>0.515901</td>\n",
       "    </tr>\n",
       "    <tr>\n",
       "      <th>1</th>\n",
       "      <td>10.4</td>\n",
       "      <td>10.199218</td>\n",
       "      <td>0.200782</td>\n",
       "      <td>0.317628</td>\n",
       "      <td>0.632130</td>\n",
       "    </tr>\n",
       "    <tr>\n",
       "      <th>2</th>\n",
       "      <td>12.8</td>\n",
       "      <td>11.285198</td>\n",
       "      <td>1.514802</td>\n",
       "      <td>2.130191</td>\n",
       "      <td>0.711111</td>\n",
       "    </tr>\n",
       "    <tr>\n",
       "      <th>3</th>\n",
       "      <td>10.3</td>\n",
       "      <td>9.721191</td>\n",
       "      <td>0.578809</td>\n",
       "      <td>0.823745</td>\n",
       "      <td>0.702655</td>\n",
       "    </tr>\n",
       "    <tr>\n",
       "      <th>4</th>\n",
       "      <td>10.5</td>\n",
       "      <td>10.279531</td>\n",
       "      <td>0.220469</td>\n",
       "      <td>0.304188</td>\n",
       "      <td>0.724779</td>\n",
       "    </tr>\n",
       "    <tr>\n",
       "      <th>5</th>\n",
       "      <td>8.5</td>\n",
       "      <td>9.064151</td>\n",
       "      <td>-0.564151</td>\n",
       "      <td>-0.776070</td>\n",
       "      <td>0.726933</td>\n",
       "    </tr>\n",
       "    <tr>\n",
       "      <th>6</th>\n",
       "      <td>9.5</td>\n",
       "      <td>9.597487</td>\n",
       "      <td>-0.097487</td>\n",
       "      <td>-0.132030</td>\n",
       "      <td>0.738368</td>\n",
       "    </tr>\n",
       "    <tr>\n",
       "      <th>7</th>\n",
       "      <td>9.2</td>\n",
       "      <td>9.363190</td>\n",
       "      <td>-0.163190</td>\n",
       "      <td>-0.220734</td>\n",
       "      <td>0.739308</td>\n",
       "    </tr>\n",
       "    <tr>\n",
       "      <th>8</th>\n",
       "      <td>6.5</td>\n",
       "      <td>6.973417</td>\n",
       "      <td>-0.473417</td>\n",
       "      <td>-0.698620</td>\n",
       "      <td>0.677645</td>\n",
       "    </tr>\n",
       "    <tr>\n",
       "      <th>9</th>\n",
       "      <td>7.1</td>\n",
       "      <td>6.899316</td>\n",
       "      <td>0.200684</td>\n",
       "      <td>0.276749</td>\n",
       "      <td>0.725150</td>\n",
       "    </tr>\n",
       "  </tbody>\n",
       "</table>\n",
       "</div>"
      ],
      "text/plain": [
       "      y        y_p         e        e*      e/e*\n",
       "0  12.0  13.318762 -1.318762 -2.556230  0.515901\n",
       "1  10.4  10.199218  0.200782  0.317628  0.632130\n",
       "2  12.8  11.285198  1.514802  2.130191  0.711111\n",
       "3  10.3   9.721191  0.578809  0.823745  0.702655\n",
       "4  10.5  10.279531  0.220469  0.304188  0.724779\n",
       "5   8.5   9.064151 -0.564151 -0.776070  0.726933\n",
       "6   9.5   9.597487 -0.097487 -0.132030  0.738368\n",
       "7   9.2   9.363190 -0.163190 -0.220734  0.739308\n",
       "8   6.5   6.973417 -0.473417 -0.698620  0.677645\n",
       "9   7.1   6.899316  0.200684  0.276749  0.725150"
      ]
     },
     "execution_count": 42,
     "metadata": {},
     "output_type": "execute_result"
    }
   ],
   "source": [
    "y=list(dfcars['consumo'])\n",
    "dftab = pd.DataFrame(list(zip(y,y_pred,resi,stdresid,prop)), columns =[\"y\",\"y_p\",\"e\",\"e*\",\"e/e*\"])\n",
    "dftab.head(10)"
   ]
  },
  {
   "cell_type": "code",
   "execution_count": 22,
   "metadata": {
    "colab": {
     "base_uri": "https://localhost:8080/",
     "height": 369
    },
    "executionInfo": {
     "elapsed": 724,
     "status": "ok",
     "timestamp": 1649554658464,
     "user": {
      "displayName": "victoria alejandra herrera",
      "userId": "16346835995419242908"
     },
     "user_tz": 180
    },
    "hidden": true,
    "id": "GSBxZ9rQi4Hv",
    "outputId": "0a8612f2-7b39-4dcf-a204-5bf420a9ad33"
   },
   "outputs": [
    {
     "data": {
      "image/png": "[encoded data removed]",
      "text/plain": [
       "<Figure size 360x360 with 1 Axes>"
      ]
     },
     "metadata": {
      "needs_background": "light"
     },
     "output_type": "display_data"
    }
   ],
   "source": [
    "#Gráficos de diagnóstico 2 (y vs. yc)\n",
    "sns.lmplot(x='y', y='y_p', data=dftab);plt.grid(True)\n",
    "plt.xlabel('Valores observados: y= Consumo')\n",
    "plt.ylabel('Valores esperados:  y_pred= Consumo')\n",
    "plt.axhline(y=0, color='black', linestyle='--', linewidth=1)\n",
    "plt.show()"
   ]
  },
  {
   "cell_type": "code",
   "execution_count": 23,
   "metadata": {
    "colab": {
     "base_uri": "https://localhost:8080/",
     "height": 279
    },
    "executionInfo": {
     "elapsed": 5,
     "status": "ok",
     "timestamp": 1649554658464,
     "user": {
      "displayName": "victoria alejandra herrera",
      "userId": "16346835995419242908"
     },
     "user_tz": 180
    },
    "hidden": true,
    "id": "KaSQpZACk5a_",
    "outputId": "b0628e03-9afc-4f90-e801-650eb6f4ff11"
   },
   "outputs": [
    {
     "data": {
      "image/png": "[encoded data removed]",
      "text/plain": [
       "<Figure size 432x288 with 1 Axes>"
      ]
     },
     "metadata": {
      "needs_background": "light"
     },
     "output_type": "display_data"
    }
   ],
   "source": [
    "#Gráficos de diagnóstico 3 (resíduos padronizados vs. x)\n",
    "sns.scatterplot(x='y', y='e*', data=dftab);plt.grid(True)\n",
    "plt.xlabel('Valores observados: y= Consumo')\n",
    "plt.ylabel('e*= Resíduos padronizados')\n",
    "plt.axhline(y=0, color='black', linestyle='--', linewidth=1)\n",
    "plt.show()"
   ]
  },
  {
   "cell_type": "code",
   "execution_count": 24,
   "metadata": {
    "colab": {
     "base_uri": "https://localhost:8080/",
     "height": 279
    },
    "executionInfo": {
     "elapsed": 685,
     "status": "ok",
     "timestamp": 1649554659146,
     "user": {
      "displayName": "victoria alejandra herrera",
      "userId": "16346835995419242908"
     },
     "user_tz": 180
    },
    "hidden": true,
    "id": "Yh42KmLXod84",
    "outputId": "f42ff98a-814d-4bbf-9253-e9e55c6cb93a"
   },
   "outputs": [
    {
     "data": {
      "image/png": "[encoded data removed]",
      "text/plain": [
       "<Figure size 432x288 with 1 Axes>"
      ]
     },
     "metadata": {
      "needs_background": "light"
     },
     "output_type": "display_data"
    }
   ],
   "source": [
    "#Gráficos de diagnóstico 4\n",
    "#Verificar a normalidade dos resíduos\n",
    "#qqpolot vs. normal distribution \n",
    "QQ = ProbPlot(influence.resid_studentized_internal)\n",
    "plot_lm_2 = QQ.qqplot(line='45', alpha=0.5, color='#4C72B0', lw=1)\n",
    "plot_lm_2.axes[0].set_xlabel('Percentil')\n",
    "plot_lm_2.axes[0].set_ylabel('Resíduos padronizados')\n",
    "plt.grid(True)"
   ]
  },
  {
   "cell_type": "code",
   "execution_count": 25,
   "metadata": {
    "colab": {
     "base_uri": "https://localhost:8080/"
    },
    "executionInfo": {
     "elapsed": 14,
     "status": "ok",
     "timestamp": 1649554659147,
     "user": {
      "displayName": "victoria alejandra herrera",
      "userId": "16346835995419242908"
     },
     "user_tz": 180
    },
    "hidden": true,
    "id": "qwrc7mGvu7aC",
    "outputId": "d3d8b712-fc5c-4124-e761-5bf95a7830b8"
   },
   "outputs": [
    {
     "name": "stdout",
     "output_type": "stream",
     "text": [
      "0.9356004195554889 0.6263786554878777 0.08916068550630878 1.6979002335974027\n"
     ]
    }
   ],
   "source": [
    "#Jarque-Bera normality test import statsmodels.api as sm \n",
    "JB, JBpv,skw,kurt = sm.stats.stattools.jarque_bera(res3.resid) \n",
    "print(JB,JBpv,skw,kurt)"
   ]
  },
  {
   "cell_type": "code",
   "execution_count": 26,
   "metadata": {
    "colab": {
     "base_uri": "https://localhost:8080/"
    },
    "executionInfo": {
     "elapsed": 11,
     "status": "ok",
     "timestamp": 1649554659147,
     "user": {
      "displayName": "victoria alejandra herrera",
      "userId": "16346835995419242908"
     },
     "user_tz": 180
    },
    "hidden": true,
    "id": "DR5Er0Dzo-Ym",
    "outputId": "91c219b9-ae54-4c94-eca3-83a8996dd35a"
   },
   "outputs": [
    {
     "name": "stdout",
     "output_type": "stream",
     "text": [
      "[0.35806038 0.37861409 0.20088976 0.21422029 0.14468658 0.16700463\n",
      " 0.13126423 0.33998544 0.16694511 0.23776741 0.32914283 0.46714838\n",
      " 0.86427087]\n"
     ]
    }
   ],
   "source": [
    "#Analisar amostras influentes\n",
    "infl = res3.get_influence()\n",
    "#leverage \n",
    "print(infl.hat_matrix_diag)"
   ]
  },
  {
   "cell_type": "code",
   "execution_count": 27,
   "metadata": {
    "colab": {
     "base_uri": "https://localhost:8080/"
    },
    "executionInfo": {
     "elapsed": 10,
     "status": "ok",
     "timestamp": 1649554659147,
     "user": {
      "displayName": "victoria alejandra herrera",
      "userId": "16346835995419242908"
     },
     "user_tz": 180
    },
    "hidden": true,
    "id": "eNYyrJKGpGoM",
    "outputId": "773de4bd-8e7d-4e15-9684-7ca27990443c"
   },
   "outputs": [
    {
     "name": "stdout",
     "output_type": "stream",
     "text": [
      "[ 0.35949995  4.20906954  2.79225934 -1.5622264  -3.01478277 -2.7612392\n",
      " -2.04154318  0.68753833  2.39848859 -0.59301501  0.05304166  3.59442848\n",
      " -8.46147643]\n"
     ]
    }
   ],
   "source": [
    "#Valores dos resíduos (influencias internas)\n",
    "#residus = res3.resid.as_matrix() #residuals\n",
    "leviers = infl.hat_matrix_diag #leverage\n",
    "sigma_err = np.sqrt(res3.scale) #regression standard error\n",
    "res_stds = stdresid/(sigma_err*np.sqrt(1.0-leviers))\n",
    "print(res_stds)"
   ]
  },
  {
   "cell_type": "code",
   "execution_count": 28,
   "metadata": {
    "colab": {
     "base_uri": "https://localhost:8080/"
    },
    "executionInfo": {
     "elapsed": 9,
     "status": "ok",
     "timestamp": 1649554659147,
     "user": {
      "displayName": "victoria alejandra herrera",
      "userId": "16346835995419242908"
     },
     "user_tz": 180
    },
    "hidden": true,
    "id": "mMQ8Ba5JqIZR",
    "outputId": "1fdc1263-96e8-495d-ed6a-a97986cc502d"
   },
   "outputs": [
    {
     "name": "stdout",
     "output_type": "stream",
     "text": [
      "1.0769230769230769\n",
      "[False False False False False False False False False False False False\n",
      " False]\n"
     ]
    }
   ],
   "source": [
    "#Limiar \n",
    "#threshold leverage\n",
    "seuil_levier = 2*(pa+1)/na\n",
    "print(seuil_levier)\n",
    "#identification\n",
    "atyp_levier = leviers > seuil_levier\n",
    "print(atyp_levier)"
   ]
  },
  {
   "cell_type": "code",
   "execution_count": 29,
   "metadata": {
    "colab": {
     "base_uri": "https://localhost:8080/"
    },
    "executionInfo": {
     "elapsed": 9,
     "status": "ok",
     "timestamp": 1649554659148,
     "user": {
      "displayName": "victoria alejandra herrera",
      "userId": "16346835995419242908"
     },
     "user_tz": 180
    },
    "hidden": true,
    "id": "Qi2T19OaqgXb",
    "outputId": "4ca62861-7581-4716-ed7d-888913fbed33"
   },
   "outputs": [
    {
     "name": "stdout",
     "output_type": "stream",
     "text": [
      "Index([], dtype='object', name='brand_model_year') []\n"
     ]
    }
   ],
   "source": [
    "#Quais carros ultrapassam esse limiar\n",
    "print(dfcars.index[atyp_levier],leviers[atyp_levier])"
   ]
  },
  {
   "cell_type": "code",
   "execution_count": 30,
   "metadata": {
    "colab": {
     "base_uri": "https://localhost:8080/"
    },
    "executionInfo": {
     "elapsed": 8,
     "status": "ok",
     "timestamp": 1649554659148,
     "user": {
      "displayName": "victoria alejandra herrera",
      "userId": "16346835995419242908"
     },
     "user_tz": 180
    },
    "hidden": true,
    "id": "KfT1n5bdqQ2D",
    "outputId": "cc822488-d340-4330-adec-6ad31a4fc4eb"
   },
   "outputs": [
    {
     "name": "stdout",
     "output_type": "stream",
     "text": [
      "(13, 7)\n"
     ]
    },
    {
     "data": {
      "text/plain": [
       "(13, 3)"
      ]
     },
     "execution_count": 30,
     "metadata": {},
     "output_type": "execute_result"
    }
   ],
   "source": [
    "#dimensões \n",
    "print(dfcars.shape) \n",
    "#número de instâncias \n",
    "na = dfcars.shape[0] \n",
    "# número de variáveis\n",
    "pa = dfcars.shape[1] - 4\n",
    "na,pa"
   ]
  },
  {
   "cell_type": "code",
   "execution_count": 31,
   "metadata": {
    "colab": {
     "base_uri": "https://localhost:8080/"
    },
    "executionInfo": {
     "elapsed": 7,
     "status": "ok",
     "timestamp": 1649554659148,
     "user": {
      "displayName": "victoria alejandra herrera",
      "userId": "16346835995419242908"
     },
     "user_tz": 180
    },
    "hidden": true,
    "id": "YVNSWBBNrQCZ",
    "outputId": "47f8e483-b65c-4294-d9ad-39afe42c639e"
   },
   "outputs": [
    {
     "name": "stdout",
     "output_type": "stream",
     "text": [
      "[ 0.13255651  1.81118385  1.25541191 -0.65337419 -1.43784066 -1.26993869\n",
      " -0.91983983  0.25783951  1.07682554 -0.23885329  0.01997201  1.33351375\n",
      " -1.66218952]\n",
      "[ 0.34139992         nan  7.1997264  -1.72526295         nan -6.65900839\n",
      " -2.62685161  0.66594194  3.76465014 -0.57035397  0.05001597         nan\n",
      "         nan]\n"
     ]
    },
    {
     "name": "stderr",
     "output_type": "stream",
     "text": [
      "/usr/local/lib/python3.7/dist-packages/ipykernel_launcher.py:4: RuntimeWarning: invalid value encountered in sqrt\n",
      "  after removing the cwd from sys.path.\n"
     ]
    }
   ],
   "source": [
    "#valores fornecidos pelo objeto\n",
    "print(infl.resid_studentized_external)\n",
    "#verificando com a fórmula\n",
    "res_studs = res_stds*np.sqrt((na-pa-2)/(na-pa-1-res_stds**2))\n",
    "print(res_studs)"
   ]
  },
  {
   "cell_type": "code",
   "execution_count": 32,
   "metadata": {
    "colab": {
     "base_uri": "https://localhost:8080/",
     "height": 587
    },
    "executionInfo": {
     "elapsed": 719,
     "status": "ok",
     "timestamp": 1649554659861,
     "user": {
      "displayName": "victoria alejandra herrera",
      "userId": "16346835995419242908"
     },
     "user_tz": 180
    },
    "hidden": true,
    "id": "r6Rb38tltCGo",
    "outputId": "31ce4e75-b450-4686-a8e3-b1b95c359f6d"
   },
   "outputs": [
    {
     "data": {
      "image/png": "[encoded data removed]",
      "text/plain": [
       "<Figure size 432x288 with 1 Axes>"
      ]
     },
     "execution_count": 32,
     "metadata": {},
     "output_type": "execute_result"
    },
    {
     "data": {
      "image/png": "[encoded data removed]",
      "text/plain": [
       "<Figure size 432x288 with 1 Axes>"
      ]
     },
     "metadata": {
      "needs_background": "light"
     },
     "output_type": "display_data"
    }
   ],
   "source": [
    "#Representação dos pontos influentes\n",
    "sm.graphics.influence_plot(res3)"
   ]
  },
  {
   "cell_type": "code",
   "execution_count": 33,
   "metadata": {
    "colab": {
     "base_uri": "https://localhost:8080/"
    },
    "executionInfo": {
     "elapsed": 10,
     "status": "ok",
     "timestamp": 1649554659861,
     "user": {
      "displayName": "victoria alejandra herrera",
      "userId": "16346835995419242908"
     },
     "user_tz": 180
    },
    "hidden": true,
    "id": "pMI_t0B7rBHp",
    "outputId": "6f8d7057-406c-4997-a1ee-c4b2a7222681"
   },
   "outputs": [
    {
     "name": "stdout",
     "output_type": "stream",
     "text": [
      "2.3060041350333704\n",
      "Index(['FIAT Strada 1.4 2016', 'Honda Civic EXR 2016',\n",
      "       'Ford Focus 2.0 GLX 2012', 'AUDI A4 3.2 V6 Fsi 2011'],\n",
      "      dtype='object', name='brand_model_year') [ 7.1997264  -6.65900839 -2.62685161  3.76465014]\n"
     ]
    }
   ],
   "source": [
    "#limiares dos resíduos (influencias externas)\n",
    "import scipy\n",
    "seuil_stud = scipy.stats.t.ppf(0.975,df=na-pa-2)\n",
    "print(seuil_stud)\n",
    "#detection - absolute value > threshold\n",
    "atyp_stud = np.abs(res_studs) > seuil_stud\n",
    "#which ones?\n",
    "print(dfcars.index[atyp_stud],res_studs[atyp_stud])"
   ]
  },
  {
   "cell_type": "code",
   "execution_count": 34,
   "metadata": {
    "colab": {
     "base_uri": "https://localhost:8080/"
    },
    "executionInfo": {
     "elapsed": 10,
     "status": "ok",
     "timestamp": 1649554659862,
     "user": {
      "displayName": "victoria alejandra herrera",
      "userId": "16346835995419242908"
     },
     "user_tz": 180
    },
    "hidden": true,
    "id": "ZLVCwVJ5rg86",
    "outputId": "81acc833-f352-46e5-f664-c9a1adae009c"
   },
   "outputs": [
    {
     "name": "stdout",
     "output_type": "stream",
     "text": [
      "Index(['FIAT Strada 1.4 2016', 'Honda Civic EXR 2016',\n",
      "       'Ford Focus 2.0 GLX 2012', 'AUDI A4 3.2 V6 Fsi 2011'],\n",
      "      dtype='object', name='brand_model_year')\n"
     ]
    }
   ],
   "source": [
    "#Observações suspeitas considerando ambos critérios\n",
    "pbm_infl = np.logical_or(atyp_levier,atyp_stud)\n",
    "print(dfcars.index[pbm_infl])"
   ]
  },
  {
   "cell_type": "code",
   "execution_count": 35,
   "metadata": {
    "colab": {
     "base_uri": "https://localhost:8080/"
    },
    "executionInfo": {
     "elapsed": 8,
     "status": "ok",
     "timestamp": 1649554659862,
     "user": {
      "displayName": "victoria alejandra herrera",
      "userId": "16346835995419242908"
     },
     "user_tz": 180
    },
    "hidden": true,
    "id": "d0bL5q2Grn8g",
    "outputId": "250743cc-94a6-4cd7-f11e-50b2d6302546"
   },
   "outputs": [
    {
     "name": "stdout",
     "output_type": "stream",
     "text": [
      "                                   hat_diag  student_resid    dffits   cooks_d\n",
      "brand_model_year                                                              \n",
      "FIAT UNO Mille EP 1996             0.358060       0.132557  0.098999  0.002750\n",
      "Hyundai HB20 Sense 2020            0.378614       1.811184  1.413775  0.398675\n",
      "FIAT Strada 1.4 2016               0.200890       1.255412  0.629451  0.093093\n",
      "VolksWagen GOL 1.6 2015            0.214220      -0.653374 -0.341147  0.031074\n",
      "Chevrolet Cruze LTZ 1.8 2016       0.144687      -1.437841 -0.591374  0.078161\n",
      "Honda Civic EXR 2016               0.167005      -1.269939 -0.568625  0.075681\n",
      "Ford Focus 2.0 GLX 2012            0.131264      -0.919840 -0.357554  0.032517\n",
      "BMW 325i 3.0 2012                  0.339985       0.257840  0.185056  0.009552\n",
      "AUDI A4 3.2 V6 Fsi 2011            0.166945       1.076826  0.482054  0.057082\n",
      "Mercedes-Benz CLS 350 3.5 V6 2012  0.237767      -0.238853 -0.133402  0.004970\n",
      "Mercedes-Benz CLS 500 5.5 V8 2007  0.329143       0.019972  0.013989  0.000055\n",
      "Chevrolet Camaro SS 6.2 V8 2018    0.467148       1.333514  1.248596  0.358727\n",
      "Pagani Zonda F 7.3 V12 2006        0.864271      -1.662190 -4.194391  3.677834\n"
     ]
    }
   ],
   "source": [
    "#Outros critérios para determinar amostras influentes\n",
    "print(infl.summary_frame().filter([\"hat_diag\",\"student_resid\",\"dffits\",\"cooks_d\"]))"
   ]
  },
  {
   "cell_type": "code",
   "execution_count": 51,
   "metadata": {
    "colab": {
     "base_uri": "https://localhost:8080/",
     "height": 270
    },
    "executionInfo": {
     "elapsed": 847,
     "status": "ok",
     "timestamp": 1649555135543,
     "user": {
      "displayName": "victoria alejandra herrera",
      "userId": "16346835995419242908"
     },
     "user_tz": 180
    },
    "hidden": true,
    "id": "6C5aK8aASNaN",
    "outputId": "7525fc2a-7862-4fe0-ce33-84bec25eae89"
   },
   "outputs": [
    {
     "data": {
      "image/png": "[encoded data removed]",
      "text/plain": [
       "<Figure size 576x288 with 2 Axes>"
      ]
     },
     "metadata": {
      "needs_background": "light"
     },
     "output_type": "display_data"
    }
   ],
   "source": [
    "# Calcula a correlação entre os atributos numéricos\n",
    "corr = dfcars.corr()\n",
    "# Resultado\n",
    "plt.figure(figsize=(8, 4))\n",
    "sns.heatmap(corr, cmap='coolwarm', annot=True, fmt=\".2f\", vmin=-1, vmax=1)\n",
    "plt.show()"
   ]
  },
  {
   "cell_type": "code",
   "execution_count": 76,
   "metadata": {
    "colab": {
     "base_uri": "https://localhost:8080/"
    },
    "executionInfo": {
     "elapsed": 231,
     "status": "ok",
     "timestamp": 1649555519264,
     "user": {
      "displayName": "victoria alejandra herrera",
      "userId": "16346835995419242908"
     },
     "user_tz": 180
    },
    "hidden": true,
    "id": "ElQ3XwEFsBpR",
    "outputId": "2bbe0d53-ca03-49b4-bb93-6f1bbbca1d74"
   },
   "outputs": [
    {
     "data": {
      "text/plain": [
       "array([[  58.,  870.,    4.],\n",
       "       [  80.,  989.,    3.],\n",
       "       [  86., 1084.,    4.],\n",
       "       [ 104.,  961.,    4.],\n",
       "       [ 144., 1427.,    4.],\n",
       "       [ 155., 1294.,    4.],\n",
       "       [ 148., 1347.,    4.],\n",
       "       [ 218., 1460.,    6.],\n",
       "       [ 269., 1610.,    6.],\n",
       "       [ 306., 1735.,    6.],\n",
       "       [ 388., 1760.,    8.],\n",
       "       [ 461., 1709.,    8.],\n",
       "       [ 602., 1230.,   12.]])"
      ]
     },
     "execution_count": 76,
     "metadata": {},
     "output_type": "execute_result"
    }
   ],
   "source": [
    "infl.exog[:,1:4]"
   ]
  },
  {
   "cell_type": "code",
   "execution_count": 77,
   "metadata": {
    "colab": {
     "base_uri": "https://localhost:8080/"
    },
    "executionInfo": {
     "elapsed": 232,
     "status": "ok",
     "timestamp": 1649555520664,
     "user": {
      "displayName": "victoria alejandra herrera",
      "userId": "16346835995419242908"
     },
     "user_tz": 180
    },
    "hidden": true,
    "id": "vARt-N9Qry5h",
    "outputId": "8e4bfd7d-5382-4add-baf8-f07cf0d089a9"
   },
   "outputs": [
    {
     "name": "stdout",
     "output_type": "stream",
     "text": [
      "[[1.         0.59225355 0.96890823]\n",
      " [0.59225355 1.         0.44569531]\n",
      " [0.96890823 0.44569531 1.        ]]\n"
     ]
    },
    {
     "name": "stderr",
     "output_type": "stream",
     "text": [
      "/usr/local/lib/python3.7/dist-packages/ipykernel_launcher.py:3: DeprecationWarning: scipy.corrcoef is deprecated and will be removed in SciPy 2.0.0, use numpy.corrcoef instead\n",
      "  This is separate from the ipykernel package so we can avoid doing imports until\n"
     ]
    }
   ],
   "source": [
    "#correlation matrix \n",
    "import scipy \n",
    "mc = scipy.corrcoef(infl.exog[:,1:4], rowvar=0) \n",
    "print(mc)"
   ]
  },
  {
   "cell_type": "code",
   "execution_count": 79,
   "metadata": {
    "colab": {
     "base_uri": "https://localhost:8080/"
    },
    "executionInfo": {
     "elapsed": 2,
     "status": "ok",
     "timestamp": 1649555531984,
     "user": {
      "displayName": "victoria alejandra herrera",
      "userId": "16346835995419242908"
     },
     "user_tz": 180
    },
    "hidden": true,
    "id": "KkqLCG2dsywL",
    "outputId": "d154a58a-ac54-4f72-adaf-9a8dc37c4519"
   },
   "outputs": [
    {
     "name": "stdout",
     "output_type": "stream",
     "text": [
      "[[1.         0.35076427 0.93878317]\n",
      " [0.35076427 1.         0.19864431]\n",
      " [0.93878317 0.19864431 1.        ]]\n"
     ]
    }
   ],
   "source": [
    "#Klein’s rule of thumb \n",
    "mc2 = mc**2 \n",
    "print(mc2)"
   ]
  },
  {
   "cell_type": "code",
   "execution_count": 80,
   "metadata": {
    "colab": {
     "base_uri": "https://localhost:8080/"
    },
    "executionInfo": {
     "elapsed": 229,
     "status": "ok",
     "timestamp": 1649555542831,
     "user": {
      "displayName": "victoria alejandra herrera",
      "userId": "16346835995419242908"
     },
     "user_tz": 180
    },
    "hidden": true,
    "id": "GG0EpiFEs3JJ",
    "outputId": "b8781f51-3334-4fe7-c78f-9b2d9db9571e"
   },
   "outputs": [
    {
     "name": "stdout",
     "output_type": "stream",
     "text": [
      "[[ 34.35864218  -6.87792632 -30.22491181]\n",
      " [ -6.87792632   2.62471127   5.49425794]\n",
      " [-30.22491181   5.49425794  27.83640092]]\n"
     ]
    }
   ],
   "source": [
    "#VIF criterion \n",
    "vif = np.linalg.inv(mc) \n",
    "print(vif)"
   ]
  },
  {
   "cell_type": "markdown",
   "metadata": {
    "id": "jO0syBi2LHyn"
   },
   "source": [
    "## Extras"
   ]
  },
  {
   "cell_type": "code",
   "execution_count": 42,
   "metadata": {
    "colab": {
     "base_uri": "https://localhost:8080/"
    },
    "executionInfo": {
     "elapsed": 8,
     "status": "ok",
     "timestamp": 1649554660436,
     "user": {
      "displayName": "victoria alejandra herrera",
      "userId": "16346835995419242908"
     },
     "user_tz": 180
    },
    "id": "_19eYii884L5",
    "outputId": "99d77e4d-ead9-45fc-c9c7-f65abf3e36d4"
   },
   "outputs": [
    {
     "name": "stdout",
     "output_type": "stream",
     "text": [
      "             sum_sq   df         F    PR(>F)\n",
      "cap_vol    0.249945  1.0  0.174047  0.686315\n",
      "power      0.205274  1.0  0.142941  0.714138\n",
      "weight     3.079927  1.0  2.144682  0.177102\n",
      "Residual  12.924689  9.0       NaN       NaN\n"
     ]
    }
   ],
   "source": [
    "#ANOVA\n",
    "table = sm.stats.anova_lm(res, typ=2) # \n",
    "print(table)"
   ]
  },
  {
   "cell_type": "code",
   "execution_count": 43,
   "metadata": {
    "colab": {
     "base_uri": "https://localhost:8080/"
    },
    "executionInfo": {
     "elapsed": 7,
     "status": "ok",
     "timestamp": 1649554660436,
     "user": {
      "displayName": "victoria alejandra herrera",
      "userId": "16346835995419242908"
     },
     "user_tz": 180
    },
    "id": "MsWhht8_vxCI",
    "outputId": "bd39d2a9-00c6-4624-b6c3-efb6337f14ef"
   },
   "outputs": [
    {
     "name": "stdout",
     "output_type": "stream",
     "text": [
      "Intercept    13.897284\n",
      "cap_vol      -0.000544\n",
      "power        -0.006088\n",
      "weight       -0.002053\n",
      "dtype: float64\n",
      "0.8583177713910948\n",
      "18.174144629536404\n",
      "18.174144629536404\n"
     ]
    }
   ],
   "source": [
    "#estimated coefficients \n",
    "print(res.params) \n",
    "#R2\n",
    "print(res.rsquared) \n",
    "#calculating the F-statistic \n",
    "F = res.mse_model/res.mse_resid \n",
    "print(F) \n",
    "#F provided by the res object \n",
    "print(res.fvalue)"
   ]
  },
  {
   "cell_type": "markdown",
   "metadata": {
    "id": "2YrokJewkfFO"
   },
   "source": [
    "### Analisando todas as variáveis do modelo final"
   ]
  },
  {
   "cell_type": "code",
   "execution_count": 81,
   "metadata": {
    "colab": {
     "base_uri": "https://localhost:8080/",
     "height": 237
    },
    "executionInfo": {
     "elapsed": 290,
     "status": "ok",
     "timestamp": 1649555603789,
     "user": {
      "displayName": "victoria alejandra herrera",
      "userId": "16346835995419242908"
     },
     "user_tz": 180
    },
    "id": "kyEQiQ8cKkGJ",
    "outputId": "9c34668f-7dd6-4f05-dba8-0739d02f9a48"
   },
   "outputs": [
    {
     "data": {
      "text/html": [
       "\n",
       "  <div id=\"df-9b928435-b350-473b-a04f-9011ca7f276d\">\n",
       "    <div class=\"colab-df-container\">\n",
       "      <div>\n",
       "<style scoped>\n",
       "    .dataframe tbody tr th:only-of-type {\n",
       "        vertical-align: middle;\n",
       "    }\n",
       "\n",
       "    .dataframe tbody tr th {\n",
       "        vertical-align: top;\n",
       "    }\n",
       "\n",
       "    .dataframe thead th {\n",
       "        text-align: right;\n",
       "    }\n",
       "</style>\n",
       "<table border=\"1\" class=\"dataframe\">\n",
       "  <thead>\n",
       "    <tr style=\"text-align: right;\">\n",
       "      <th></th>\n",
       "      <th>consumo</th>\n",
       "      <th>power</th>\n",
       "      <th>weight</th>\n",
       "      <th>nu_cy</th>\n",
       "    </tr>\n",
       "    <tr>\n",
       "      <th>brand_model_year</th>\n",
       "      <th></th>\n",
       "      <th></th>\n",
       "      <th></th>\n",
       "      <th></th>\n",
       "    </tr>\n",
       "  </thead>\n",
       "  <tbody>\n",
       "    <tr>\n",
       "      <th>FIAT UNO Mille EP 1996</th>\n",
       "      <td>10.4</td>\n",
       "      <td>58</td>\n",
       "      <td>870</td>\n",
       "      <td>4</td>\n",
       "    </tr>\n",
       "    <tr>\n",
       "      <th>Hyundai HB20 Sense 2020</th>\n",
       "      <td>12.8</td>\n",
       "      <td>80</td>\n",
       "      <td>989</td>\n",
       "      <td>3</td>\n",
       "    </tr>\n",
       "    <tr>\n",
       "      <th>FIAT Strada 1.4 2016</th>\n",
       "      <td>10.3</td>\n",
       "      <td>86</td>\n",
       "      <td>1084</td>\n",
       "      <td>4</td>\n",
       "    </tr>\n",
       "    <tr>\n",
       "      <th>VolksWagen GOL 1.6 2015</th>\n",
       "      <td>10.5</td>\n",
       "      <td>104</td>\n",
       "      <td>961</td>\n",
       "      <td>4</td>\n",
       "    </tr>\n",
       "    <tr>\n",
       "      <th>Chevrolet Cruze LTZ 1.8 2016</th>\n",
       "      <td>8.5</td>\n",
       "      <td>144</td>\n",
       "      <td>1427</td>\n",
       "      <td>4</td>\n",
       "    </tr>\n",
       "  </tbody>\n",
       "</table>\n",
       "</div>\n",
       "      <button class=\"colab-df-convert\" onclick=\"convertToInteractive('df-9b928435-b350-473b-a04f-9011ca7f276d')\"\n",
       "              title=\"Convert this dataframe to an interactive table.\"\n",
       "              style=\"display:none;\">\n",
       "        \n",
       "  <svg xmlns=\"http://www.w3.org/2000/svg\" height=\"24px\"viewBox=\"0 0 24 24\"\n",
       "       width=\"24px\">\n",
       "    <path d=\"M0 0h24v24H0V0z\" fill=\"none\"/>\n",
       "    <path d=\"M18.56 5.44l.94 2.06.94-2.06 2.06-.94-2.06-.94-.94-2.06-.94 2.06-2.06.94zm-11 1L8.5 8.5l.94-2.06 2.06-.94-2.06-.94L8.5 2.5l-.94 2.06-2.06.94zm10 10l.94 2.06.94-2.06 2.06-.94-2.06-.94-.94-2.06-.94 2.06-2.06.94z\"/><path d=\"M17.41 7.96l-1.37-1.37c-.4-.4-.92-.59-1.43-.59-.52 0-1.04.2-1.43.59L10.3 9.45l-7.72 7.72c-.78.78-.78 2.05 0 2.83L4 21.41c.39.39.9.59 1.41.59.51 0 1.02-.2 1.41-.59l7.78-7.78 2.81-2.81c.8-.78.8-2.07 0-2.86zM5.41 20L4 18.59l7.72-7.72 1.47 1.35L5.41 20z\"/>\n",
       "  </svg>\n",
       "      </button>\n",
       "      \n",
       "  <style>\n",
       "    .colab-df-container {\n",
       "      display:flex;\n",
       "      flex-wrap:wrap;\n",
       "      gap: 12px;\n",
       "    }\n",
       "\n",
       "    .colab-df-convert {\n",
       "      background-color: #E8F0FE;\n",
       "      border: none;\n",
       "      border-radius: 50%;\n",
       "      cursor: pointer;\n",
       "      display: none;\n",
       "      fill: #1967D2;\n",
       "      height: 32px;\n",
       "      padding: 0 0 0 0;\n",
       "      width: 32px;\n",
       "    }\n",
       "\n",
       "    .colab-df-convert:hover {\n",
       "      background-color: #E2EBFA;\n",
       "      box-shadow: 0px 1px 2px rgba(60, 64, 67, 0.3), 0px 1px 3px 1px rgba(60, 64, 67, 0.15);\n",
       "      fill: #174EA6;\n",
       "    }\n",
       "\n",
       "    [theme=dark] .colab-df-convert {\n",
       "      background-color: #3B4455;\n",
       "      fill: #D2E3FC;\n",
       "    }\n",
       "\n",
       "    [theme=dark] .colab-df-convert:hover {\n",
       "      background-color: #434B5C;\n",
       "      box-shadow: 0px 1px 3px 1px rgba(0, 0, 0, 0.15);\n",
       "      filter: drop-shadow(0px 1px 2px rgba(0, 0, 0, 0.3));\n",
       "      fill: #FFFFFF;\n",
       "    }\n",
       "  </style>\n",
       "\n",
       "      <script>\n",
       "        const buttonEl =\n",
       "          document.querySelector('#df-9b928435-b350-473b-a04f-9011ca7f276d button.colab-df-convert');\n",
       "        buttonEl.style.display =\n",
       "          google.colab.kernel.accessAllowed ? 'block' : 'none';\n",
       "\n",
       "        async function convertToInteractive(key) {\n",
       "          const element = document.querySelector('#df-9b928435-b350-473b-a04f-9011ca7f276d');\n",
       "          const dataTable =\n",
       "            await google.colab.kernel.invokeFunction('convertToInteractive',\n",
       "                                                     [key], {});\n",
       "          if (!dataTable) return;\n",
       "\n",
       "          const docLinkHtml = 'Like what you see? Visit the ' +\n",
       "            '<a target=\"_blank\" href=https://colab.research.google.com/notebooks/data_table.ipynb>data table notebook</a>'\n",
       "            + ' to learn more about interactive tables.';\n",
       "          element.innerHTML = '';\n",
       "          dataTable['output_type'] = 'display_data';\n",
       "          await google.colab.output.renderOutput(dataTable, element);\n",
       "          const docLink = document.createElement('div');\n",
       "          docLink.innerHTML = docLinkHtml;\n",
       "          element.appendChild(docLink);\n",
       "        }\n",
       "      </script>\n",
       "    </div>\n",
       "  </div>\n",
       "  "
      ],
      "text/plain": [
       "                              consumo  power  weight  nu_cy\n",
       "brand_model_year                                           \n",
       "FIAT UNO Mille EP 1996           10.4     58     870      4\n",
       "Hyundai HB20 Sense 2020          12.8     80     989      3\n",
       "FIAT Strada 1.4 2016             10.3     86    1084      4\n",
       "VolksWagen GOL 1.6 2015          10.5    104     961      4\n",
       "Chevrolet Cruze LTZ 1.8 2016      8.5    144    1427      4"
      ]
     },
     "execution_count": 81,
     "metadata": {},
     "output_type": "execute_result"
    }
   ],
   "source": [
    "dfex = dfcars.drop(columns=[\"Etype\",       # nome\n",
    "                      \"cemm\",       # nome\n",
    "                      \"cap_vol\"])     # nome\n",
    "dfex.head()"
   ]
  },
  {
   "cell_type": "code",
   "execution_count": 82,
   "metadata": {
    "colab": {
     "base_uri": "https://localhost:8080/",
     "height": 269
    },
    "executionInfo": {
     "elapsed": 798,
     "status": "ok",
     "timestamp": 1649555619297,
     "user": {
      "displayName": "victoria alejandra herrera",
      "userId": "16346835995419242908"
     },
     "user_tz": 180
    },
    "id": "Rl8G0KzFLETW",
    "outputId": "d901294e-ef19-4b75-e71a-c8433611e2a0"
   },
   "outputs": [
    {
     "data": {
      "image/png": "[encoded data removed]",
      "text/plain": [
       "<Figure size 576x288 with 2 Axes>"
      ]
     },
     "metadata": {
      "needs_background": "light"
     },
     "output_type": "display_data"
    }
   ],
   "source": [
    "# Calcula a correlação entre os atributos numéricos\n",
    "corr = dfex.corr()\n",
    "# Resultado\n",
    "plt.figure(figsize=(8, 4))\n",
    "sns.heatmap(corr, cmap='coolwarm', annot=True, fmt=\".2f\", vmin=-1, vmax=1)\n",
    "plt.show()"
   ]
  },
  {
   "cell_type": "code",
   "execution_count": 89,
   "metadata": {
    "colab": {
     "base_uri": "https://localhost:8080/"
    },
    "executionInfo": {
     "elapsed": 235,
     "status": "ok",
     "timestamp": 1649555972904,
     "user": {
      "displayName": "victoria alejandra herrera",
      "userId": "16346835995419242908"
     },
     "user_tz": 180
    },
    "id": "l9fZvCE_MnqE",
    "outputId": "5f1c7a00-4ebf-4b3a-90cb-5047133da863"
   },
   "outputs": [
    {
     "name": "stdout",
     "output_type": "stream",
     "text": [
      "          consumo     power    weight     nu_cy\n",
      "consumo  1.000000 -0.905766 -0.687542 -0.913702\n",
      "power   -0.905766  1.000000  0.592254  0.968908\n",
      "weight  -0.687542  0.592254  1.000000  0.445695\n",
      "nu_cy   -0.913702  0.968908  0.445695  1.000000\n"
     ]
    }
   ],
   "source": [
    "print(corr)"
   ]
  },
  {
   "cell_type": "code",
   "execution_count": 83,
   "metadata": {
    "colab": {
     "base_uri": "https://localhost:8080/"
    },
    "executionInfo": {
     "elapsed": 234,
     "status": "ok",
     "timestamp": 1649555651994,
     "user": {
      "displayName": "victoria alejandra herrera",
      "userId": "16346835995419242908"
     },
     "user_tz": 180
    },
    "id": "3r-r2iAoLZXM",
    "outputId": "24fa48b9-2eb4-47ec-cde2-283fa8cc9109"
   },
   "outputs": [
    {
     "name": "stdout",
     "output_type": "stream",
     "text": [
      "          consumo     power    weight     nu_cy\n",
      "consumo  1.000000  0.820412  0.472714  0.834851\n",
      "power    0.820412  1.000000  0.350764  0.938783\n",
      "weight   0.472714  0.350764  1.000000  0.198644\n",
      "nu_cy    0.834851  0.938783  0.198644  1.000000\n"
     ]
    }
   ],
   "source": [
    "#Klein’s rule of thumb \n",
    "mc2 = corr**2 \n",
    "print(mc2)"
   ]
  },
  {
   "cell_type": "code",
   "execution_count": 87,
   "metadata": {
    "colab": {
     "base_uri": "https://localhost:8080/",
     "height": 287
    },
    "executionInfo": {
     "elapsed": 776,
     "status": "ok",
     "timestamp": 1649555762982,
     "user": {
      "displayName": "victoria alejandra herrera",
      "userId": "16346835995419242908"
     },
     "user_tz": 180
    },
    "id": "N1GWjedDLxEh",
    "outputId": "73636ae1-505f-4f63-a43f-5ad3e3bbb3af"
   },
   "outputs": [
    {
     "data": {
      "text/plain": [
       "<matplotlib.axes._subplots.AxesSubplot at 0x7f1abea5fe90>"
      ]
     },
     "execution_count": 87,
     "metadata": {},
     "output_type": "execute_result"
    },
    {
     "data": {
      "image/png": "[encoded data removed]",
      "text/plain": [
       "<Figure size 432x288 with 2 Axes>"
      ]
     },
     "metadata": {
      "needs_background": "light"
     },
     "output_type": "display_data"
    }
   ],
   "source": [
    "sns.heatmap(mc2, cmap='coolwarm', annot=True, fmt=\".2f\", vmin=-1, vmax=1)"
   ]
  },
  {
   "cell_type": "code",
   "execution_count": 92,
   "metadata": {
    "colab": {
     "base_uri": "https://localhost:8080/"
    },
    "executionInfo": {
     "elapsed": 900,
     "status": "ok",
     "timestamp": 1649561107004,
     "user": {
      "displayName": "victoria alejandra herrera",
      "userId": "16346835995419242908"
     },
     "user_tz": 180
    },
    "id": "HKJaot6PLjgf",
    "outputId": "457c9a08-2fb0-47ff-aa47-11f4d954e810"
   },
   "outputs": [
    {
     "name": "stdout",
     "output_type": "stream",
     "text": [
      "[[  4.94510596   0.86342415  -1.727545    -4.59582941]\n",
      " [  0.86342415  11.18956754  -2.18959009 -10.79045883]\n",
      " [ -1.727545    -2.18959009   1.96748437   3.10696401]\n",
      " [ -4.59582941 -10.79045883   3.10696401  14.34955472]]\n"
     ]
    }
   ],
   "source": [
    "#VIF criterion \n",
    "vif = np.linalg.inv(mc2) \n",
    "print(vif)"
   ]
  },
  {
   "cell_type": "code",
   "execution_count": 93,
   "metadata": {
    "colab": {
     "base_uri": "https://localhost:8080/",
     "height": 287
    },
    "executionInfo": {
     "elapsed": 4,
     "status": "ok",
     "timestamp": 1649561109793,
     "user": {
      "displayName": "victoria alejandra herrera",
      "userId": "16346835995419242908"
     },
     "user_tz": 180
    },
    "id": "iG8l4gDlLD3-",
    "outputId": "8a04bc1a-2795-4c8a-cb71-dcc405fb57dc"
   },
   "outputs": [
    {
     "data": {
      "text/plain": [
       "<matplotlib.axes._subplots.AxesSubplot at 0x7f1abe95ba50>"
      ]
     },
     "execution_count": 93,
     "metadata": {},
     "output_type": "execute_result"
    },
    {
     "data": {
      "image/png": "[encoded data removed]",
      "text/plain": [
       "<Figure size 432x288 with 2 Axes>"
      ]
     },
     "metadata": {
      "needs_background": "light"
     },
     "output_type": "display_data"
    }
   ],
   "source": [
    "sns.heatmap(vif, cmap='coolwarm', annot=True, fmt=\".2f\", vmin=-4, vmax=4)"
   ]
  },
  {
   "cell_type": "markdown",
   "metadata": {
    "id": "4gp9KPxmkpwG"
   },
   "source": [
    "### Analisando apenas as variáveis preditoras do modelo final"
   ]
  },
  {
   "cell_type": "code",
   "execution_count": 94,
   "metadata": {
    "colab": {
     "base_uri": "https://localhost:8080/",
     "height": 237
    },
    "executionInfo": {
     "elapsed": 243,
     "status": "ok",
     "timestamp": 1649561210393,
     "user": {
      "displayName": "victoria alejandra herrera",
      "userId": "16346835995419242908"
     },
     "user_tz": 180
    },
    "id": "uSI0pbQbgidD",
    "outputId": "dfe1f3e6-04c9-4709-a230-630d595500fc"
   },
   "outputs": [
    {
     "data": {
      "text/html": [
       "\n",
       "  <div id=\"df-caa323d3-4c9c-437f-9cda-0838a5a40d5a\">\n",
       "    <div class=\"colab-df-container\">\n",
       "      <div>\n",
       "<style scoped>\n",
       "    .dataframe tbody tr th:only-of-type {\n",
       "        vertical-align: middle;\n",
       "    }\n",
       "\n",
       "    .dataframe tbody tr th {\n",
       "        vertical-align: top;\n",
       "    }\n",
       "\n",
       "    .dataframe thead th {\n",
       "        text-align: right;\n",
       "    }\n",
       "</style>\n",
       "<table border=\"1\" class=\"dataframe\">\n",
       "  <thead>\n",
       "    <tr style=\"text-align: right;\">\n",
       "      <th></th>\n",
       "      <th>power</th>\n",
       "      <th>weight</th>\n",
       "      <th>nu_cy</th>\n",
       "    </tr>\n",
       "    <tr>\n",
       "      <th>brand_model_year</th>\n",
       "      <th></th>\n",
       "      <th></th>\n",
       "      <th></th>\n",
       "    </tr>\n",
       "  </thead>\n",
       "  <tbody>\n",
       "    <tr>\n",
       "      <th>FIAT UNO Mille EP 1996</th>\n",
       "      <td>58</td>\n",
       "      <td>870</td>\n",
       "      <td>4</td>\n",
       "    </tr>\n",
       "    <tr>\n",
       "      <th>Hyundai HB20 Sense 2020</th>\n",
       "      <td>80</td>\n",
       "      <td>989</td>\n",
       "      <td>3</td>\n",
       "    </tr>\n",
       "    <tr>\n",
       "      <th>FIAT Strada 1.4 2016</th>\n",
       "      <td>86</td>\n",
       "      <td>1084</td>\n",
       "      <td>4</td>\n",
       "    </tr>\n",
       "    <tr>\n",
       "      <th>VolksWagen GOL 1.6 2015</th>\n",
       "      <td>104</td>\n",
       "      <td>961</td>\n",
       "      <td>4</td>\n",
       "    </tr>\n",
       "    <tr>\n",
       "      <th>Chevrolet Cruze LTZ 1.8 2016</th>\n",
       "      <td>144</td>\n",
       "      <td>1427</td>\n",
       "      <td>4</td>\n",
       "    </tr>\n",
       "  </tbody>\n",
       "</table>\n",
       "</div>\n",
       "      <button class=\"colab-df-convert\" onclick=\"convertToInteractive('df-caa323d3-4c9c-437f-9cda-0838a5a40d5a')\"\n",
       "              title=\"Convert this dataframe to an interactive table.\"\n",
       "              style=\"display:none;\">\n",
       "        \n",
       "  <svg xmlns=\"http://www.w3.org/2000/svg\" height=\"24px\"viewBox=\"0 0 24 24\"\n",
       "       width=\"24px\">\n",
       "    <path d=\"M0 0h24v24H0V0z\" fill=\"none\"/>\n",
       "    <path d=\"M18.56 5.44l.94 2.06.94-2.06 2.06-.94-2.06-.94-.94-2.06-.94 2.06-2.06.94zm-11 1L8.5 8.5l.94-2.06 2.06-.94-2.06-.94L8.5 2.5l-.94 2.06-2.06.94zm10 10l.94 2.06.94-2.06 2.06-.94-2.06-.94-.94-2.06-.94 2.06-2.06.94z\"/><path d=\"M17.41 7.96l-1.37-1.37c-.4-.4-.92-.59-1.43-.59-.52 0-1.04.2-1.43.59L10.3 9.45l-7.72 7.72c-.78.78-.78 2.05 0 2.83L4 21.41c.39.39.9.59 1.41.59.51 0 1.02-.2 1.41-.59l7.78-7.78 2.81-2.81c.8-.78.8-2.07 0-2.86zM5.41 20L4 18.59l7.72-7.72 1.47 1.35L5.41 20z\"/>\n",
       "  </svg>\n",
       "      </button>\n",
       "      \n",
       "  <style>\n",
       "    .colab-df-container {\n",
       "      display:flex;\n",
       "      flex-wrap:wrap;\n",
       "      gap: 12px;\n",
       "    }\n",
       "\n",
       "    .colab-df-convert {\n",
       "      background-color: #E8F0FE;\n",
       "      border: none;\n",
       "      border-radius: 50%;\n",
       "      cursor: pointer;\n",
       "      display: none;\n",
       "      fill: #1967D2;\n",
       "      height: 32px;\n",
       "      padding: 0 0 0 0;\n",
       "      width: 32px;\n",
       "    }\n",
       "\n",
       "    .colab-df-convert:hover {\n",
       "      background-color: #E2EBFA;\n",
       "      box-shadow: 0px 1px 2px rgba(60, 64, 67, 0.3), 0px 1px 3px 1px rgba(60, 64, 67, 0.15);\n",
       "      fill: #174EA6;\n",
       "    }\n",
       "\n",
       "    [theme=dark] .colab-df-convert {\n",
       "      background-color: #3B4455;\n",
       "      fill: #D2E3FC;\n",
       "    }\n",
       "\n",
       "    [theme=dark] .colab-df-convert:hover {\n",
       "      background-color: #434B5C;\n",
       "      box-shadow: 0px 1px 3px 1px rgba(0, 0, 0, 0.15);\n",
       "      filter: drop-shadow(0px 1px 2px rgba(0, 0, 0, 0.3));\n",
       "      fill: #FFFFFF;\n",
       "    }\n",
       "  </style>\n",
       "\n",
       "      <script>\n",
       "        const buttonEl =\n",
       "          document.querySelector('#df-caa323d3-4c9c-437f-9cda-0838a5a40d5a button.colab-df-convert');\n",
       "        buttonEl.style.display =\n",
       "          google.colab.kernel.accessAllowed ? 'block' : 'none';\n",
       "\n",
       "        async function convertToInteractive(key) {\n",
       "          const element = document.querySelector('#df-caa323d3-4c9c-437f-9cda-0838a5a40d5a');\n",
       "          const dataTable =\n",
       "            await google.colab.kernel.invokeFunction('convertToInteractive',\n",
       "                                                     [key], {});\n",
       "          if (!dataTable) return;\n",
       "\n",
       "          const docLinkHtml = 'Like what you see? Visit the ' +\n",
       "            '<a target=\"_blank\" href=https://colab.research.google.com/notebooks/data_table.ipynb>data table notebook</a>'\n",
       "            + ' to learn more about interactive tables.';\n",
       "          element.innerHTML = '';\n",
       "          dataTable['output_type'] = 'display_data';\n",
       "          await google.colab.output.renderOutput(dataTable, element);\n",
       "          const docLink = document.createElement('div');\n",
       "          docLink.innerHTML = docLinkHtml;\n",
       "          element.appendChild(docLink);\n",
       "        }\n",
       "      </script>\n",
       "    </div>\n",
       "  </div>\n",
       "  "
      ],
      "text/plain": [
       "                              power  weight  nu_cy\n",
       "brand_model_year                                  \n",
       "FIAT UNO Mille EP 1996           58     870      4\n",
       "Hyundai HB20 Sense 2020          80     989      3\n",
       "FIAT Strada 1.4 2016             86    1084      4\n",
       "VolksWagen GOL 1.6 2015         104     961      4\n",
       "Chevrolet Cruze LTZ 1.8 2016    144    1427      4"
      ]
     },
     "execution_count": 94,
     "metadata": {},
     "output_type": "execute_result"
    }
   ],
   "source": [
    "dfex1 = dfcars.drop(columns=[\"Etype\",       # nome\n",
    "                      \"cemm\",       # nome\n",
    "                      \"consumo\",       # nome\n",
    "                      \"cap_vol\"])     # nome\n",
    "dfex1.head()"
   ]
  },
  {
   "cell_type": "code",
   "execution_count": 96,
   "metadata": {
    "colab": {
     "base_uri": "https://localhost:8080/",
     "height": 269
    },
    "executionInfo": {
     "elapsed": 800,
     "status": "ok",
     "timestamp": 1649561234668,
     "user": {
      "displayName": "victoria alejandra herrera",
      "userId": "16346835995419242908"
     },
     "user_tz": 180
    },
    "id": "ZRlvcENWgljW",
    "outputId": "43830e59-8982-4a35-f043-616a2587c782"
   },
   "outputs": [
    {
     "data": {
      "image/png": "[encoded data removed]",
      "text/plain": [
       "<Figure size 576x288 with 2 Axes>"
      ]
     },
     "metadata": {
      "needs_background": "light"
     },
     "output_type": "display_data"
    }
   ],
   "source": [
    "# Calcula a correlação entre os atributos numéricos\n",
    "corr1 = dfex1.corr()\n",
    "# Resultado\n",
    "plt.figure(figsize=(8, 4))\n",
    "sns.heatmap(corr1, cmap='coolwarm', annot=True, fmt=\".2f\", vmin=-1, vmax=1)\n",
    "plt.show()"
   ]
  },
  {
   "cell_type": "code",
   "execution_count": 98,
   "metadata": {
    "colab": {
     "base_uri": "https://localhost:8080/"
    },
    "executionInfo": {
     "elapsed": 223,
     "status": "ok",
     "timestamp": 1649561261125,
     "user": {
      "displayName": "victoria alejandra herrera",
      "userId": "16346835995419242908"
     },
     "user_tz": 180
    },
    "id": "7VbSDvYzgzXG",
    "outputId": "5004dafe-6639-4325-ab55-9aff4a758492"
   },
   "outputs": [
    {
     "name": "stdout",
     "output_type": "stream",
     "text": [
      "           power    weight     nu_cy\n",
      "power   1.000000  0.592254  0.968908\n",
      "weight  0.592254  1.000000  0.445695\n",
      "nu_cy   0.968908  0.445695  1.000000\n"
     ]
    }
   ],
   "source": [
    "print(corr1)"
   ]
  },
  {
   "cell_type": "code",
   "execution_count": 99,
   "metadata": {
    "colab": {
     "base_uri": "https://localhost:8080/"
    },
    "executionInfo": {
     "elapsed": 244,
     "status": "ok",
     "timestamp": 1649561277841,
     "user": {
      "displayName": "victoria alejandra herrera",
      "userId": "16346835995419242908"
     },
     "user_tz": 180
    },
    "id": "fCSp1BOxgzrx",
    "outputId": "9e2772ee-c8a1-49b2-d158-f4a5a06b983d"
   },
   "outputs": [
    {
     "name": "stdout",
     "output_type": "stream",
     "text": [
      "           power    weight     nu_cy\n",
      "power   1.000000  0.350764  0.938783\n",
      "weight  0.350764  1.000000  0.198644\n",
      "nu_cy   0.938783  0.198644  1.000000\n"
     ]
    }
   ],
   "source": [
    "#Klein’s rule of thumb \n",
    "mc21 = corr1**2 \n",
    "print(mc21)"
   ]
  },
  {
   "cell_type": "code",
   "execution_count": 101,
   "metadata": {
    "colab": {
     "base_uri": "https://localhost:8080/",
     "height": 287
    },
    "executionInfo": {
     "elapsed": 909,
     "status": "ok",
     "timestamp": 1649561296023,
     "user": {
      "displayName": "victoria alejandra herrera",
      "userId": "16346835995419242908"
     },
     "user_tz": 180
    },
    "id": "goH928hxg8kL",
    "outputId": "e0f3f7c8-e668-418f-ca1f-3bb3af769953"
   },
   "outputs": [
    {
     "data": {
      "text/plain": [
       "<matplotlib.axes._subplots.AxesSubplot at 0x7f1abe672890>"
      ]
     },
     "execution_count": 101,
     "metadata": {},
     "output_type": "execute_result"
    },
    {
     "data": {
      "image/png": "[encoded data removed]",
      "text/plain": [
       "<Figure size 432x288 with 2 Axes>"
      ]
     },
     "metadata": {
      "needs_background": "light"
     },
     "output_type": "display_data"
    }
   ],
   "source": [
    "sns.heatmap(mc21, cmap='coolwarm', annot=True, fmt=\".2f\", vmin=-1, vmax=1)"
   ]
  },
  {
   "cell_type": "code",
   "execution_count": 103,
   "metadata": {
    "colab": {
     "base_uri": "https://localhost:8080/"
    },
    "executionInfo": {
     "elapsed": 236,
     "status": "ok",
     "timestamp": 1649561317531,
     "user": {
      "displayName": "victoria alejandra herrera",
      "userId": "16346835995419242908"
     },
     "user_tz": 180
    },
    "id": "w-CwrJo_hBOs",
    "outputId": "e81ea6dd-284a-47b8-bd79-04608e87c32c"
   },
   "outputs": [
    {
     "name": "stdout",
     "output_type": "stream",
     "text": [
      "[[11.03881217 -1.88795771 -9.98801898]\n",
      " [-1.88795771  1.36397622  1.5014368 ]\n",
      " [-9.98801898  1.5014368  10.07833219]]\n"
     ]
    }
   ],
   "source": [
    "#VIF criterion \n",
    "vif1 = np.linalg.inv(mc21) \n",
    "print(vif1)"
   ]
  },
  {
   "cell_type": "code",
   "execution_count": 105,
   "metadata": {
    "colab": {
     "base_uri": "https://localhost:8080/",
     "height": 287
    },
    "executionInfo": {
     "elapsed": 744,
     "status": "ok",
     "timestamp": 1649561336937,
     "user": {
      "displayName": "victoria alejandra herrera",
      "userId": "16346835995419242908"
     },
     "user_tz": 180
    },
    "id": "PhrLFsMHhF5f",
    "outputId": "41cfd7c7-2af2-4c91-ba67-dd7c37e881c2",
    "scrolled": true
   },
   "outputs": [
    {
     "data": {
      "text/plain": [
       "<matplotlib.axes._subplots.AxesSubplot at 0x7f1abe4cb350>"
      ]
     },
     "execution_count": 105,
     "metadata": {},
     "output_type": "execute_result"
    },
    {
     "data": {
      "image/png": "[encoded data removed]",
      "text/plain": [
       "<Figure size 432x288 with 2 Axes>"
      ]
     },
     "metadata": {
      "needs_background": "light"
     },
     "output_type": "display_data"
    }
   ],
   "source": [
    "sns.heatmap(vif1, cmap='coolwarm', annot=True, fmt=\".2f\", vmin=-4, vmax=4)"
   ]
  },
  {
   "cell_type": "markdown",
   "metadata": {
    "heading_collapsed": true,
    "id": "iI8LNacDkEEh"
   },
   "source": [
    "### Transformação de variáveis\n",
    "\n"
   ]
  },
  {
   "cell_type": "code",
   "execution_count": 2,
   "metadata": {
    "colab": {
     "base_uri": "https://localhost:8080/"
    },
    "executionInfo": {
     "elapsed": 2879,
     "status": "ok",
     "timestamp": 1649562363565,
     "user": {
      "displayName": "victoria alejandra herrera",
      "userId": "16346835995419242908"
     },
     "user_tz": 180
    },
    "hidden": true,
    "id": "Ax98aziZcnIJ",
    "outputId": "b12b9cb8-2ce2-405b-f2a1-c5fb61be24ff"
   },
   "outputs": [
    {
     "name": "stderr",
     "output_type": "stream",
     "text": [
      "/usr/local/lib/python3.7/dist-packages/statsmodels/tools/_testing.py:19: FutureWarning: pandas.util.testing is deprecated. Use the functions in the public API at pandas.testing instead.\n",
      "  import pandas.util.testing as tm\n"
     ]
    }
   ],
   "source": [
    "#@title Bibliotecas\n",
    "import numpy as np\n",
    "import pandas as pd\n",
    "import matplotlib.pyplot as plt\n",
    "import statsmodels.api as sm\n",
    "from statsmodels.formula.api import ols\n",
    "import statsmodels.formula.api as smf #adicionada na semana 6\n",
    "import seaborn as sns\n",
    "import scipy.stats as stats #adicionada na semana 6\n",
    "from scipy.stats import f #adicionada na semana 6\n",
    "from statsmodels.graphics.gofplots import ProbPlot"
   ]
  },
  {
   "cell_type": "code",
   "execution_count": 3,
   "metadata": {
    "colab": {
     "base_uri": "https://localhost:8080/",
     "height": 143
    },
    "executionInfo": {
     "elapsed": 19,
     "status": "ok",
     "timestamp": 1649553328791,
     "user": {
      "displayName": "victoria alejandra herrera",
      "userId": "16346835995419242908"
     },
     "user_tz": 180
    },
    "hidden": true,
    "id": "xs6m5-VzmNCP",
    "outputId": "bab890cf-5405-4372-8c68-42c1ff74acb2"
   },
   "outputs": [
    {
     "data": {
      "text/html": [
       "\n",
       "  <div id=\"df-6da6ecc9-3281-4165-8998-6c358f2dfe51\">\n",
       "    <div class=\"colab-df-container\">\n",
       "      <div>\n",
       "<style scoped>\n",
       "    .dataframe tbody tr th:only-of-type {\n",
       "        vertical-align: middle;\n",
       "    }\n",
       "\n",
       "    .dataframe tbody tr th {\n",
       "        vertical-align: top;\n",
       "    }\n",
       "\n",
       "    .dataframe thead th {\n",
       "        text-align: right;\n",
       "    }\n",
       "</style>\n",
       "<table border=\"1\" class=\"dataframe\">\n",
       "  <thead>\n",
       "    <tr style=\"text-align: right;\">\n",
       "      <th></th>\n",
       "      <th>x1</th>\n",
       "      <th>x2</th>\n",
       "      <th>x3</th>\n",
       "      <th>y</th>\n",
       "    </tr>\n",
       "  </thead>\n",
       "  <tbody>\n",
       "    <tr>\n",
       "      <th>0</th>\n",
       "      <td>0.93</td>\n",
       "      <td>1.0</td>\n",
       "      <td>0.2</td>\n",
       "      <td>32.95</td>\n",
       "    </tr>\n",
       "    <tr>\n",
       "      <th>1</th>\n",
       "      <td>1.11</td>\n",
       "      <td>1.0</td>\n",
       "      <td>0.2</td>\n",
       "      <td>38.72</td>\n",
       "    </tr>\n",
       "    <tr>\n",
       "      <th>2</th>\n",
       "      <td>0.93</td>\n",
       "      <td>1.0</td>\n",
       "      <td>0.5</td>\n",
       "      <td>35.20</td>\n",
       "    </tr>\n",
       "  </tbody>\n",
       "</table>\n",
       "</div>\n",
       "      <button class=\"colab-df-convert\" onclick=\"convertToInteractive('df-6da6ecc9-3281-4165-8998-6c358f2dfe51')\"\n",
       "              title=\"Convert this dataframe to an interactive table.\"\n",
       "              style=\"display:none;\">\n",
       "        \n",
       "  <svg xmlns=\"http://www.w3.org/2000/svg\" height=\"24px\"viewBox=\"0 0 24 24\"\n",
       "       width=\"24px\">\n",
       "    <path d=\"M0 0h24v24H0V0z\" fill=\"none\"/>\n",
       "    <path d=\"M18.56 5.44l.94 2.06.94-2.06 2.06-.94-2.06-.94-.94-2.06-.94 2.06-2.06.94zm-11 1L8.5 8.5l.94-2.06 2.06-.94-2.06-.94L8.5 2.5l-.94 2.06-2.06.94zm10 10l.94 2.06.94-2.06 2.06-.94-2.06-.94-.94-2.06-.94 2.06-2.06.94z\"/><path d=\"M17.41 7.96l-1.37-1.37c-.4-.4-.92-.59-1.43-.59-.52 0-1.04.2-1.43.59L10.3 9.45l-7.72 7.72c-.78.78-.78 2.05 0 2.83L4 21.41c.39.39.9.59 1.41.59.51 0 1.02-.2 1.41-.59l7.78-7.78 2.81-2.81c.8-.78.8-2.07 0-2.86zM5.41 20L4 18.59l7.72-7.72 1.47 1.35L5.41 20z\"/>\n",
       "  </svg>\n",
       "      </button>\n",
       "      \n",
       "  <style>\n",
       "    .colab-df-container {\n",
       "      display:flex;\n",
       "      flex-wrap:wrap;\n",
       "      gap: 12px;\n",
       "    }\n",
       "\n",
       "    .colab-df-convert {\n",
       "      background-color: #E8F0FE;\n",
       "      border: none;\n",
       "      border-radius: 50%;\n",
       "      cursor: pointer;\n",
       "      display: none;\n",
       "      fill: #1967D2;\n",
       "      height: 32px;\n",
       "      padding: 0 0 0 0;\n",
       "      width: 32px;\n",
       "    }\n",
       "\n",
       "    .colab-df-convert:hover {\n",
       "      background-color: #E2EBFA;\n",
       "      box-shadow: 0px 1px 2px rgba(60, 64, 67, 0.3), 0px 1px 3px 1px rgba(60, 64, 67, 0.15);\n",
       "      fill: #174EA6;\n",
       "    }\n",
       "\n",
       "    [theme=dark] .colab-df-convert {\n",
       "      background-color: #3B4455;\n",
       "      fill: #D2E3FC;\n",
       "    }\n",
       "\n",
       "    [theme=dark] .colab-df-convert:hover {\n",
       "      background-color: #434B5C;\n",
       "      box-shadow: 0px 1px 3px 1px rgba(0, 0, 0, 0.15);\n",
       "      filter: drop-shadow(0px 1px 2px rgba(0, 0, 0, 0.3));\n",
       "      fill: #FFFFFF;\n",
       "    }\n",
       "  </style>\n",
       "\n",
       "      <script>\n",
       "        const buttonEl =\n",
       "          document.querySelector('#df-6da6ecc9-3281-4165-8998-6c358f2dfe51 button.colab-df-convert');\n",
       "        buttonEl.style.display =\n",
       "          google.colab.kernel.accessAllowed ? 'block' : 'none';\n",
       "\n",
       "        async function convertToInteractive(key) {\n",
       "          const element = document.querySelector('#df-6da6ecc9-3281-4165-8998-6c358f2dfe51');\n",
       "          const dataTable =\n",
       "            await google.colab.kernel.invokeFunction('convertToInteractive',\n",
       "                                                     [key], {});\n",
       "          if (!dataTable) return;\n",
       "\n",
       "          const docLinkHtml = 'Like what you see? Visit the ' +\n",
       "            '<a target=\"_blank\" href=https://colab.research.google.com/notebooks/data_table.ipynb>data table notebook</a>'\n",
       "            + ' to learn more about interactive tables.';\n",
       "          element.innerHTML = '';\n",
       "          dataTable['output_type'] = 'display_data';\n",
       "          await google.colab.output.renderOutput(dataTable, element);\n",
       "          const docLink = document.createElement('div');\n",
       "          docLink.innerHTML = docLinkHtml;\n",
       "          element.appendChild(docLink);\n",
       "        }\n",
       "      </script>\n",
       "    </div>\n",
       "  </div>\n",
       "  "
      ],
      "text/plain": [
       "     x1   x2   x3      y\n",
       "0  0.93  1.0  0.2  32.95\n",
       "1  1.11  1.0  0.2  38.72\n",
       "2  0.93  1.0  0.5  35.20"
      ]
     },
     "execution_count": 3,
     "metadata": {},
     "output_type": "execute_result"
    }
   ],
   "source": [
    "#@title Conjunto de dados original\n",
    "dx1 = (0.93, 1.11, 0.93, 1.11, 0.93, 1.11, 0.93, 1.11,\n",
    "       1.02, 1.02, 1.02, 1.02)\n",
    "dx2 = (1.00, 1.00, 1.00, 1.00, 1.40, 1.40, 1.40, 1.40, \n",
    "       1.18, 1.18, 1.18, 1.18)\n",
    "dx3= (0.20, 0.20, 0.50, 0.50, 0.20, 0.20, 0.50, 0.50,\n",
    "      0.31, 0.31, 0.31, 0.31)\n",
    "dy= (32.95, 38.72, 35.20, 38.72, 32.27, 39.71, 33.67, \n",
    "     38.72, 35.20, 33.67, 36.02, 32.27)\n",
    "# Construir o DataFrame e nomear as colunas\n",
    "dfo = pd.DataFrame(list(zip(dx1, dx2, dx3, dy)),\n",
    "               columns =[\"x1\",\"x2\",\"x3\",\"y\"])\n",
    "dfo.head(3)"
   ]
  },
  {
   "cell_type": "code",
   "execution_count": 4,
   "metadata": {
    "colab": {
     "base_uri": "https://localhost:8080/",
     "height": 175
    },
    "executionInfo": {
     "elapsed": 18,
     "status": "ok",
     "timestamp": 1649553328791,
     "user": {
      "displayName": "victoria alejandra herrera",
      "userId": "16346835995419242908"
     },
     "user_tz": 180
    },
    "hidden": true,
    "id": "sptjNavYrQWf",
    "outputId": "4e5e94db-baf8-459b-838f-216102c9e381"
   },
   "outputs": [
    {
     "data": {
      "text/html": [
       "\n",
       "  <div id=\"df-bcc9af23-95fc-4b36-92d8-d748e0fd8e87\">\n",
       "    <div class=\"colab-df-container\">\n",
       "      <div>\n",
       "<style scoped>\n",
       "    .dataframe tbody tr th:only-of-type {\n",
       "        vertical-align: middle;\n",
       "    }\n",
       "\n",
       "    .dataframe tbody tr th {\n",
       "        vertical-align: top;\n",
       "    }\n",
       "\n",
       "    .dataframe thead th {\n",
       "        text-align: right;\n",
       "    }\n",
       "</style>\n",
       "<table border=\"1\" class=\"dataframe\">\n",
       "  <thead>\n",
       "    <tr style=\"text-align: right;\">\n",
       "      <th></th>\n",
       "      <th>lnx1</th>\n",
       "      <th>lnx2</th>\n",
       "      <th>lnx3</th>\n",
       "      <th>lny</th>\n",
       "    </tr>\n",
       "  </thead>\n",
       "  <tbody>\n",
       "    <tr>\n",
       "      <th>0</th>\n",
       "      <td>-0.072571</td>\n",
       "      <td>0.0</td>\n",
       "      <td>-1.609438</td>\n",
       "      <td>3.494991</td>\n",
       "    </tr>\n",
       "    <tr>\n",
       "      <th>1</th>\n",
       "      <td>0.104360</td>\n",
       "      <td>0.0</td>\n",
       "      <td>-1.609438</td>\n",
       "      <td>3.656356</td>\n",
       "    </tr>\n",
       "    <tr>\n",
       "      <th>2</th>\n",
       "      <td>-0.072571</td>\n",
       "      <td>0.0</td>\n",
       "      <td>-0.693147</td>\n",
       "      <td>3.561046</td>\n",
       "    </tr>\n",
       "    <tr>\n",
       "      <th>3</th>\n",
       "      <td>0.104360</td>\n",
       "      <td>0.0</td>\n",
       "      <td>-0.693147</td>\n",
       "      <td>3.656356</td>\n",
       "    </tr>\n",
       "  </tbody>\n",
       "</table>\n",
       "</div>\n",
       "      <button class=\"colab-df-convert\" onclick=\"convertToInteractive('df-bcc9af23-95fc-4b36-92d8-d748e0fd8e87')\"\n",
       "              title=\"Convert this dataframe to an interactive table.\"\n",
       "              style=\"display:none;\">\n",
       "        \n",
       "  <svg xmlns=\"http://www.w3.org/2000/svg\" height=\"24px\"viewBox=\"0 0 24 24\"\n",
       "       width=\"24px\">\n",
       "    <path d=\"M0 0h24v24H0V0z\" fill=\"none\"/>\n",
       "    <path d=\"M18.56 5.44l.94 2.06.94-2.06 2.06-.94-2.06-.94-.94-2.06-.94 2.06-2.06.94zm-11 1L8.5 8.5l.94-2.06 2.06-.94-2.06-.94L8.5 2.5l-.94 2.06-2.06.94zm10 10l.94 2.06.94-2.06 2.06-.94-2.06-.94-.94-2.06-.94 2.06-2.06.94z\"/><path d=\"M17.41 7.96l-1.37-1.37c-.4-.4-.92-.59-1.43-.59-.52 0-1.04.2-1.43.59L10.3 9.45l-7.72 7.72c-.78.78-.78 2.05 0 2.83L4 21.41c.39.39.9.59 1.41.59.51 0 1.02-.2 1.41-.59l7.78-7.78 2.81-2.81c.8-.78.8-2.07 0-2.86zM5.41 20L4 18.59l7.72-7.72 1.47 1.35L5.41 20z\"/>\n",
       "  </svg>\n",
       "      </button>\n",
       "      \n",
       "  <style>\n",
       "    .colab-df-container {\n",
       "      display:flex;\n",
       "      flex-wrap:wrap;\n",
       "      gap: 12px;\n",
       "    }\n",
       "\n",
       "    .colab-df-convert {\n",
       "      background-color: #E8F0FE;\n",
       "      border: none;\n",
       "      border-radius: 50%;\n",
       "      cursor: pointer;\n",
       "      display: none;\n",
       "      fill: #1967D2;\n",
       "      height: 32px;\n",
       "      padding: 0 0 0 0;\n",
       "      width: 32px;\n",
       "    }\n",
       "\n",
       "    .colab-df-convert:hover {\n",
       "      background-color: #E2EBFA;\n",
       "      box-shadow: 0px 1px 2px rgba(60, 64, 67, 0.3), 0px 1px 3px 1px rgba(60, 64, 67, 0.15);\n",
       "      fill: #174EA6;\n",
       "    }\n",
       "\n",
       "    [theme=dark] .colab-df-convert {\n",
       "      background-color: #3B4455;\n",
       "      fill: #D2E3FC;\n",
       "    }\n",
       "\n",
       "    [theme=dark] .colab-df-convert:hover {\n",
       "      background-color: #434B5C;\n",
       "      box-shadow: 0px 1px 3px 1px rgba(0, 0, 0, 0.15);\n",
       "      filter: drop-shadow(0px 1px 2px rgba(0, 0, 0, 0.3));\n",
       "      fill: #FFFFFF;\n",
       "    }\n",
       "  </style>\n",
       "\n",
       "      <script>\n",
       "        const buttonEl =\n",
       "          document.querySelector('#df-bcc9af23-95fc-4b36-92d8-d748e0fd8e87 button.colab-df-convert');\n",
       "        buttonEl.style.display =\n",
       "          google.colab.kernel.accessAllowed ? 'block' : 'none';\n",
       "\n",
       "        async function convertToInteractive(key) {\n",
       "          const element = document.querySelector('#df-bcc9af23-95fc-4b36-92d8-d748e0fd8e87');\n",
       "          const dataTable =\n",
       "            await google.colab.kernel.invokeFunction('convertToInteractive',\n",
       "                                                     [key], {});\n",
       "          if (!dataTable) return;\n",
       "\n",
       "          const docLinkHtml = 'Like what you see? Visit the ' +\n",
       "            '<a target=\"_blank\" href=https://colab.research.google.com/notebooks/data_table.ipynb>data table notebook</a>'\n",
       "            + ' to learn more about interactive tables.';\n",
       "          element.innerHTML = '';\n",
       "          dataTable['output_type'] = 'display_data';\n",
       "          await google.colab.output.renderOutput(dataTable, element);\n",
       "          const docLink = document.createElement('div');\n",
       "          docLink.innerHTML = docLinkHtml;\n",
       "          element.appendChild(docLink);\n",
       "        }\n",
       "      </script>\n",
       "    </div>\n",
       "  </div>\n",
       "  "
      ],
      "text/plain": [
       "       lnx1  lnx2      lnx3       lny\n",
       "0 -0.072571   0.0 -1.609438  3.494991\n",
       "1  0.104360   0.0 -1.609438  3.656356\n",
       "2 -0.072571   0.0 -0.693147  3.561046\n",
       "3  0.104360   0.0 -0.693147  3.656356"
      ]
     },
     "execution_count": 4,
     "metadata": {},
     "output_type": "execute_result"
    }
   ],
   "source": [
    "#@title Conjunto de dados transformado \n",
    "lnx1 = np.log(dx1)\n",
    "lnx2 = np.log(dx2)\n",
    "lnx3= np.log(dx3)\n",
    "lny= np.log(dy)\n",
    "# Construir o DataFrame e nomear as colunas\n",
    "dft = pd.DataFrame(list(zip(lnx1, lnx2, lnx3, lny)),\n",
    "               columns =[\"lnx1\",\"lnx2\",\"lnx3\",\"lny\"])\n",
    "dft.head(4)"
   ]
  },
  {
   "cell_type": "code",
   "execution_count": 5,
   "metadata": {
    "executionInfo": {
     "elapsed": 17,
     "status": "ok",
     "timestamp": 1649553328791,
     "user": {
      "displayName": "victoria alejandra herrera",
      "userId": "16346835995419242908"
     },
     "user_tz": 180
    },
    "hidden": true,
    "id": "qVlwbqr4pqkg"
   },
   "outputs": [],
   "source": [
    "#@title Regressão modelo de múltiplas variáveis\n",
    "#regressão com a fórmula import statsmodels.formula.api as smf \n",
    "regmul = smf.ols('lny ~ lnx1 + lnx2 + lnx3', data = dft) \n",
    "#Realizar o processo de modelagem\n",
    "res = regmul.fit()"
   ]
  },
  {
   "cell_type": "code",
   "execution_count": 6,
   "metadata": {
    "colab": {
     "base_uri": "https://localhost:8080/"
    },
    "executionInfo": {
     "elapsed": 18,
     "status": "ok",
     "timestamp": 1649553328792,
     "user": {
      "displayName": "victoria alejandra herrera",
      "userId": "16346835995419242908"
     },
     "user_tz": 180
    },
    "hidden": true,
    "id": "FysJyYPbq0Fz",
    "outputId": "557cc21c-4e14-4c4e-fe02-57ed20686f5d"
   },
   "outputs": [
    {
     "name": "stdout",
     "output_type": "stream",
     "text": [
      "                            OLS Regression Results                            \n",
      "==============================================================================\n",
      "Dep. Variable:                    lny   R-squared:                       0.706\n",
      "Model:                            OLS   Adj. R-squared:                  0.595\n",
      "Method:                 Least Squares   F-statistic:                     6.398\n",
      "Date:                Sun, 10 Apr 2022   Prob (F-statistic):             0.0161\n",
      "Time:                        01:15:28   Log-Likelihood:                 21.634\n",
      "No. Observations:                  12   AIC:                            -35.27\n",
      "Df Residuals:                       8   BIC:                            -33.33\n",
      "Df Model:                           3                                         \n",
      "Covariance Type:            nonrobust                                         \n",
      "==============================================================================\n",
      "                 coef    std err          t      P>|t|      [0.025      0.975]\n",
      "------------------------------------------------------------------------------\n",
      "Intercept      3.5880      0.049     73.095      0.000       3.475       3.701\n",
      "lnx1           0.8439      0.195      4.324      0.003       0.394       1.294\n",
      "lnx2          -0.0280      0.103     -0.272      0.792      -0.265       0.209\n",
      "lnx3           0.0245      0.038      0.650      0.534      -0.062       0.111\n",
      "==============================================================================\n",
      "Omnibus:                        5.521   Durbin-Watson:                   1.461\n",
      "Prob(Omnibus):                  0.063   Jarque-Bera (JB):                2.358\n",
      "Skew:                          -1.016   Prob(JB):                        0.308\n",
      "Kurtosis:                       3.764   Cond. No.                         21.7\n",
      "==============================================================================\n",
      "\n",
      "Warnings:\n",
      "[1] Standard Errors assume that the covariance matrix of the errors is correctly specified.\n"
     ]
    },
    {
     "name": "stderr",
     "output_type": "stream",
     "text": [
      "/usr/local/lib/python3.7/dist-packages/scipy/stats/stats.py:1535: UserWarning: kurtosistest only valid for n>=20 ... continuing anyway, n=12\n",
      "  \"anyway, n=%i\" % int(n))\n"
     ]
    }
   ],
   "source": [
    "#Resultado detalhado\n",
    "print(res.summary())"
   ]
  },
  {
   "cell_type": "code",
   "execution_count": 7,
   "metadata": {
    "colab": {
     "base_uri": "https://localhost:8080/"
    },
    "executionInfo": {
     "elapsed": 16,
     "status": "ok",
     "timestamp": 1649553328792,
     "user": {
      "displayName": "victoria alejandra herrera",
      "userId": "16346835995419242908"
     },
     "user_tz": 180
    },
    "hidden": true,
    "id": "k0TX4FCfxT-0",
    "outputId": "21ab4124-68b4-4622-ef5b-76588a353c8a"
   },
   "outputs": [
    {
     "name": "stdout",
     "output_type": "stream",
     "text": [
      "F_crit= 4.06618055135116\n"
     ]
    }
   ],
   "source": [
    "#@title Cálculo do Fcrit (tabela)\n",
    "import scipy.stats\n",
    "F=res.fvalue\n",
    "k=res.df_model # grau do modelo\n",
    "n=res.nobs # num. amostras\n",
    "dfn=k\n",
    "dfd=n-(k+1)\n",
    "alpha = 0.05 #nível de confiança.\n",
    "F_critico=scipy.stats.f.ppf(1-alpha, dfn, dfd)\n",
    "print(\"F_crit=\",F_critico) #tabela F-dist"
   ]
  },
  {
   "cell_type": "code",
   "execution_count": 8,
   "metadata": {
    "colab": {
     "base_uri": "https://localhost:8080/"
    },
    "executionInfo": {
     "elapsed": 14,
     "status": "ok",
     "timestamp": 1649553328792,
     "user": {
      "displayName": "victoria alejandra herrera",
      "userId": "16346835995419242908"
     },
     "user_tz": 180
    },
    "hidden": true,
    "id": "MsWhht8_vxCI",
    "outputId": "1f1fce9d-7594-4a80-e4f1-3e0182712d15"
   },
   "outputs": [
    {
     "name": "stdout",
     "output_type": "stream",
     "text": [
      "Intercept    3.587969\n",
      "lnx1         0.843947\n",
      "lnx2        -0.027956\n",
      "lnx3         0.024493\n",
      "dtype: float64\n",
      "0.7058127104375433\n",
      "6.397853661974272\n",
      "6.397853661974272\n"
     ]
    }
   ],
   "source": [
    "#@title Alguns comandos importantes\n",
    "#parâmetros estimados\n",
    "print(res.params) \n",
    "#R2\n",
    "print(res.rsquared) \n",
    "#calculando F-statistic \n",
    "F = res.mse_model/res.mse_resid \n",
    "print(F) \n",
    "#F provided by the res object \n",
    "print(res.fvalue)"
   ]
  },
  {
   "cell_type": "code",
   "execution_count": 9,
   "metadata": {
    "colab": {
     "base_uri": "https://localhost:8080/"
    },
    "executionInfo": {
     "elapsed": 13,
     "status": "ok",
     "timestamp": 1649553328792,
     "user": {
      "displayName": "victoria alejandra herrera",
      "userId": "16346835995419242908"
     },
     "user_tz": 180
    },
    "hidden": true,
    "id": "e2it0FoIabLb",
    "outputId": "be7b18cf-1246-4c90-8829-97b59d9762f9"
   },
   "outputs": [
    {
     "name": "stdout",
     "output_type": "stream",
     "text": [
      "                            OLS Regression Results                            \n",
      "==============================================================================\n",
      "Dep. Variable:                    lny   R-squared:                       0.688\n",
      "Model:                            OLS   Adj. R-squared:                  0.656\n",
      "Method:                 Least Squares   F-statistic:                     22.01\n",
      "Date:                Sun, 10 Apr 2022   Prob (F-statistic):           0.000853\n",
      "Time:                        01:15:28   Log-Likelihood:                 21.273\n",
      "No. Observations:                  12   AIC:                            -38.55\n",
      "Df Residuals:                      10   BIC:                            -37.58\n",
      "Df Model:                           1                                         \n",
      "Covariance Type:            nonrobust                                         \n",
      "==============================================================================\n",
      "                 coef    std err          t      P>|t|      [0.025      0.975]\n",
      "------------------------------------------------------------------------------\n",
      "Intercept      3.5549      0.013    266.062      0.000       3.525       3.585\n",
      "lnx1           0.8439      0.180      4.691      0.001       0.443       1.245\n",
      "==============================================================================\n",
      "Omnibus:                        4.249   Durbin-Watson:                   1.478\n",
      "Prob(Omnibus):                  0.120   Jarque-Bera (JB):                1.658\n",
      "Skew:                          -0.862   Prob(JB):                        0.436\n",
      "Kurtosis:                       3.588   Cond. No.                         13.8\n",
      "==============================================================================\n",
      "\n",
      "Warnings:\n",
      "[1] Standard Errors assume that the covariance matrix of the errors is correctly specified.\n"
     ]
    },
    {
     "name": "stderr",
     "output_type": "stream",
     "text": [
      "/usr/local/lib/python3.7/dist-packages/scipy/stats/stats.py:1535: UserWarning: kurtosistest only valid for n>=20 ... continuing anyway, n=12\n",
      "  \"anyway, n=%i\" % int(n))\n"
     ]
    }
   ],
   "source": [
    "#@title Regressão linear simples após aceitar hipótese nula para b2 e b3\n",
    "#Apenas para verificar refazer a regresão com uma úica variável\n",
    "#Devido a que os preditores b2 e b3 foram cancelados\n",
    "#regressão com a fórmula import statsmodels.formula.api as smf \n",
    "regmulin = smf.ols('lny ~ lnx1', data = dft) \n",
    "#Realizar o processo de modelagem\n",
    "reslin = regmulin.fit()\n",
    "#Resultado detalhado\n",
    "print(reslin.summary())"
   ]
  },
  {
   "cell_type": "code",
   "execution_count": 10,
   "metadata": {
    "executionInfo": {
     "elapsed": 13,
     "status": "ok",
     "timestamp": 1649553328793,
     "user": {
      "displayName": "victoria alejandra herrera",
      "userId": "16346835995419242908"
     },
     "user_tz": 180
    },
    "hidden": true,
    "id": "KH1rq6lMwjzT"
   },
   "outputs": [],
   "source": [
    "#@title Gráficos dispersão e resíduos\n",
    "#Valores previstos e residuos\n",
    "y_pred=list(reslin.predict())\n",
    "resi=reslin.resid\n",
    "#crear instancia influence\n",
    "influence = reslin.get_influence()\n",
    "#obter residuos standardizados\n",
    "stdresid = list(influence.resid_studentized_internal)\n",
    "prop=np.divide(resi,stdresid) #e/e*"
   ]
  },
  {
   "cell_type": "code",
   "execution_count": 11,
   "metadata": {
    "colab": {
     "base_uri": "https://localhost:8080/",
     "height": 426
    },
    "executionInfo": {
     "elapsed": 13,
     "status": "ok",
     "timestamp": 1649553328793,
     "user": {
      "displayName": "victoria alejandra herrera",
      "userId": "16346835995419242908"
     },
     "user_tz": 180
    },
    "hidden": true,
    "id": "l_eaBfq_bw4J",
    "outputId": "3a5428ad-9812-47a5-a5fc-eba651fe87ea"
   },
   "outputs": [
    {
     "data": {
      "text/html": [
       "\n",
       "  <div id=\"df-33ddbd30-a5c2-477d-b2fe-3d546677a8d6\">\n",
       "    <div class=\"colab-df-container\">\n",
       "      <div>\n",
       "<style scoped>\n",
       "    .dataframe tbody tr th:only-of-type {\n",
       "        vertical-align: middle;\n",
       "    }\n",
       "\n",
       "    .dataframe tbody tr th {\n",
       "        vertical-align: top;\n",
       "    }\n",
       "\n",
       "    .dataframe thead th {\n",
       "        text-align: right;\n",
       "    }\n",
       "</style>\n",
       "<table border=\"1\" class=\"dataframe\">\n",
       "  <thead>\n",
       "    <tr style=\"text-align: right;\">\n",
       "      <th></th>\n",
       "      <th>lnx1</th>\n",
       "      <th>lny</th>\n",
       "      <th>lnyc</th>\n",
       "      <th>e</th>\n",
       "      <th>e*</th>\n",
       "      <th>e/e*</th>\n",
       "    </tr>\n",
       "  </thead>\n",
       "  <tbody>\n",
       "    <tr>\n",
       "      <th>0</th>\n",
       "      <td>-0.072571</td>\n",
       "      <td>3.494991</td>\n",
       "      <td>3.493690</td>\n",
       "      <td>0.001301</td>\n",
       "      <td>0.032553</td>\n",
       "      <td>0.039971</td>\n",
       "    </tr>\n",
       "    <tr>\n",
       "      <th>1</th>\n",
       "      <td>0.104360</td>\n",
       "      <td>3.656356</td>\n",
       "      <td>3.642998</td>\n",
       "      <td>0.013358</td>\n",
       "      <td>0.332646</td>\n",
       "      <td>0.040157</td>\n",
       "    </tr>\n",
       "    <tr>\n",
       "      <th>2</th>\n",
       "      <td>-0.072571</td>\n",
       "      <td>3.561046</td>\n",
       "      <td>3.493690</td>\n",
       "      <td>0.067356</td>\n",
       "      <td>1.685111</td>\n",
       "      <td>0.039971</td>\n",
       "    </tr>\n",
       "    <tr>\n",
       "      <th>3</th>\n",
       "      <td>0.104360</td>\n",
       "      <td>3.656356</td>\n",
       "      <td>3.642998</td>\n",
       "      <td>0.013358</td>\n",
       "      <td>0.332646</td>\n",
       "      <td>0.040157</td>\n",
       "    </tr>\n",
       "    <tr>\n",
       "      <th>4</th>\n",
       "      <td>-0.072571</td>\n",
       "      <td>3.474138</td>\n",
       "      <td>3.493690</td>\n",
       "      <td>-0.019552</td>\n",
       "      <td>-0.489153</td>\n",
       "      <td>0.039971</td>\n",
       "    </tr>\n",
       "    <tr>\n",
       "      <th>5</th>\n",
       "      <td>0.104360</td>\n",
       "      <td>3.681603</td>\n",
       "      <td>3.642998</td>\n",
       "      <td>0.038605</td>\n",
       "      <td>0.961341</td>\n",
       "      <td>0.040157</td>\n",
       "    </tr>\n",
       "    <tr>\n",
       "      <th>6</th>\n",
       "      <td>-0.072571</td>\n",
       "      <td>3.516607</td>\n",
       "      <td>3.493690</td>\n",
       "      <td>0.022917</td>\n",
       "      <td>0.573341</td>\n",
       "      <td>0.039971</td>\n",
       "    </tr>\n",
       "    <tr>\n",
       "      <th>7</th>\n",
       "      <td>0.104360</td>\n",
       "      <td>3.656356</td>\n",
       "      <td>3.642998</td>\n",
       "      <td>0.013358</td>\n",
       "      <td>0.332646</td>\n",
       "      <td>0.040157</td>\n",
       "    </tr>\n",
       "    <tr>\n",
       "      <th>8</th>\n",
       "      <td>0.019803</td>\n",
       "      <td>3.561046</td>\n",
       "      <td>3.571642</td>\n",
       "      <td>-0.010596</td>\n",
       "      <td>-0.245800</td>\n",
       "      <td>0.043108</td>\n",
       "    </tr>\n",
       "    <tr>\n",
       "      <th>9</th>\n",
       "      <td>0.019803</td>\n",
       "      <td>3.516607</td>\n",
       "      <td>3.571642</td>\n",
       "      <td>-0.055035</td>\n",
       "      <td>-1.276683</td>\n",
       "      <td>0.043108</td>\n",
       "    </tr>\n",
       "    <tr>\n",
       "      <th>10</th>\n",
       "      <td>0.019803</td>\n",
       "      <td>3.584074</td>\n",
       "      <td>3.571642</td>\n",
       "      <td>0.012432</td>\n",
       "      <td>0.288405</td>\n",
       "      <td>0.043108</td>\n",
       "    </tr>\n",
       "    <tr>\n",
       "      <th>11</th>\n",
       "      <td>0.019803</td>\n",
       "      <td>3.474138</td>\n",
       "      <td>3.571642</td>\n",
       "      <td>-0.097504</td>\n",
       "      <td>-2.261875</td>\n",
       "      <td>0.043108</td>\n",
       "    </tr>\n",
       "  </tbody>\n",
       "</table>\n",
       "</div>\n",
       "      <button class=\"colab-df-convert\" onclick=\"convertToInteractive('df-33ddbd30-a5c2-477d-b2fe-3d546677a8d6')\"\n",
       "              title=\"Convert this dataframe to an interactive table.\"\n",
       "              style=\"display:none;\">\n",
       "        \n",
       "  <svg xmlns=\"http://www.w3.org/2000/svg\" height=\"24px\"viewBox=\"0 0 24 24\"\n",
       "       width=\"24px\">\n",
       "    <path d=\"M0 0h24v24H0V0z\" fill=\"none\"/>\n",
       "    <path d=\"M18.56 5.44l.94 2.06.94-2.06 2.06-.94-2.06-.94-.94-2.06-.94 2.06-2.06.94zm-11 1L8.5 8.5l.94-2.06 2.06-.94-2.06-.94L8.5 2.5l-.94 2.06-2.06.94zm10 10l.94 2.06.94-2.06 2.06-.94-2.06-.94-.94-2.06-.94 2.06-2.06.94z\"/><path d=\"M17.41 7.96l-1.37-1.37c-.4-.4-.92-.59-1.43-.59-.52 0-1.04.2-1.43.59L10.3 9.45l-7.72 7.72c-.78.78-.78 2.05 0 2.83L4 21.41c.39.39.9.59 1.41.59.51 0 1.02-.2 1.41-.59l7.78-7.78 2.81-2.81c.8-.78.8-2.07 0-2.86zM5.41 20L4 18.59l7.72-7.72 1.47 1.35L5.41 20z\"/>\n",
       "  </svg>\n",
       "      </button>\n",
       "      \n",
       "  <style>\n",
       "    .colab-df-container {\n",
       "      display:flex;\n",
       "      flex-wrap:wrap;\n",
       "      gap: 12px;\n",
       "    }\n",
       "\n",
       "    .colab-df-convert {\n",
       "      background-color: #E8F0FE;\n",
       "      border: none;\n",
       "      border-radius: 50%;\n",
       "      cursor: pointer;\n",
       "      display: none;\n",
       "      fill: #1967D2;\n",
       "      height: 32px;\n",
       "      padding: 0 0 0 0;\n",
       "      width: 32px;\n",
       "    }\n",
       "\n",
       "    .colab-df-convert:hover {\n",
       "      background-color: #E2EBFA;\n",
       "      box-shadow: 0px 1px 2px rgba(60, 64, 67, 0.3), 0px 1px 3px 1px rgba(60, 64, 67, 0.15);\n",
       "      fill: #174EA6;\n",
       "    }\n",
       "\n",
       "    [theme=dark] .colab-df-convert {\n",
       "      background-color: #3B4455;\n",
       "      fill: #D2E3FC;\n",
       "    }\n",
       "\n",
       "    [theme=dark] .colab-df-convert:hover {\n",
       "      background-color: #434B5C;\n",
       "      box-shadow: 0px 1px 3px 1px rgba(0, 0, 0, 0.15);\n",
       "      filter: drop-shadow(0px 1px 2px rgba(0, 0, 0, 0.3));\n",
       "      fill: #FFFFFF;\n",
       "    }\n",
       "  </style>\n",
       "\n",
       "      <script>\n",
       "        const buttonEl =\n",
       "          document.querySelector('#df-33ddbd30-a5c2-477d-b2fe-3d546677a8d6 button.colab-df-convert');\n",
       "        buttonEl.style.display =\n",
       "          google.colab.kernel.accessAllowed ? 'block' : 'none';\n",
       "\n",
       "        async function convertToInteractive(key) {\n",
       "          const element = document.querySelector('#df-33ddbd30-a5c2-477d-b2fe-3d546677a8d6');\n",
       "          const dataTable =\n",
       "            await google.colab.kernel.invokeFunction('convertToInteractive',\n",
       "                                                     [key], {});\n",
       "          if (!dataTable) return;\n",
       "\n",
       "          const docLinkHtml = 'Like what you see? Visit the ' +\n",
       "            '<a target=\"_blank\" href=https://colab.research.google.com/notebooks/data_table.ipynb>data table notebook</a>'\n",
       "            + ' to learn more about interactive tables.';\n",
       "          element.innerHTML = '';\n",
       "          dataTable['output_type'] = 'display_data';\n",
       "          await google.colab.output.renderOutput(dataTable, element);\n",
       "          const docLink = document.createElement('div');\n",
       "          docLink.innerHTML = docLinkHtml;\n",
       "          element.appendChild(docLink);\n",
       "        }\n",
       "      </script>\n",
       "    </div>\n",
       "  </div>\n",
       "  "
      ],
      "text/plain": [
       "        lnx1       lny      lnyc         e        e*      e/e*\n",
       "0  -0.072571  3.494991  3.493690  0.001301  0.032553  0.039971\n",
       "1   0.104360  3.656356  3.642998  0.013358  0.332646  0.040157\n",
       "2  -0.072571  3.561046  3.493690  0.067356  1.685111  0.039971\n",
       "3   0.104360  3.656356  3.642998  0.013358  0.332646  0.040157\n",
       "4  -0.072571  3.474138  3.493690 -0.019552 -0.489153  0.039971\n",
       "5   0.104360  3.681603  3.642998  0.038605  0.961341  0.040157\n",
       "6  -0.072571  3.516607  3.493690  0.022917  0.573341  0.039971\n",
       "7   0.104360  3.656356  3.642998  0.013358  0.332646  0.040157\n",
       "8   0.019803  3.561046  3.571642 -0.010596 -0.245800  0.043108\n",
       "9   0.019803  3.516607  3.571642 -0.055035 -1.276683  0.043108\n",
       "10  0.019803  3.584074  3.571642  0.012432  0.288405  0.043108\n",
       "11  0.019803  3.474138  3.571642 -0.097504 -2.261875  0.043108"
      ]
     },
     "execution_count": 11,
     "metadata": {},
     "output_type": "execute_result"
    }
   ],
   "source": [
    "dftab = pd.DataFrame(list(zip(lnx1, lny, y_pred, resi, stdresid, prop)),\n",
    "               columns =[\"lnx1\",\"lny\",\"lnyc\",\"e\",\"e*\",\"e/e*\"])\n",
    "dftab"
   ]
  },
  {
   "cell_type": "code",
   "execution_count": 12,
   "metadata": {
    "colab": {
     "base_uri": "https://localhost:8080/",
     "height": 296
    },
    "executionInfo": {
     "elapsed": 12,
     "status": "ok",
     "timestamp": 1649553328793,
     "user": {
      "displayName": "victoria alejandra herrera",
      "userId": "16346835995419242908"
     },
     "user_tz": 180
    },
    "hidden": true,
    "id": "8CTFr8cMbZlF",
    "outputId": "8dd8d85d-551e-4ef5-911f-9404cf8005f9"
   },
   "outputs": [
    {
     "data": {
      "image/png": "[encoded data removed]",
      "text/plain": [
       "<Figure size 432x288 with 1 Axes>"
      ]
     },
     "metadata": {
      "needs_background": "light"
     },
     "output_type": "display_data"
    }
   ],
   "source": [
    "sns.scatterplot(x='lnx1', y='e*', data=dftab);plt.grid(True)\n",
    "plt.xlabel('lnx= Velocidade de corte')\n",
    "plt.ylabel('e*= Resíduos padronizados')\n",
    "plt.title('Resíduos padronizados vs x1`')\n",
    "plt.axhline(y=0, color='black', linestyle='--', linewidth=1)\n",
    "plt.show()"
   ]
  },
  {
   "cell_type": "code",
   "execution_count": 13,
   "metadata": {
    "colab": {
     "base_uri": "https://localhost:8080/",
     "height": 279
    },
    "executionInfo": {
     "elapsed": 11,
     "status": "ok",
     "timestamp": 1649553328793,
     "user": {
      "displayName": "victoria alejandra herrera",
      "userId": "16346835995419242908"
     },
     "user_tz": 180
    },
    "hidden": true,
    "id": "_X7a4af_sxFS",
    "outputId": "a7ca5ac6-6c97-42f8-88b0-967279e59d1d"
   },
   "outputs": [
    {
     "data": {
      "image/png": "[encoded data removed]",
      "text/plain": [
       "<Figure size 432x288 with 1 Axes>"
      ]
     },
     "metadata": {
      "needs_background": "light"
     },
     "output_type": "display_data"
    }
   ],
   "source": [
    "#Verificar a normalidade dos resíduos\n",
    "#qqpolot vs. normal distribution \n",
    "QQ = ProbPlot(influence.resid_studentized_internal)\n",
    "plot_lm_2 = QQ.qqplot(line='45', alpha=0.5, color='#4C72B0', lw=1)\n",
    "plot_lm_2.axes[0].set_xlabel('Percentil')\n",
    "plot_lm_2.axes[0].set_ylabel('Resíduos padronizados')\n",
    "plt.grid(True)\n"
   ]
  },
  {
   "cell_type": "code",
   "execution_count": 14,
   "metadata": {
    "colab": {
     "base_uri": "https://localhost:8080/"
    },
    "executionInfo": {
     "elapsed": 10,
     "status": "ok",
     "timestamp": 1649553328793,
     "user": {
      "displayName": "victoria alejandra herrera",
      "userId": "16346835995419242908"
     },
     "user_tz": 180
    },
    "hidden": true,
    "id": "_19eYii884L5",
    "outputId": "f332c4ca-a68b-49d5-efeb-41a20e7991a6"
   },
   "outputs": [
    {
     "name": "stdout",
     "output_type": "stream",
     "text": [
      "           df    sum_sq   mean_sq          F    PR(>F)\n",
      "lnx1      1.0  0.044615  0.044615  18.697041  0.002532\n",
      "lnx2      1.0  0.000177  0.000177   0.074082  0.792377\n",
      "lnx3      1.0  0.001008  0.001008   0.422438  0.533937\n",
      "Residual  8.0  0.019090  0.002386        NaN       NaN\n"
     ]
    }
   ],
   "source": [
    "#@title extras \n",
    "#ANOVA\n",
    "table = sm.stats.anova_lm(res, typ=1) # \n",
    "print(table)"
   ]
  },
  {
   "cell_type": "code",
   "execution_count": 23,
   "metadata": {
    "colab": {
     "base_uri": "https://localhost:8080/",
     "height": 269
    },
    "executionInfo": {
     "elapsed": 892,
     "status": "ok",
     "timestamp": 1649553377377,
     "user": {
      "displayName": "victoria alejandra herrera",
      "userId": "16346835995419242908"
     },
     "user_tz": 180
    },
    "hidden": true,
    "id": "U5Cg8E_lCbvJ",
    "outputId": "e89f56a0-322b-4b5a-8393-8ea7b0a7936f"
   },
   "outputs": [
    {
     "data": {
      "image/png": "[encoded data removed]",
      "text/plain": [
       "<Figure size 576x288 with 2 Axes>"
      ]
     },
     "metadata": {
      "needs_background": "light"
     },
     "output_type": "display_data"
    }
   ],
   "source": [
    "# Calcula a correlação entre as variáveis do modelo\n",
    "corr = dft.corr()\n",
    "# Resultado\n",
    "plt.figure(figsize=(8, 4))\n",
    "sns.heatmap(corr, cmap='coolwarm', annot=True, fmt=\".2f\", vmin=-1, vmax=1)\n",
    "plt.show()"
   ]
  },
  {
   "cell_type": "code",
   "execution_count": 34,
   "metadata": {
    "colab": {
     "base_uri": "https://localhost:8080/"
    },
    "executionInfo": {
     "elapsed": 336,
     "status": "ok",
     "timestamp": 1649554419437,
     "user": {
      "displayName": "victoria alejandra herrera",
      "userId": "16346835995419242908"
     },
     "user_tz": 180
    },
    "hidden": true,
    "id": "wcDbSHgKGs7_",
    "outputId": "5a35cc6a-43c8-4690-e0ab-e54efa82d35d"
   },
   "outputs": [
    {
     "name": "stdout",
     "output_type": "stream",
     "text": [
      "[[ 1.00000000e+00 -2.38129915e-04 -6.38880596e-04  8.29188751e-01]\n",
      " [-2.38129915e-04  1.00000000e+00  2.34035744e-04 -5.23916748e-02]\n",
      " [-6.38880596e-04  2.34035744e-04  1.00000000e+00  1.24095443e-01]\n",
      " [ 8.29188751e-01 -5.23916748e-02  1.24095443e-01  1.00000000e+00]]\n"
     ]
    },
    {
     "name": "stderr",
     "output_type": "stream",
     "text": [
      "/usr/local/lib/python3.7/dist-packages/ipykernel_launcher.py:2: DeprecationWarning: scipy.corrcoef is deprecated and will be removed in SciPy 2.0.0, use numpy.corrcoef instead\n",
      "  \n"
     ]
    }
   ],
   "source": [
    "import scipy \n",
    "mc = scipy.corrcoef(dft, rowvar=0) \n",
    "print(mc)"
   ]
  },
  {
   "cell_type": "code",
   "execution_count": 35,
   "metadata": {
    "colab": {
     "base_uri": "https://localhost:8080/"
    },
    "executionInfo": {
     "elapsed": 2,
     "status": "ok",
     "timestamp": 1649554432554,
     "user": {
      "displayName": "victoria alejandra herrera",
      "userId": "16346835995419242908"
     },
     "user_tz": 180
    },
    "hidden": true,
    "id": "lbDI40r8GxhN",
    "outputId": "bc1ca549-836e-426a-ede3-04d97d4fd73b"
   },
   "outputs": [
    {
     "name": "stdout",
     "output_type": "stream",
     "text": [
      "[[1.00000000e+00 5.67058563e-08 4.08168416e-07 6.87553984e-01]\n",
      " [5.67058563e-08 1.00000000e+00 5.47727297e-08 2.74488759e-03]\n",
      " [4.08168416e-07 5.47727297e-08 1.00000000e+00 1.53996790e-02]\n",
      " [6.87553984e-01 2.74488759e-03 1.53996790e-02 1.00000000e+00]]\n"
     ]
    }
   ],
   "source": [
    "#Klein’s rule of thumb \n",
    "mc2 = mc**2 \n",
    "print(mc2)"
   ]
  },
  {
   "cell_type": "code",
   "execution_count": 36,
   "metadata": {
    "colab": {
     "base_uri": "https://localhost:8080/"
    },
    "executionInfo": {
     "elapsed": 367,
     "status": "ok",
     "timestamp": 1649554444971,
     "user": {
      "displayName": "victoria alejandra herrera",
      "userId": "16346835995419242908"
     },
     "user_tz": 180
    },
    "hidden": true,
    "id": "eNVnm8DaG0nn",
    "outputId": "44f30144-b2e2-4d3d-8585-7b5679d7d87d"
   },
   "outputs": [
    {
     "name": "stdout",
     "output_type": "stream",
     "text": [
      "[[ 3.3375094  -0.14696941  0.35196724 -2.81880276]\n",
      " [-0.14696941  1.00927067 -0.02235921  0.17751744]\n",
      " [ 0.35196724 -0.02235921  1.05280525 -0.42366705]\n",
      " [-2.81880276  0.17751744 -0.42366705  3.39919512]]\n"
     ]
    }
   ],
   "source": [
    "#VIF criterion \n",
    "vif = np.linalg.inv(mc) \n",
    "print(vif)"
   ]
  },
  {
   "cell_type": "code",
   "execution_count": 38,
   "metadata": {
    "colab": {
     "base_uri": "https://localhost:8080/",
     "height": 286
    },
    "executionInfo": {
     "elapsed": 712,
     "status": "ok",
     "timestamp": 1649554568574,
     "user": {
      "displayName": "victoria alejandra herrera",
      "userId": "16346835995419242908"
     },
     "user_tz": 180
    },
    "hidden": true,
    "id": "uFHNQrApG87B",
    "outputId": "bfdf8909-be3f-4e43-8d40-8d32f4aab13d"
   },
   "outputs": [
    {
     "data": {
      "text/plain": [
       "<matplotlib.axes._subplots.AxesSubplot at 0x7f9cd5aab810>"
      ]
     },
     "execution_count": 38,
     "metadata": {},
     "output_type": "execute_result"
    },
    {
     "data": {
      "image/png": "[encoded data removed]",
      "text/plain": [
       "<Figure size 432x288 with 2 Axes>"
      ]
     },
     "metadata": {
      "needs_background": "light"
     },
     "output_type": "display_data"
    }
   ],
   "source": [
    "#Gráfico do VIF, um critério indicador de multicolinearidade é considerar VIF>4\n",
    "sns.heatmap(vif, cmap='coolwarm', annot=True, fmt=\".2f\", vmin=-10, vmax=4)"
   ]
  },
  {
   "cell_type": "markdown",
   "metadata": {
    "id": "rQX3GydcohNi"
   },
   "source": [
    "### Modelo logístico"
   ]
  },
  {
   "cell_type": "code",
   "execution_count": 27,
   "metadata": {
    "colab": {
     "base_uri": "https://localhost:8080/",
     "height": 143
    },
    "executionInfo": {
     "elapsed": 446,
     "status": "ok",
     "timestamp": 1649554096514,
     "user": {
      "displayName": "victoria alejandra herrera",
      "userId": "16346835995419242908"
     },
     "user_tz": 180
    },
    "id": "B6enM85OolNv",
    "outputId": "b03fef9c-809f-4c38-c928-eee84189d61b"
   },
   "outputs": [
    {
     "data": {
      "text/html": [
       "\n",
       "  <div id=\"df-6ecdba5f-8fd5-45b2-8e01-2a6518afe558\">\n",
       "    <div class=\"colab-df-container\">\n",
       "      <div>\n",
       "<style scoped>\n",
       "    .dataframe tbody tr th:only-of-type {\n",
       "        vertical-align: middle;\n",
       "    }\n",
       "\n",
       "    .dataframe tbody tr th {\n",
       "        vertical-align: top;\n",
       "    }\n",
       "\n",
       "    .dataframe thead th {\n",
       "        text-align: right;\n",
       "    }\n",
       "</style>\n",
       "<table border=\"1\" class=\"dataframe\">\n",
       "  <thead>\n",
       "    <tr style=\"text-align: right;\">\n",
       "      <th></th>\n",
       "      <th>x1</th>\n",
       "      <th>x2</th>\n",
       "      <th>y</th>\n",
       "    </tr>\n",
       "  </thead>\n",
       "  <tbody>\n",
       "    <tr>\n",
       "      <th>0</th>\n",
       "      <td>1.80</td>\n",
       "      <td>2.40</td>\n",
       "      <td>1</td>\n",
       "    </tr>\n",
       "    <tr>\n",
       "      <th>1</th>\n",
       "      <td>1.65</td>\n",
       "      <td>2.54</td>\n",
       "      <td>1</td>\n",
       "    </tr>\n",
       "    <tr>\n",
       "      <th>2</th>\n",
       "      <td>2.70</td>\n",
       "      <td>0.84</td>\n",
       "      <td>1</td>\n",
       "    </tr>\n",
       "  </tbody>\n",
       "</table>\n",
       "</div>\n",
       "      <button class=\"colab-df-convert\" onclick=\"convertToInteractive('df-6ecdba5f-8fd5-45b2-8e01-2a6518afe558')\"\n",
       "              title=\"Convert this dataframe to an interactive table.\"\n",
       "              style=\"display:none;\">\n",
       "        \n",
       "  <svg xmlns=\"http://www.w3.org/2000/svg\" height=\"24px\"viewBox=\"0 0 24 24\"\n",
       "       width=\"24px\">\n",
       "    <path d=\"M0 0h24v24H0V0z\" fill=\"none\"/>\n",
       "    <path d=\"M18.56 5.44l.94 2.06.94-2.06 2.06-.94-2.06-.94-.94-2.06-.94 2.06-2.06.94zm-11 1L8.5 8.5l.94-2.06 2.06-.94-2.06-.94L8.5 2.5l-.94 2.06-2.06.94zm10 10l.94 2.06.94-2.06 2.06-.94-2.06-.94-.94-2.06-.94 2.06-2.06.94z\"/><path d=\"M17.41 7.96l-1.37-1.37c-.4-.4-.92-.59-1.43-.59-.52 0-1.04.2-1.43.59L10.3 9.45l-7.72 7.72c-.78.78-.78 2.05 0 2.83L4 21.41c.39.39.9.59 1.41.59.51 0 1.02-.2 1.41-.59l7.78-7.78 2.81-2.81c.8-.78.8-2.07 0-2.86zM5.41 20L4 18.59l7.72-7.72 1.47 1.35L5.41 20z\"/>\n",
       "  </svg>\n",
       "      </button>\n",
       "      \n",
       "  <style>\n",
       "    .colab-df-container {\n",
       "      display:flex;\n",
       "      flex-wrap:wrap;\n",
       "      gap: 12px;\n",
       "    }\n",
       "\n",
       "    .colab-df-convert {\n",
       "      background-color: #E8F0FE;\n",
       "      border: none;\n",
       "      border-radius: 50%;\n",
       "      cursor: pointer;\n",
       "      display: none;\n",
       "      fill: #1967D2;\n",
       "      height: 32px;\n",
       "      padding: 0 0 0 0;\n",
       "      width: 32px;\n",
       "    }\n",
       "\n",
       "    .colab-df-convert:hover {\n",
       "      background-color: #E2EBFA;\n",
       "      box-shadow: 0px 1px 2px rgba(60, 64, 67, 0.3), 0px 1px 3px 1px rgba(60, 64, 67, 0.15);\n",
       "      fill: #174EA6;\n",
       "    }\n",
       "\n",
       "    [theme=dark] .colab-df-convert {\n",
       "      background-color: #3B4455;\n",
       "      fill: #D2E3FC;\n",
       "    }\n",
       "\n",
       "    [theme=dark] .colab-df-convert:hover {\n",
       "      background-color: #434B5C;\n",
       "      box-shadow: 0px 1px 3px 1px rgba(0, 0, 0, 0.15);\n",
       "      filter: drop-shadow(0px 1px 2px rgba(0, 0, 0, 0.3));\n",
       "      fill: #FFFFFF;\n",
       "    }\n",
       "  </style>\n",
       "\n",
       "      <script>\n",
       "        const buttonEl =\n",
       "          document.querySelector('#df-6ecdba5f-8fd5-45b2-8e01-2a6518afe558 button.colab-df-convert');\n",
       "        buttonEl.style.display =\n",
       "          google.colab.kernel.accessAllowed ? 'block' : 'none';\n",
       "\n",
       "        async function convertToInteractive(key) {\n",
       "          const element = document.querySelector('#df-6ecdba5f-8fd5-45b2-8e01-2a6518afe558');\n",
       "          const dataTable =\n",
       "            await google.colab.kernel.invokeFunction('convertToInteractive',\n",
       "                                                     [key], {});\n",
       "          if (!dataTable) return;\n",
       "\n",
       "          const docLinkHtml = 'Like what you see? Visit the ' +\n",
       "            '<a target=\"_blank\" href=https://colab.research.google.com/notebooks/data_table.ipynb>data table notebook</a>'\n",
       "            + ' to learn more about interactive tables.';\n",
       "          element.innerHTML = '';\n",
       "          dataTable['output_type'] = 'display_data';\n",
       "          await google.colab.output.renderOutput(dataTable, element);\n",
       "          const docLink = document.createElement('div');\n",
       "          docLink.innerHTML = docLinkHtml;\n",
       "          element.appendChild(docLink);\n",
       "        }\n",
       "      </script>\n",
       "    </div>\n",
       "  </div>\n",
       "  "
      ],
      "text/plain": [
       "     x1    x2  y\n",
       "0  1.80  2.40  1\n",
       "1  1.65  2.54  1\n",
       "2  2.70  0.84  1"
      ]
     },
     "execution_count": 27,
     "metadata": {},
     "output_type": "execute_result"
    }
   ],
   "source": [
    "#@title Definir os dados\n",
    "lstx1 = (1.80, 1.65, 2.70, 3.67, 1.41, 1.76, 2.10, 2.10, 4.57, 3.59,\n",
    "         8.33, 2.86, 2.58, 2.90, 3.89, 0.80, 0.60, 1.30, 0.83, 0.57, \n",
    "         1.44, 2.08, 1.50, 1.38, 0.94, 1.58, 1.67, 3.00, 2.21)\n",
    "lstx2 = (2.40, 2.54, 0.84, 1.68, 2.41, 1.93, 1.77, 1.50, 2.43, 5.55,\n",
    "         5.58, 2.00, 3.68, 1.13, 2.49, 1.37, 1.27, 0.87, 0.97, 0.94, \n",
    "         1.00, 0.78, 1.03, 0.82, 1.30, 0.83, 1.05, 1.19, 0.86)\n",
    "lsty= (1,1,1,1,1,1,1,1,1,1,1,1,1,1,1,0,0,0,0,0,0,0,0,0,0,0,0,0,0)\n",
    "# Construir o DataFrame e nomear as colunas\n",
    "df = pd.DataFrame(list(zip(lstx1, lstx2,lsty)),\n",
    "               columns =[\"x1\",\"x2\",\"y\"])\n",
    "x=df[['x1','x2']]\n",
    "y=df['y']\n",
    "df.head(3)"
   ]
  },
  {
   "cell_type": "code",
   "execution_count": 17,
   "metadata": {
    "colab": {
     "base_uri": "https://localhost:8080/"
    },
    "executionInfo": {
     "elapsed": 11,
     "status": "ok",
     "timestamp": 1649553329414,
     "user": {
      "displayName": "victoria alejandra herrera",
      "userId": "16346835995419242908"
     },
     "user_tz": 180
    },
    "id": "s9GwbSF-rzKE",
    "outputId": "1f9d1cdc-2b1e-49f0-9d98-c296fa369824"
   },
   "outputs": [
    {
     "name": "stdout",
     "output_type": "stream",
     "text": [
      "Optimization terminated successfully.\n",
      "         Current function value: 0.151888\n",
      "         Iterations 10\n",
      "                           Logit Regression Results                           \n",
      "==============================================================================\n",
      "Dep. Variable:                      y   No. Observations:                   29\n",
      "Model:                          Logit   Df Residuals:                       26\n",
      "Method:                           MLE   Df Model:                            2\n",
      "Date:                Sun, 10 Apr 2022   Pseudo R-squ.:                  0.7807\n",
      "Time:                        01:15:29   Log-Likelihood:                -4.4048\n",
      "converged:                       True   LL-Null:                       -20.084\n",
      "Covariance Type:            nonrobust   LLR p-value:                 1.551e-07\n",
      "==============================================================================\n",
      "                 coef    std err          z      P>|z|      [0.025      0.975]\n",
      "------------------------------------------------------------------------------\n",
      "const        -13.1457      5.184     -2.536      0.011     -23.306      -2.985\n",
      "x1             2.7740      1.477      1.878      0.060      -0.122       5.670\n",
      "x2             5.6682      2.642      2.145      0.032       0.490      10.847\n",
      "==============================================================================\n",
      "\n",
      "Possibly complete quasi-separation: A fraction 0.17 of observations can be\n",
      "perfectly predicted. This might indicate that there is complete\n",
      "quasi-separation. In this case some parameters will not be identified.\n"
     ]
    },
    {
     "name": "stderr",
     "output_type": "stream",
     "text": [
      "/usr/local/lib/python3.7/dist-packages/statsmodels/tsa/tsatools.py:117: FutureWarning: In a future version of pandas all arguments of concat except for the argument 'objs' will be keyword-only\n",
      "  x = pd.concat(x[::order], 1)\n"
     ]
    }
   ],
   "source": [
    "#@title Regressão logística\n",
    "#adicionar uma constante preditora\n",
    "x = sm.add_constant(x)\n",
    "# Construir o modelo e ajustar os dados \n",
    "model = sm.Logit(y, x).fit()\n",
    "print(model.summary())"
   ]
  },
  {
   "cell_type": "code",
   "execution_count": 18,
   "metadata": {
    "colab": {
     "base_uri": "https://localhost:8080/"
    },
    "executionInfo": {
     "elapsed": 9,
     "status": "ok",
     "timestamp": 1649553329414,
     "user": {
      "displayName": "victoria alejandra herrera",
      "userId": "16346835995419242908"
     },
     "user_tz": 180
    },
    "id": "pEUiTIcd_DKw",
    "outputId": "0d06e666-79b2-4bb0-984d-2710472e2daa"
   },
   "outputs": [
    {
     "data": {
      "text/plain": [
       "const   -13.145657\n",
       "x1        2.774021\n",
       "x2        5.668211\n",
       "dtype: float64"
      ]
     },
     "execution_count": 18,
     "metadata": {},
     "output_type": "execute_result"
    }
   ],
   "source": [
    "model.params"
   ]
  },
  {
   "cell_type": "code",
   "execution_count": 19,
   "metadata": {
    "colab": {
     "base_uri": "https://localhost:8080/"
    },
    "executionInfo": {
     "elapsed": 8,
     "status": "ok",
     "timestamp": 1649553329414,
     "user": {
      "displayName": "victoria alejandra herrera",
      "userId": "16346835995419242908"
     },
     "user_tz": 180
    },
    "id": "PNOn505J5aew",
    "outputId": "b2868584-14a2-43f2-b444-fb2eeaab3d48"
   },
   "outputs": [
    {
     "name": "stdout",
     "output_type": "stream",
     "text": [
      "              OR   Lower CI   Upper CI\n",
      "const -13.145657 -23.306390  -2.984923\n",
      "x1      2.774021  -0.121639   5.669680\n",
      "x2      5.668211   0.489678  10.846743\n",
      "               OR      Lower CI      Upper CI\n",
      "const    0.000002  7.553761e-11      0.050543\n",
      "x1      16.022926  8.854677e-01    289.941871\n",
      "x2     289.516064  1.631791e+00  51366.594509\n"
     ]
    }
   ],
   "source": [
    "#@title Razão das chances\n",
    "# ... Define and fit model\n",
    "odds_ratios = pd.DataFrame(\n",
    "    {\n",
    "        \"OR\": model.params,\n",
    "        \"Lower CI\": model.conf_int()[0],\n",
    "        \"Upper CI\": model.conf_int()[1],\n",
    "    }\n",
    ")\n",
    "print(odds_ratios)\n",
    "odds_ratios = np.exp(odds_ratios)\n",
    "print(odds_ratios)"
   ]
  },
  {
   "cell_type": "code",
   "execution_count": 20,
   "metadata": {
    "colab": {
     "base_uri": "https://localhost:8080/"
    },
    "executionInfo": {
     "elapsed": 8,
     "status": "ok",
     "timestamp": 1649553329415,
     "user": {
      "displayName": "victoria alejandra herrera",
      "userId": "16346835995419242908"
     },
     "user_tz": 180
    },
    "id": "vadIvpSCsaDB",
    "outputId": "0111d906-59b3-487d-87ad-7c1dd7803929"
   },
   "outputs": [
    {
     "name": "stdout",
     "output_type": "stream",
     "text": [
      "Valores observados: [1, 1, 1, 1, 1, 1, 1, 1, 1, 1, 1, 1, 1, 1, 1, 0, 0, 0, 0, 0, 0, 0, 0, 0, 0, 0, 0, 0, 0]\n",
      "Valores previstos: [1, 1, 0, 1, 1, 1, 1, 1, 1, 1, 1, 1, 1, 1, 1, 0, 0, 0, 0, 0, 0, 0, 0, 0, 0, 0, 0, 1, 0]\n"
     ]
    }
   ],
   "source": [
    "#@title Valores previstos vs. observados\n",
    "# performing predictions on the test datdaset\n",
    "yhat = model.predict()\n",
    "prediction = list(map(round, yhat))\n",
    " \n",
    "# comparing original and predicted values of y\n",
    "print('Valores observados:', list(y))\n",
    "print('Valores previstos:', prediction)\n",
    "df2 = pd.DataFrame(list(zip(y, prediction)),\n",
    "               columns =[\"x\",\"y\"])\n",
    "#df2.to_csv(index=False)"
   ]
  },
  {
   "cell_type": "code",
   "execution_count": 21,
   "metadata": {
    "colab": {
     "base_uri": "https://localhost:8080/"
    },
    "executionInfo": {
     "elapsed": 7,
     "status": "ok",
     "timestamp": 1649553329415,
     "user": {
      "displayName": "victoria alejandra herrera",
      "userId": "16346835995419242908"
     },
     "user_tz": 180
    },
    "id": "i4-a0VRxsqkE",
    "outputId": "47d7b478-a77b-4d8f-aba7-d0cc181544f7"
   },
   "outputs": [
    {
     "name": "stdout",
     "output_type": "stream",
     "text": [
      "Confusion Matrix : \n",
      " [[13  1]\n",
      " [ 1 14]]\n",
      "Test accuracy =  0.9310344827586207\n"
     ]
    }
   ],
   "source": [
    "#@title Acurácia do modelo\n",
    "from sklearn.metrics import (confusion_matrix,accuracy_score)\n",
    " \n",
    "# confusion matrix\n",
    "cm = confusion_matrix(y, prediction)\n",
    "print (\"Confusion Matrix : \\n\", cm)\n",
    " \n",
    "# accuracy score of the model\n",
    "print('Test accuracy = ', accuracy_score(y, prediction))"
   ]
  },
  {
   "cell_type": "code",
   "execution_count": 22,
   "metadata": {
    "colab": {
     "base_uri": "https://localhost:8080/"
    },
    "executionInfo": {
     "elapsed": 6,
     "status": "ok",
     "timestamp": 1649553329415,
     "user": {
      "displayName": "victoria alejandra herrera",
      "userId": "16346835995419242908"
     },
     "user_tz": 180
    },
    "id": "KNATeEOk_WbS",
    "outputId": "bdcad1fe-e4d7-443a-a7f8-e6fc4e373a8e"
   },
   "outputs": [
    {
     "name": "stdout",
     "output_type": "stream",
     "text": [
      "t_crit=: 2.200985160082949\n"
     ]
    }
   ],
   "source": [
    "#usar a tabela tstudent pata t\n",
    "from scipy.stats import t\n",
    "alpha = 0.05  # significia = 5% \n",
    "df = 11 # graus de liberdade                                      \n",
    "v = t.ppf(1 - alpha/2, df) \n",
    "tt=v\n",
    "print(f't_crit=: {v}')"
   ]
  },
  {
   "cell_type": "markdown",
   "metadata": {
    "heading_collapsed": true,
    "id": "7thgkJgHGLOU"
   },
   "source": [
    "## Extras"
   ]
  },
  {
   "cell_type": "code",
   "execution_count": 48,
   "metadata": {
    "colab": {
     "base_uri": "https://localhost:8080/",
     "height": 269
    },
    "executionInfo": {
     "elapsed": 622,
     "status": "ok",
     "timestamp": 1649555013393,
     "user": {
      "displayName": "victoria alejandra herrera",
      "userId": "16346835995419242908"
     },
     "user_tz": 180
    },
    "hidden": true,
    "id": "7yVzqpPYFAgC",
    "outputId": "05c81027-2913-4822-a23e-812ca16e4c02"
   },
   "outputs": [
    {
     "data": {
      "image/png": "[encoded data removed]",
      "text/plain": [
       "<Figure size 576x288 with 2 Axes>"
      ]
     },
     "metadata": {
      "needs_background": "light"
     },
     "output_type": "display_data"
    }
   ],
   "source": [
    "# Calcula a correlação entre as variáveis do modelo\n",
    "corr = df.corr()\n",
    "# Resultado\n",
    "plt.figure(figsize=(8, 4))\n",
    "sns.heatmap(corr, cmap='coolwarm', annot=True, fmt=\".2f\", vmin=-1, vmax=1)\n",
    "plt.show()"
   ]
  },
  {
   "cell_type": "code",
   "execution_count": 49,
   "metadata": {
    "colab": {
     "base_uri": "https://localhost:8080/"
    },
    "executionInfo": {
     "elapsed": 314,
     "status": "ok",
     "timestamp": 1649555016168,
     "user": {
      "displayName": "victoria alejandra herrera",
      "userId": "16346835995419242908"
     },
     "user_tz": 180
    },
    "hidden": true,
    "id": "cRVcbMWoF0wV",
    "outputId": "1a384168-8b86-4d22-8016-d7e9c61e95f6"
   },
   "outputs": [
    {
     "name": "stdout",
     "output_type": "stream",
     "text": [
      "[[1.         0.68809573 0.53836676]\n",
      " [0.68809573 1.         0.60809228]\n",
      " [0.53836676 0.60809228 1.        ]]\n"
     ]
    },
    {
     "name": "stderr",
     "output_type": "stream",
     "text": [
      "/usr/local/lib/python3.7/dist-packages/ipykernel_launcher.py:2: DeprecationWarning: scipy.corrcoef is deprecated and will be removed in SciPy 2.0.0, use numpy.corrcoef instead\n",
      "  \n"
     ]
    }
   ],
   "source": [
    "import scipy \n",
    "mclo = scipy.corrcoef(df, rowvar=0) \n",
    "print(mclo)"
   ]
  },
  {
   "cell_type": "code",
   "execution_count": 50,
   "metadata": {
    "colab": {
     "base_uri": "https://localhost:8080/"
    },
    "executionInfo": {
     "elapsed": 344,
     "status": "ok",
     "timestamp": 1649555023799,
     "user": {
      "displayName": "victoria alejandra herrera",
      "userId": "16346835995419242908"
     },
     "user_tz": 180
    },
    "hidden": true,
    "id": "ael4Y4PyF5vx",
    "outputId": "57b3ea51-8ee2-428b-86a7-0089491061fb"
   },
   "outputs": [
    {
     "name": "stdout",
     "output_type": "stream",
     "text": [
      "[[1.         0.47347574 0.28983876]\n",
      " [0.47347574 1.         0.36977622]\n",
      " [0.28983876 0.36977622 1.        ]]\n"
     ]
    }
   ],
   "source": [
    "#Klein’s rule of thumb \n",
    "mc2lo = mc**2 \n",
    "print(mc2lo)"
   ]
  },
  {
   "cell_type": "code",
   "execution_count": 51,
   "metadata": {
    "colab": {
     "base_uri": "https://localhost:8080/"
    },
    "executionInfo": {
     "elapsed": 2,
     "status": "ok",
     "timestamp": 1649555028361,
     "user": {
      "displayName": "victoria alejandra herrera",
      "userId": "16346835995419242908"
     },
     "user_tz": 180
    },
    "hidden": true,
    "id": "qWsByi4GF8da",
    "outputId": "9b7f42a5-0df3-495f-a89d-d8899b839c06"
   },
   "outputs": [
    {
     "name": "stdout",
     "output_type": "stream",
     "text": [
      "[[ 1.98531787 -1.13632971 -0.37783582]\n",
      " [-1.13632971  2.23713518 -0.74862249]\n",
      " [-0.37783582 -0.74862249  1.6586458 ]]\n"
     ]
    }
   ],
   "source": [
    "#VIF criterion \n",
    "viflo = np.linalg.inv(mc) \n",
    "print(viflo)"
   ]
  },
  {
   "cell_type": "code",
   "execution_count": 53,
   "metadata": {
    "colab": {
     "base_uri": "https://localhost:8080/",
     "height": 286
    },
    "executionInfo": {
     "elapsed": 346,
     "status": "ok",
     "timestamp": 1649555045962,
     "user": {
      "displayName": "victoria alejandra herrera",
      "userId": "16346835995419242908"
     },
     "user_tz": 180
    },
    "hidden": true,
    "id": "Txxzf6qPH9U1",
    "outputId": "f9eaa2da-19bb-4304-c16d-460fc0d6caf9"
   },
   "outputs": [
    {
     "data": {
      "text/plain": [
       "<matplotlib.axes._subplots.AxesSubplot at 0x7f9cd3af7ad0>"
      ]
     },
     "execution_count": 53,
     "metadata": {},
     "output_type": "execute_result"
    },
    {
     "data": {
      "image/png": "[encoded data removed]",
      "text/plain": [
       "<Figure size 432x288 with 2 Axes>"
      ]
     },
     "metadata": {
      "needs_background": "light"
     },
     "output_type": "display_data"
    }
   ],
   "source": [
    "sns.heatmap(viflo, cmap='coolwarm', annot=True, fmt=\".2f\", vmin=-4, vmax=4)"
   ]
  },
  {
   "cell_type": "code",
   "execution_count": null,
   "metadata": {
    "hidden": true
   },
   "outputs": [],
   "source": []
  }
 ],
 "metadata": {
  "colab": {
   "authorship_tag": "ABX9TyN8lWWxx1KPi5ne7qQV2oUG",
   "name": "Semana7-Aula17.ipynb",
   "provenance": []
  },
  "kernelspec": {
   "display_name": "Python 3 (ipykernel)",
   "language": "python",
   "name": "python3"
  },
  "language_info": {
   "codemirror_mode": {
    "name": "ipython",
    "version": 3
   },
   "file_extension": ".py",
   "mimetype": "text/x-python",
   "name": "python",
   "nbconvert_exporter": "python",
   "pygments_lexer": "ipython3",
   "version": "3.9.7"
  },
  "varInspector": {
   "cols": {
    "lenName": 16,
    "lenType": 16,
    "lenVar": 40
   },
   "kernels_config": {
    "python": {
     "delete_cmd_postfix": "",
     "delete_cmd_prefix": "del ",
     "library": "var_list.py",
     "varRefreshCmd": "print(var_dic_list())"
    },
    "r": {
     "delete_cmd_postfix": ") ",
     "delete_cmd_prefix": "rm(",
     "library": "var_list.r",
     "varRefreshCmd": "cat(var_dic_list()) "
    }
   },
   "types_to_exclude": [
    "module",
    "function",
    "builtin_function_or_method",
    "instance",
    "_Feature"
   ],
   "window_display": false
  }
 },
 "nbformat": 4,
 "nbformat_minor": 1
}
