{
 "cells": [
  {
   "cell_type": "markdown",
   "metadata": {
    "heading_collapsed": true
   },
   "source": [
    "### Modelo logístico"
   ]
  },
  {
   "cell_type": "markdown",
   "metadata": {
    "hidden": true
   },
   "source": [
    "Dados categóricos 0 e 1 "
   ]
  },
  {
   "cell_type": "markdown",
   "metadata": {
    "hidden": true,
    "id": "cyBs_Imf1DyA"
   },
   "source": [
    "#### 1. O termo cifose refere-se a uma grave curvatura protuberante da coluna vertebral que necessita de cirurgia corretiva. Um estudo realizado para determinar os fatores de risco da cifose relatou as idades a seguir (meses) para 40 indivíduos no momento da cirurgia; os primeiros 18 indivíduos tiveram cifose e os 22 restantes, não."
   ]
  },
  {
   "cell_type": "code",
   "execution_count": 1,
   "metadata": {
    "ExecuteTime": {
     "end_time": "2022-05-03T18:50:33.671396Z",
     "start_time": "2022-05-03T18:50:22.197931Z"
    },
    "colab": {
     "base_uri": "https://localhost:8080/"
    },
    "executionInfo": {
     "elapsed": 1139,
     "status": "ok",
     "timestamp": 1646967128265,
     "user": {
      "displayName": "victoria alejandra herrera",
      "photoUrl": "https://lh3.googleusercontent.com/a/default-user=s64",
      "userId": "16346835995419242908"
     },
     "user_tz": 180
    },
    "hidden": true,
    "id": "Ax98aziZcnIJ",
    "outputId": "2694bc7f-bf10-4e89-93c6-e29809b55784"
   },
   "outputs": [],
   "source": [
    "import numpy as np\n",
    "import pandas as pd\n",
    "import matplotlib.pyplot as plt\n",
    "import statsmodels.api as sm\n",
    "import seaborn as sns\n",
    "\n",
    "from statsmodels.formula.api import ols\n",
    "from statsmodels.graphics.gofplots import ProbPlot"
   ]
  },
  {
   "cell_type": "code",
   "execution_count": 2,
   "metadata": {
    "ExecuteTime": {
     "end_time": "2022-05-03T18:50:34.131388Z",
     "start_time": "2022-05-03T18:50:33.676690Z"
    },
    "colab": {
     "base_uri": "https://localhost:8080/",
     "height": 206
    },
    "executionInfo": {
     "elapsed": 7,
     "status": "ok",
     "timestamp": 1646967128266,
     "user": {
      "displayName": "victoria alejandra herrera",
      "photoUrl": "https://lh3.googleusercontent.com/a/default-user=s64",
      "userId": "16346835995419242908"
     },
     "user_tz": 180
    },
    "hidden": true,
    "id": "I3s_XzOou2KA",
    "outputId": "b74641a6-01a0-4ea3-bf6f-8fba64244d34"
   },
   "outputs": [
    {
     "data": {
      "text/html": [
       "<div>\n",
       "<style scoped>\n",
       "    .dataframe tbody tr th:only-of-type {\n",
       "        vertical-align: middle;\n",
       "    }\n",
       "\n",
       "    .dataframe tbody tr th {\n",
       "        vertical-align: top;\n",
       "    }\n",
       "\n",
       "    .dataframe thead th {\n",
       "        text-align: right;\n",
       "    }\n",
       "</style>\n",
       "<table border=\"1\" class=\"dataframe\">\n",
       "  <thead>\n",
       "    <tr style=\"text-align: right;\">\n",
       "      <th></th>\n",
       "      <th>x</th>\n",
       "      <th>y</th>\n",
       "    </tr>\n",
       "  </thead>\n",
       "  <tbody>\n",
       "    <tr>\n",
       "      <th>0</th>\n",
       "      <td>12</td>\n",
       "      <td>1</td>\n",
       "    </tr>\n",
       "    <tr>\n",
       "      <th>1</th>\n",
       "      <td>15</td>\n",
       "      <td>1</td>\n",
       "    </tr>\n",
       "    <tr>\n",
       "      <th>2</th>\n",
       "      <td>42</td>\n",
       "      <td>1</td>\n",
       "    </tr>\n",
       "    <tr>\n",
       "      <th>3</th>\n",
       "      <td>52</td>\n",
       "      <td>1</td>\n",
       "    </tr>\n",
       "    <tr>\n",
       "      <th>4</th>\n",
       "      <td>59</td>\n",
       "      <td>1</td>\n",
       "    </tr>\n",
       "  </tbody>\n",
       "</table>\n",
       "</div>"
      ],
      "text/plain": [
       "    x  y\n",
       "0  12  1\n",
       "1  15  1\n",
       "2  42  1\n",
       "3  52  1\n",
       "4  59  1"
      ]
     },
     "execution_count": 2,
     "metadata": {},
     "output_type": "execute_result"
    }
   ],
   "source": [
    "x = (12,15,42,52,59,73,82,91,96,105,114,120,121,128,130,139,139,157,1,1,2,8,11,18,22,31,37,61,72,81,97,112,118,127,131,140,151,159,177,206)\n",
    "y= (1,1,1,1,1,1,1,1,1,1,1,1,1,1,1,1,1,1,0,0,0,0,0,0,0,0,0,0,0,0,0,0,0,0,0,0,0,0,0,0)\n",
    "# Construir o DataFrame e nomear as colunas\n",
    "df = pd.DataFrame(list(zip(x, y)),\n",
    "               columns =[\"x\",\"y\"])\n",
    "x=df['x']\n",
    "y=df['y']\n",
    "df.head()"
   ]
  },
  {
   "cell_type": "code",
   "execution_count": 3,
   "metadata": {
    "ExecuteTime": {
     "end_time": "2022-05-03T18:50:34.726049Z",
     "start_time": "2022-05-03T18:50:34.173308Z"
    },
    "colab": {
     "base_uri": "https://localhost:8080/"
    },
    "executionInfo": {
     "elapsed": 6,
     "status": "ok",
     "timestamp": 1646967128266,
     "user": {
      "displayName": "victoria alejandra herrera",
      "photoUrl": "https://lh3.googleusercontent.com/a/default-user=s64",
      "userId": "16346835995419242908"
     },
     "user_tz": 180
    },
    "hidden": true,
    "id": "otlB_K2avmh8",
    "outputId": "1178435f-b152-48b5-fe34-395268df39d9"
   },
   "outputs": [
    {
     "name": "stdout",
     "output_type": "stream",
     "text": [
      "Optimization terminated successfully.\n",
      "         Current function value: 0.681303\n",
      "         Iterations 4\n",
      "                           Logit Regression Results                           \n",
      "==============================================================================\n",
      "Dep. Variable:                      y   No. Observations:                   40\n",
      "Model:                          Logit   Df Residuals:                       38\n",
      "Method:                           MLE   Df Model:                            1\n",
      "Date:                Tue, 03 May 2022   Pseudo R-squ.:                0.009934\n",
      "Time:                        15:50:34   Log-Likelihood:                -27.252\n",
      "converged:                       True   LL-Null:                       -27.526\n",
      "Covariance Type:            nonrobust   LLR p-value:                    0.4596\n",
      "==============================================================================\n",
      "                 coef    std err          z      P>|z|      [0.025      0.975]\n",
      "------------------------------------------------------------------------------\n",
      "const         -0.5727      0.602     -0.951      0.342      -1.753       0.608\n",
      "x              0.0043      0.006      0.734      0.463      -0.007       0.016\n",
      "==============================================================================\n"
     ]
    }
   ],
   "source": [
    "#adicionar uma constante preditora\n",
    "x = sm.add_constant(x)\n",
    "\n",
    "#Logit Regression Results\n",
    "model = sm.Logit(y, x).fit()\n",
    "print(model.summary())"
   ]
  },
  {
   "cell_type": "code",
   "execution_count": 4,
   "metadata": {
    "ExecuteTime": {
     "end_time": "2022-05-03T18:50:34.740136Z",
     "start_time": "2022-05-03T18:50:34.736159Z"
    },
    "colab": {
     "base_uri": "https://localhost:8080/"
    },
    "executionInfo": {
     "elapsed": 8,
     "status": "ok",
     "timestamp": 1646967128662,
     "user": {
      "displayName": "victoria alejandra herrera",
      "photoUrl": "https://lh3.googleusercontent.com/a/default-user=s64",
      "userId": "16346835995419242908"
     },
     "user_tz": 180
    },
    "hidden": true,
    "id": "hrUO8x6gYhyy",
    "outputId": "fbbc091c-3bc3-4c84-cbb9-37772f35897d"
   },
   "outputs": [
    {
     "name": "stdout",
     "output_type": "stream",
     "text": [
      "const   -0.572693\n",
      "x        0.004296\n",
      "dtype: float64\n"
     ]
    }
   ],
   "source": [
    "#b0 e b1\n",
    "b=model.params\n",
    "print(model.params)\n",
    "\n",
    "#equação e**b0 + b1x"
   ]
  },
  {
   "cell_type": "code",
   "execution_count": 5,
   "metadata": {
    "ExecuteTime": {
     "end_time": "2022-05-03T18:50:35.369322Z",
     "start_time": "2022-05-03T18:50:34.750883Z"
    },
    "colab": {
     "base_uri": "https://localhost:8080/",
     "height": 351
    },
    "executionInfo": {
     "elapsed": 7,
     "status": "ok",
     "timestamp": 1646967128662,
     "user": {
      "displayName": "victoria alejandra herrera",
      "photoUrl": "https://lh3.googleusercontent.com/a/default-user=s64",
      "userId": "16346835995419242908"
     },
     "user_tz": 180
    },
    "hidden": true,
    "id": "kB-CkhaQSaHn",
    "outputId": "dba8961b-feb3-4100-a273-abe51c340c89"
   },
   "outputs": [
    {
     "data": {
      "text/plain": [
       "Text(0, 0.5, 'p(x) Com ou sem Cifose')"
      ]
     },
     "execution_count": 5,
     "metadata": {},
     "output_type": "execute_result"
    },
    {
     "data": {
      "image/png": "[encoded data removed]",
      "text/plain": [
       "<Figure size 360x360 with 1 Axes>"
      ]
     },
     "metadata": {
      "needs_background": "light"
     },
     "output_type": "display_data"
    }
   ],
   "source": [
    "x=df['x']\n",
    "plt.figure(figsize=(5, 5))\n",
    "ax = plt.axes()\n",
    "ax.scatter(x, y, color='b', alpha=0.20)\n",
    "ax.set_xlabel('Meses')\n",
    "ax.set_ylabel('p(x) Com ou sem Cifose')\n"
   ]
  },
  {
   "cell_type": "code",
   "execution_count": 6,
   "metadata": {
    "ExecuteTime": {
     "end_time": "2022-05-03T18:50:35.424565Z",
     "start_time": "2022-05-03T18:50:35.385221Z"
    },
    "colab": {
     "base_uri": "https://localhost:8080/"
    },
    "executionInfo": {
     "elapsed": 7,
     "status": "ok",
     "timestamp": 1646967128663,
     "user": {
      "displayName": "victoria alejandra herrera",
      "photoUrl": "https://lh3.googleusercontent.com/a/default-user=s64",
      "userId": "16346835995419242908"
     },
     "user_tz": 180
    },
    "hidden": true,
    "id": "E8AoiZjog30X",
    "outputId": "e4553003-57b8-4164-a2af-e8f48c5dad4e"
   },
   "outputs": [
    {
     "name": "stdout",
     "output_type": "stream",
     "text": [
      "tcrit=: 2.024394164575136\n",
      "tcalc=: 0.7344029072729139\n",
      "p_val=: 0.46698681622739535\n"
     ]
    }
   ],
   "source": [
    "#teste de hipotese\n",
    "\n",
    "#usar a tabela tstudent\n",
    "from scipy.stats import t\n",
    "alpha = 0.05  # nível de signif.= 5% \n",
    "df = len(x) - 2 # graus de liberdade (Número de amostras menos dois)                                     \n",
    "#\n",
    "v = t.ppf(1 - alpha/2, df) \n",
    "tcrit=v\n",
    "print(f'tcrit=: {v}') \n",
    "\n",
    "#z: estatística de teste (t_calc)\n",
    "zt = model.tvalues\n",
    "ztb1 = zt[1]\n",
    "print(f'tcalc=: {ztb1}') \n",
    "\n",
    "\n",
    "#usar a tabela tstudent\n",
    "from scipy.stats import t\n",
    "#calculate p-value  TWO TAILED\n",
    "p_val= (1-t.cdf(x=abs(ztb1), df=len(x))) * 2\n",
    "print(f'p_val=: {p_val}')\n",
    "\n",
    "#tcalc < tcrit e p_val < alpha, não rejeitar hipótese (b10 = 0)"
   ]
  },
  {
   "cell_type": "markdown",
   "metadata": {
    "heading_collapsed": true,
    "hidden": true,
    "id": "cWnkyya11CF_"
   },
   "source": [
    "#### 2. Interprete o resultado da regressão logística e esboce um gráfico da probabilidade de um nível de ruído aceitável como uma função do nível de ruído específico."
   ]
  },
  {
   "cell_type": "code",
   "execution_count": 7,
   "metadata": {
    "ExecuteTime": {
     "end_time": "2022-05-03T18:50:35.590085Z",
     "start_time": "2022-05-03T18:50:35.434247Z"
    },
    "colab": {
     "base_uri": "https://localhost:8080/",
     "height": 206
    },
    "executionInfo": {
     "elapsed": 5,
     "status": "ok",
     "timestamp": 1646967128663,
     "user": {
      "displayName": "victoria alejandra herrera",
      "photoUrl": "https://lh3.googleusercontent.com/a/default-user=s64",
      "userId": "16346835995419242908"
     },
     "user_tz": 180
    },
    "hidden": true,
    "id": "iw0Y4oyR1MwL",
    "outputId": "0dc7fe48-df7f-4d90-d4ea-6084dc66e54b"
   },
   "outputs": [
    {
     "data": {
      "text/html": [
       "<div>\n",
       "<style scoped>\n",
       "    .dataframe tbody tr th:only-of-type {\n",
       "        vertical-align: middle;\n",
       "    }\n",
       "\n",
       "    .dataframe tbody tr th {\n",
       "        vertical-align: top;\n",
       "    }\n",
       "\n",
       "    .dataframe thead th {\n",
       "        text-align: right;\n",
       "    }\n",
       "</style>\n",
       "<table border=\"1\" class=\"dataframe\">\n",
       "  <thead>\n",
       "    <tr style=\"text-align: right;\">\n",
       "      <th></th>\n",
       "      <th>x</th>\n",
       "      <th>y</th>\n",
       "    </tr>\n",
       "  </thead>\n",
       "  <tbody>\n",
       "    <tr>\n",
       "      <th>0</th>\n",
       "      <td>55.3</td>\n",
       "      <td>1</td>\n",
       "    </tr>\n",
       "    <tr>\n",
       "      <th>1</th>\n",
       "      <td>55.3</td>\n",
       "      <td>1</td>\n",
       "    </tr>\n",
       "    <tr>\n",
       "      <th>2</th>\n",
       "      <td>55.3</td>\n",
       "      <td>1</td>\n",
       "    </tr>\n",
       "    <tr>\n",
       "      <th>3</th>\n",
       "      <td>55.9</td>\n",
       "      <td>1</td>\n",
       "    </tr>\n",
       "    <tr>\n",
       "      <th>4</th>\n",
       "      <td>55.9</td>\n",
       "      <td>1</td>\n",
       "    </tr>\n",
       "  </tbody>\n",
       "</table>\n",
       "</div>"
      ],
      "text/plain": [
       "      x  y\n",
       "0  55.3  1\n",
       "1  55.3  1\n",
       "2  55.3  1\n",
       "3  55.9  1\n",
       "4  55.9  1"
      ]
     },
     "execution_count": 7,
     "metadata": {},
     "output_type": "execute_result"
    }
   ],
   "source": [
    "#teste de ruídos aceitáveis e não aceitáveis\n",
    "x = (55.3,55.3,55.3,55.9,55.9,55.9,55.9,56.1,56.1,56.1,56.1,56.1,56.1,56.8,56.8,57.0,57.0,57.0,57.8,57.8,57.8,57.9,57.9,57.9,58.8,58.8,58.8,59.8,\n",
    "        59.8,59.8,62.2,62.2,65.3,65.3,65.3,65.3,68.7,69.0,73.0,73.0,63.8,63.8,\n",
    "        63.8,63.9,63.9,63.9,64.7,64.7,64.7,65.1,65.1,65.1,67.4,67.4,67.4,67.4,\n",
    "        68.7,68.7,68.7,70.4,70.4,71.2,71.2,73.1,73.1,74.6,74.6,74.6,74.6,79.3,\n",
    "        79.3,79.3,79.3,79.3,83.0,83.0,83.0)\n",
    "y = (1,1,1,1,1,1,1,1,1,1,1,1,1,1,1,1,1,1,1,1,1,1,1,1,1,1,1,1,1,1,1,1,1,1,1,\n",
    "        1,1,1,1,1,0,0,0,0,0,0,0,0,0,0,0,0,0,0,0,0,0,0,0,0,0,0,0,0,0,0,0,0,0,0,\n",
    "        0,0,0,0,0,0,0)\n",
    "# Construir o DataFrame e nomear as colunas\n",
    "df1 = pd.DataFrame(list(zip(x, y)),\n",
    "               columns =[\"x\",\"y\"])\n",
    "x=df1['x']\n",
    "y=df1['y']\n",
    "df1.head()"
   ]
  },
  {
   "cell_type": "code",
   "execution_count": 8,
   "metadata": {
    "ExecuteTime": {
     "end_time": "2022-05-03T18:50:35.728571Z",
     "start_time": "2022-05-03T18:50:35.616995Z"
    },
    "colab": {
     "base_uri": "https://localhost:8080/"
    },
    "executionInfo": {
     "elapsed": 502,
     "status": "ok",
     "timestamp": 1646967129161,
     "user": {
      "displayName": "victoria alejandra herrera",
      "photoUrl": "https://lh3.googleusercontent.com/a/default-user=s64",
      "userId": "16346835995419242908"
     },
     "user_tz": 180
    },
    "hidden": true,
    "id": "4sbZ7Muq1r7E",
    "outputId": "598b13cb-f673-42f7-993c-c55e0b34c267"
   },
   "outputs": [
    {
     "name": "stdout",
     "output_type": "stream",
     "text": [
      "Optimization terminated successfully.\n",
      "         Current function value: 0.353003\n",
      "         Iterations 7\n",
      "                           Logit Regression Results                           \n",
      "==============================================================================\n",
      "Dep. Variable:                      y   No. Observations:                   77\n",
      "Model:                          Logit   Df Residuals:                       75\n",
      "Method:                           MLE   Df Model:                            1\n",
      "Date:                Tue, 03 May 2022   Pseudo R-squ.:                  0.4902\n",
      "Time:                        15:50:35   Log-Likelihood:                -27.181\n",
      "converged:                       True   LL-Null:                       -53.314\n",
      "Covariance Type:            nonrobust   LLR p-value:                 4.849e-13\n",
      "==============================================================================\n",
      "                 coef    std err          z      P>|z|      [0.025      0.975]\n",
      "------------------------------------------------------------------------------\n",
      "const         23.0140      5.041      4.565      0.000      13.133      32.895\n",
      "x             -0.3562      0.078     -4.543      0.000      -0.510      -0.203\n",
      "==============================================================================\n"
     ]
    }
   ],
   "source": [
    "#adicionar uma constante preditora\n",
    "x = sm.add_constant(x)\n",
    "# Construir o modelo e ajustar os dados\n",
    "modelo = sm.Logit(y, x).fit()\n",
    "print(modelo.summary())"
   ]
  },
  {
   "cell_type": "code",
   "execution_count": 9,
   "metadata": {
    "ExecuteTime": {
     "end_time": "2022-05-03T18:50:36.320550Z",
     "start_time": "2022-05-03T18:50:35.730791Z"
    },
    "colab": {
     "base_uri": "https://localhost:8080/",
     "height": 351
    },
    "executionInfo": {
     "elapsed": 7,
     "status": "ok",
     "timestamp": 1646967129162,
     "user": {
      "displayName": "victoria alejandra herrera",
      "photoUrl": "https://lh3.googleusercontent.com/a/default-user=s64",
      "userId": "16346835995419242908"
     },
     "user_tz": 180
    },
    "hidden": true,
    "id": "QhwQeWd86pJ_",
    "outputId": "0df8cc5d-f853-4b72-e87e-430e9fc786ab"
   },
   "outputs": [
    {
     "ename": "NameError",
     "evalue": "name 'yhat' is not defined",
     "output_type": "error",
     "traceback": [
      "\u001b[0;31m---------------------------------------------------------------------------\u001b[0m",
      "\u001b[0;31mNameError\u001b[0m                                 Traceback (most recent call last)",
      "\u001b[0;32m/tmp/ipykernel_12219/4067472995.py\u001b[0m in \u001b[0;36m<module>\u001b[0;34m\u001b[0m\n\u001b[1;32m      4\u001b[0m \u001b[0max\u001b[0m \u001b[0;34m=\u001b[0m \u001b[0mplt\u001b[0m\u001b[0;34m.\u001b[0m\u001b[0maxes\u001b[0m\u001b[0;34m(\u001b[0m\u001b[0;34m)\u001b[0m\u001b[0;34m\u001b[0m\u001b[0;34m\u001b[0m\u001b[0m\n\u001b[1;32m      5\u001b[0m \u001b[0max\u001b[0m\u001b[0;34m.\u001b[0m\u001b[0mscatter\u001b[0m\u001b[0;34m(\u001b[0m\u001b[0mx\u001b[0m\u001b[0;34m,\u001b[0m \u001b[0my\u001b[0m\u001b[0;34m,\u001b[0m \u001b[0mcolor\u001b[0m\u001b[0;34m=\u001b[0m\u001b[0;34m'b'\u001b[0m\u001b[0;34m,\u001b[0m \u001b[0malpha\u001b[0m\u001b[0;34m=\u001b[0m\u001b[0;36m0.20\u001b[0m\u001b[0;34m)\u001b[0m\u001b[0;34m\u001b[0m\u001b[0;34m\u001b[0m\u001b[0m\n\u001b[0;32m----> 6\u001b[0;31m \u001b[0max\u001b[0m\u001b[0;34m.\u001b[0m\u001b[0mscatter\u001b[0m\u001b[0;34m(\u001b[0m\u001b[0mx\u001b[0m\u001b[0;34m,\u001b[0m \u001b[0myhat\u001b[0m\u001b[0;34m,\u001b[0m \u001b[0mcolor\u001b[0m\u001b[0;34m=\u001b[0m\u001b[0;34m\"black\"\u001b[0m\u001b[0;34m,\u001b[0m \u001b[0ms\u001b[0m\u001b[0;34m=\u001b[0m\u001b[0;36m4\u001b[0m\u001b[0;34m)\u001b[0m\u001b[0;34m\u001b[0m\u001b[0;34m\u001b[0m\u001b[0m\n\u001b[0m\u001b[1;32m      7\u001b[0m \u001b[0max\u001b[0m\u001b[0;34m.\u001b[0m\u001b[0mset_xlabel\u001b[0m\u001b[0;34m(\u001b[0m\u001b[0;34m'Noise'\u001b[0m\u001b[0;34m)\u001b[0m\u001b[0;34m\u001b[0m\u001b[0;34m\u001b[0m\u001b[0m\n\u001b[1;32m      8\u001b[0m \u001b[0max\u001b[0m\u001b[0;34m.\u001b[0m\u001b[0mset_ylabel\u001b[0m\u001b[0;34m(\u001b[0m\u001b[0;34m'p(x) Aceitável - Não aceitável'\u001b[0m\u001b[0;34m)\u001b[0m\u001b[0;34m\u001b[0m\u001b[0;34m\u001b[0m\u001b[0m\n",
      "\u001b[0;31mNameError\u001b[0m: name 'yhat' is not defined"
     ]
    },
    {
     "data": {
      "image/png": "[encoded data removed]",
      "text/plain": [
       "<Figure size 360x360 with 1 Axes>"
      ]
     },
     "metadata": {
      "needs_background": "light"
     },
     "output_type": "display_data"
    }
   ],
   "source": [
    "x=df1['x']\n",
    "y=df1['y']\n",
    "plt.figure(figsize=(5, 5))\n",
    "ax = plt.axes()\n",
    "ax.scatter(x, y, color='b', alpha=0.20)\n",
    "ax.scatter(x, yhat, color=\"black\", s=4)\n",
    "ax.set_xlabel('Noise')\n",
    "ax.set_ylabel('p(x) Aceitável - Não aceitável')"
   ]
  },
  {
   "cell_type": "code",
   "execution_count": null,
   "metadata": {
    "ExecuteTime": {
     "end_time": "2022-05-03T18:50:36.324256Z",
     "start_time": "2022-05-03T18:50:36.324245Z"
    },
    "colab": {
     "base_uri": "https://localhost:8080/"
    },
    "executionInfo": {
     "elapsed": 5,
     "status": "ok",
     "timestamp": 1646967129162,
     "user": {
      "displayName": "victoria alejandra herrera",
      "photoUrl": "https://lh3.googleusercontent.com/a/default-user=s64",
      "userId": "16346835995419242908"
     },
     "user_tz": 180
    },
    "hidden": true,
    "id": "FkynUkl31zGD",
    "outputId": "160a6e67-bf52-4875-fb5a-95b0f3857721"
   },
   "outputs": [],
   "source": [
    "#z: estatística de teste \n",
    "zt2=modelo.tvalues\n",
    "ztb1=zt2[1]\n",
    "ztb1"
   ]
  },
  {
   "cell_type": "code",
   "execution_count": null,
   "metadata": {
    "ExecuteTime": {
     "end_time": "2022-05-03T18:50:36.325587Z",
     "start_time": "2022-05-03T18:50:36.325575Z"
    },
    "colab": {
     "base_uri": "https://localhost:8080/"
    },
    "executionInfo": {
     "elapsed": 4,
     "status": "ok",
     "timestamp": 1646967129162,
     "user": {
      "displayName": "victoria alejandra herrera",
      "photoUrl": "https://lh3.googleusercontent.com/a/default-user=s64",
      "userId": "16346835995419242908"
     },
     "user_tz": 180
    },
    "hidden": true,
    "id": "WSEn6Q7N2BMt",
    "outputId": "7cbffa13-f320-4b39-9eb5-90b3bd1d6fe8"
   },
   "outputs": [],
   "source": [
    "#usar a tabela tstudent\n",
    "from scipy.stats import t\n",
    "#calculate p-value  TWO TAILED\n",
    "p_val= (1-t.cdf(x=abs(ztb1), df=len(x))) * 2\n",
    "p_val"
   ]
  },
  {
   "cell_type": "code",
   "execution_count": null,
   "metadata": {
    "ExecuteTime": {
     "end_time": "2022-05-03T18:50:36.327298Z",
     "start_time": "2022-05-03T18:50:36.327286Z"
    },
    "colab": {
     "base_uri": "https://localhost:8080/"
    },
    "executionInfo": {
     "elapsed": 218,
     "status": "ok",
     "timestamp": 1646972283282,
     "user": {
      "displayName": "victoria alejandra herrera",
      "photoUrl": "https://lh3.googleusercontent.com/a/default-user=s64",
      "userId": "16346835995419242908"
     },
     "user_tz": 180
    },
    "hidden": true,
    "id": "NHrpY9LgK0ef",
    "outputId": "76782218-7cf0-417d-e7a9-74e24fad8799"
   },
   "outputs": [],
   "source": [
    "#Obter a razão das chances\n",
    "odd=np.exp(modelo.params)\n",
    "odd[1]\n",
    "\n",
    "#para cada incremento de ruído, estima-se que as chances de ter um ruído não acewitável diminuem 0.7 (30%)"
   ]
  },
  {
   "cell_type": "code",
   "execution_count": null,
   "metadata": {
    "ExecuteTime": {
     "end_time": "2022-05-03T18:50:36.328881Z",
     "start_time": "2022-05-03T18:50:36.328863Z"
    },
    "colab": {
     "base_uri": "https://localhost:8080/"
    },
    "executionInfo": {
     "elapsed": 222,
     "status": "ok",
     "timestamp": 1646972198193,
     "user": {
      "displayName": "victoria alejandra herrera",
      "photoUrl": "https://lh3.googleusercontent.com/a/default-user=s64",
      "userId": "16346835995419242908"
     },
     "user_tz": 180
    },
    "hidden": true,
    "id": "I4VAu1JKMPnG",
    "outputId": "a99958de-219b-4f20-941f-bdbc5ab24131",
    "scrolled": true
   },
   "outputs": [],
   "source": [
    "params = modelo.params\n",
    "conf = modelo.conf_int()\n",
    "conf['Odds Ratio'] = params\n",
    "conf.columns = ['5%', '95%', 'Odds Ratio']\n",
    "print(np.exp(conf))\n"
   ]
  },
  {
   "cell_type": "code",
   "execution_count": null,
   "metadata": {
    "ExecuteTime": {
     "end_time": "2022-05-03T18:50:36.331295Z",
     "start_time": "2022-05-03T18:50:36.331279Z"
    },
    "colab": {
     "base_uri": "https://localhost:8080/"
    },
    "executionInfo": {
     "elapsed": 233,
     "status": "ok",
     "timestamp": 1646971453046,
     "user": {
      "displayName": "victoria alejandra herrera",
      "photoUrl": "https://lh3.googleusercontent.com/a/default-user=s64",
      "userId": "16346835995419242908"
     },
     "user_tz": 180
    },
    "hidden": true,
    "id": "l5TxJS8FUMkj",
    "outputId": "021442b7-4b44-48c3-aa37-3ce2b444510e"
   },
   "outputs": [],
   "source": [
    "# performing predictions on the test datdaset\n",
    "yhat = modelo.predict()\n",
    "prediction = list(map(round, yhat))\n",
    " \n",
    "# comparing original and predicted values of y\n",
    "print('Valores observados:', list(y))\n",
    "print('Valores previstos:', prediction)\n",
    "df2 = pd.DataFrame(list(zip(y, prediction)),\n",
    "               columns =[\"x\",\"y\"])\n",
    "#df2.to_csv(index=False)\n"
   ]
  },
  {
   "cell_type": "code",
   "execution_count": null,
   "metadata": {
    "ExecuteTime": {
     "end_time": "2022-05-03T18:50:36.333461Z",
     "start_time": "2022-05-03T18:50:36.333449Z"
    },
    "colab": {
     "base_uri": "https://localhost:8080/"
    },
    "executionInfo": {
     "elapsed": 7,
     "status": "ok",
     "timestamp": 1646967129162,
     "user": {
      "displayName": "victoria alejandra herrera",
      "photoUrl": "https://lh3.googleusercontent.com/a/default-user=s64",
      "userId": "16346835995419242908"
     },
     "user_tz": 180
    },
    "hidden": true,
    "id": "2QH0Rggh6mJe",
    "outputId": "0593ff3d-4e5d-4cd6-bf37-94cbb22300e9"
   },
   "outputs": [],
   "source": [
    "from sklearn.metrics import (confusion_matrix,accuracy_score)\n",
    " \n",
    "# confusion matrix\n",
    "cm = confusion_matrix(y, prediction)\n",
    "print (\"Confusion Matrix : \\n\", cm)\n",
    " \n",
    "# accuracy score of the model\n",
    "print('Test accuracy = ', accuracy_score(y, prediction))"
   ]
  },
  {
   "cell_type": "markdown",
   "metadata": {
    "heading_collapsed": true
   },
   "source": [
    "### Modelo polinomial"
   ]
  },
  {
   "cell_type": "markdown",
   "metadata": {
    "hidden": true
   },
   "source": [
    "#### Imports"
   ]
  },
  {
   "cell_type": "code",
   "execution_count": 46,
   "metadata": {
    "ExecuteTime": {
     "end_time": "2022-05-04T16:29:43.026569Z",
     "start_time": "2022-05-04T16:29:43.022181Z"
    },
    "colab": {
     "base_uri": "https://localhost:8080/"
    },
    "executionInfo": {
     "elapsed": 1613,
     "status": "ok",
     "timestamp": 1649617781549,
     "user": {
      "displayName": "victoria alejandra herrera",
      "userId": "16346835995419242908"
     },
     "user_tz": 180
    },
    "hidden": true,
    "id": "Ax98aziZcnIJ",
    "outputId": "d12ce6e4-15c8-41e1-f617-f4ce4ca047c3"
   },
   "outputs": [],
   "source": [
    "import numpy             as np\n",
    "import pandas            as pd\n",
    "import matplotlib.pyplot as plt\n",
    "import statsmodels.api   as sm\n",
    "import seaborn           as sns\n",
    "\n",
    "from statsmodels.formula.api                import ols\n",
    "from statsmodels.graphics.gofplots          import ProbPlot\n",
    "from sklearn.preprocessing                  import PolynomialFeatures\n",
    "from scipy.stats                            import t\n",
    "from scipy                                  import stats\n",
    "from statsmodels.sandbox.regression.predstd import wls_prediction_std"
   ]
  },
  {
   "cell_type": "markdown",
   "metadata": {
    "hidden": true
   },
   "source": [
    "#### 1. considere uma regressão quadrática de y = densidade aparente sobre x = teor de umidade."
   ]
  },
  {
   "cell_type": "code",
   "execution_count": 47,
   "metadata": {
    "ExecuteTime": {
     "end_time": "2022-05-04T16:29:45.209653Z",
     "start_time": "2022-05-04T16:29:45.203487Z"
    },
    "executionInfo": {
     "elapsed": 7,
     "status": "ok",
     "timestamp": 1649617781549,
     "user": {
      "displayName": "victoria alejandra herrera",
      "userId": "16346835995419242908"
     },
     "user_tz": 180
    },
    "hidden": true,
    "id": "I3s_XzOou2KA"
   },
   "outputs": [],
   "source": [
    "x = (7,10.3,13.7,16.6,19.8,22)\n",
    "y = (479,503,487,470,458,412)\n",
    "\n",
    "\n",
    "df = pd.DataFrame(list(zip(x, y)),\n",
    "               columns =[\"x\",\"y\"])\n",
    "x = df['x']\n",
    "y = df['y']"
   ]
  },
  {
   "cell_type": "code",
   "execution_count": 48,
   "metadata": {
    "ExecuteTime": {
     "end_time": "2022-05-04T16:29:47.147067Z",
     "start_time": "2022-05-04T16:29:47.131969Z"
    },
    "colab": {
     "base_uri": "https://localhost:8080/"
    },
    "executionInfo": {
     "elapsed": 8,
     "status": "ok",
     "timestamp": 1649617781550,
     "user": {
      "displayName": "victoria alejandra herrera",
      "userId": "16346835995419242908"
     },
     "user_tz": 180
    },
    "hidden": true,
    "id": "otlB_K2avmh8",
    "outputId": "37e25375-937d-4eef-85a1-4d21f5ffd0d8"
   },
   "outputs": [
    {
     "name": "stdout",
     "output_type": "stream",
     "text": [
      "                            OLS Regression Results                            \n",
      "==============================================================================\n",
      "Dep. Variable:                      y   R-squared:                       0.635\n",
      "Model:                            OLS   Adj. R-squared:                  0.543\n",
      "Method:                 Least Squares   F-statistic:                     6.950\n",
      "Date:                Wed, 04 May 2022   Prob (F-statistic):             0.0578\n",
      "Time:                        13:29:47   Log-Likelihood:                -25.637\n",
      "No. Observations:                   6   AIC:                             55.27\n",
      "Df Residuals:                       4   BIC:                             54.86\n",
      "Df Model:                           1                                         \n",
      "Covariance Type:            nonrobust                                         \n",
      "==============================================================================\n",
      "                 coef    std err          t      P>|t|      [0.025      0.975]\n",
      "------------------------------------------------------------------------------\n",
      "const        533.6984     26.328     20.271      0.000     460.600     606.797\n",
      "x             -4.3981      1.668     -2.636      0.058      -9.030       0.234\n",
      "==============================================================================\n",
      "Omnibus:                          nan   Durbin-Watson:                   1.564\n",
      "Prob(Omnibus):                    nan   Jarque-Bera (JB):                1.022\n",
      "Skew:                          -0.679   Prob(JB):                        0.600\n",
      "Kurtosis:                       1.502   Cond. No.                         48.1\n",
      "==============================================================================\n",
      "\n",
      "Notes:\n",
      "[1] Standard Errors assume that the covariance matrix of the errors is correctly specified.\n"
     ]
    },
    {
     "name": "stderr",
     "output_type": "stream",
     "text": [
      "/home/felipe_oliveira/anaconda3/envs/env_01/lib/python3.9/site-packages/statsmodels/stats/stattools.py:74: ValueWarning: omni_normtest is not valid with less than 8 observations; 6 samples were given.\n",
      "  warn(\"omni_normtest is not valid with less than 8 observations; %i \"\n"
     ]
    }
   ],
   "source": [
    "#Proceso de regressão \n",
    "x = sm.add_constant(x)\n",
    "#fit linear regression model\n",
    "modelo = sm.OLS(y, x).fit()\n",
    "print(modelo.summary())"
   ]
  },
  {
   "cell_type": "code",
   "execution_count": 49,
   "metadata": {
    "ExecuteTime": {
     "end_time": "2022-05-04T16:29:49.902392Z",
     "start_time": "2022-05-04T16:29:49.771256Z"
    },
    "colab": {
     "base_uri": "https://localhost:8080/",
     "height": 404
    },
    "executionInfo": {
     "elapsed": 622,
     "status": "ok",
     "timestamp": 1649617782169,
     "user": {
      "displayName": "victoria alejandra herrera",
      "userId": "16346835995419242908"
     },
     "user_tz": 180
    },
    "hidden": true,
    "id": "i7bEr2-BrlTF",
    "outputId": "fb81dcdf-1eef-43c6-9673-2afc1425c867"
   },
   "outputs": [
    {
     "data": {
      "image/png": "[encoded data removed]",
      "text/plain": [
       "<Figure size 700x500 with 1 Axes>"
      ]
     },
     "metadata": {
      "needs_background": "light"
     },
     "output_type": "display_data"
    }
   ],
   "source": [
    "x=df['x']\n",
    "y=df['y']\n",
    "\n",
    "yp = 533.6984 -4.3981*x\n",
    "\n",
    "plt.plot(x, yp, color = \"g\")\n",
    "plt.scatter(x, y, color = \"m\",  marker = \"o\", s = 30)\n",
    "plt.grid(True)\n",
    "x = sm.add_constant(x)"
   ]
  },
  {
   "cell_type": "markdown",
   "metadata": {
    "hidden": true
   },
   "source": [
    "#### a. Um gráfico de dispersão dos dados parece consistente com o modelo de regressão quadrática?"
   ]
  },
  {
   "cell_type": "code",
   "execution_count": 50,
   "metadata": {
    "ExecuteTime": {
     "end_time": "2022-05-04T16:29:51.811942Z",
     "start_time": "2022-05-04T16:29:51.582104Z"
    },
    "colab": {
     "base_uri": "https://localhost:8080/",
     "height": 495
    },
    "executionInfo": {
     "elapsed": 6,
     "status": "ok",
     "timestamp": 1649617782169,
     "user": {
      "displayName": "victoria alejandra herrera",
      "userId": "16346835995419242908"
     },
     "user_tz": 180
    },
    "hidden": true,
    "id": "IFpv-DSdEzso",
    "outputId": "fb4c1fb4-5255-41b5-caab-da5fa6f9160a"
   },
   "outputs": [
    {
     "name": "stderr",
     "output_type": "stream",
     "text": [
      "No artists with labels found to put in legend.  Note that artists whose label start with an underscore are ignored when legend() is called with no argument.\n"
     ]
    },
    {
     "data": {
      "image/png": "[encoded data removed]",
      "text/plain": [
       "<Figure size 700x500 with 1 Axes>"
      ]
     },
     "metadata": {
      "needs_background": "light"
     },
     "output_type": "display_data"
    }
   ],
   "source": [
    "#analisar o gráfico\n",
    "x=df['x']\n",
    "y=df['y']\n",
    "plt.rcParams.update({'figure.figsize':(7,5), 'figure.dpi':100})\n",
    "plt.scatter(x,y)\n",
    "plt.xlabel('Velocidade do fluxo do fluido (cm/s)')\n",
    "plt.ylabel('Quantidade de gotículas de névoa (mg/m3)') \n",
    "plt.title('Gráfico de dispersão')\n",
    "plt.legend()\n",
    "plt.grid(True)\n",
    "plt.show()"
   ]
  },
  {
   "cell_type": "code",
   "execution_count": 51,
   "metadata": {
    "ExecuteTime": {
     "end_time": "2022-05-04T16:29:56.804516Z",
     "start_time": "2022-05-04T16:29:56.791479Z"
    },
    "colab": {
     "base_uri": "https://localhost:8080/"
    },
    "executionInfo": {
     "elapsed": 709,
     "status": "ok",
     "timestamp": 1649617782874,
     "user": {
      "displayName": "victoria alejandra herrera",
      "userId": "16346835995419242908"
     },
     "user_tz": 180
    },
    "hidden": true,
    "id": "TnI1MmlbuBa0",
    "outputId": "384a1c37-16dc-4c7f-d9a6-f9efec6a0a60"
   },
   "outputs": [
    {
     "data": {
      "text/plain": [
       "(6, 6)"
      ]
     },
     "execution_count": 51,
     "metadata": {},
     "output_type": "execute_result"
    }
   ],
   "source": [
    "#dado que os dados apresentam um polinômio quadrático, adequar os dados com sklearn\n",
    "x=df['x']\n",
    "y=df['y']\n",
    "x = sm.add_constant(x) \n",
    "\n",
    "#definir o valor de k, isto é o grau do polinômio\n",
    "polynomial_features= PolynomialFeatures(degree=2)\n",
    "xp = polynomial_features.fit_transform(x)\n",
    "xp.shape"
   ]
  },
  {
   "cell_type": "code",
   "execution_count": 52,
   "metadata": {
    "ExecuteTime": {
     "end_time": "2022-05-04T16:29:58.080961Z",
     "start_time": "2022-05-04T16:29:58.067440Z"
    },
    "colab": {
     "base_uri": "https://localhost:8080/"
    },
    "executionInfo": {
     "elapsed": 17,
     "status": "ok",
     "timestamp": 1649617782874,
     "user": {
      "displayName": "victoria alejandra herrera",
      "userId": "16346835995419242908"
     },
     "user_tz": 180
    },
    "hidden": true,
    "id": "zwkOddP591Bm",
    "outputId": "2f08c358-348d-43f5-e5b3-716cbb150c4e"
   },
   "outputs": [
    {
     "data": {
      "text/plain": [
       "array([[  1.  ,   1.  ,   7.  ,   1.  ,   7.  ,  49.  ],\n",
       "       [  1.  ,   1.  ,  10.3 ,   1.  ,  10.3 , 106.09],\n",
       "       [  1.  ,   1.  ,  13.7 ,   1.  ,  13.7 , 187.69],\n",
       "       [  1.  ,   1.  ,  16.6 ,   1.  ,  16.6 , 275.56],\n",
       "       [  1.  ,   1.  ,  19.8 ,   1.  ,  19.8 , 392.04],\n",
       "       [  1.  ,   1.  ,  22.  ,   1.  ,  22.  , 484.  ]])"
      ]
     },
     "execution_count": 52,
     "metadata": {},
     "output_type": "execute_result"
    }
   ],
   "source": [
    "xp"
   ]
  },
  {
   "cell_type": "code",
   "execution_count": 53,
   "metadata": {
    "ExecuteTime": {
     "end_time": "2022-05-04T16:29:58.231968Z",
     "start_time": "2022-05-04T16:29:58.226535Z"
    },
    "colab": {
     "base_uri": "https://localhost:8080/"
    },
    "executionInfo": {
     "elapsed": 16,
     "status": "ok",
     "timestamp": 1649617782875,
     "user": {
      "displayName": "victoria alejandra herrera",
      "userId": "16346835995419242908"
     },
     "user_tz": 180
    },
    "hidden": true,
    "id": "uIkjjFfzwONM",
    "outputId": "b435b734-0206-40ae-df27-c3569a0a0bec"
   },
   "outputs": [
    {
     "data": {
      "text/plain": [
       "array([[  1.  ,   7.  ,  49.  ],\n",
       "       [  1.  ,  10.3 , 106.09],\n",
       "       [  1.  ,  13.7 , 187.69],\n",
       "       [  1.  ,  16.6 , 275.56],\n",
       "       [  1.  ,  19.8 , 392.04],\n",
       "       [  1.  ,  22.  , 484.  ]])"
      ]
     },
     "execution_count": 53,
     "metadata": {},
     "output_type": "execute_result"
    }
   ],
   "source": [
    "xp[:,3:6]"
   ]
  },
  {
   "cell_type": "code",
   "execution_count": 54,
   "metadata": {
    "ExecuteTime": {
     "end_time": "2022-05-04T16:30:00.238740Z",
     "start_time": "2022-05-04T16:30:00.231629Z"
    },
    "colab": {
     "base_uri": "https://localhost:8080/"
    },
    "executionInfo": {
     "elapsed": 15,
     "status": "ok",
     "timestamp": 1649617782875,
     "user": {
      "displayName": "victoria alejandra herrera",
      "userId": "16346835995419242908"
     },
     "user_tz": 180
    },
    "hidden": true,
    "id": "Ud2CrlbxwHU-",
    "outputId": "42c65e65-c1e9-48dc-8c14-b8888af6fb87"
   },
   "outputs": [
    {
     "data": {
      "text/plain": [
       "(6,)"
      ]
     },
     "execution_count": 54,
     "metadata": {},
     "output_type": "execute_result"
    }
   ],
   "source": [
    "#Aplicar a regressão polinomial com o novo x, isto é xp\n",
    "modelpo = sm.OLS(y,xp[:,3:6]).fit()\n",
    "ypred = modelpo.predict(xp[:,3:6]) \n",
    "ypred.shape"
   ]
  },
  {
   "cell_type": "code",
   "execution_count": 55,
   "metadata": {
    "ExecuteTime": {
     "end_time": "2022-05-04T16:30:01.045012Z",
     "start_time": "2022-05-04T16:30:00.896069Z"
    },
    "colab": {
     "base_uri": "https://localhost:8080/",
     "height": 456
    },
    "executionInfo": {
     "elapsed": 14,
     "status": "ok",
     "timestamp": 1649617782875,
     "user": {
      "displayName": "victoria alejandra herrera",
      "userId": "16346835995419242908"
     },
     "user_tz": 180
    },
    "hidden": true,
    "id": "0izedbnIwKyk",
    "outputId": "15059040-c369-4ef2-e8cc-9aea8c2c3374"
   },
   "outputs": [
    {
     "data": {
      "text/plain": [
       "[<matplotlib.lines.Line2D at 0x7fc9bb765370>]"
      ]
     },
     "execution_count": 55,
     "metadata": {},
     "output_type": "execute_result"
    },
    {
     "data": {
      "image/png": "[encoded data removed]",
      "text/plain": [
       "<Figure size 700x500 with 1 Axes>"
      ]
     },
     "metadata": {
      "needs_background": "light"
     },
     "output_type": "display_data"
    }
   ],
   "source": [
    "x=df['x']\n",
    "plt.scatter(x,y)\n",
    "plt.plot(x,ypred)"
   ]
  },
  {
   "cell_type": "code",
   "execution_count": 56,
   "metadata": {
    "ExecuteTime": {
     "end_time": "2022-05-04T16:30:02.703391Z",
     "start_time": "2022-05-04T16:30:02.677339Z"
    },
    "colab": {
     "base_uri": "https://localhost:8080/"
    },
    "executionInfo": {
     "elapsed": 14,
     "status": "ok",
     "timestamp": 1649617782876,
     "user": {
      "displayName": "victoria alejandra herrera",
      "userId": "16346835995419242908"
     },
     "user_tz": 180
    },
    "hidden": true,
    "id": "yQPcxL8IwfpV",
    "outputId": "c96941cc-2b56-4969-bb4e-45b603be4060"
   },
   "outputs": [
    {
     "name": "stdout",
     "output_type": "stream",
     "text": [
      "                            OLS Regression Results                            \n",
      "==============================================================================\n",
      "Dep. Variable:                      y   R-squared:                       0.938\n",
      "Model:                            OLS   Adj. R-squared:                  0.896\n",
      "Method:                 Least Squares   F-statistic:                     22.51\n",
      "Date:                Wed, 04 May 2022   Prob (F-statistic):             0.0156\n",
      "Time:                        13:30:02   Log-Likelihood:                -20.339\n",
      "No. Observations:                   6   AIC:                             46.68\n",
      "Df Residuals:                       3   BIC:                             46.05\n",
      "Df Model:                           2                                         \n",
      "Covariance Type:            nonrobust                                         \n",
      "==============================================================================\n",
      "                 coef    std err          t      P>|t|      [0.025      0.975]\n",
      "------------------------------------------------------------------------------\n",
      "const        403.2396     36.453     11.062      0.002     287.230     519.249\n",
      "x1            16.1636      5.451      2.965      0.059      -1.185      33.512\n",
      "x2            -0.7063      0.185     -3.813      0.032      -1.296      -0.117\n",
      "==============================================================================\n",
      "Omnibus:                          nan   Durbin-Watson:                   2.980\n",
      "Prob(Omnibus):                    nan   Jarque-Bera (JB):                0.911\n",
      "Skew:                           0.679   Prob(JB):                        0.634\n",
      "Kurtosis:                       1.658   Cond. No.                     2.60e+03\n",
      "==============================================================================\n",
      "\n",
      "Notes:\n",
      "[1] Standard Errors assume that the covariance matrix of the errors is correctly specified.\n",
      "[2] The condition number is large, 2.6e+03. This might indicate that there are\n",
      "strong multicollinearity or other numerical problems.\n"
     ]
    },
    {
     "name": "stderr",
     "output_type": "stream",
     "text": [
      "/home/felipe_oliveira/anaconda3/envs/env_01/lib/python3.9/site-packages/statsmodels/stats/stattools.py:74: ValueWarning: omni_normtest is not valid with less than 8 observations; 6 samples were given.\n",
      "  warn(\"omni_normtest is not valid with less than 8 observations; %i \"\n"
     ]
    }
   ],
   "source": [
    "modelpo = sm.OLS(y, xp[:,3:6]).fit()\n",
    "print(modelpo.summary())"
   ]
  },
  {
   "cell_type": "markdown",
   "metadata": {
    "hidden": true
   },
   "source": [
    "#### b. Que porporção da variação observada na densidade pode ser atribuída à relação do modelo?"
   ]
  },
  {
   "cell_type": "code",
   "execution_count": 57,
   "metadata": {
    "ExecuteTime": {
     "end_time": "2022-05-04T16:30:05.040541Z",
     "start_time": "2022-05-04T16:30:05.028193Z"
    },
    "colab": {
     "base_uri": "https://localhost:8080/"
    },
    "executionInfo": {
     "elapsed": 13,
     "status": "ok",
     "timestamp": 1649617782876,
     "user": {
      "displayName": "victoria alejandra herrera",
      "userId": "16346835995419242908"
     },
     "user_tz": 180
    },
    "hidden": true,
    "id": "RZRCqVWjLwCo",
    "outputId": "253843c5-d037-4d4f-c096-7106a0a963d4"
   },
   "outputs": [
    {
     "name": "stdout",
     "output_type": "stream",
     "text": [
      "SQE= 309.1089896030001\n",
      "SQT= 4946.833333333333\n",
      "SQR= 4637.724343730333\n",
      "Coeficiente de determinação múltippla= 0.9375137651151241 ou 93.7513765115124 %\n",
      "R2 ajustado= 0.8958562751918734 ou 89.58562751918734 %\n"
     ]
    }
   ],
   "source": [
    "#proporção = coeficiente de determinação\n",
    "#calcular SQE--> Baseado nos valores esperados\n",
    "sqe = np.sum((ypred - y)**2)\n",
    "print(\"SQE=\", sqe)\n",
    "\n",
    "#calcular SQT-->Baseado nos valores observados\n",
    "sqt = np.sum((y - y.mean())**2)\n",
    "print(\"SQT=\", sqt)\n",
    "\n",
    "#calcular SQR\n",
    "sqr = sqt - sqe\n",
    "print(\"SQR=\",sqr)\n",
    "\n",
    "r2=1-sqe/sqt\n",
    "print(\"Coeficiente de determinação múltippla=\",r2, \"ou\",r2*100, \"%\")\n",
    "\n",
    "k=modelpo.df_model # grau do modelo\n",
    "n=modelpo.nobs # num. amostras\n",
    "r2adj=((n-1)*r2-k)/(n-1-k)\n",
    "\n",
    "print(\"R2 ajustado=\",r2adj, \"ou\",r2adj*100, \"%\")"
   ]
  },
  {
   "cell_type": "code",
   "execution_count": 58,
   "metadata": {
    "ExecuteTime": {
     "end_time": "2022-05-04T16:30:07.078073Z",
     "start_time": "2022-05-04T16:30:07.072804Z"
    },
    "colab": {
     "base_uri": "https://localhost:8080/"
    },
    "executionInfo": {
     "elapsed": 11,
     "status": "ok",
     "timestamp": 1649617782876,
     "user": {
      "displayName": "victoria alejandra herrera",
      "userId": "16346835995419242908"
     },
     "user_tz": 180
    },
    "hidden": true,
    "id": "Idei2p4yMTws",
    "outputId": "9d80ac0b-cc75-4e95-9696-b0c6108cbfb0"
   },
   "outputs": [
    {
     "name": "stdout",
     "output_type": "stream",
     "text": [
      "R2= 0.9375137651151241, R2 ajustado= 0.8958562751918735\n"
     ]
    }
   ],
   "source": [
    "r2d=modelpo.rsquared\n",
    "r2adjd=modelpo.rsquared_adj\n",
    "print('R2= {0}, R2 ajustado= {1}'.format(r2d,r2adjd))  "
   ]
  },
  {
   "cell_type": "code",
   "execution_count": 59,
   "metadata": {
    "ExecuteTime": {
     "end_time": "2022-05-04T16:30:07.322255Z",
     "start_time": "2022-05-04T16:30:07.312629Z"
    },
    "colab": {
     "base_uri": "https://localhost:8080/",
     "height": 237
    },
    "executionInfo": {
     "elapsed": 379,
     "status": "ok",
     "timestamp": 1649618082339,
     "user": {
      "displayName": "victoria alejandra herrera",
      "userId": "16346835995419242908"
     },
     "user_tz": 180
    },
    "hidden": true,
    "id": "wnJ3ymd-4sQd",
    "outputId": "dfc0cecd-13f4-4476-86e8-dd97590470ac",
    "scrolled": true
   },
   "outputs": [
    {
     "data": {
      "text/html": [
       "<div>\n",
       "<style scoped>\n",
       "    .dataframe tbody tr th:only-of-type {\n",
       "        vertical-align: middle;\n",
       "    }\n",
       "\n",
       "    .dataframe tbody tr th {\n",
       "        vertical-align: top;\n",
       "    }\n",
       "\n",
       "    .dataframe thead th {\n",
       "        text-align: right;\n",
       "    }\n",
       "</style>\n",
       "<table border=\"1\" class=\"dataframe\">\n",
       "  <thead>\n",
       "    <tr style=\"text-align: right;\">\n",
       "      <th></th>\n",
       "      <th>x1</th>\n",
       "      <th>x2</th>\n",
       "      <th>x3</th>\n",
       "      <th>y</th>\n",
       "    </tr>\n",
       "  </thead>\n",
       "  <tbody>\n",
       "    <tr>\n",
       "      <th>0</th>\n",
       "      <td>1.0</td>\n",
       "      <td>7.0</td>\n",
       "      <td>49.00</td>\n",
       "      <td>479</td>\n",
       "    </tr>\n",
       "    <tr>\n",
       "      <th>1</th>\n",
       "      <td>1.0</td>\n",
       "      <td>10.3</td>\n",
       "      <td>106.09</td>\n",
       "      <td>503</td>\n",
       "    </tr>\n",
       "    <tr>\n",
       "      <th>2</th>\n",
       "      <td>1.0</td>\n",
       "      <td>13.7</td>\n",
       "      <td>187.69</td>\n",
       "      <td>487</td>\n",
       "    </tr>\n",
       "    <tr>\n",
       "      <th>3</th>\n",
       "      <td>1.0</td>\n",
       "      <td>16.6</td>\n",
       "      <td>275.56</td>\n",
       "      <td>470</td>\n",
       "    </tr>\n",
       "    <tr>\n",
       "      <th>4</th>\n",
       "      <td>1.0</td>\n",
       "      <td>19.8</td>\n",
       "      <td>392.04</td>\n",
       "      <td>458</td>\n",
       "    </tr>\n",
       "    <tr>\n",
       "      <th>5</th>\n",
       "      <td>1.0</td>\n",
       "      <td>22.0</td>\n",
       "      <td>484.00</td>\n",
       "      <td>412</td>\n",
       "    </tr>\n",
       "  </tbody>\n",
       "</table>\n",
       "</div>"
      ],
      "text/plain": [
       "    x1    x2      x3    y\n",
       "0  1.0   7.0   49.00  479\n",
       "1  1.0  10.3  106.09  503\n",
       "2  1.0  13.7  187.69  487\n",
       "3  1.0  16.6  275.56  470\n",
       "4  1.0  19.8  392.04  458\n",
       "5  1.0  22.0  484.00  412"
      ]
     },
     "execution_count": 59,
     "metadata": {},
     "output_type": "execute_result"
    }
   ],
   "source": [
    "df1 = pd.DataFrame(list(zip(xp[:,3],xp[:,4],xp[:,5],y)),\n",
    "               columns =[\"x1\",\"x2\",\"x3\",\"y\"])\n",
    "df1.head(10)"
   ]
  },
  {
   "cell_type": "code",
   "execution_count": 60,
   "metadata": {
    "ExecuteTime": {
     "end_time": "2022-05-04T16:30:08.552953Z",
     "start_time": "2022-05-04T16:30:08.531509Z"
    },
    "colab": {
     "base_uri": "https://localhost:8080/",
     "height": 237
    },
    "executionInfo": {
     "elapsed": 3,
     "status": "ok",
     "timestamp": 1649618129749,
     "user": {
      "displayName": "victoria alejandra herrera",
      "userId": "16346835995419242908"
     },
     "user_tz": 180
    },
    "hidden": true,
    "id": "Y-Z9EP2o4Q9E",
    "outputId": "b5518476-2545-4996-c2ce-210c33e19eca"
   },
   "outputs": [
    {
     "data": {
      "text/html": [
       "<div>\n",
       "<style scoped>\n",
       "    .dataframe tbody tr th:only-of-type {\n",
       "        vertical-align: middle;\n",
       "    }\n",
       "\n",
       "    .dataframe tbody tr th {\n",
       "        vertical-align: top;\n",
       "    }\n",
       "\n",
       "    .dataframe thead th {\n",
       "        text-align: right;\n",
       "    }\n",
       "</style>\n",
       "<table border=\"1\" class=\"dataframe\">\n",
       "  <thead>\n",
       "    <tr style=\"text-align: right;\">\n",
       "      <th></th>\n",
       "      <th>mean</th>\n",
       "      <th>mean_se</th>\n",
       "      <th>mean_ci_lower</th>\n",
       "      <th>mean_ci_upper</th>\n",
       "      <th>obs_ci_lower</th>\n",
       "      <th>obs_ci_upper</th>\n",
       "    </tr>\n",
       "  </thead>\n",
       "  <tbody>\n",
       "    <tr>\n",
       "      <th>0</th>\n",
       "      <td>481.776822</td>\n",
       "      <td>9.354919</td>\n",
       "      <td>452.005294</td>\n",
       "      <td>511.548349</td>\n",
       "      <td>437.846284</td>\n",
       "      <td>525.707359</td>\n",
       "    </tr>\n",
       "    <tr>\n",
       "      <th>1</th>\n",
       "      <td>494.794694</td>\n",
       "      <td>5.780930</td>\n",
       "      <td>476.397196</td>\n",
       "      <td>513.192192</td>\n",
       "      <td>457.619215</td>\n",
       "      <td>531.970173</td>\n",
       "    </tr>\n",
       "    <tr>\n",
       "      <th>2</th>\n",
       "      <td>492.117734</td>\n",
       "      <td>6.486305</td>\n",
       "      <td>471.475416</td>\n",
       "      <td>512.760053</td>\n",
       "      <td>453.781673</td>\n",
       "      <td>530.453796</td>\n",
       "    </tr>\n",
       "    <tr>\n",
       "      <th>3</th>\n",
       "      <td>476.930505</td>\n",
       "      <td>6.095090</td>\n",
       "      <td>457.533208</td>\n",
       "      <td>496.327802</td>\n",
       "      <td>439.250226</td>\n",
       "      <td>514.610784</td>\n",
       "    </tr>\n",
       "    <tr>\n",
       "      <th>4</th>\n",
       "      <td>446.385379</td>\n",
       "      <td>5.693617</td>\n",
       "      <td>428.265749</td>\n",
       "      <td>464.505010</td>\n",
       "      <td>409.346625</td>\n",
       "      <td>483.424133</td>\n",
       "    </tr>\n",
       "    <tr>\n",
       "      <th>5</th>\n",
       "      <td>416.994866</td>\n",
       "      <td>8.748473</td>\n",
       "      <td>389.153321</td>\n",
       "      <td>444.836411</td>\n",
       "      <td>374.348648</td>\n",
       "      <td>459.641084</td>\n",
       "    </tr>\n",
       "  </tbody>\n",
       "</table>\n",
       "</div>"
      ],
      "text/plain": [
       "         mean   mean_se  mean_ci_lower  mean_ci_upper  obs_ci_lower  \\\n",
       "0  481.776822  9.354919     452.005294     511.548349    437.846284   \n",
       "1  494.794694  5.780930     476.397196     513.192192    457.619215   \n",
       "2  492.117734  6.486305     471.475416     512.760053    453.781673   \n",
       "3  476.930505  6.095090     457.533208     496.327802    439.250226   \n",
       "4  446.385379  5.693617     428.265749     464.505010    409.346625   \n",
       "5  416.994866  8.748473     389.153321     444.836411    374.348648   \n",
       "\n",
       "   obs_ci_upper  \n",
       "0    525.707359  \n",
       "1    531.970173  \n",
       "2    530.453796  \n",
       "3    514.610784  \n",
       "4    483.424133  \n",
       "5    459.641084  "
      ]
     },
     "execution_count": 60,
     "metadata": {},
     "output_type": "execute_result"
    }
   ],
   "source": [
    "pred=modelpo.get_prediction(df1.iloc[:,0:3])\n",
    "pred.summary_frame()"
   ]
  },
  {
   "cell_type": "markdown",
   "metadata": {
    "hidden": true,
    "id": "18g0TdXXidEl"
   },
   "source": [
    "#### c. Calcule um IC de 95% para a densidade média verdadeira quando o teor de umidade for 13.7 e sy_inf = 6.49\n"
   ]
  },
  {
   "cell_type": "code",
   "execution_count": 61,
   "metadata": {
    "ExecuteTime": {
     "end_time": "2022-05-04T16:30:12.567087Z",
     "start_time": "2022-05-04T16:30:12.560807Z"
    },
    "colab": {
     "base_uri": "https://localhost:8080/"
    },
    "executionInfo": {
     "elapsed": 443,
     "status": "ok",
     "timestamp": 1649618192900,
     "user": {
      "displayName": "victoria alejandra herrera",
      "userId": "16346835995419242908"
     },
     "user_tz": 180
    },
    "hidden": true,
    "id": "SgpV3Vs8j3Kd",
    "outputId": "765770b1-e96d-41f4-a205-94d3baf1405d"
   },
   "outputs": [
    {
     "data": {
      "text/plain": [
       "(13.7, 14.9, 492.1155)"
      ]
     },
     "execution_count": 61,
     "metadata": {},
     "output_type": "execute_result"
    }
   ],
   "source": [
    "x=df['x']\n",
    "xs=13.7\n",
    "xm=x.mean()\n",
    "uy13=492.1155\n",
    "xs,xm,uy13"
   ]
  },
  {
   "cell_type": "code",
   "execution_count": 17,
   "metadata": {
    "ExecuteTime": {
     "end_time": "2022-05-04T16:09:29.337523Z",
     "start_time": "2022-05-04T16:09:29.261649Z"
    },
    "colab": {
     "base_uri": "https://localhost:8080/"
    },
    "executionInfo": {
     "elapsed": 466,
     "status": "ok",
     "timestamp": 1649618195045,
     "user": {
      "displayName": "victoria alejandra herrera",
      "userId": "16346835995419242908"
     },
     "user_tz": 180
    },
    "hidden": true,
    "id": "xC1uqwmZkMUr",
    "outputId": "ac15e8b5-5958-4173-a6d8-2bde76c4cd63"
   },
   "outputs": [
    {
     "name": "stdout",
     "output_type": "stream",
     "text": [
      "t_crit=: 3.182446305284263\n"
     ]
    }
   ],
   "source": [
    "#usar a tabela tstudent pata t\n",
    "alpha = 0.05  # significia = 5% \n",
    "df = n-(k+1) # graus de liberdade                                      \n",
    "v = t.ppf(1 - alpha/2, df) \n",
    "tt=v\n",
    "print(f't_crit=: {v}')"
   ]
  },
  {
   "cell_type": "markdown",
   "metadata": {
    "hidden": true
   },
   "source": [
    "#### d. Calcule o IP de 99% para a densidade média verdadeira quando o teor de umidade for 14"
   ]
  },
  {
   "cell_type": "code",
   "execution_count": 62,
   "metadata": {
    "ExecuteTime": {
     "end_time": "2022-05-04T16:30:59.737380Z",
     "start_time": "2022-05-04T16:30:59.731897Z"
    },
    "colab": {
     "base_uri": "https://localhost:8080/"
    },
    "executionInfo": {
     "elapsed": 321,
     "status": "ok",
     "timestamp": 1649618197045,
     "user": {
      "displayName": "victoria alejandra herrera",
      "userId": "16346835995419242908"
     },
     "user_tz": 180
    },
    "hidden": true,
    "id": "0o4jZf1ukzMa",
    "outputId": "ec8fb60c-c468-4ac9-e4f4-0a9566e14604"
   },
   "outputs": [
    {
     "name": "stdout",
     "output_type": "stream",
     "text": [
      "t_crit=: 5.84090929975643\n"
     ]
    }
   ],
   "source": [
    "#usar a tabela tstudent pata t\n",
    "alpha = 0.01  # significia = 1% \n",
    "df = n-(k+1) # graus de liberdade                                      \n",
    "v = t.ppf(1 - alpha/2, df) \n",
    "tt=v\n",
    "print(f't_crit=: {v}')"
   ]
  },
  {
   "cell_type": "code",
   "execution_count": 63,
   "metadata": {
    "ExecuteTime": {
     "end_time": "2022-05-04T16:31:01.549702Z",
     "start_time": "2022-05-04T16:31:01.543703Z"
    },
    "colab": {
     "base_uri": "https://localhost:8080/"
    },
    "executionInfo": {
     "elapsed": 335,
     "status": "ok",
     "timestamp": 1649618199054,
     "user": {
      "displayName": "victoria alejandra herrera",
      "userId": "16346835995419242908"
     },
     "user_tz": 180
    },
    "hidden": true,
    "id": "-SlDVV5Tiupa",
    "outputId": "a7e086a6-efe9-4854-ac73-65992942fb18"
   },
   "outputs": [
    {
     "data": {
      "text/plain": [
       "10.150681251407056"
      ]
     },
     "execution_count": 63,
     "metadata": {},
     "output_type": "execute_result"
    }
   ],
   "source": [
    "s2=sqe/(n-(k+1))\n",
    "s=pow(s2,1/2)\n",
    "s"
   ]
  },
  {
   "cell_type": "code",
   "execution_count": 64,
   "metadata": {
    "ExecuteTime": {
     "end_time": "2022-05-04T16:31:09.387100Z",
     "start_time": "2022-05-04T16:31:09.383338Z"
    },
    "hidden": true
   },
   "outputs": [],
   "source": [
    "#obter a equação do statsmodel\n",
    "#y = 403 + 16x - 0.7(x**2)\n",
    "\n",
    "#uy,14 = 491\n",
    "\n",
    "#tanto para IC quanto para IP a formula de intervalo tem alteração no gl ond se torna n-(k+1)"
   ]
  },
  {
   "cell_type": "code",
   "execution_count": 65,
   "metadata": {
    "ExecuteTime": {
     "end_time": "2022-05-04T16:31:10.837491Z",
     "start_time": "2022-05-04T16:31:10.671787Z"
    },
    "colab": {
     "base_uri": "https://localhost:8080/",
     "height": 456
    },
    "executionInfo": {
     "elapsed": 1068,
     "status": "ok",
     "timestamp": 1649618206056,
     "user": {
      "displayName": "victoria alejandra herrera",
      "userId": "16346835995419242908"
     },
     "user_tz": 180
    },
    "hidden": true,
    "id": "VT80CsDPy7jI",
    "outputId": "c172ec90-b2c7-4bd0-96ff-c05c81f1a8c7"
   },
   "outputs": [
    {
     "data": {
      "text/plain": [
       "[<matplotlib.lines.Line2D at 0x7fc9bb790e50>]"
      ]
     },
     "execution_count": 65,
     "metadata": {},
     "output_type": "execute_result"
    },
    {
     "data": {
      "image/png": "[encoded data removed]",
      "text/plain": [
       "<Figure size 700x500 with 1 Axes>"
      ]
     },
     "metadata": {
      "needs_background": "light"
     },
     "output_type": "display_data"
    }
   ],
   "source": [
    "#Intervalos \n",
    "_, upper,lower = wls_prediction_std(modelpo)\n",
    "plt.scatter(x,y)\n",
    "plt.plot(x,ypred)\n",
    "plt.plot(x,upper,'--',label=\"Maior\") # confid. intrvl\n",
    "plt.plot(x,lower,':',label=\"Menor\")"
   ]
  },
  {
   "cell_type": "markdown",
   "metadata": {
    "heading_collapsed": true,
    "hidden": true
   },
   "source": [
    "#### e. O preditor quadrático parece fornecer informações úteis? Teste as hipóteses apŕopriadas no nível de significância de 0.05"
   ]
  },
  {
   "cell_type": "code",
   "execution_count": 22,
   "metadata": {
    "ExecuteTime": {
     "end_time": "2022-05-04T16:09:29.940330Z",
     "start_time": "2022-05-04T16:09:29.937128Z"
    },
    "hidden": true
   },
   "outputs": [],
   "source": [
    "#t calc em x2 não é maior que t_crit, rejeitar h0"
   ]
  },
  {
   "cell_type": "markdown",
   "metadata": {
    "hidden": true
   },
   "source": [
    "#### 2. Um conjunto de 24 dados, em que a variável resposta é a resistência de um material e a variável preditora ou preditor é temperatura, foi analisado e obteve-se como resultado dessa análise o modelo polinomial descrito a seguir. y = -132.18 + 12.7x - 0.377x² + 0.00359x³. Se o erro-padrão é sy_inf = 0.0611, qual é o intervalo de confiança do valor esperado para x=30, a 95% ? Considere o valor t-student com  quatro casas decimais."
   ]
  },
  {
   "cell_type": "code",
   "execution_count": 40,
   "metadata": {
    "ExecuteTime": {
     "end_time": "2022-05-04T16:21:51.983597Z",
     "start_time": "2022-05-04T16:21:51.979484Z"
    },
    "hidden": true
   },
   "outputs": [],
   "source": [
    "#informações\n",
    "#x = temp\n",
    "#y = resistencia\n",
    "x = 30\n",
    "n = 24\n",
    "k = 3\n",
    "y = -132.18 + 12.7*x - 0.377*(x**2) + 0.00359*(x**3)\n",
    "sy_inf = 0.0611\n",
    "alpha = 0.5"
   ]
  },
  {
   "cell_type": "code",
   "execution_count": 41,
   "metadata": {
    "ExecuteTime": {
     "end_time": "2022-05-04T16:21:52.155541Z",
     "start_time": "2022-05-04T16:21:52.145338Z"
    },
    "hidden": true
   },
   "outputs": [
    {
     "data": {
      "text/plain": [
       "6.449999999999974"
      ]
     },
     "execution_count": 41,
     "metadata": {},
     "output_type": "execute_result"
    }
   ],
   "source": [
    "#calcular valor esperado na equação\n",
    "x = 30\n",
    "y = -132.18 + 12.7*x - 0.377*(x**2) + 0.00359*(x**3)\n",
    "y"
   ]
  },
  {
   "cell_type": "code",
   "execution_count": 42,
   "metadata": {
    "ExecuteTime": {
     "end_time": "2022-05-04T16:21:52.495348Z",
     "start_time": "2022-05-04T16:21:52.261141Z"
    },
    "hidden": true
   },
   "outputs": [
    {
     "name": "stdout",
     "output_type": "stream",
     "text": [
      "t_crit=: 2.0859634472658364\n"
     ]
    }
   ],
   "source": [
    "#calcular t_crit\n",
    "#usar a tabela tstudent pata t\n",
    "alpha = 0.05  # significia = 5% \n",
    "df = n-(k+1) # graus de liberdade                                      \n",
    "t_crit = t.ppf(1 - alpha/2, df) \n",
    "print(f't_crit=: {t_crit}')"
   ]
  },
  {
   "cell_type": "code",
   "execution_count": 45,
   "metadata": {
    "ExecuteTime": {
     "end_time": "2022-05-04T16:22:28.399569Z",
     "start_time": "2022-05-04T16:22:28.386000Z"
    },
    "hidden": true
   },
   "outputs": [
    {
     "name": "stdout",
     "output_type": "stream",
     "text": [
      "Intervalo de confiança: 6.322547633372031 < uy,30 < 6.577452366627917\n"
     ]
    }
   ],
   "source": [
    "#calcular intervalo\n",
    "ic = sy_inf * t_crit\n",
    "\n",
    "print('Intervalo de confiança: {} < uy,30 < {}'.format(y - ic, y + ic))"
   ]
  }
 ],
 "metadata": {
  "colab": {
   "authorship_tag": "ABX9TyMBEUgFzemHK13nrNnlxPeD",
   "name": "Semana5-Aula11.ipynb",
   "provenance": []
  },
  "kernelspec": {
   "display_name": "Python 3 (ipykernel)",
   "language": "python",
   "name": "python3"
  },
  "language_info": {
   "codemirror_mode": {
    "name": "ipython",
    "version": 3
   },
   "file_extension": ".py",
   "mimetype": "text/x-python",
   "name": "python",
   "nbconvert_exporter": "python",
   "pygments_lexer": "ipython3",
   "version": "3.9.7"
  },
  "varInspector": {
   "cols": {
    "lenName": 16,
    "lenType": 16,
    "lenVar": 40
   },
   "kernels_config": {
    "python": {
     "delete_cmd_postfix": "",
     "delete_cmd_prefix": "del ",
     "library": "var_list.py",
     "varRefreshCmd": "print(var_dic_list())"
    },
    "r": {
     "delete_cmd_postfix": ") ",
     "delete_cmd_prefix": "rm(",
     "library": "var_list.r",
     "varRefreshCmd": "cat(var_dic_list()) "
    }
   },
   "types_to_exclude": [
    "module",
    "function",
    "builtin_function_or_method",
    "instance",
    "_Feature"
   ],
   "window_display": false
  }
 },
 "nbformat": 4,
 "nbformat_minor": 1
}
