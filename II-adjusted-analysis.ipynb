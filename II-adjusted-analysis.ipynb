{
 "cells": [
  {
   "cell_type": "markdown",
   "metadata": {},
   "source": [
    "### Análise de ajustes"
   ]
  },
  {
   "cell_type": "markdown",
   "metadata": {},
   "source": [
    "#### Imports"
   ]
  },
  {
   "cell_type": "code",
   "execution_count": 4,
   "metadata": {},
   "outputs": [],
   "source": [
    "import pandas as pd\n",
    "import numpy as np\n",
    "import matplotlib.pyplot as plt\n",
    "import seaborn as sns\n",
    "import statsmodels.api as sm\n",
    "from scipy.stats import t"
   ]
  },
  {
   "cell_type": "markdown",
   "metadata": {},
   "source": [
    "#### Help functions"
   ]
  },
  {
   "cell_type": "code",
   "execution_count": 5,
   "metadata": {},
   "outputs": [],
   "source": [
    "def first_analysis_lr(x, y, xlabel, ylabel):    \n",
    "    #Cálculos e equação da reta entre duas variáveis aleatórias\n",
    "    df = pd.DataFrame({'x':x, 'y':y})\n",
    "\n",
    "    #x médio:\n",
    "    x_mean = df['x'].mean()\n",
    "\n",
    "    #y médio:\n",
    "    y_mean = df['y'].mean()\n",
    "\n",
    "    #Somatória dos valores de x:\n",
    "    x_sum = df['x'].sum()\n",
    "\n",
    "    #Somatória dos valores de y:\n",
    "    y_sum = df['y'].sum()\n",
    "\n",
    "    #Somatória de x * y:\n",
    "    xy_sum = (df['x'] * df['y']).sum()\n",
    "\n",
    "    #Somatória dos valores de x quadrado:\n",
    "    x2_sum = (df['x']**2).sum()\n",
    "\n",
    "    #Somatória dos valores de y quadrado:\n",
    "    y2_sum = (df['y']**2).sum()\n",
    "\n",
    "    #Número de amostras:\n",
    "    n = df.shape[0]\n",
    "\n",
    "    #Fórnulas complementares para cálculo de b1:\n",
    "    sxy = xy_sum - ((x_sum * y_sum) / n)\n",
    "    sxx = x2_sum - ((x_sum**2) / n)\n",
    "    syy = y2_sum - ( (y_sum**2)/ n)\n",
    "\n",
    "    #Estimativa do coeficiente de inclinação b1(beta 1):\n",
    "    b1 = sxy / sxx\n",
    "\n",
    "    #Estimativa do intercepto b_0(beta 0):\n",
    "    b0 = (y_sum - (b1 * x_sum)) / n\n",
    "    b0 = y_mean - (b1 * x_mean)\n",
    "\n",
    "    #SQE => Soma de Quadrados dos Erros / SQT => Somatória de Quadrados Total / SQR => Soma de quadrados da Regressão:\n",
    "    sqe = y2_sum - (b0 * y_sum) - (b1 * xy_sum)\n",
    "    #alternativa: sqe = syy - (b1 * sxy)\n",
    "    sqt = y2_sum - ( (y_sum**2)/ n)\n",
    "    #alternativa: sqt = syy\n",
    "    sqr = sqt - sqe\n",
    "\n",
    "    #Equação da reta:\n",
    "    print('Equação da reta: y = {} + {}x'.format(b0, b1))\n",
    "\n",
    "    return {xlabel+'_mean':x_mean, \n",
    "            ylabel+'_mean':y_mean, \n",
    "            xlabel+'_sum':x_sum, \n",
    "            ylabel+'_sum':y_sum, \n",
    "            xlabel+'_'+ylabel+'_sum':xy_sum,\n",
    "            xlabel+'2_sum':x2_sum, \n",
    "            ylabel+'2_sum':y2_sum,\n",
    "            'n':n,\n",
    "            'sxy':sxy,\n",
    "            'sxx':sxx,\n",
    "            'syy':syy,\n",
    "            'b1':b1,\n",
    "            'b0':b0,\n",
    "            'sqe':sqe,\n",
    "            'sqt':sqt,\n",
    "            'sqr':sqr}\n",
    "\n",
    "\n",
    "\n",
    "def var(sqe, n):\n",
    "    #Variância(s2) e Desvio-padrão\n",
    "    s2 = sqe / (n - 2)\n",
    "\n",
    "    return {'variancia':s2}\n",
    "\n",
    "\n",
    "\n",
    "def std(sqe, n):\n",
    "    s2 = sqe / (n - 2)\n",
    "    s = np.sqrt(s2)\n",
    "\n",
    "    return {'std':s}\n",
    "\n",
    "\n",
    "\n",
    "def coef_corr(sxy, sxx, syy):\n",
    "    #Cálculo do coeficiente de correlação de Pearson\n",
    "    r = sxy / np.sqrt(sxx*syy)\n",
    "\n",
    "    return {'coef_corr':r}\n",
    "\n",
    "\n",
    "\n",
    "def coef_det(sqe, sqt):\n",
    "    #Coeficiente de Determinação => Explica se a reta descreve um modelo linear\n",
    "    r2 = 1 - (sqe / sqt)\n",
    "\n",
    "    return {'coef_det':r2}\n",
    "\n",
    "\n",
    "\n",
    "def confidence_interval(s, sxx, ic, n, b1):\n",
    "    #Intervalo de confiança:\n",
    "    #Obter o erro padrão estimado\n",
    "    sb1_inf = s / np.sqrt(sxx)\n",
    "    print('Erro padrão estimado:', sb1_inf)\n",
    "\n",
    "    #t student => t , alpha/2, n-2 (COnsultar na tabela)\n",
    "    alpha = 1 - (ic / 100)\n",
    "    gl = n - 2\n",
    "    t_student = t.ppf(1 - (alpha / 2), gl)\n",
    "\n",
    "    #b1_inf = b1 +- intervalo\n",
    "    intervalo = t_student * sb1_inf\n",
    "\n",
    "    print('IC de {}% = ({}, {})'.format(ic, b1 - intervalo, b1 + intervalo))\n",
    "\n",
    "    return None"
   ]
  },
  {
   "cell_type": "markdown",
   "metadata": {},
   "source": [
    "#### Dataset"
   ]
  },
  {
   "cell_type": "code",
   "execution_count": 6,
   "metadata": {},
   "outputs": [
    {
     "data": {
      "text/html": [
       "<div>\n",
       "<style scoped>\n",
       "    .dataframe tbody tr th:only-of-type {\n",
       "        vertical-align: middle;\n",
       "    }\n",
       "\n",
       "    .dataframe tbody tr th {\n",
       "        vertical-align: top;\n",
       "    }\n",
       "\n",
       "    .dataframe thead th {\n",
       "        text-align: right;\n",
       "    }\n",
       "</style>\n",
       "<table border=\"1\" class=\"dataframe\">\n",
       "  <thead>\n",
       "    <tr style=\"text-align: right;\">\n",
       "      <th></th>\n",
       "      <th>brand/model/year</th>\n",
       "      <th>cap_vol</th>\n",
       "      <th>consumo</th>\n",
       "      <th>power</th>\n",
       "      <th>weight</th>\n",
       "      <th>cemm</th>\n",
       "      <th>nu_cy</th>\n",
       "      <th>Etype</th>\n",
       "    </tr>\n",
       "  </thead>\n",
       "  <tbody>\n",
       "    <tr>\n",
       "      <th>0</th>\n",
       "      <td>Gurgel BR800 0.8 1991</td>\n",
       "      <td>792</td>\n",
       "      <td>12.0</td>\n",
       "      <td>33</td>\n",
       "      <td>650</td>\n",
       "      <td>34.4</td>\n",
       "      <td>2</td>\n",
       "      <td>0</td>\n",
       "    </tr>\n",
       "    <tr>\n",
       "      <th>1</th>\n",
       "      <td>FIAT UNO Mille EP 1996</td>\n",
       "      <td>994</td>\n",
       "      <td>10.4</td>\n",
       "      <td>58</td>\n",
       "      <td>870</td>\n",
       "      <td>18.6</td>\n",
       "      <td>4</td>\n",
       "      <td>0</td>\n",
       "    </tr>\n",
       "    <tr>\n",
       "      <th>2</th>\n",
       "      <td>Hyundai HB20 Sense 2020</td>\n",
       "      <td>1000</td>\n",
       "      <td>12.8</td>\n",
       "      <td>80</td>\n",
       "      <td>989</td>\n",
       "      <td>14.5</td>\n",
       "      <td>3</td>\n",
       "      <td>0</td>\n",
       "    </tr>\n",
       "    <tr>\n",
       "      <th>3</th>\n",
       "      <td>FIAT Strada 1.4 2016</td>\n",
       "      <td>1368</td>\n",
       "      <td>10.3</td>\n",
       "      <td>86</td>\n",
       "      <td>1084</td>\n",
       "      <td>12.5</td>\n",
       "      <td>4</td>\n",
       "      <td>0</td>\n",
       "    </tr>\n",
       "    <tr>\n",
       "      <th>4</th>\n",
       "      <td>VolksWagen GOL 1.6 2015</td>\n",
       "      <td>1598</td>\n",
       "      <td>10.5</td>\n",
       "      <td>104</td>\n",
       "      <td>961</td>\n",
       "      <td>9.8</td>\n",
       "      <td>4</td>\n",
       "      <td>0</td>\n",
       "    </tr>\n",
       "  </tbody>\n",
       "</table>\n",
       "</div>"
      ],
      "text/plain": [
       "          brand/model/year  cap_vol  consumo  power  weight  cemm  nu_cy  \\\n",
       "0    Gurgel BR800 0.8 1991      792     12.0     33     650  34.4      2   \n",
       "1   FIAT UNO Mille EP 1996      994     10.4     58     870  18.6      4   \n",
       "2  Hyundai HB20 Sense 2020     1000     12.8     80     989  14.5      3   \n",
       "3     FIAT Strada 1.4 2016     1368     10.3     86    1084  12.5      4   \n",
       "4  VolksWagen GOL 1.6 2015     1598     10.5    104     961   9.8      4   \n",
       "\n",
       "   Etype  \n",
       "0      0  \n",
       "1      0  \n",
       "2      0  \n",
       "3      0  \n",
       "4      0  "
      ]
     },
     "execution_count": 6,
     "metadata": {},
     "output_type": "execute_result"
    }
   ],
   "source": [
    "df = pd.read_csv('data/carst.csv', delimiter = ',')\n",
    "df.head()"
   ]
  },
  {
   "cell_type": "markdown",
   "metadata": {},
   "source": [
    "#### 1.\n",
    "Encontrar os parâmetros e realizar a análise de ajustes de cap_vol (variável preditora) e consumo(variável resposta)"
   ]
  },
  {
   "cell_type": "markdown",
   "metadata": {},
   "source": [
    "##### a. \n",
    "Obtenha a reta que descreve a relação entre as variáveis e o interrvalo de confiança para 95%, obtenha o valor esperado de y para x = 3000"
   ]
  },
  {
   "cell_type": "code",
   "execution_count": 7,
   "metadata": {},
   "outputs": [
    {
     "name": "stdout",
     "output_type": "stream",
     "text": [
      "Equação da reta: y = 12.144010117932384 + -0.0013478460028317721x\n",
      "Valor esperado de uy:3000 = 8.24\n"
     ]
    }
   ],
   "source": [
    "x = df['cap_vol']\n",
    "y = df['consumo']\n",
    "\n",
    "first_analysis_lr(df['cap_vol'], df['consumo'], 'cap_vol', 'consumo')\n",
    "\n",
    "x = 3000\n",
    "b0 = 12.14\n",
    "b1 = -0.0013\n",
    "u_y3000 = b0 + (b1 * x)\n",
    "\n",
    "print('Valor esperado de uy:3000 = {}'.format(u_y3000))"
   ]
  },
  {
   "cell_type": "markdown",
   "metadata": {},
   "source": [
    "#### 3.\n",
    "Observe a figura que representa um conjunto de dados bivariados, isto é, dados que apresentam informações semelhantes. Os dados, compostos por 20 amostras, estão bem correlacionados porque representam duas metodologias diferentes para obter a concentração de hidrogênio, esperando-se, portanto, que forneçam resultados semelhantes.\n",
    "Com esses dados foi realizado o procedimento de regressão obtendo as seguintes informações: reta de regressão Y = -0.9625 + 1.001 x, uma variância estimada de 0,3022 e Sxx = 40925.75.\n",
    "Calcule o intervalo de confiança de beta IC a 95%."
   ]
  },
  {
   "cell_type": "code",
   "execution_count": 8,
   "metadata": {},
   "outputs": [
    {
     "name": "stdout",
     "output_type": "stream",
     "text": [
      "Erro padrão estimado: 0.0027173708138224666\n",
      "IC de 95% = (0.9952910157657328, 1.0067089842342671)\n"
     ]
    }
   ],
   "source": [
    "y = -0.9625 + (1.001 * x)\n",
    "s2 = 0.3022\n",
    "s = pow(s2, 1/2)\n",
    "sxx = 40925.75\n",
    "ic = 95\n",
    "n = 20\n",
    "b1 = 1.001\n",
    "b0 = -0.9625\n",
    "\n",
    "#Intervalo de confiança:\n",
    "#Obter o erro padrão estimado\n",
    "sb1_inf = s / pow(sxx, 1/2)\n",
    "print('Erro padrão estimado:', sb1_inf)\n",
    "\n",
    "#t student => t , alpha/2, n-2 (COnsultar na tabela)\n",
    "alpha = 1 - (ic / 100)\n",
    "gl = n - 2\n",
    "t_student = t.ppf(1 - (alpha / 2), gl)\n",
    "\n",
    "#b1_inf = b1 +- intervalo\n",
    "intervalo = t_student * sb1_inf\n",
    "\n",
    "print('IC de {}% = ({}, {})'.format(ic, b1 - intervalo, b1 + intervalo))"
   ]
  },
  {
   "cell_type": "markdown",
   "metadata": {},
   "source": [
    "#### 4. \n",
    "Um conjunto de dados fornece os seguintes valores: Sxx = 1585.2307, Syy = 77.2708, e Sxy = -341.9592, e uma reta de regressão Y = 9.10099 - 0.21572 x. Calcule a soma de quadrados dos erros e o coeficiente de determinação\n"
   ]
  },
  {
   "cell_type": "code",
   "execution_count": 25,
   "metadata": {},
   "outputs": [
    {
     "name": "stdout",
     "output_type": "stream",
     "text": [
      "SQE = 3.5033613759999866\n",
      "Coeficiente de determinação:0.9546612513912114\n"
     ]
    }
   ],
   "source": [
    "sxx = 1585.2307\n",
    "syy = 77.2708\n",
    "sxy = -341.9592\n",
    "y = 9.10099 - (0.21572 * x)\n",
    "b1 = -0.21572\n",
    "b0 = 9.10099\n",
    "\n",
    "sqe = syy - (b1 * sxy)\n",
    "print('SQE = {}'.format(sqe))\n",
    "\n",
    "sqt = syy\n",
    "\n",
    "coef = coef_det(sqe, sqt)\n",
    "df['coef_det']\n",
    "print('Coeficiente de determinação:{}'.format(coef['coef_det']))"
   ]
  },
  {
   "cell_type": "markdown",
   "metadata": {},
   "source": [
    "#### 5.\n",
    "Considere a seguinte amostra, na qual se apresenta a relação entre a taxa de eficiência de fosfatização de um peça de aço de acordo com a temperatura.\n",
    "\n",
    "Temp.\t76,67\t 77,78\t78,33\t78,89\t78,89\t79,44\t 80,00\t 80,56\t82,22\t82,22\t82,22\t82,22<br>\n",
    "Taxa\t0,84\t1,31\t1,42\t1,03\t1,07\t1,08\t1,04\t1,80\t1,45\t1,60\t1,61\t2,13<br>\n",
    "<br>\n",
    "Temp.\t82,22\t 82,78\t82,78\t 83,33\t83,33\t83,33\t83,33\t 84,44\t84,44\t85,00\t85,56\t86,67<br>\n",
    "Taxa\t2,15\t0,84\t1,43\t0,90\t1,81\t1,94\t2,68\t1,49\t2,52\t3,0\t1,87\t3,08<br>\n",
    "\n",
    "Aplique o procedimento de regressão linear para obter a reta que descreve esses dados, considere como variável preditora a Temperatura e como variável resposta a Taxa de eficiência, depois calcule os coeficientes de determinação, indique o que ele representa e calcule o valor esperado de Y para x= 80."
   ]
  },
  {
   "cell_type": "code",
   "execution_count": 21,
   "metadata": {},
   "outputs": [
    {
     "name": "stdout",
     "output_type": "stream",
     "text": [
      "Equação da reta: y = -12.231556513324294 + 0.16965263586290547x\n",
      "Valor esperado de y para x = 80: 1.368000000000002\n",
      "Coeficiente de determinação:0.4514004980380427\n"
     ]
    }
   ],
   "source": [
    "#valores\n",
    "temp = [76.67, 77.78, 78.33, 78.89, 78.89, 79.44, 80.00, 80.56, 82.22, 82.22, 82.22, 82.22, 82.22, 82.78, 82.78, 83.33, 83.33, 83.33, 83.33, 84.44, 84.44, 85.00, 85.56, 86.67]\n",
    "taxa = [0.84, 1.31, 1.42, 1.03, 1.07, 1.08, 1.04, 1.80, 1.45, 1.60, 1.61, 2.13, 2.15, 0.84, 1.43, 0.90, 1.81, 1.94, 2.68, 1.49, 2.52, 3.0, 1.87, 3.08]\n",
    "\n",
    "#Análise de regressão linear\n",
    "df = first_analysis_lr(temp, taxa, 'temp', 'taxa')\n",
    "\n",
    "#valor esperado\n",
    "x = 80\n",
    "u_y80 = -12.232 + (0.17 * x)\n",
    "print('Valor esperado de y para x = 80: {}'.format(u_y80))\n",
    "\n",
    "#coeficiente de determinação\n",
    "coef = coef_det(df['sqe'], df['sqt'])\n",
    "print('Coeficiente de determinação:{}'.format(coef['coef_det']))\n",
    "\n",
    "#Baixo coeficiente de determinação, o modelo não exemplifica uma regressão linear simples\n"
   ]
  }
 ],
 "metadata": {
  "interpreter": {
   "hash": "4db2f6c7ee3ace6fc06a92cf4ba02ef6b387d2479cf3c002b2cf28d17053429f"
  },
  "kernelspec": {
   "display_name": "Python 3.9.7 ('venv': venv)",
   "language": "python",
   "name": "python3"
  },
  "language_info": {
   "codemirror_mode": {
    "name": "ipython",
    "version": 3
   },
   "file_extension": ".py",
   "mimetype": "text/x-python",
   "name": "python",
   "nbconvert_exporter": "python",
   "pygments_lexer": "ipython3",
   "version": "3.9.7"
  },
  "orig_nbformat": 4
 },
 "nbformat": 4,
 "nbformat_minor": 2
}
