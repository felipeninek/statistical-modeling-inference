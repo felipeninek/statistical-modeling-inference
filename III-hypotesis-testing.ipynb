{
 "cells": [
  {
   "cell_type": "markdown",
   "metadata": {},
   "source": [
    "### Teste de Hipótese e Previsão de Resposta"
   ]
  },
  {
   "cell_type": "markdown",
   "metadata": {},
   "source": [
    "<p>\n",
    "<h4> Parâmetros</h4>\n",
    "    População > \n",
    "    Amostra > Média, proporção ou variância\n",
    "</p>\n",
    "\n",
    "<p>\n",
    "<h4>Teste de hipótese aplicados em b0 e b1 no caso de regressão linear</h4>\n",
    "\n",
    "    Os valores de b0 e b1 determinam se há uma regressão linear\n",
    "\n",
    "    Passos para realizar o teste de hipotese:\n",
    "\n",
    "        1. Obter a reta de regressão linear y = b0 + b1x\n",
    "\n",
    "        2. Definir o numero de n (numero de amostras)\n",
    "\n",
    "        3. Definir o numero de k (numero de variaveis)\n",
    "\n",
    "        4. Calcular gl = n - k (grau de liberdade)\n",
    "\n",
    "        5. Testar hipótese H0: b1 = 0 frente a Ha: b1 != 0\n",
    "\n",
    "            a. Definir o intervalo de confiança 1 - α = α(unicaudal) ou α/2 (bicaudal)\n",
    "\n",
    "            b. Definir o intervalo crítico (t_crit) na tabela t-student para um determinado α e gl\n",
    "\n",
    "            c. Definir a estatistica de teste t = b1_inf / sb1_inf\n",
    "\n",
    "            d. Se |t| >= t_crit rejeitar H0<br>\n",
    "\n",
    "            e. Caso contrario comparar se p - valor < α.\n",
    "\n",
    "        6. Testar hipótese H0: b0 = 0 frente a Ha: b0 != 0\n",
    "\n",
    "            a. Definir o intervalo de confiança 1 - α = α(unicaudal) ou α/2 (bicaudal)\n",
    "\n",
    "            b. Definir o intervalo crítico (t_crit) na tabela t-student para um determinado α e gl\n",
    "\n",
    "            c. Definir a estatistica de teste t = b0_inf / s * (pow((1/n) + ((x_mean**2) / sxx)), 1/2))\n",
    "\n",
    "            d. Se |t| >= tcrit rejeitar H0\n",
    "\n",
    "            e. Caso contrario comparar se 2(p - valor) < α\n",
    "</p>\n",
    "\n",
    "\n",
    "\n",
    "<p>\n",
    "<h4>Inferências sobre μy,x</h4>\n",
    "\n",
    "Definir uma variável T para obter a estatística de teste para reta\n",
    "\n",
    "    T = (b0_inf + (b1_inf*x) - b0 + (b1*x)) / s(b0_inf + b1_inf*x)\n",
    "    \n",
    "    T = (y_inf - b0 + (b1*x)) / s(b0_inf + b1_inf*x)\n",
    "    \n",
    "    ic = y_inf +- t(alpha/2,n-2) * sy_inf\n",
    "</p>\n",
    "\n",
    "<p>\n",
    "<h4>Intervalo de confiança:</h4>\n",
    "\n",
    "    Encontrar o valor de yh para um determinado intervalo\n",
    "    yh = bh0 + (bh1 * x)\n",
    "\n",
    "    Calcular desvio padrao estimado\n",
    "    s_yh = s * np.sqrt((1 / n) + ((x - x_mean)**2) / sxx)\n",
    "\n",
    "    Desvio padrao calculado para o intervalo\n",
    "    s_ic = t_crit * s_yh\n",
    "\n",
    "    uy,x = yh +- (yh - s_ic)(yh + s_ic)\n",
    "</p>\n",
    "\n",
    "<p>\n",
    "<h4>Intervalo de Previsão</h4>\n",
    "\n",
    "    ip = y_inf +- t(alpha/2,n-2) * np.sqrt((s2**2) * (sy_inf**2))\n",
    "</p>"
   ]
  },
  {
   "cell_type": "markdown",
   "metadata": {},
   "source": [
    "#### Imports"
   ]
  },
  {
   "cell_type": "code",
   "execution_count": 1,
   "metadata": {},
   "outputs": [],
   "source": [
    "import pandas as pd\n",
    "import numpy as np\n",
    "import matplotlib.pyplot as plt\n",
    "import statsmodels.api as sm\n",
    "\n",
    "from scipy.stats import t"
   ]
  },
  {
   "cell_type": "markdown",
   "metadata": {},
   "source": [
    "#### Help functions"
   ]
  },
  {
   "cell_type": "code",
   "execution_count": 3,
   "metadata": {},
   "outputs": [],
   "source": [
    "def first_analysis_lr(x, y, xlabel, ylabel):    \n",
    "    #Cálculos e equação da reta entre duas variáveis aleatórias\n",
    "    df = pd.DataFrame({'x':x, 'y':y})\n",
    "\n",
    "    #x médio:\n",
    "    x_mean = df['x'].mean()\n",
    "\n",
    "    #y médio:\n",
    "    y_mean = df['y'].mean()\n",
    "\n",
    "    #Somatória dos valores de x:\n",
    "    x_sum = df['x'].sum()\n",
    "\n",
    "    #Somatória dos valores de y:\n",
    "    y_sum = df['y'].sum()\n",
    "\n",
    "    #Somatória de x * y:\n",
    "    xy_sum = (df['x'] * df['y']).sum()\n",
    "\n",
    "    #Somatória dos valores de x quadrado:\n",
    "    x2_sum = (df['x']**2).sum()\n",
    "\n",
    "    #Somatória dos valores de y quadrado:\n",
    "    y2_sum = (df['y']**2).sum()\n",
    "\n",
    "    #Número de amostras:\n",
    "    n = df.shape[0]\n",
    "\n",
    "    #Fórnulas complementares para cálculo de b1:\n",
    "    sxy = xy_sum - ((x_sum * y_sum) / n)\n",
    "    sxx = x2_sum - ((x_sum**2) / n)\n",
    "    syy = y2_sum - ( (y_sum**2)/ n)\n",
    "\n",
    "    #Estimativa do coeficiente de inclinação b1(beta 1):\n",
    "    b1 = sxy / sxx\n",
    "\n",
    "    #Estimativa do intercepto b_0(beta 0):\n",
    "    b0 = (y_sum - (b1 * x_sum)) / n\n",
    "    b0 = y_mean - (b1 * x_mean)\n",
    "\n",
    "    #SQE => Soma de Quadrados dos Erros / SQT => Somatória de Quadrados Total / SQR => Soma de quadrados da Regressão:\n",
    "    sqe = y2_sum - (b0 * y_sum) - (b1 * xy_sum)\n",
    "    sqe = syy - (b1 * sxy)\n",
    "    sqt = y2_sum - ( (y_sum**2)/ n)\n",
    "    sqr = sqt - sqe\n",
    "\n",
    "    #Equação da reta:\n",
    "    print('Equação da reta: y = {} + {}x'.format(b0, b1))\n",
    "\n",
    "    return {xlabel+'_mean':x_mean, \n",
    "            ylabel+'_mean':y_mean, \n",
    "            xlabel+'_sum':x_sum, \n",
    "            ylabel+'_sum':y_sum, \n",
    "            xlabel+'_'+ylabel+'_sum':xy_sum,\n",
    "            xlabel+'2_sum':x2_sum, \n",
    "            ylabel+'2_sum':y2_sum,\n",
    "            'n':n,\n",
    "            'sxy':sxy,\n",
    "            'sxx':sxx,\n",
    "            'syy':syy,\n",
    "            'b1':b1,\n",
    "            'b0':b0,\n",
    "            'sqe':sqe,\n",
    "            'sqt':sqt,\n",
    "            'sqr':sqr}\n",
    "\n",
    "def var(sqe, n):\n",
    "    #Variância(s2) e Desvio-padrão\n",
    "    s2 = sqe / (n - 2)\n",
    "\n",
    "    return {'variancia':s2}\n",
    "\n",
    "\n",
    "\n",
    "def std(sqe, n):\n",
    "    s2 = sqe / (n - 2)\n",
    "    s = np.sqrt(s2)\n",
    "\n",
    "    return {'std':s}\n",
    "\n",
    "\n",
    "\n",
    "def coef_corr(sxy, sxx, syy):\n",
    "    #Cálculo do coeficiente de correlação de Pearson\n",
    "    r = sxy / np.sqrt(sxx*syy)\n",
    "\n",
    "    return {'coef_corr':r}\n",
    "\n",
    "\n",
    "\n",
    "def coef_det(sqe, sqt):\n",
    "    #Coeficiente de Determinação => Explica se a reta descreve um modelo linear\n",
    "    r2 = 1 - (sqe / sqt)\n",
    "\n",
    "    return {'coef_det':r2}\n",
    "\n",
    "\n",
    "\n",
    "def confidence_interval(s, sxx, ic, n, b1):\n",
    "    #Intervalo de confiança:\n",
    "    #Obter o erro padrão estimado de beta 1\n",
    "    sb1_inf = s / np.sqrt(sxx)\n",
    "    print('Erro padrão estimado:', sb1_inf)\n",
    "\n",
    "    #t student => t , alpha/2, n-2 (COnsultar na tabela)\n",
    "    alpha = 1 - (ic / 100)\n",
    "    gl = n - 2\n",
    "    t_student = t.ppf(1 - (alpha / 2), gl)\n",
    "\n",
    "    #b1_inf = b1 +- intervalo\n",
    "    intervalo = t_student * sb1_inf\n",
    "\n",
    "    print('IC de {}% = ({}, {})'.format(ic, b1 - intervalo, b1 + intervalo))\n",
    "\n",
    "    return None"
   ]
  },
  {
   "cell_type": "markdown",
   "metadata": {},
   "source": [
    "#### Dataset"
   ]
  },
  {
   "cell_type": "code",
   "execution_count": 4,
   "metadata": {},
   "outputs": [
    {
     "data": {
      "text/html": [
       "<div>\n",
       "<style scoped>\n",
       "    .dataframe tbody tr th:only-of-type {\n",
       "        vertical-align: middle;\n",
       "    }\n",
       "\n",
       "    .dataframe tbody tr th {\n",
       "        vertical-align: top;\n",
       "    }\n",
       "\n",
       "    .dataframe thead th {\n",
       "        text-align: right;\n",
       "    }\n",
       "</style>\n",
       "<table border=\"1\" class=\"dataframe\">\n",
       "  <thead>\n",
       "    <tr style=\"text-align: right;\">\n",
       "      <th></th>\n",
       "      <th>brand/model/year</th>\n",
       "      <th>cap_vol</th>\n",
       "      <th>consumo</th>\n",
       "      <th>power</th>\n",
       "      <th>weight</th>\n",
       "      <th>cemm</th>\n",
       "      <th>nu_cy</th>\n",
       "      <th>Etype</th>\n",
       "    </tr>\n",
       "  </thead>\n",
       "  <tbody>\n",
       "    <tr>\n",
       "      <th>0</th>\n",
       "      <td>Gurgel BR800 0.8 1991</td>\n",
       "      <td>792</td>\n",
       "      <td>12.0</td>\n",
       "      <td>33</td>\n",
       "      <td>650</td>\n",
       "      <td>34.4</td>\n",
       "      <td>2</td>\n",
       "      <td>0</td>\n",
       "    </tr>\n",
       "    <tr>\n",
       "      <th>1</th>\n",
       "      <td>FIAT UNO Mille EP 1996</td>\n",
       "      <td>994</td>\n",
       "      <td>10.4</td>\n",
       "      <td>58</td>\n",
       "      <td>870</td>\n",
       "      <td>18.6</td>\n",
       "      <td>4</td>\n",
       "      <td>0</td>\n",
       "    </tr>\n",
       "    <tr>\n",
       "      <th>2</th>\n",
       "      <td>Hyundai HB20 Sense 2020</td>\n",
       "      <td>1000</td>\n",
       "      <td>12.8</td>\n",
       "      <td>80</td>\n",
       "      <td>989</td>\n",
       "      <td>14.5</td>\n",
       "      <td>3</td>\n",
       "      <td>0</td>\n",
       "    </tr>\n",
       "    <tr>\n",
       "      <th>3</th>\n",
       "      <td>FIAT Strada 1.4 2016</td>\n",
       "      <td>1368</td>\n",
       "      <td>10.3</td>\n",
       "      <td>86</td>\n",
       "      <td>1084</td>\n",
       "      <td>12.5</td>\n",
       "      <td>4</td>\n",
       "      <td>0</td>\n",
       "    </tr>\n",
       "    <tr>\n",
       "      <th>4</th>\n",
       "      <td>VolksWagen GOL 1.6 2015</td>\n",
       "      <td>1598</td>\n",
       "      <td>10.5</td>\n",
       "      <td>104</td>\n",
       "      <td>961</td>\n",
       "      <td>9.8</td>\n",
       "      <td>4</td>\n",
       "      <td>0</td>\n",
       "    </tr>\n",
       "  </tbody>\n",
       "</table>\n",
       "</div>"
      ],
      "text/plain": [
       "          brand/model/year  cap_vol  consumo  power  weight  cemm  nu_cy  \\\n",
       "0    Gurgel BR800 0.8 1991      792     12.0     33     650  34.4      2   \n",
       "1   FIAT UNO Mille EP 1996      994     10.4     58     870  18.6      4   \n",
       "2  Hyundai HB20 Sense 2020     1000     12.8     80     989  14.5      3   \n",
       "3     FIAT Strada 1.4 2016     1368     10.3     86    1084  12.5      4   \n",
       "4  VolksWagen GOL 1.6 2015     1598     10.5    104     961   9.8      4   \n",
       "\n",
       "   Etype  \n",
       "0      0  \n",
       "1      0  \n",
       "2      0  \n",
       "3      0  \n",
       "4      0  "
      ]
     },
     "execution_count": 4,
     "metadata": {},
     "output_type": "execute_result"
    }
   ],
   "source": [
    "df = pd.read_csv('data/carst.csv', delimiter = ',')\n",
    "df.head()"
   ]
  },
  {
   "cell_type": "markdown",
   "metadata": {},
   "source": [
    "#### 1.\n",
    "<p>\n",
    "Observe na seguinte tabela os dados de 28 carros disponiveis na loja GT Auto, a capacidade volumétrica(cc) como variável preditora e o consumo(km/l) como variavel resposta.\n",
    "\n",
    "Calcule o valor da ESTATÍSTICA DE TESTE, ao nível de confiança de 95%, realize o teste de utilidade do modelo, se a reta é:\n",
    "\n",
    "consumo = 12.14401 - 0.00135x e o erro padrão é sb1_inf = s / √Sxx = 0.0001177\n",
    "<p>"
   ]
  },
  {
   "cell_type": "code",
   "execution_count": 6,
   "metadata": {},
   "outputs": [
    {
     "name": "stdout",
     "output_type": "stream",
     "text": [
      "t_calc = -11.469838572642312 > t_student = 2.0555, Rejeitar h0 pois no nível de significância de 5% b1 é != 0\n"
     ]
    }
   ],
   "source": [
    "#verificar H0: b1 = 0 frente Ha: b1 != 0 para y = 12.14401 - 0.00135x             \n",
    "n = 28                                      #numero de amostras\n",
    "k = 2                                       #numero de variaveis\n",
    "gl = n - k                                  #grau de liberdade\n",
    "alpha = (1 - 0.95) / 2                      #bicaudal\n",
    "t_student = 2.0555                          #verificar tabela t-student -> t_crit = t(a/2, n-2) = t(0.025, 26) = 2. (95%)\n",
    "sb1_inf = 0.0001177                         #erro padrao\n",
    "b1 = 0                                      #valor da hipótese\n",
    "b1_inf = -0.00135                           #beta1 da equação\n",
    "t_calc = (b1_inf - b1) / sb1_inf             #t calculado\n",
    "\n",
    "#|t_calc| > t_student\n",
    "print('t_calc = {} > t_student = {}, Rejeitar h0 pois no nível de significância de 5% b1 é != 0'.format(t_calc, t_student))"
   ]
  },
  {
   "cell_type": "markdown",
   "metadata": {},
   "source": [
    "#### 2. \n",
    "<p>\n",
    "Realize o teste de funcionalidade do modelo para intercepto(b0), lembrando que a reta de regressão é y = 12.14401 - 0.00135x, s = 1.25, x_mean = 3003 e Sxx = 112735060. \n",
    "\n",
    "Após calcule o intervalo de confiança do intercepto da reta\n",
    "</p>"
   ]
  },
  {
   "cell_type": "code",
   "execution_count": 7,
   "metadata": {},
   "outputs": [
    {
     "name": "stdout",
     "output_type": "stream",
     "text": [
      "t_calc = 28.560898180715167 > t_student = 2.0555, Rejeitar H0\n",
      "\n",
      "IC no nível de 95%:\n",
      "b0_inf = (11.270017438664699,13.018002561335301)\n"
     ]
    }
   ],
   "source": [
    "#verificar H0: b0 = 0 frente Ha: b0 != 0 para -> y = 12.14401 - 0.00135x                  \n",
    "n = 28                                                                              #numero de amostras\n",
    "k = 2                                                                               #numero de variaveis\n",
    "gl = n - k                                                                          #grau de liberdade\n",
    "s = 1.25                                                                            #desvio padrao\n",
    "x_mean = 3003                                                                       #x medio\n",
    "sxx = 112735060                                                                     #sxx\n",
    "alpha = (1 - 0.95) / 2                                                              #bicaudal\n",
    "t_student = 2.0555                                                                  #verificar tabela t-student -> t_crit = t(a/2, n-2) = t(0.025, 26) = 2.0555\n",
    "b0_inf = 12.14401                                                                   #valor da equação\n",
    "b0 = 0                                                                              #valor da hipótese\n",
    "t_calc = (b0_inf - b0) / (s * np.sqrt((1/n) + ((x_mean**2) / sxx)))                 #t calculado\n",
    "print('t_calc = {} > t_student = {}, Rejeitar H0\\n'.format(t_calc, t_student))\n",
    "\n",
    "#intervalo de confiança\n",
    "sb0_inf = s * np.sqrt((1 / n) + ((x_mean**2) / sxx))                                #desvio padrao\n",
    "ic = t_student * sb0_inf\n",
    "print('IC no nível de 95%:\\nb0_inf = ({},{})'.format(b0_inf - ic, b0_inf + ic))"
   ]
  },
  {
   "cell_type": "markdown",
   "metadata": {},
   "source": [
    "#### 3.\n",
    "<p>\n",
    "Considerando os dados da GT Auto, cuja reta de regressão é y = 12.14401 - 0.00135x. Calcule o intervalo de confiança para o nível de confiança de 95% para uma capacidade volumétrica média de 3500.\n",
    "\n",
    "Valores calculados dos exemplos anteriores:\n",
    "\n",
    "r2 = 0.8346   /   x_sum = 84084   /   y_sum = 226.7   /   x2_sum = 365239312   /   y2_sum = 2081.25   /   \n",
    "\n",
    "xy_sum = 528830.6   /   x_mean = 3003   /   y_mean = 226.7   /   Sxx = 112735060   /   Sxy = -151950   /   \n",
    "\n",
    "Syy = 245.7896   /   s2 = 1.563   /   s = 1.250   /   SQE = 40.6571   /   SQT = 245.7896   /   t(0.025, 26) = 2.0555\n",
    "<p>"
   ]
  },
  {
   "cell_type": "code",
   "execution_count": 8,
   "metadata": {},
   "outputs": [
    {
     "name": "stdout",
     "output_type": "stream",
     "text": [
      "uy,3500 = (6.918892494939884,7.919127505060114)\n"
     ]
    }
   ],
   "source": [
    "#cálculo é realizado com os dados do modelo todo\n",
    "#y = 12.14401 - 0.00135x\n",
    "b0_inf = 12.14401\n",
    "b1_inf = -0.00135\n",
    "x = 3500\n",
    "n = 28\n",
    "x_mean = 3003\n",
    "sxx = 112735060\n",
    "t_student = 2.055\n",
    "s = 1.25\n",
    "\n",
    "#o intervalo esta centralizado em:\n",
    "y_inf = b0_inf + (b1_inf * x)\n",
    "\n",
    "#desvio padrao estimado de y\n",
    "sy_inf = s * np.sqrt((1 / n) + (((x - x_mean)**2) / sxx))\n",
    "\n",
    "#Intervalo\n",
    "ic = t_student * sy_inf\n",
    "\n",
    "print('uy,3500 = ({},{})'.format(y_inf - ic, y_inf + ic))\n"
   ]
  },
  {
   "cell_type": "markdown",
   "metadata": {},
   "source": [
    "#### 4.\n",
    "<p>\n",
    "Calcular o intervalo de previsão para o nível de confiança de 95% para uma capacidade volumétrica média de 3500.\n",
    "\n",
    "Considerando os dados da GT Auto, cuja reta de regressão é y = 12.14401 - 0.00135x e utilizando os dados do exercício anterior\n",
    "</p>"
   ]
  },
  {
   "cell_type": "code",
   "execution_count": 9,
   "metadata": {},
   "outputs": [
    {
     "name": "stdout",
     "output_type": "stream",
     "text": [
      "Intervalço de Previsão: (4.899416541366766, 9.938603458633231)\n"
     ]
    }
   ],
   "source": [
    "#y = 12.14401 - 0.00135x\n",
    "s = 1.25\n",
    "t_crit = 2.055\n",
    "sy_inf = 0.24337                  #Obtido no exercício anterior\n",
    "yh = 7.419                        #Obtido no exercício anterior\n",
    "\n",
    "#desvio padrão estimado para intervalo de previsão\n",
    "sy_ip = np.sqrt((s**2) - (sy_inf**2))\n",
    "\n",
    "#intervalo calculado\n",
    "ip = t_crit * sy_ip\n",
    "\n",
    "print('Intervalço de Previsão: ({}, {})'.format(y_inf - ip, y_inf + ip))"
   ]
  },
  {
   "cell_type": "markdown",
   "metadata": {},
   "source": [
    "#### 5.\n",
    "Considerando a reta y = 12.14401 - 0.00135x, que tem um valor esperado de 6,744 para uma variável preditora de 4000, o valor médio da variável preditora é 3003, os dados têm 28 amostras, Sxx = 1127355060, s = 1.25 e t (α/2, n-2) = 2.0555.\n",
    "\n",
    "Qual é o desvio-padrão s_yh o intervalo de confiança do valor uy:4000?"
   ]
  },
  {
   "cell_type": "code",
   "execution_count": 50,
   "metadata": {},
   "outputs": [
    {
     "name": "stdout",
     "output_type": "stream",
     "text": [
      "Desvio padrão: 0.2391260242189196, \n",
      "Intervalo de confiança: (6.25259602023012)(7.235403979769879)\n"
     ]
    }
   ],
   "source": [
    "#Refazer com a função para cálculo\n",
    "#y = 12.14401 - 0.00135x\n",
    "bh0 = 12.14401\n",
    "bh1 = -0.00135\n",
    "x_mean = 3003\n",
    "x = 4000\n",
    "n = 28\n",
    "sxx = 1127355060\n",
    "s = 1.25\n",
    "t_crit = 2.055\n",
    "yh = 6.744\n",
    "\n",
    "#desvio padrão\n",
    "s_yh = s * np.sqrt((1 / n) + ((x - x_mean)**2) / sxx)\n",
    "\n",
    "#desvio calculado\n",
    "s_ic = t_crit * s_yh\n",
    "\n",
    "print('Desvio padrão: {}, \\nIntervalo de confiança: ({})({})'.format(s_yh, yh - s_ic, yh + s_ic))"
   ]
  },
  {
   "cell_type": "markdown",
   "metadata": {},
   "source": [
    "#### 6.\n",
    "<p>\n",
    "Consulte os dados sobre x = taxa de liberação na área do queimador (MBth/h - pe²) e y = taxa de emissão de NOx (ppm) fornecidos da tabela a seguir e responda:\n",
    "\n",
    "O modelo de regressão linear simples especifica uma relação útil entre as duas taxas? Use o procedimento de teste apropriado para obter informações sobre o valor -p e, em seguida, tire uma conclusão usando o nível de significância 0,01.\n",
    "\n",
    "    x = 100, 125, 125, 150, 150, 200, 200, 250, 250, 300, 300, 350, 400, 400\n",
    "    \n",
    "    y = 150, 140, 180, 210, 190, 320, 280, 400, 430, 440, 390, 600, 610, 670\n",
    "</p>"
   ]
  },
  {
   "cell_type": "markdown",
   "metadata": {},
   "source": [
    "##### a. \n",
    "O modelo de regressão linear simples especifica uma relação útil entre as duas taxas? Use o procedimento de teste apropriado para obter informações sobre o valor -p e, em seguida, tire uma conclusão usando o nível de significância 0,01."
   ]
  },
  {
   "cell_type": "code",
   "execution_count": 58,
   "metadata": {},
   "outputs": [
    {
     "data": {
      "text/html": [
       "<div>\n",
       "<style scoped>\n",
       "    .dataframe tbody tr th:only-of-type {\n",
       "        vertical-align: middle;\n",
       "    }\n",
       "\n",
       "    .dataframe tbody tr th {\n",
       "        vertical-align: top;\n",
       "    }\n",
       "\n",
       "    .dataframe thead th {\n",
       "        text-align: right;\n",
       "    }\n",
       "</style>\n",
       "<table border=\"1\" class=\"dataframe\">\n",
       "  <thead>\n",
       "    <tr style=\"text-align: right;\">\n",
       "      <th></th>\n",
       "      <th>x</th>\n",
       "      <th>y</th>\n",
       "    </tr>\n",
       "  </thead>\n",
       "  <tbody>\n",
       "    <tr>\n",
       "      <th>0</th>\n",
       "      <td>100</td>\n",
       "      <td>150</td>\n",
       "    </tr>\n",
       "    <tr>\n",
       "      <th>1</th>\n",
       "      <td>125</td>\n",
       "      <td>140</td>\n",
       "    </tr>\n",
       "    <tr>\n",
       "      <th>2</th>\n",
       "      <td>125</td>\n",
       "      <td>180</td>\n",
       "    </tr>\n",
       "    <tr>\n",
       "      <th>3</th>\n",
       "      <td>150</td>\n",
       "      <td>210</td>\n",
       "    </tr>\n",
       "    <tr>\n",
       "      <th>4</th>\n",
       "      <td>150</td>\n",
       "      <td>190</td>\n",
       "    </tr>\n",
       "    <tr>\n",
       "      <th>5</th>\n",
       "      <td>200</td>\n",
       "      <td>320</td>\n",
       "    </tr>\n",
       "    <tr>\n",
       "      <th>6</th>\n",
       "      <td>200</td>\n",
       "      <td>280</td>\n",
       "    </tr>\n",
       "    <tr>\n",
       "      <th>7</th>\n",
       "      <td>250</td>\n",
       "      <td>400</td>\n",
       "    </tr>\n",
       "    <tr>\n",
       "      <th>8</th>\n",
       "      <td>250</td>\n",
       "      <td>430</td>\n",
       "    </tr>\n",
       "    <tr>\n",
       "      <th>9</th>\n",
       "      <td>300</td>\n",
       "      <td>440</td>\n",
       "    </tr>\n",
       "    <tr>\n",
       "      <th>10</th>\n",
       "      <td>300</td>\n",
       "      <td>390</td>\n",
       "    </tr>\n",
       "    <tr>\n",
       "      <th>11</th>\n",
       "      <td>350</td>\n",
       "      <td>600</td>\n",
       "    </tr>\n",
       "    <tr>\n",
       "      <th>12</th>\n",
       "      <td>400</td>\n",
       "      <td>610</td>\n",
       "    </tr>\n",
       "    <tr>\n",
       "      <th>13</th>\n",
       "      <td>400</td>\n",
       "      <td>670</td>\n",
       "    </tr>\n",
       "  </tbody>\n",
       "</table>\n",
       "</div>"
      ],
      "text/plain": [
       "      x    y\n",
       "0   100  150\n",
       "1   125  140\n",
       "2   125  180\n",
       "3   150  210\n",
       "4   150  190\n",
       "5   200  320\n",
       "6   200  280\n",
       "7   250  400\n",
       "8   250  430\n",
       "9   300  440\n",
       "10  300  390\n",
       "11  350  600\n",
       "12  400  610\n",
       "13  400  670"
      ]
     },
     "execution_count": 58,
     "metadata": {},
     "output_type": "execute_result"
    }
   ],
   "source": [
    "#dataframe\n",
    "x = [100, 125, 125, 150, 150, 200, 200, 250, 250, 300, 300, 350, 400, 400]\n",
    "y = [150, 140, 180, 210, 190, 320, 280, 400, 430, 440, 390, 600, 610, 670]\n",
    "\n",
    "df = pd.DataFrame({'x':x, 'y':y})\n",
    "df"
   ]
  },
  {
   "cell_type": "code",
   "execution_count": 62,
   "metadata": {},
   "outputs": [
    {
     "name": "stdout",
     "output_type": "stream",
     "text": [
      "Equação da reta: y = -45.551905387647935 + 1.711432325886991x\n",
      "Coeficiente de determinação:0.960878666923257\n",
      "t_student = 3.0545395883368704\n",
      "t_calc = 17.167935626273994\n",
      "Como |t_calc| > t_student, rejeitar a hipótese\n",
      "IC 95%: (1.4069322446902262,2.015932407083756)\n",
      "IC 95% com aumento de 10Btu: (14.069322446902262,20.15932407083756)\n"
     ]
    }
   ],
   "source": [
    "#Equação da reta\n",
    "lr = first_analysis_lr(x, y, 'x', 'y')\n",
    "\n",
    "#Coeficiente de determinação\n",
    "r2 = coef_det(lr['sqe'], lr['sqt'])\n",
    "print('Coeficiente de determinação:{}'.format(r2['coef_det']))\n",
    "\n",
    "#t-student\n",
    "alpha = 0.01\n",
    "gl = lr['n'] - 2\n",
    "t_student = t.ppf(1 - alpha/2, gl)\n",
    "print('t_student = {}'.format(t_student))\n",
    "\n",
    "#t_calc\n",
    "s = std(lr['sqe'], lr['n'])\n",
    "sb1_inf = s['std'] / np.sqrt(lr['sxx'])\n",
    "t_calc = lr['b1'] / sb1_inf\n",
    "print('t_calc = {}'.format(t_calc))\n",
    "\n",
    "print('Como |t_calc| > t_student, rejeitar a hipótese')\n",
    "\n",
    "#IC 95%\n",
    "ic = t_student * sb1_inf\n",
    "\n",
    "print('IC 95%: ({},{})'.format(lr['b1'] - ic, lr['b1'] + ic))\n",
    "\n",
    "#Devido o aumento de 10Btu multiplicar por 10\n",
    "print('IC 95% com aumento de 10Btu: ({},{})'.format((lr['b1'] - ic) * 10, (lr['b1'] + ic) * 10))"
   ]
  },
  {
   "cell_type": "markdown",
   "metadata": {},
   "source": [
    "##### b.\n",
    "<p>\n",
    "Calcule um IC de 95% para a mudança esperada na taxa de emissão associada com um aumento de 10MBtu/h - pe² (MBtu/h - pe² = 3,14 MW/m²) na taxa de liberação.\n",
    "</p>"
   ]
  },
  {
   "cell_type": "code",
   "execution_count": 66,
   "metadata": {},
   "outputs": [
    {
     "name": "stdout",
     "output_type": "stream",
     "text": [
      "Intervalo de Confiança: (1.494231446881099, 1.928633204892883)\n"
     ]
    }
   ],
   "source": [
    "#t-student\n",
    "alpha = 0.05\n",
    "gl = lr['n'] - 2\n",
    "t_student = t.ppf(1 - alpha/2, gl)\n",
    "\n",
    "#Desvio calculado\n",
    "s_ic = t_student * sb1_inf\n",
    "\n",
    "print('Intervalo de Confiança: ({}, {})'.format(lr['b1'] - s_ic, lr['b1'] + s_ic))"
   ]
  },
  {
   "cell_type": "code",
   "execution_count": 68,
   "metadata": {},
   "outputs": [
    {
     "name": "stdout",
     "output_type": "stream",
     "text": [
      "Intervalo de Confiança: (14.942314468810991, 19.28633204892883)\n"
     ]
    }
   ],
   "source": [
    "#como o valor é para 10 x b1\n",
    "print('Intervalo de Confiança: ({}, {})'.format((lr['b1'] - s_ic) * 10, (lr['b1'] + s_ic) * 10))"
   ]
  },
  {
   "cell_type": "markdown",
   "metadata": {},
   "source": [
    "#### 7.\n",
    "<p>\n",
    "O modelo de regressão linear simples para 27 observações de dados que representam: x = módulo de elasticidade e y = resistência flexural, resultou em: \n",
    "\n",
    "y_inf =  7,592 | sy_inf = 0,179 e x = 40\n",
    "\n",
    "Y_inf =  9,741 | sy_inf = 0,253 e x = 60.\n",
    "\n",
    "\n",
    "A média de x é 45 e a SQE=18,7356.\n",
    "</p>"
   ]
  },
  {
   "cell_type": "markdown",
   "metadata": {},
   "source": [
    "##### a.\n",
    "<p>\n",
    "Expique por que s_yh é maior quando x = 60 do que quando x = 40 (Como informação extra, a média de x é 45).\n",
    "</p>"
   ]
  },
  {
   "cell_type": "code",
   "execution_count": 69,
   "metadata": {},
   "outputs": [],
   "source": [
    "#Analisando a fórmula: 's_yh = s * np.sqrt((1 / n) + ((x - x_mean)**2) / sxx)', quanto maior x, maior s_yh"
   ]
  },
  {
   "cell_type": "markdown",
   "metadata": {},
   "source": [
    "##### b.\n",
    "<p>\n",
    "Calcule um intervalo de confiança com um nível de confiança de 95% para a resistência média verdadeira de todas as vigas cujo módulo de elasticidade é 40.\n",
    "</p>"
   ]
  },
  {
   "cell_type": "code",
   "execution_count": 70,
   "metadata": {},
   "outputs": [
    {
     "name": "stdout",
     "output_type": "stream",
     "text": [
      "uy,40 = (7.22334259905716)(7.960657400942839)\n"
     ]
    }
   ],
   "source": [
    "y_inf = 7.592\n",
    "x = 40\n",
    "n = 27\n",
    "x_mean = 45\n",
    "sqe = 18.7356\n",
    "sy_inf = 0.179\n",
    "\n",
    "#t-student\n",
    "alpha = 0.05\n",
    "gl = n - 2\n",
    "t_student = t.ppf(1 - alpha/2, gl)\n",
    "\n",
    "#desvio padrao\n",
    "ic = t_student * sy_inf\n",
    "\n",
    "print('uy,40 = ({})({})'.format(y_inf - ic, y_inf + ic))"
   ]
  },
  {
   "cell_type": "markdown",
   "metadata": {},
   "source": [
    "##### c.\n",
    "<p>\n",
    "Calcule um intervalo de previsão com um nível de previsão de 95% para a resistência de uma única viga cujo módulo de elasticidade é 4.\n",
    "</p>"
   ]
  },
  {
   "cell_type": "code",
   "execution_count": 71,
   "metadata": {},
   "outputs": [
    {
     "name": "stdout",
     "output_type": "stream",
     "text": [
      "Intervalço de Previsão: (5.847602456495378, 9.336397543504622)\n"
     ]
    }
   ],
   "source": [
    "yh = 7.592\n",
    "x = 4\n",
    "n = 27\n",
    "x_mean = 45\n",
    "sqe = 18.7356\n",
    "sy_inf = 0.179\n",
    "s2 = sqe / (n - 2)\n",
    "s = np.sqrt(s2)\n",
    "\n",
    "#tabela t-student\n",
    "alpha = 0.05\n",
    "gl = n - 2\n",
    "t_crit = t.ppf(1 - alpha/2, gl)\n",
    "\n",
    "#desvio padrão estimado para intervalo de previsão\n",
    "sy_ip = np.sqrt((s**2) - (sy_inf**2))\n",
    "\n",
    "#desvio padrao calculado\n",
    "ip = t_student * sy_ip\n",
    "\n",
    "print('Intervalço de Previsão: ({}, {})'.format(y_inf - ip, y_inf + ip))\n"
   ]
  },
  {
   "cell_type": "markdown",
   "metadata": {},
   "source": [
    "##### d.\n",
    "<p>\n",
    "Se for calculado um IC de 95% para a resistência média verdadeira quando o módulo de elasticidade é 60, qual será o nível de confiança simultâneo para ambos os intervalos calculados no item (b)? \n",
    "</p>"
   ]
  },
  {
   "cell_type": "code",
   "execution_count": 72,
   "metadata": {},
   "outputs": [
    {
     "name": "stdout",
     "output_type": "stream",
     "text": [
      "Nível de confianca: 90.0%\n"
     ]
    }
   ],
   "source": [
    "#aplicação do intervalo de Bonferroni\n",
    "alpha = 0.05\n",
    "k = 2                                               #numero de observações simultaneas\n",
    "nc = (1 - (k * alpha))\n",
    "print('Nível de confianca: {}%'.format(nc * 100))\n"
   ]
  },
  {
   "cell_type": "markdown",
   "metadata": {},
   "source": [
    "#### 8.\n",
    "<p>\n",
    "Foi analisado um conjunto de dezoito dados x e y, que forneceram os seguintes resultados:\n",
    "\n",
    "    sum x = 152,70\n",
    "\n",
    "    sum y = 671,00\n",
    "\n",
    "    sum xy = 5380,84\n",
    "\n",
    "    sum x2 = 1312,6764   \n",
    "\n",
    "    sum y2 = 31231,00  \n",
    "\n",
    "    x mean = 8.4833   \n",
    "\n",
    "    y mean = 37.2778  \n",
    "</p>"
   ]
  },
  {
   "cell_type": "markdown",
   "metadata": {},
   "source": [
    "##### a. \n",
    "<p>\n",
    "Calcule o intervalo de previsão de 95% para x = 9.\n",
    "</P>"
   ]
  },
  {
   "cell_type": "code",
   "execution_count": 54,
   "metadata": {},
   "outputs": [
    {
     "name": "stdout",
     "output_type": "stream",
     "text": [
      "Equação da reta: y = 190.26771432850165 -18.034245438508798x\n",
      "uy,9 = 27.95950538192247 +- (27.47045853745142)(28.448552226393517)\n",
      "Intervalço de Previsão: (16.09932924550381, 39.81968151834113)\n"
     ]
    }
   ],
   "source": [
    "#x médio:\n",
    "mean_x = 8.4833\n",
    "\n",
    "#y médio:\n",
    "mean_y = 37.2778\n",
    "\n",
    "#Somatória dos valores de x:\n",
    "sum_x = 152.7\n",
    "\n",
    "#Somatória dos valores de y:\n",
    "sum_y = 671\n",
    "\n",
    "#Somatória de x * y:\n",
    "sum_xy = 5380.84\n",
    "\n",
    "#Somatória dos valores de x quadrado:\n",
    "sum_x2 = 1312.6764\n",
    "\n",
    "#Somatória dos valores de y quadrado:\n",
    "sum_y2 = 31231\n",
    "\n",
    "#Número de amostras:\n",
    "n = 18\n",
    "\n",
    "#Fórmulas complementares para cálculo de b1:\n",
    "sxy = sum_xy - ((sum_x * sum_y) / n)\n",
    "sxx = sum_x2 - ((sum_x ** 2) / n)\n",
    "syy = sum_y2 - ((sum_y ** 2) / n)\n",
    "\n",
    "#b1 => Inclinação da reta:\n",
    "b1 = sxy / sxx\n",
    "\n",
    "#b0 => Intercepto no eixo y:\n",
    "b0 = mean_y - (b1 * mean_x)\n",
    "\n",
    "#sqe\n",
    "sqe = syy - (b1 * sxy)\n",
    "\n",
    "print('Equação da reta: y = {} {}x'.format(b0, b1))\n",
    "\n",
    "\n",
    "#o intervalo esta centralizado em:\n",
    "x = 9\n",
    "yh = b0 + (b1 * x)\n",
    "\n",
    "#tabela t-student\n",
    "alpha = 0.05\n",
    "gl = n - 2\n",
    "t_crit = t.ppf(1 - alpha/2, gl)\n",
    "\n",
    "#desvio padrao estimado\n",
    "s_yh = s * np.sqrt((1 / n) + ((x - mean_x)**2) / sxx)\n",
    "\n",
    "#desvio padrao calculado\n",
    "s_ic = t_crit * s_yh\n",
    "\n",
    "print('uy,9 = {} +- ({})({})'.format(yh, yh - s_ic, yh + s_ic))\n",
    "\n",
    "\n",
    "#Intervalo de previsão\n",
    "s2 = sqe / n - 2\n",
    "s = np.sqrt(s2)\n",
    "\n",
    "#desvio padrao estimado\n",
    "s_ip = np.sqrt((s**2) - (s_yh**2))\n",
    "\n",
    "#desvio padrao calculado\n",
    "s_calc = t_crit * s_ip\n",
    "\n",
    "print('Intervalço de Previsão: ({}, {})'.format(yh - s_calc, yh + s_calc))"
   ]
  },
  {
   "cell_type": "markdown",
   "metadata": {},
   "source": [
    "##### b.\n",
    "<p>\n",
    "Calcule os intervalos de confiança do valor esperado de três amostras com um nível de confiança de, pelo menos, 97%. As amostras adotam os seguintes valores x1=7, x2=8 e x3=9.\n",
    "\n",
    "Uma vez realizados todos os cálculos, verifique os seguintes itens que contêm alguns resultados:\n",
    "</p>"
   ]
  },
  {
   "cell_type": "code",
   "execution_count": 122,
   "metadata": {},
   "outputs": [
    {
     "data": {
      "text/plain": [
       "0.9702989999999999"
      ]
     },
     "execution_count": 122,
     "metadata": {},
     "output_type": "execute_result"
    }
   ],
   "source": [
    "#100(1-alpha) de cada intervalor\n",
    "0.99*0.99*0.99"
   ]
  },
  {
   "cell_type": "code",
   "execution_count": 125,
   "metadata": {},
   "outputs": [
    {
     "data": {
      "text/plain": [
       "(64.02799625894008, 45.99375082043127, 27.95950538192247)"
      ]
     },
     "execution_count": 125,
     "metadata": {},
     "output_type": "execute_result"
    }
   ],
   "source": [
    "#y para cada valor de x indicado.\n",
    "x1 = 7\n",
    "x2 = 8\n",
    "x3 = 9\n",
    "uy7 = b0 + (b1 * x1)\n",
    "uy8 = b0 + (b1 * x2)\n",
    "uy9 = b0 + (b1 * x3)\n",
    "uy7, uy8, uy9"
   ]
  },
  {
   "cell_type": "code",
   "execution_count": 126,
   "metadata": {},
   "outputs": [
    {
     "name": "stdout",
     "output_type": "stream",
     "text": [
      "2.9207816223499967\n"
     ]
    }
   ],
   "source": [
    "#t-student\n",
    "alpha = 0.01                                          \n",
    "t_crit = t.ppf(1 - alpha/2, gl) \n",
    "print(t_crit) "
   ]
  },
  {
   "cell_type": "code",
   "execution_count": 127,
   "metadata": {},
   "outputs": [
    {
     "data": {
      "text/plain": [
       "(2.620032781508452, 1.609986924578677, 1.6323665879699925)"
      ]
     },
     "execution_count": 127,
     "metadata": {},
     "output_type": "execute_result"
    }
   ],
   "source": [
    "#desvio padrao de cada valor\n",
    "s_y7 = s * pow(((1 / n) + (x1 - mean_x) * (x1 - mean_x) / sxx), 1 / 2)\n",
    "s_y8 = s * pow(((1 / n) + (x2 - mean_x) * (x2 - mean_x) / sxx), 1 / 2)\n",
    "s_y9 = s * pow(((1 / n) + (x3 - mean_x) * (x3 - mean_x) / sxx), 1 / 2)\n",
    "s_y7,s_y8,s_y9"
   ]
  },
  {
   "cell_type": "code",
   "execution_count": 128,
   "metadata": {},
   "outputs": [
    {
     "name": "stdout",
     "output_type": "stream",
     "text": [
      "O intervalo de confiança para y, x = 7: (56.37545266075565, 71.68053985712451)\n",
      "O intervalo de confiança para y, x = 8: (41.291330598898085, 50.69617104196446)\n",
      "O intervalo de confiança para y, x = 9: (23.191719050841545, 32.727291713003396)\n"
     ]
    }
   ],
   "source": [
    "#IC do valor esperado para várias observações x = 7, 8, 9\n",
    "ic7 = t_crit * s_y7\n",
    "ic8 = t_crit * s_y8\n",
    "ic9 = t_crit * s_y9\n",
    "\n",
    "print('O intervalo de confiança para y, x = 7: ({}, {})'.format(uy7 - ic7, uy7 + ic7))\n",
    "print('O intervalo de confiança para y, x = 8: ({}, {})'.format(uy8 - ic8, uy8 + ic8))\n",
    "print('O intervalo de confiança para y, x = 9: ({}, {})'.format(uy9 - ic9, uy9 + ic9))"
   ]
  },
  {
   "cell_type": "markdown",
   "metadata": {},
   "source": [
    "#### 9.\n",
    "<p>\n",
    "Considere o seguinte conjunto de dados, em que x = pH e y = arsênio removido (%) por um determinado processo.\n",
    "\n",
    "    x = [7.01, 7.11, 7.12, 7.24, 7.94, 7.94, 8.04, 8.05, 8.07, 8.90, 8.94, 8.95, 8.97, 8.98, 9.85, 9.86, 9.86, 9.87]\n",
    "    \n",
    "    y = [60, 67 , 66, 52, 50, 45, 52, 48, 40, 23, 20, 40, 31, 26, 9, 22, 13, 7]\n",
    "\n",
    "Estime os parâmetros da reta de regressão usando o software computacional e considerando que s_yh = 1.61, calcule o intervalo de confiança da porcentagem de arsênico removido quando o pH vale 8,0. Utilize um nível de confiança de 99 %.\n",
    "</p>"
   ]
  },
  {
   "cell_type": "code",
   "execution_count": 136,
   "metadata": {},
   "outputs": [
    {
     "name": "stdout",
     "output_type": "stream",
     "text": [
      "Equação da reta: y = 190.26829324779405 -18.034245438508798x\n",
      "O intervalo de confiança: (41.291871327740175, 50.69678815170716)\n"
     ]
    }
   ],
   "source": [
    "x = [7.01, 7.11, 7.12, 7.24, 7.94, 7.94, 8.04, 8.05, 8.07, 8.90, 8.94, 8.95, 8.97, 8.98, 9.85, 9.86, 9.86, 9.87]\n",
    "y = [60, 67 , 66, 52, 50, 45, 52, 48, 40, 23, 20, 40, 31, 26, 9, 22, 13, 7]\n",
    "df = pd.DataFrame({'x':x, 'y':y})\n",
    "\n",
    "#x médio:\n",
    "mean_x = df['x'].mean()\n",
    "\n",
    "#y médio:\n",
    "mean_y = df['y'].mean()\n",
    "\n",
    "#Somatória dos valores de x:\n",
    "sum_x = df['x'].sum()\n",
    "\n",
    "#Somatória dos valores de y:\n",
    "sum_y = df['y'].sum()\n",
    "\n",
    "#Somatória de x * y:\n",
    "df['xy'] = df['x'] * df['y']\n",
    "sum_xy = df['xy'].sum()\n",
    "\n",
    "#Somatória dos valores de x quadrado:\n",
    "df['x2'] = df['x'] ** 2\n",
    "sum_x2 = df['x2'].sum()\n",
    "\n",
    "#Somatória dos valores de y quadrado:\n",
    "df['y2'] = df['y'] ** 2\n",
    "sum_y2 = df['y2'].sum()\n",
    "\n",
    "#Número de amostras:\n",
    "n = df.shape[0]\n",
    "\n",
    "#Fórmulas complementares para cálculo de b1:\n",
    "sxy = sum_xy - ((sum_x * sum_y) / n)\n",
    "sxx = sum_x2 - ((sum_x ** 2) / n)\n",
    "\n",
    "#b1 => Inclinação da reta:\n",
    "b1 = sxy / sxx\n",
    "\n",
    "#b0 => Intercepto no eixo y:\n",
    "b0 = mean_y - (b1 * mean_x)\n",
    "\n",
    "#uy,8\n",
    "ph = 8\n",
    "yh = b0 + (b1 * ph)\n",
    "print('Equação da reta: y = {} {}x'.format(b0, b1))\n",
    "\n",
    "#t-student\n",
    "alpha = 0.01                                          \n",
    "t_crit = t.ppf(1 - alpha/2, gl)\n",
    "\n",
    "s_yh = 1.61\n",
    "\n",
    "ic = t_crit * s_yh\n",
    "\n",
    "print('O intervalo de confiança: ({}, {})'.format(yh - ic, yh + ic))"
   ]
  },
  {
   "cell_type": "markdown",
   "metadata": {},
   "source": [
    "#### 10.\n",
    "<p>\n",
    "Se o valor de t_crit = 2.0484 para um nível de confiança é 95%, analise o resultado apresentado e responda: qual é o valor do intervalo de confiança de b1.\n",
    "</p>"
   ]
  },
  {
   "cell_type": "code",
   "execution_count": 138,
   "metadata": {},
   "outputs": [
    {
     "name": "stdout",
     "output_type": "stream",
     "text": [
      "                            OLS Regression Results                            \n",
      "==============================================================================\n",
      "Dep. Variable:                      y   R-squared:                       0.937\n",
      "Model:                            OLS   Adj. R-squared:                  0.935\n",
      "Method:                 Least Squares   F-statistic:                     418.3\n",
      "Date:                Fri, 25 Mar 2022   Prob (F-statistic):           2.25e-18\n",
      "Time:                        15:24:29   Log-Likelihood:                -6.2045\n",
      "No. Observations:                  30   AIC:                             16.41\n",
      "Df Residuals:                      28   BIC:                             19.21\n",
      "Df Model:                           1                                         \n",
      "Covariance Type:            nonrobust                                         \n",
      "==============================================================================\n",
      "                 coef    std err          t      P>|t|      [0.025      0.975]\n",
      "------------------------------------------------------------------------------\n",
      "const         -0.3977      0.168     -2.367      0.025      -0.742      -0.054\n",
      "x1             3.0800      0.151     20.453      0.000       2.772       3.388\n",
      "==============================================================================\n",
      "Omnibus:                        0.653   Durbin-Watson:                   2.448\n",
      "Prob(Omnibus):                  0.721   Jarque-Bera (JB):                0.719\n",
      "Skew:                           0.180   Prob(JB):                        0.698\n",
      "Kurtosis:                       2.333   Cond. No.                         5.84\n",
      "==============================================================================\n",
      "\n",
      "Notes:\n",
      "[1] Standard Errors assume that the covariance matrix of the errors is correctly specified.\n"
     ]
    }
   ],
   "source": [
    "x = [0.40, 0.42, 0.48, 0.51, 0.57, 0.60, 0.70, 0.75, 0.75, 0.78, 0.84, 0.95, 0.99, 1.03, 1.12, 1.15, 1.20,\n",
    "        1.25, 1.25, 1.28, 1.30, 1.34, 1.37, 1.40, 1.43, 1.46, 1.49, 1.55, 1.58, 1.60]\n",
    "\n",
    "y = [1.02, 1.21, 0.88, 0.98, 1.52, 1.83, 1.50, 1.80, 1.74, 1.63, 2.00, 2.80, 2.48, 2.47, 3.05, 3.18, 3.76,\n",
    "        3.68, 3.82, 3.21, 4.27, 3.12, 3.99, 3.75, 4.10, 4.18, 3.77, 4.34, 4.21, 4.92]\n",
    "\n",
    "x = sm.add_constant(x)\n",
    "modelo = sm.OLS(y, x).fit()\n",
    "print(modelo.summary())"
   ]
  },
  {
   "cell_type": "code",
   "execution_count": 139,
   "metadata": {},
   "outputs": [
    {
     "name": "stdout",
     "output_type": "stream",
     "text": [
      "Intervalo de confiança: (2.7706916, 3.3893084)\n"
     ]
    }
   ],
   "source": [
    "b1 = 3.08\n",
    "y = -0.3977 + (3.08 * x)\n",
    "t_crit = 2.0484\n",
    "s_b1 = 0.151\n",
    "ic = t_crit * s_b1\n",
    "print('Intervalo de confiança: ({}, {})'.format(b1 - ic, b1 + ic))"
   ]
  },
  {
   "cell_type": "markdown",
   "metadata": {},
   "source": [
    "#### 11.\n",
    "<p>\n",
    "Calcule a reta de regressão linear dos dados a seguir, em que x = pH e y = arsênio removido (%) por um determinado processo. Verifique se o coeficiente de determinação e as estatísticas de teste indicam que o modelo descreve a relação linear entre essas variáveis, depois calcule a porcentagem de arsênio removido que pode se esperar para um pH = 8,0, adotando para o cálculo o menor b1 fornecido pelo intervalo de confiança de b1. \n",
    "\n",
    "    x = [7.01, 7.11, 7.12, 7.24, 7.94, 7.94, 8.04, 8.05, 8.07, 8.90, 8.94, 8.95, 8.97, 8.98, 9.85, 9.86, 9.86, 9.87]\n",
    "\n",
    "    y= [60, 67 , 66, 52, 50, 45, 52, 48, 40, 23, 20, 40, 31, 26, 9, 22, 13, 7]\n",
    "</p>"
   ]
  },
  {
   "cell_type": "code",
   "execution_count": 149,
   "metadata": {},
   "outputs": [
    {
     "name": "stdout",
     "output_type": "stream",
     "text": [
      "                            OLS Regression Results                            \n",
      "==============================================================================\n",
      "Dep. Variable:                      y   R-squared:                       0.903\n",
      "Model:                            OLS   Adj. R-squared:                  0.897\n",
      "Method:                 Least Squares   F-statistic:                     149.7\n",
      "Date:                Fri, 25 Mar 2022   Prob (F-statistic):           1.55e-09\n",
      "Time:                        15:55:00   Log-Likelihood:                -57.105\n",
      "No. Observations:                  18   AIC:                             118.2\n",
      "Df Residuals:                      16   BIC:                             120.0\n",
      "Df Model:                           1                                         \n",
      "Covariance Type:            nonrobust                                         \n",
      "==============================================================================\n",
      "                 coef    std err          t      P>|t|      [0.025      0.975]\n",
      "------------------------------------------------------------------------------\n",
      "const        190.2683     12.587     15.116      0.000     163.585     216.952\n",
      "x1           -18.0342      1.474    -12.235      0.000     -21.159     -14.910\n",
      "==============================================================================\n",
      "Omnibus:                        1.191   Durbin-Watson:                   2.184\n",
      "Prob(Omnibus):                  0.551   Jarque-Bera (JB):                0.908\n",
      "Skew:                           0.268   Prob(JB):                        0.635\n",
      "Kurtosis:                       2.040   Cond. No.                         75.5\n",
      "==============================================================================\n",
      "\n",
      "Notes:\n",
      "[1] Standard Errors assume that the covariance matrix of the errors is correctly specified.\n",
      "20.99630000000002\n"
     ]
    },
    {
     "name": "stderr",
     "output_type": "stream",
     "text": [
      "/home/felipe_oliveira/data-science/Statistical Modeling and Inference/statistical-modeling-inference/venv/lib/python3.9/site-packages/scipy/stats/_stats_py.py:1477: UserWarning: kurtosistest only valid for n>=20 ... continuing anyway, n=18\n",
      "  warnings.warn(\"kurtosistest only valid for n>=20 ... continuing \"\n"
     ]
    }
   ],
   "source": [
    "x = [7.01, 7.11, 7.12, 7.24, 7.94, 7.94, 8.04, 8.05, 8.07, 8.90, 8.94, 8.95, 8.97, 8.98, 9.85, 9.86, 9.86, 9.87]\n",
    "y= [60, 67 , 66, 52, 50, 45, 52, 48, 40, 23, 20, 40, 31, 26, 9, 22, 13, 7]\n",
    "df = pd.DataFrame({'x':x, 'y':y})\n",
    "\n",
    "x = sm.add_constant(x)\n",
    "modelo = sm.OLS(y, x).fit()\n",
    "print(modelo.summary())\n",
    "\n",
    "b1 = -21.159\n",
    "b0 = 190.2683\n",
    "\n",
    "x = 8\n",
    "uy8 = b0 + (b1 * x)\n",
    "print(uy8)"
   ]
  },
  {
   "cell_type": "markdown",
   "metadata": {},
   "source": [
    "#### 12.\n",
    "<p>\n",
    "\n",
    "    x = [0.40, 0.42, 0.48, 0.51, 0.57, 0.60, 0.70, 0.75, 0.75, 0.78, 0.84, 0.95, 0.99, 1.03, 1.12, 1.15, 1.20, 1.25, 1.25, 1.28, 1.30, 1.34, 1.37, \n",
    "        1.40, 1.43, 1.46, 1.49, 1.55, 1.58, 1.60]\n",
    "\n",
    "    y = [1.02, 1.21, 0.88, 0.98, 1.52, 1.83, 1.50, 1.80, 1.74, 1.63, 2.00, 2.80, 2.48, 2.47, 3.05, 3.18, 3.76, 3.68, 3.82, 3.21, 4.27, 3.12, 3.99,\n",
    "        3.75, 4.10, 4.18, 3.77, 4.34, 4.21, 4.92]    \n",
    "</p>"
   ]
  },
  {
   "cell_type": "code",
   "execution_count": 151,
   "metadata": {},
   "outputs": [
    {
     "name": "stdout",
     "output_type": "stream",
     "text": [
      "                            OLS Regression Results                            \n",
      "==============================================================================\n",
      "Dep. Variable:                      y   R-squared:                       0.937\n",
      "Model:                            OLS   Adj. R-squared:                  0.935\n",
      "Method:                 Least Squares   F-statistic:                     418.3\n",
      "Date:                Fri, 25 Mar 2022   Prob (F-statistic):           2.25e-18\n",
      "Time:                        16:00:00   Log-Likelihood:                -6.2045\n",
      "No. Observations:                  30   AIC:                             16.41\n",
      "Df Residuals:                      28   BIC:                             19.21\n",
      "Df Model:                           1                                         \n",
      "Covariance Type:            nonrobust                                         \n",
      "==============================================================================\n",
      "                 coef    std err          t      P>|t|      [0.025      0.975]\n",
      "------------------------------------------------------------------------------\n",
      "const         -0.3977      0.168     -2.367      0.025      -0.742      -0.054\n",
      "x1             3.0800      0.151     20.453      0.000       2.772       3.388\n",
      "==============================================================================\n",
      "Omnibus:                        0.653   Durbin-Watson:                   2.448\n",
      "Prob(Omnibus):                  0.721   Jarque-Bera (JB):                0.719\n",
      "Skew:                           0.180   Prob(JB):                        0.698\n",
      "Kurtosis:                       2.333   Cond. No.                         5.84\n",
      "==============================================================================\n",
      "\n",
      "Notes:\n",
      "[1] Standard Errors assume that the covariance matrix of the errors is correctly specified.\n"
     ]
    }
   ],
   "source": [
    "x = [0.40, 0.42, 0.48, 0.51, 0.57, 0.60, 0.70, 0.75, 0.75, 0.78, 0.84, 0.95, 0.99, 1.03, 1.12, 1.15, 1.20, 1.25, 1.25, 1.28, 1.30, 1.34, 1.37, \n",
    "        1.40, 1.43, 1.46, 1.49, 1.55, 1.58, 1.60]\n",
    "\n",
    "y = [1.02, 1.21, 0.88, 0.98, 1.52, 1.83, 1.50, 1.80, 1.74, 1.63, 2.00, 2.80, 2.48, 2.47, 3.05, 3.18, 3.76, 3.68, 3.82, 3.21, 4.27, 3.12, 3.99,\n",
    "        3.75, 4.10, 4.18, 3.77, 4.34, 4.21, 4.92]\n",
    "\n",
    "df = pd.DataFrame({'x':x, 'y':y})\n",
    "\n",
    "x = sm.add_constant(x)\n",
    "modelo = sm.OLS(y, x).fit()\n",
    "print(modelo.summary())\n"
   ]
  },
  {
   "cell_type": "code",
   "execution_count": 152,
   "metadata": {},
   "outputs": [
    {
     "data": {
      "text/plain": [
       "2.048407141795244"
      ]
     },
     "execution_count": 152,
     "metadata": {},
     "output_type": "execute_result"
    }
   ],
   "source": [
    "#t-student\n",
    "alpha = 0.05                                          \n",
    "t_crit = t.ppf(1 - alpha/2, 28)\n",
    "t_crit"
   ]
  },
  {
   "cell_type": "markdown",
   "metadata": {},
   "source": [
    "### Notebook aula"
   ]
  },
  {
   "cell_type": "markdown",
   "metadata": {},
   "source": [
    "#### 1.\n",
    "<p>\n",
    "Os dados a seguir x = velocidade do fluxo e y = quantidade de gotículas:\n",
    "\n",
    "    x = 89, 177, 189, 354, 362, 442, 965\n",
    "    \n",
    "    y = 0.40, 0.60, 0.48, 0.66, 0.61, 0.69, 0.99\n",
    "\n",
    "\n",
    "</p>"
   ]
  },
  {
   "cell_type": "code",
   "execution_count": 10,
   "metadata": {},
   "outputs": [
    {
     "data": {
      "text/html": [
       "<div>\n",
       "<style scoped>\n",
       "    .dataframe tbody tr th:only-of-type {\n",
       "        vertical-align: middle;\n",
       "    }\n",
       "\n",
       "    .dataframe tbody tr th {\n",
       "        vertical-align: top;\n",
       "    }\n",
       "\n",
       "    .dataframe thead th {\n",
       "        text-align: right;\n",
       "    }\n",
       "</style>\n",
       "<table border=\"1\" class=\"dataframe\">\n",
       "  <thead>\n",
       "    <tr style=\"text-align: right;\">\n",
       "      <th></th>\n",
       "      <th>x</th>\n",
       "      <th>y</th>\n",
       "    </tr>\n",
       "  </thead>\n",
       "  <tbody>\n",
       "    <tr>\n",
       "      <th>0</th>\n",
       "      <td>89</td>\n",
       "      <td>0.40</td>\n",
       "    </tr>\n",
       "    <tr>\n",
       "      <th>1</th>\n",
       "      <td>177</td>\n",
       "      <td>0.60</td>\n",
       "    </tr>\n",
       "    <tr>\n",
       "      <th>2</th>\n",
       "      <td>189</td>\n",
       "      <td>0.48</td>\n",
       "    </tr>\n",
       "    <tr>\n",
       "      <th>3</th>\n",
       "      <td>354</td>\n",
       "      <td>0.66</td>\n",
       "    </tr>\n",
       "    <tr>\n",
       "      <th>4</th>\n",
       "      <td>362</td>\n",
       "      <td>0.61</td>\n",
       "    </tr>\n",
       "    <tr>\n",
       "      <th>5</th>\n",
       "      <td>442</td>\n",
       "      <td>0.69</td>\n",
       "    </tr>\n",
       "    <tr>\n",
       "      <th>6</th>\n",
       "      <td>965</td>\n",
       "      <td>0.99</td>\n",
       "    </tr>\n",
       "  </tbody>\n",
       "</table>\n",
       "</div>"
      ],
      "text/plain": [
       "     x     y\n",
       "0   89  0.40\n",
       "1  177  0.60\n",
       "2  189  0.48\n",
       "3  354  0.66\n",
       "4  362  0.61\n",
       "5  442  0.69\n",
       "6  965  0.99"
      ]
     },
     "execution_count": 10,
     "metadata": {},
     "output_type": "execute_result"
    }
   ],
   "source": [
    "x = [89, 177, 189, 354, 362, 442, 965]\n",
    "y = [0.40, 0.60, 0.48, 0.66, 0.61, 0.69, 0.99]\n",
    "\n",
    "df = pd.DataFrame({'x':x, 'y':y})\n",
    "df"
   ]
  },
  {
   "cell_type": "markdown",
   "metadata": {},
   "source": [
    "##### a.\n",
    "<p>\n",
    "Os pesquisadores executaram uma análise de regressão linear simples para relacionar as duas variáveis. O gráfico de dispersão dos dados apoia essa estratégia?\n",
    "</p>"
   ]
  },
  {
   "cell_type": "code",
   "execution_count": 15,
   "metadata": {},
   "outputs": [
    {
     "data": {
      "image/png": "[encoded data removed]",
      "text/plain": [
       "<Figure size 700x500 with 1 Axes>"
      ]
     },
     "metadata": {
      "needs_background": "light"
     },
     "output_type": "display_data"
    }
   ],
   "source": [
    "x = df['x']\n",
    "y = df['y']\n",
    "yh = 0.4041 + (0.00068 * x)\n",
    "plt.rcParams.update({'figure.figsize':(7, 5), 'figure.dpi':100})\n",
    "plt.scatter(x, y, label = f'Correlação = {np.round(np.corrcoef(x, y)[0, 1], 2)}')\n",
    "plt.plot(x, yh, color='r')\n",
    "plt.xlabel('Velocidade do fluxo do fluído (cm/s)')\n",
    "plt.ylabel('Quantidade de gotículas')\n",
    "plt.title('Gráfico de dispersão')\n",
    "plt.legend()\n",
    "plt.grid(True)\n",
    "plt.show()\n",
    "\n",
    "#Sim, a esstratégia é adequada"
   ]
  },
  {
   "cell_type": "markdown",
   "metadata": {},
   "source": [
    "##### b. \n",
    "<p>\n",
    "Que porporção (coeficiente de determinação) observada no volume de névoa pode ser atribuída à relação de regressão linear simples entre velocidade e névoa?\n",
    "</p>"
   ]
  },
  {
   "cell_type": "code",
   "execution_count": 16,
   "metadata": {},
   "outputs": [
    {
     "name": "stdout",
     "output_type": "stream",
     "text": [
      "                            OLS Regression Results                            \n",
      "==============================================================================\n",
      "Dep. Variable:                      y   R-squared:                       0.931\n",
      "Model:                            OLS   Adj. R-squared:                  0.917\n",
      "Method:                 Least Squares   F-statistic:                     67.15\n",
      "Date:                Mon, 02 May 2022   Prob (F-statistic):           0.000440\n",
      "Time:                        15:01:19   Log-Likelihood:                 11.671\n",
      "No. Observations:                   7   AIC:                            -19.34\n",
      "Df Residuals:                       5   BIC:                            -19.45\n",
      "Df Model:                           1                                         \n",
      "Covariance Type:            nonrobust                                         \n",
      "==============================================================================\n",
      "                 coef    std err          t      P>|t|      [0.025      0.975]\n",
      "------------------------------------------------------------------------------\n",
      "const          0.4041      0.035     11.684      0.000       0.315       0.493\n",
      "x              0.0006   7.58e-05      8.195      0.000       0.000       0.001\n",
      "==============================================================================\n",
      "Omnibus:                          nan   Durbin-Watson:                   3.282\n",
      "Prob(Omnibus):                    nan   Jarque-Bera (JB):                0.525\n",
      "Skew:                           0.589   Prob(JB):                        0.769\n",
      "Kurtosis:                       2.358   Cond. No.                         773.\n",
      "==============================================================================\n",
      "\n",
      "Notes:\n",
      "[1] Standard Errors assume that the covariance matrix of the errors is correctly specified.\n"
     ]
    },
    {
     "name": "stderr",
     "output_type": "stream",
     "text": [
      "/home/felipe_oliveira/data-science/Statistical Modeling and Inference/statistical-modeling-inference/venv/lib/python3.9/site-packages/statsmodels/stats/stattools.py:74: ValueWarning: omni_normtest is not valid with less than 8 observations; 7 samples were given.\n",
      "  warn(\"omni_normtest is not valid with less than 8 observations; %i \"\n"
     ]
    }
   ],
   "source": [
    "x = sm.add_constant(x)\n",
    "\n",
    "#fit linear regression model\n",
    "modelo = sm.OLS(y, x).fit()\n",
    "print(modelo.summary())\n",
    "\n",
    "#Coeficiente de determinação: r² = 0.931, significa que 93.1% de relação entre gotícula e velocidade"
   ]
  },
  {
   "cell_type": "markdown",
   "metadata": {
    "id": "9oAHbw_kOJ_l"
   },
   "source": [
    "**Explicação do resultado** OLS (*Ordinary Least Squares*)\n",
    "\n",
    "![aula7fig1.jpeg](data:image/jpeg;base64,/9j/4AAQSkZJRgABAQEAYABgAAD/2wBDAAgGBgcGBQgHBwcJCQgKDBQNDAsLDBkSEw8UHRofHh0aHBwgJC4nICIsIxwcKDcpLDAxNDQ0Hyc5PTgyPC4zNDL/2wBDAQkJCQwLDBgNDRgyIRwhMjIyMjIyMjIyMjIyMjIyMjIyMjIyMjIyMjIyMjIyMjIyMjIyMjIyMjIyMjIyMjIyMjL/wAARCAGZApIDASIAAhEBAxEB/8QAHwAAAQUBAQEBAQEAAAAAAAAAAAECAwQFBgcICQoL/8QAtRAAAgEDAwIEAwUFBAQAAAF9AQIDAAQRBRIhMUEGE1FhByJxFDKBkaEII0KxwRVS0fAkM2JyggkKFhcYGRolJicoKSo0NTY3ODk6Q0RFRkdISUpTVFVWV1hZWmNkZWZnaGlqc3R1dnd4eXqDhIWGh4iJipKTlJWWl5iZmqKjpKWmp6ipqrKztLW2t7i5usLDxMXGx8jJytLT1NXW19jZ2uHi4+Tl5ufo6erx8vP09fb3+Pn6/8QAHwEAAwEBAQEBAQEBAQAAAAAAAAECAwQFBgcICQoL/8QAtREAAgECBAQDBAcFBAQAAQJ3AAECAxEEBSExBhJBUQdhcRMiMoEIFEKRobHBCSMzUvAVYnLRChYkNOEl8RcYGRomJygpKjU2Nzg5OkNERUZHSElKU1RVVldYWVpjZGVmZ2hpanN0dXZ3eHl6goOEhYaHiImKkpOUlZaXmJmaoqOkpaanqKmqsrO0tba3uLm6wsPExcbHyMnK0tPU1dbX2Nna4uPk5ebn6Onq8vP09fb3+Pn6/9oADAMBAAIRAxEAPwD3+iiigAooooAKKKKACiiigAooooAKKKKACiiigAooooAKKKKACiiigAooooAKKKKACiiigAooooAKpatfjS9KuL3yzKYlysYONzHgD8SRV2qeq2C6ppdxZNIY/OTAcdVPUH8Dg0AYz6rrGmXP2fUmspjNbSTQvBEyBHQZKMCzbhg/e46dK0Y9TnPhdNU8gSzm1E/lIDhm25wOp/nVL+x9TvnM+pzWomjt3ghWDcVJYAFzkZ7dBU2j2+t2Omx2lwunnyIFjiaN3+YgY+bI4H0oATw3qNzqtr9ql1LT7qNgP3drAyGJu6sS7ZI+grXupWgtJpVxuSNmGemQKxtO0i8XW5NVvEsoJWj8tltM/vOfvOSBkjtWzcxGe1miBALoVBPbIoA5Pwr4ovNYmgE13p95FJaCeZ7OJk+zNx8jkuwOcn0PHSt2z8Q6dfXX2eGSQOQSjSQsiyAdSjEAMPpmqVn4dmtIrKNZo8LYizusAjeAuAw9wc9exqjpfhaTSZBJJBDMttEywyi5meQ8Y+4x2gn2oA1LfxVpl3qEVlD9qaSYt5b/AGSQRvt6kPt2ke+ada+KdJvbtLa3nd2d2jD+Uwj3rnKb8bd3B+XOa43wk88Or2MbSPe4V0EZkbdaA8kkFAOoA6mu20nR1sdLS0uBFKySySqwX7pZmORnocN1oALbxFpt1f8A2OKSXeWKo7QuschHUK5G1iOeAexp9trlnd37WkC3MjKSDKLZ/KyOo8zG3P41iaT4Sk03UIWeOCaCB2aKVrqcuM5x8hJTPOKtWuhXkPiD7cv2e1g3MzpbzSHzc/3kPyg98igDRg1yzudReygW5kdGKtItu5iBHUeZjbn8ahg1h5/FE2mjCxRW+8rJBIjs27GVYjay4PbPNU4tBvV8Rrfp9ntIBIzyC3mkJmBGMMh+QHoSRzxUhsNZPildSP2D7KsRg2h337CwOemM8dKALTeJNNW+NoZJch/LMvkP5Qf+6ZMbc+2aa3ijSlvjaedIZFl8l2ELlEfsGbGAT2yeazz4d1ApJp3n239mPcGct83ncndt9OvfNTSeHZ3sruATxgz3y3QODwAwOPrxQB0VcXdeKr6LxDeWMV1p7NBcxwxWBhYzzKyqSwbfgYyf4e1doOlc9L4enaXUZ45o1nmukubdiD+7Koq4P12np2NAFy48Rada3v2SWSQOpCu6ws0cZPQM4G1T9TT5tcs4dRFiBcyz8bvIt3kVM9NzKCF/GsK68IyS6rPceXBcQXMiyyJLdTptPGcKp2kcdxVvU9BvLzV47m1FtahSmbiOaRZSFPQqPlb059aANWfWbG3S+aWUqLFQ1x8hO0EZ/Hj0qnqN/f2ur6YIZbZrK7k8t42hbzB8pOQ+7H4bao6v4e1K8k1aO0uLVLfUolWRpQxdCF28AcEHjvxVjVtN1m5vtPez+weTZuJP3zuGY4II4GMc0AO1HxVDp2uQ6a9lfSeYhYyRWkrgY9NqnP4Hirl5r1nZTRQyLdSTSJvEUFtJI6r6sFBKj61Dqen38t/ZahYtbefArI8cxYKQ3XBAzVXX9EvdVeJ4EtYplj2/ahNIkkZ9tvDAdcNxQB0QORmlpsaskSqzF2AALHv706gAooooAKKKKACiiigAooooAKKKKACiiigAooooAKKKKACiiigAooooAKKKKACiiigAooooAKKKKACiiigAoorlp/Dery6014ms7LcyhxDvuenpxOF/8dx7UAdTRXLXnhvV7jWGu4tZ8uAyBvJ33PQdvlnC/wDjuPajUPDerXWrtdwaz5MBYEQ77ngDt8s6r/47QB1NFcvqnhzVr3VXurfWfIhJGIt9yMY6/cnVf/HaNU8Oate6l9ot9Z8iLCjy99yOnX7k6r+lAHUUVy2r+HNWv7wTW2s/Z4wgXZvuRyB1+SdR+lGreHNWvrxZrbWfs8YjVSm+5GSOp+SdR+mfc0AdTRXMat4d1a/uIZLbWPs6pEqMu+5G4jqfkmUfmCfc0mq+HNWvngNtrH2cRxBGG+5G4jv8ky/rk+9AHUUVy+qeHNWvRbfZ9Y8jyogj/PcjefX5Jl/XJ96XUvDmrXkNklvrHkNBCEkbfcjzG9flmU/99bj70AdPRXMah4d1a6tLOKDWPJkgTbI++5/eH1+WZT/30WPvRfeHdWubCzgh1jypYVIkk33Pz/8AfMwP/fRNAHT0VzF54d1a40yztotY8uaAHzJd9z+8z/uzBv8AvpjTLnw3q82mWdtHrWyaHd5ku+5+fJ46ThuP9on2xQB1VFcvc+HNWm0m0tY9Y2TQkmSXfc/Pn6ThvzY0tx4d1aXR7a0TWNk8TEvNvufnB+kwb82NAHT0Vy8vhzVn0OCyXWNtxHKXaffc/MD24n3fmxHtSv4d1ZtCjshrGLhZS5n33PI9P9du/wDHse1AHT0Vy/8Awjmrf2H9i/tn/SPN3+fvuenp/r93/j2PalXw7qw0NrI6xm4Mu8T77ngen+u3f+PY9qAOnorlo/DerLok1k2s5uHmDrPvuflUDpzPu/JgPali8Oasmiz2baxuuJJAyzb7n5QO3Mxb8mA9qAOoormLfw7q0Wj3No+sb55WBSbfc/IB25mLfkwotfDurQaTeWsmseZPMVMcu+5+THXrMW/JhQB09FcxZeHdWt9NvreXWPNmnUCOTfc/u8dfvTFv++StFh4d1a1sryGbWPNkmTbG++5+Q+vzTE/98kUAdPRXL6d4c1a0tryOfWPOeaPbG2+5+Q+vzTMfyIPvS6Z4d1ayjvFuNY88zQlIzvuTsb1+aZv0wfegDp6K5XTvDer2i3Qn1nzvNhKJ89z8jHv807fpg+9O0vw5q1l9p+0az5/mxFE+e5Ow+vzzt+mD70AdRRXL6V4c1axec3OsfaBJEUUb7k7Se/zzN+mD70ukeHdWsLqWW61j7QjxMirvuTgnofnmYcewB9xQB09FcvpHhzVrC7aW61n7RGUKhN9yeT0PzzsP0z70mleHNWstQ+0XOs+fFtYeXvuT16ffnYfp+VAHU0Vy+l+HNWstUW6uNY8+EZzFvuT16ffnZf8Ax2k07w3q9pqyXU+s+dArEmLfc85Bx96dl/8AHaAOporlrDw3q1rq63c2s+dAGJMW+56Ht805X/x2iz8N6tb6yt5LrPmQByxh33PI9PmnK/8AjuPagDqaK5aDw3q0WtLePrO+3Eu8wb7nkenM5X/x3HtQvhvVxrf206zm387zPI33P3c52/6/b/47j2oA6miuWfw3q7a0bwazi3Mu/wAnfc9PT/X7f/Hce1Fx4c1aXWjeJrOy380P5O+56enE4X/x3HtQB1NFcte+G9XuNYa7i1nyoDIGEO+54Hp8s4X/AMdx7Uuo+HNWu9Xe7g1nyYGYEQ77kYx/uzqv/jtAHUUVy194b1e51Y3UOs+VCWB8rfc9B/uzhf8Ax2jUvDerXmqG6g1nyYSQfK33I6f7s6r/AOO0AdTRXLat4b1a/wBRa4ttZ+zxEKBHvuR0HP3J1H6UureHNWv9QE9trH2eIKo8vfcjkdT8kyj9PzoA6iiuX1bw5q1/cpJbaz9nRY1UrvuRkjqfknUfpn3o1bw5q19NC9trH2dUiCMN9yNxHf5J1H55PvQB1FFcxqvh3Vr5rY22sfZ/KhEb/Pcjew7/ACTL+uT70mpeHNWvIrRbfWPIaGIJId9yN59flmX9cn3oA6iiuW1Hw5q13DaJBrPktDHsc77n5z6/LOp/PJ96XUPDmrXdrZRwax5LwR7JG33P7w+vyzKf++ix96AOoormL7w7q1zYWMEOseVLAhWWTfc/vD6/LMD/AN9FqLzw7q1xptnbRax5c0IPmSb7n5/++Zg35k0AdPRXMXXh3VptJtbWPWNk0JJeXfc/Pn6TBvzY0T+HdWl0W1s01jZcROzPNvufnB6DiYN+bGgDp6K5eTw5qz6HDZLrG24SUu0++5+YenE2782I9qa/hvV20eO0GtYnWQuZt9zyPT/X7vzYj2oA6qiuXfw5qzaHFZDWMXCSF2n33PI9P9du/NiPalPh3VjoIsf7Y/0kTeZ5++5+7jp/rt//AI9j2oA6eiuXXw5qw0N7I6xm5aXeJ99zwvp/r93/AI9j2pY/DurJoktk2sZuHkDLPvueB6czbvyYD2oA6eiuXg8OatHotzZvrG64lkDJNvufkA7czlvyYD2pbbw7q0Oj3dpJrG+eZlMc2+5+THXrMW/JhQB09FcvaeHNWg0y8tpdZ8yabHly77n5MfWct/3yRSWfhzVrfT7y3l1nzJZgBHJvufkx/vTk/kRQB1NFcxY+HNWtrC+gm1jzZZ0CxSb7n92fX5pif++StGneHdWtLa8jn1jznnj2Rtvuf3Z9fmmY/wDfJU+9AHT0VzGm+HdWs4rpbjWPPaaPYh33J2H1+aZv0wfek0vw5q1kLr7RrHn+bEUT57k7GPf55m/TB96AOoormNJ8O6tYzTvc6x9oWSFo1G+5O1j0PzzN+mD7ik0jw5q1hcySXOsfaEaMqF33JwT3+edh+mfegDqKK5XTPDer2d08txrXnoyMoXfcnBPQ/NOw/TPuKdpPhzVrC9ea51j7RG0bKE33JwT0PzzMP0z7igDqKK5fSPDmrWGofaLnWftEW1h5e+5PJ6H552H6flSaX4b1ey1Jbm41nz4RuzHvuT16ffnZf0oA6miuX03w5q1nqy3U+sedAGJMW+5PX/enZf8Ax2uooAKKKKAColurdpTEs8RkHVA4z+VS155Na2kOh6jfxQRJqQ1NxDMigSFtwwMjk/SgD0OiuKk8R61Jqs6WlncSR286wtCttuVhxli+eOuenapL7WtYifWLqO4t47bTZlVYTFlpgVUlSc8HnAx60AdjRUZnhWSON5UWSQZRGYBm9cDvUlADQ6ndhgdvBwelKrKyhlIKnkEHrXFa1cf2Pqep2kblZNXiX7OM/wDLQ/I2PwINLr+sz6Bam102Rx/Z9oryRpbeYo4OA7EjaDjtmgDtaazomNzKuTgZOMmuan1DWb7VktNOmt7eNrFbkl497bifu/Sk15bwros9z5GRcxiSAx7gHOeVbPGKAOopNy79m4bsZxnnFc34m1q4sX8iynkW4SEzMsVsJiF7FskbRx1rMju7/Vta0u9tZ4rSSfRjNI7R79uWU4AzQB2kk8URUSSohY4UMwGfpUlcbqsqax4JtdQuoIWuNyFX2A4O/GVz0BxmrniPWL6zvrSxsUmDTI0hkit/ObjsFJFAHTUVhxXmqXPhhLiQw6dfkDcbpcKvzc5GeMj+dbYzgZ54oAWobuRobKeVUeRkjZgkeNzEDoMkDP41NUc//HvJ/un+VY4l2ozfk/yHHdHJR+KrebTNKv4XuZI9UeNLdF+/lwW5GeNoDFvTaetSW3irSLwSG11+xnERUSGK8Rtm47Vzg8ZJwPU1jaToV3aa3KJIlXT7FppNPYsDuaY7m4HI2ZZRns1cnceFte1J7JrzTb2a5VNl/Nd3ySRTsbiB28uPzCFTCOcBV4AGM4r8wp8k5NOs0u/N3u+/a1+zep27dD0NfFemukk41a2+xxxLK139sj8rBdk67sj5lIyRjPAJIIBo3iNdXt1lW7tR5ryfZ1gvlnMiIQC2V4zyMgFsZHNYmv6ZrUmqajdaWjqJbG2gDRSKkjBZpGlRCSNrmNuGOACRyMZGTB4f1a2jvtTsNMuYryHUEu7G3vb4SySIYUikVnLv1G7gsfur7UotTpt+1abtb3vJaPVdXq/J7Da1sl/Vjt5/Eem23k/aNatIvOkaKLzLpV8x1O1lXJ5IPBA6Hiix1qW91LVLTDp9hmSLf5hO/dGj5x2+9jv0rhtR8Jajay+Xb/2lc2c+mLZTJYtahi+52kL/AGgHhzITlOcg5B4rqdC065sdS1mSdGEc80LQuzhi4WCNCT/wJSOQKzqzUKblGs3ppr5rp6X/ADBavYvTeKNKt3lSbXbKJoVLSK92oKANsJOTwA3y89+OtOn8S6Za2EN9ca3aQ2c5xFcSXSrHJ3+VicHoelcddeGtUXTllto5oZ4tduL947Uw+bMjtIFZTJmPcAyn5+y44IFNOiX9ra2VxbWWvreq9zJ58U9iZ4/MYFldGxDtY/N8mSCPc1olF2tXe9vi9fw21132uD0drHZ/8JLphuYbYa3afaJiBFF9qXdJkBhtGcnhlPHYg96kTXLOTUpNNTVIGv413ParcAyqOOSmcgcjt3FedW+nale3Gr6S2lo1091p5uL2Ly0ggMUUDkAbt/G1toCkfMORzWpa6Jqq3tpYvp22O01a41A6gZV2SpJ5pCgBt+8+aFOVxhTyeBROHKv4zva/xeV77/K2/US22N7UPHmhadDM8mu2sjQSpFLFFdoXQs4T5hu4wTk56AH0q5H4q0ia8itItesXuplVo4VvELuGG4ELnJBHIx2rhl0LXf7L+yWun30dpbRxNDZ38lqzKUnik8uCSM527UYfvDzhOetWNZ0zXdW1CSWXTtSbdc2k1ptvkjhtokeNnWSNZMPICJDnDj7uDxV8sPh9s+uvOvK35tvX0bD5Ha3uuf2fe2NvP9oC3khiScEeWj4yqsc5BbBA4xnjqRnR8P6tHq9vdSQrMYoLloBM+NspXG4ocnIByuTjkH61h+J9PfVfC+p2UUXmzy2ziFd20+aBlCDkYIYKQc8EVv8Ah60jsdFt7SKJYo4UVFjXouFAxXpcM1ufFR5pNuz0v+P6fIiurR0NSiiiv0E5AooooAKKKRs7TtODjg0ALRXN6frN9d3VrYHy/tUUkgvSF4Cr0IHbdlfzrpKACiiigCIXVu03krPEZR/AHGfyqWvOLOydtf8APkgs4rdtUf8A0tFxPuAGFJ/unpXcvqWzUVs/sV427/lusWYx9WzQBeormb7VNRs/ESx3Tvbaa0kaROluJEfdxhnzlSW46elVdW13Uo/7Rube8gt4bG5S3ELxBjKSFJOSePvcY9KAOworlr3xBdW1nq8u+JWtbhIotw7Nj8zyaq+IfE91p9xI1nK7pbGMTIttuTLEcM+RtOD2BoA7OiuYub3XbvWr+006W2ijtreKVBJHuMjsG+UnsOOtVNU8QayusXFpY20xa1jjYxxW3miRmGSC2RtHGMigDsSwVSzEADqTSggjIOQa4rxFqF9e6fqkIuI7GK2tA0qSRhmdmXO3JPHpW6r3K2GkC3ureBWKCVZhzIu37q/7XT8qANdiFUseABk1D9st/wDnp/46adcHbayseyE/pXn2htqur6baa/Nrc0EdyBcLZRwRGFYjyEJ2+YW29SHHzdscV87nea4jAyj7Lls19pPfyt6G1KmprU7/AO2W/wDz0/8AHTR9st/+en/jprzuHxvstY77UtONrYXFlLf2sqTeY7RIAxDrtARyrAgAsOoyMc4N74zvNfmsNJsF04yz3Efm/YdbYgoUkYIZYo9yNmPnHbABIJx5VPPc2k3enBJbv+pf11saeyp2vc9i+2W//PT/AMdNH2y3/wCen/jprzv/AISS6i8RXOgafafa7xJAEW6u9kaRLDEzMXEbN96RRg7iSScgcVHd+NDpf2wXscMFz9rhto4ru8SOCN2gWVsy7PlUDdydxJ6YyAM1xDmkmlGnDVJrfZ/9vB7GB6R9st/+en/jpo+2W/8Az0/8dNed2vjO41NdPj0vT7W6uLr7SGP27EKGFlUkSBDuVt2QQvpkDnCaP4k1LV/EMTxwQJpE2lwXhV5sSRFzJk4CfMcqFxuAwMjk4ofEOaRTlKEFb172/m8nbvbQPYw6XPRftlv/AM9P/HTR9st/+en/AI6a878O+O7TxBqcVrF9i23MTzW/kXyzSqqkcTRhR5bEMDjLdCCQRzF4l16/kW7t9NhRbeyvrSC5u/tTRyB2liYqiBTuG11BJZfvEc45FxDmntfZSpwT+fe383cPYwte56T9st/+en/jpo+2W/8Az0/8dNedW3j2zuvES6ahsTE929mm2+U3O9A2WaDbkJlSAd2ehxg8bGq6vc2uoWmm6faQ3V9cpJKEnnMKLGm0MxYKxzl1AAXuemKiXEmaQkoSpxTav12/8CH7GHc637Zb/wDPT/x00fbLf/np/wCOmvIbP4gJpHhzSYrqW0mu10yO8uWvtRELuDnAj3AmVztbg7R0yea0T4wvbCbxBe3sdq2l2s0KWrG52ENJHFsVsoAFJfczFjtyRggVvLPM2Ta9nDy311S097zQvYw7npv2y3/56f8Ajpo+2W//AD0/8dNeb2/jpryCNbOzs7y7a/WyxaagJIMtE0gcS7OR8uCNuRg4B4zJdeLtSs5rwPokLx2M9vb3LR3uSXlWPAjBQbsNIASxXjB9QM/9YM15uV04X/pfzeYexh3PRPtlv/z0/wDHTR9st/8Anp/46a81n8ZXVre3cN3YiO5sLa6lmgguQ8UnlxwyL8xjDciTHQY5yG4xbbxXdQQX5vbC0tJre2iu41kvWKPHIzKAzLGSr5UjaqvkkAE5ofEOapJ+zhr/AJ2/mD2MPM7/AO2W/wDz0/8AHTR9st/+en/jprzm18bzXVr5aaUV1Vr5bKO1keSJGYx+buLSRK4UJk8x5yOAQQazvGGsX2nyW81x50U0Vq080GmX8ztGgJ3NtW2KkFcAPJsAIO0qQWq4Z/mkqipunBN+v/yW3mHsYWPV/tlv/wA9P/HTU9edT+LJILidodO83S7OeG2uLlpyJA8gTBWPadyjzEySwP3sA459Fr2sjzHFY1TeIila1red99X5feZVIxjawUUVT1aSWLSLuSHPmLExXb1ziveMiwk8MrMscqOy/eCsCR9akrgNFiZdX0O6tYYraO4hbeqAeZMNoJeQjvmu2ldLu2uYLa4TzdrRlkYExsR39CKAJY54ZWZY5Y3ZPvBWBI+tJHcQTMyxTRuy9QrAkVxWlWs+n+JNItBpsFpKsEounikDGdQow7Y5+93bnk+9X47P+z/GNuxtrSBLhJFj+xptLdyZOOaAOpEiM7IHUsvVQeRTq5fR7WK08Z6ukQPMETMzHJJ56muooAKKKKACs6LQNKgvmvY7CFblmLmTHO49T9a0a4GfxHrCWl4i3cYuPtReBhGpxArYKnjB6dfegDrp9E0y5vVvJrONrhSCJOh46VStvC9jHrV7qdxFFPPPMJYyy8x4ULjrg9M0S+KIIpH/ANCu5LWJxHNeIE8uNjgYILbjyRyFIqpr/iWa3gnj021upGhmijlu1EflxlmXIO5gTwf4VPWgDfm0+0nvILyW3je4t8+VIR8yZ64+tWaw77xRa2N3NC1tcyxW5AubiMJshzzyCwY8EH5QcU3UZ7uDX9KaG/m+zXLlHt9kZQjbkEHbuz/wKgDUudOsry5t7i4topZrZi0LsuTGT1IqG80LS7+5+03djDNNt2bnXqPQ+vU1Nc3ptrq1g+y3MvnsV8yJMrHgZy57CrVAFN0tLOZJhABIY/KDKOQo6D6Vn6hY6Lq0qS39gLh0+6XHT9azvHEsxbRLCO5ktor+98iaWJij7BG77VYcqWKBcjkAnBBxXIapPdaNdalpdpfXj2yf2dcRmW5eSSEyXXlunmMS5VgucEnqw6HFfIZnmmNo42VClJJaWuujst/V/d8johTi43f9a2PQLiy0W7aFrjT1kaFdsZZeg9OvSm3GnaFdLbibTUcW6eXD8uNi8cDnpwK5/wATW2oXEti0EF5dWKF/tNvY3n2admIGxg+9MqPmyu4feB5xiqCeJLfS/D9nLbXNqiNLLEy+INUNvLGyuQ0e8q5cqcr1PAHJ615UOIMznBOEk2+ll576+XY0dGCZ2N9Y6Lqcccd5p6zRxDCKy8KPpmlns9HubSK1msQ8EX+rUj7v05rF8P63/bdtNL5ulSeW+3Om6h9rUcfxNsXB9sGuNs9U1aG61bTxd3Ur6vf3EVhK7ljbMk7RyBSc7Qse11HqrVdPPc0k5Rcopxt0/rZa+gnSp25uh6g8elyacNPezDWgAAiZcrwcjv6irgv4QMBX49h/jXj1jrN1DpOm3hhgvNRttKsWguLxndt1xOYpCTngkAfMBn1yOK3xreojU7fT7028s8GsJavLbrJCjo1q0oOzeeRnGGLDjOM4xdTOc0g2uaOl+nb/AIdfftoHsof16XPQv7Qi/uv+Q/xo/tCL+6/5D/GvNNL1/wATakmjjzNIibVrN7lD9mkYW+zZnI8wb92/pldvq2OWr4x1a+0xr2xisYhaaTFqV1HOrN5pcOfLQhhsH7tvmIb7w44OU86zZO3NH7vO35pr/gah7GB6b/aEX91/yH+NH9oRf3X/ACH+NefaV4l1G912KC88myhnldYbWaxmDSIELKyXG7ynYgBtgGQNw6qak8R69qlpcalDpbWcX9m6ab+ZrqFpfNzv2ooV12/6tsk56jio/t3NfaKm3Ha+2nb566aXQKlCWx3v9oRf3X/If40f2hF/df8AIf41wU3ie9jttUkEVvutLyzgjyrcrMIdxPPUea2PoOvetH4r1IeI4ohElzo017LZrcpa+UFdVckBjMzOQUKk+WoJBIPGCRzzNmm7x+7yT++zD2ULXPRv7Qi/uv8AkP8AGj+0Iv7r/kP8a8ln1zVXl0/xJK1mUfRL+9s7ZYHBjG2J1WRi/wA5xtzgL3rY1DWPENtDYwwy2c+p3geZLS3sDJtiAXOWe4jGFLAFiRu3DCjBq5Z1ma5Vzx1v02te/wB1tXsHsoHoX9oRf3X/ACH+NH9oRf3X/If415RqviPUvEXhK+W0W1s1/sD7bdiaJpS3mpINkeGULjy2+Y7uo461oN4l1KBbm5hW0/s3Tbi2s5oXQmaUuI8ur7gFx5owpU52nkZGG85zVKzlG/a3pb77r9QdOC/r5nocdxZwyyyxW4SSZg0rKgBcgAAse5wAOewFSf2hF/df8h/jXBWev6nJ4n+w3xgs4muJIoraWxmDSoqkqyXG7y3JADbAMgbh1U1YGqave63qKWbWcVhps0cMyzQu0sxKLI5VgwCYV1AyrZIPSsXn+aRdnKO19vO3z17aeY/Yw2O1/tCL+6/5D/Gj+0Iv7r/kP8a8yHjDWIdJj1G4jsHS/wBJuNRtI40YGAxorhJDvPmAhhllC8jpzw+78QeJbRdQ3PpLNZ6aupki3k5U7/3P+s6/J/rP/HPTX+2s2v8AFH7vO356C9lB7f1t/mj0r+0Iv7r/AJD/ABo/tCL+6/5D/GuDufE93HDq0kcUOLS9s4IgynlJvJ3bueo81sYx0HWqn/CQ+IZbiMxHTFhuNVn0yJWhkLJsMmJWO/B4j5QAZ/vDPERzzNWua8V8vK/5B7Kna56dDMs6FlBABxzUlc/4O1G41LRZXuxF9ohu57aRolKoxjcpuAJJAOM4yceproK+2y+rUq4aE6vxNanNNJSaQUUVBeXH2Synudu7yo2fHrgZrsJJ6Rt2w7CA2OMjjNctDd6taSaVeXWotcR6hJ5ctsYkCRblLKUIAbjGDuLVp+Hb65v9Jee4fzJRcToDgDhZGVRx7AUAO0nSZLK4ur27kilvrojzXiQooA4AAJJ/M1q1ymganPdam8Opapdw6iCxbTJYI449uSAUJTc4wM5Dn+ldXQAUUUUAVW02yaF4mtozG8nmsuOC3r9atVzMus3a+JVxL/xLBKLRk2jHmEZznr1wPTmk1jxJPG6xafaXJRbuOCW7Aj8pSWAZcM24+mQp+tAGu+h6ZJqAv5LONroMGEhyTkdDVTWfDNlqqyyCGKO8cKPPKZPBqLVNWvINX062W2vba3ku1ja4CQvHMCp+X/Wb1Hvt7V0FAGdPoOlXV0bm4sYZJ2ABdlyTjpSXHh/Sbu5a5uLCGSZgAWZeuPWtKuEv9d1FPEt1awaheiVLqKK3tRaIbdwQCwaQpkHG4/fB46GgDtktYIriSdIlWWRVV3A5YDoPwzVW90TTdRmWa7s45ZUGA5HP6VcMiKQruoY9iazLvXkt9VGnQ2VzdT7A7+U0ahFJwCd7rn/gOaAJrvQ9Lv5VlurGGZ1XYC6549Knm0+zuPs/m28b/ZnDw5H+rYDAI/A1nap4jj02SZE0+8vPs8fmTm38sCJfcuy5+gyamGvWpknTy5swWq3bcDlDngc9eDQBpSKXidR1KkCuSt/BD2cu211e+hsBL5v9nq6eSDnJUEp5gUnnaHxyRjHFa93r62+n295Fp15dRzRCXERjUouM873UE+wJNRXHim1iazS3tLy8kvIDPCsCDlRjqWIC9e5FefjMsoYySlVvp/X3+ZcZuOxjWvw5sYE8meea9tEtpLS3trlwUt4XxuRNqhiMBRlixAAAI5zPB4JlSW0kutav702cyywC4ePCkI6Y+SNc5DnJOTwOeudGXxVbLFA1vaXV1JLF5piiCBo1HBLbmA69gSfSnzeJIWhtjYWl1fyXMRmSO3CAqn95i7KBzxjOfbiuR5BhJXu39/8AVr9e/Ur2sjJuvAiTapNqlvqF1ZX8ku/z7dkyB5axlMOjKVIRDgg8gEEUjeAYisji/ulu2mjuEu96mWORIhFuGUIO5QQcgg7j7Y09J1q4bwdp2qXVvc3dxNDG0iW8YLktjJwMDAzzit+hcP4RJLXTTfp29PIPbSOYt/CbRXdndzX9xdXNqkyLLOy5cSFSchVA42ADAAqvp/gWLTJ7KW1vbhRbWi2bRsyMs8a5Kh8pnILE5Xb15yOK6+ip/wBXcHZrWz8/X/Nh7aRyuk+EJNHdVg1S7eziUpBZSMnlQqTwFwgYgDgbmbAqvf8AgNL69nnOo3cEVxNDcT20Lp5ckkZUqxyhYfcUEAgHHTPNdlRTXD2DU+dXv6/Pt31v3D2srWOVtfB72WoNPa6ndRWrTNObBWTyd7ZLH7m/BYlsbsZPTtUup+FX1K6tbtL+eyurYOiTWzLko+NyEOjDBKqemRjgiuloqf8AVzBc3Prf1/Pv8w9tI4qH4fJZwWsenare2LwWq2jSwNGXmjX7offGwyMtggA/MaluvAkN1cX0r3lwqXgjaSJXXasse0JMpKlg67FxzjjkGuwoq/7Awl+a7v6/P/hu3QPayOVTwhKTavd6rd3sttdfao5J2QHOxk24RFXbhieADnvS3HgyG5+375pB9uuYbmTa44aLy9oHy9P3a5znqeldTRU/6u4K91f7/O/5h7aRxl58PrS+v7+8luJhJewywyBXGAskccbY+XriJcdeSfwlv/AtvqDySSTypI0EEKujjMZhkMkbrlT8wY55yOBxXXUU1w/hFbWWm2oe2lscFe+B3tdPurmO51S/1FrmO7SaGWBbgSqojym5ViA2AghhggnimjwBealpiNqusXceoXVgtpqTWzRAXAw3B/d8YLuAV28HnNd/RVLIcIu/3/htt5d0mHtZHGS/D+3lvWm+2XC28skU1xZq6+TPJHt2O2U3A/ImQrAHaMg857OiiuzBZfSwaapX1tu+39fl2IlJy3CkIBGCMg0tV7+5+x2Fxc7d3lIWA9cV3EkVno+nafPJNaWcUMkn3mUcmpLfT7O0e4e3t44muH3zFRje3qfeuW0rW77+2rGGS9lvobxD5xMSLHBJjcFRlUFvQ5LY9a625kkitJpIo/MkRGZE/vEDgUAQWWk2GnCT7JaxxeYcuVHJ/GmWejadp8ry2lpHFI/3mHU1zWieIJZdU0+D+2RqT3sb+fB5aKLSQLu2jaoKjqMOSeBzwa0tHvNSm8Q6tZX1yjrDHE8axRhRHu3ZAPU9ByfyHSgC9b+HdItb830FhFHdE5Mozk1qVzSJqMPie3tI9bvrqII0txHPHBtVeijKRq2c+/auloAKKKKADtWN/wAI7B/ZM1kzqzyFz5xjG4Bn3Y+lbNczJ4ygjtLqf7HMWt7r7NsyMuM43j26/lQBI/hiQma3TUCunTyCWW38nLE8EgPngEjpim3vhWS5e4ji1NoLO4mS4eFYQW3qVP3ifunb0x+NbZ1CzW5S1e7gW4cZWFpAHI9h1qk3ibRo9WfTJNRtkuUUMVaVRySRt6/e46UAZ994OtrrWJdRjTTi07K0ou9PWc5Ax8rEgrwB61Z1PRdQvdStLmDU4beO1bdHEbTfzjByd4/lVmLXrJtSurKaWK3khlWJfNlAMpKhvlB69atz6hZW08cE95bxTSfcjklVWb6AnmgBtxbXMtxayR3rQpExMsaoCJhjoc9OeeKt1ma1rllodjLcXU8KuqF0iaVVaTHZc9auC7h2weZIkbT/AOrVmALHGcD1OKAKet6Nb63aC1uo1kizu5YqVYEFWVl5VgRkEEEdqx/+EG03+zrmxMTtHcukk0j3czTOyEFSZS2/jaMfNxiurrkV8V20/ifVdED3EVxp6iR3k4jdSAx2HPO0MueBjcPWvls8w+Goy+s1Izk3q+WVrWsr/kb0nJ6LoKfAtk0aKZtQyhYrJ/a115g3YyN+/dt+UfLnGRnGa07LQk06zjtbVUjhj6AszEknJJJ5JJJJJJJJJNc5Y+N49UsLS9sw0dvLJN5pvrhbcxRREiSTbyTg44468la0f+ElsZLeaa11KG7EEqQyiC6jOx2YKAxLAA5PQnJ6AE4FfPVauB+CpRqb9Zdb2+WpqlLo0bX9ny/3k/M/4VUtvDsFoD5MUK5mknySWIkckuwJ6ZLHp61RfxRpUc8kEmu2STRKzyRtdqGRVJDEjPABBBPbBp03iTTLfT4tQn1u0ispjiK5e6VY3PPRicHoenpWSnlqVlQqa+e47T2ugTwPpkcCQraoI0ihhUedJwkT74x17Mc+/fIqdvClo96bxoUM5uFui/mP/rVj8sNjp9zjHTv1qG98RadpjQrf6za2hn/1Qnulj8zp93J56jp61Lf6za6Vbi41HUobOEtsElxOI1LemWIGeD+VV9ay92/dVNf72/f1C0+6FtfClpZfYfs8KJ9hhaC2/eOdiNtyOev3F5OTxVKX4f6PNDbQtaAR28It0VLiVQ0QOfLfB/eL/svkcn1NWk1yzkhMyapA0Swi4LrcAqIjnD5z93g89ODUd14k02xuYba81q0t7iYBooprpUaQE4BUE5OTxxTjisBze7SqX/xf13f3hadt0OtvBtlaX/2yJZPNDs6K93M8cbNncUjZiiHk/dA6kd6q+J/BEfiDT7sfKt89pLbxSC4kjU7gcBwn31zg4YEdeKZf+LbWy1qx0hL2Ga+ubgQvbi6AliUxs+8pycfKB2+8OalfxdokcbySeItPWNNm5mvUAXeCVyd3GQCR6gGtI4jBRnGqqNS/T3ul/wAgtNdUOl8C6fdyxz3cO+cCIuFuZVRmjIKsUBCkggYJGcDHTinp4G01NSW/WEiZJ2uEX7VL5aSMCGZY87ATubOBzk06bxFp1tp8WoT6zaxWUpAjuZLpVjfPTDE4PQ/lVLTvGFndaPpV9eX8FhJqUSvBBNdAFycfKucbjyOg7iksTgnG6pVLbfF+H3LUXLJK10Sx/D3R4vM22x2vDLb7GupmVIpMb0RS2EU4HCgYxxirl94StNR+zm4Vg1sCsTw3MkLqpxldyEEqcDIJwcCg6/p9tq9vp1zq9tFeTMvl20lyqyPk4GFJyc89q6SvYyzA4PMYuqlONtryfXsZznKDscdP8PNGuLSG1a1KwQ232RUiupow0P8Acfaw3rycBs4yfWrEvgjTZtRS+e3BmUxkgTyCN2T7jOgO12XjBYEjA9BXU1T1W/XS9LuL54zIsK7ioOCa9T/V7C/zS/8AAn13I9rIxLbwbZ2uofbYhIZQ7yKsl3M8aM2dxSNmKKeT90DqR3pbjwdZXOqDUpEZbnKFjHcyxrIUOULopCvg9NwNdJvUR72IVcZJJ6VDbX9neQtNa3cE8SnDPFIGUfiKX+rmDvzXlfb4nsHtpHNQ+AdJt0uUjtR5dxC9uyNcSsqRv99IwTiNT3Cbeg9BVubwpaXH2nzYUb7Taizl/eON0I3fL7ffbkc89a2rbULK9V2tLuCdUOGMUgYKffHSoo9X0yaGWaLUbR4of9a6zqVT6nPH40Ph3Byd25f+BMPbSMG68DaZeXQuJ4CzgxkqLmVUJjIKMUB2lhgckZwMdKsr4UtE8rbCg8q6e8T94/Ez7tzfjvbjpz06Vf0jX9M1yBZbC8hlJBJjEil1AOOQDxVy9u47Cxmu5s+XChdsdcCh8OYNqzcrf4mHtpFfStMh0q2lhgQIss7zsAxOXc7mPPqSTV+s3StQvNQj86ewW2hdQ0TeeHLA+oA4qeHVNPuZpIYL+1lljBLpHMrFQOuQDxXsUKMaFNUobLuZttu7LdMmiSeF4ZBlHUqw9QaatxA/l7Zo280bo8MDvHqPUVHDqFlcXElvBeW8s0f340lVmX6gHIrYRlWPh6e3ltRdak1zbWZJtojEFKnBA3Nn5sA8cCnaTo2oaU7RrqcMlmZZZREbXDjexbG/f2J9K049Qspbj7PHeW7zFdwjWUFseuM5xSx39nNdSWsV3A9xH9+JZAXX6jqKAM1dGvp9Rt7nUdRinS2cyRRxW3l4bGOTuOeD7VtVWTUbGS8a0jvLdrpfvQrKpcfVc5qzQAUHpRRQBzDeCLFoGP2m6+1mcz+f58mA+7OfL3bfbpT5fC00kzKuptHZm5F15CwjJcEEgtnp7Y/GrVrrN5e6ncW8GmA21vN5LztcAHOAchce/rW1QBz2qGfUNW020is7gfZbxZ5JnTEewKw4boScjitWa0upNTtrmO/eO2iVhJbCMESk9CT1GPany6jYwXaWst5bx3MmNkLyqHbPTAzk1SfxLo0WrNpkmo2yXKJuKtMoxzjb1+97UAa1Ys/h5Zv7QYXLJJdSpMjhP9U6gAEevT9a0ZdRsoLlLaW8t455PuRPKoZvoM5NUpPE2jQ6s2mS6hbR3KoGIeVQBk4x16+1AFmbSdPu54bi8sbS4uYgNk0kCsy454JGRzzWdrnh19cnjMk9qkKY2lrQPMhzyUk3fKfoKu3Grww6vZ6cnlyTXG4sBMoaNQuQSuckHGOKsXOo2NnJHHdXlvA8n3FllVS30yeaAMDxB4fu5rbUZrC8dDcW+yWFYgzyFRgYYnjP0NPl8OXF0iyxX7WZnsltbhfJDsQAfukn5TyexrQu/EmkWOpR2F1qFvFO6lsPKq7QPXJ4p99rMFnc2VupjlkupAoUTKpCkH5wCcsOO1AGNqPgqPUPsivcwvHBai2KXNoswAH8SZOEY+uD29K07DQEsJtPkW4Z/sdp9mAK43Djn26Vo3d9aWEYkvLqC3RjgNNIEBPpk05rq3SKORp4ljkICMXADZ6YPfNAGJrnha31i+jvdtmbhE8s/a7NbhCuc9CRg++adL4elD28tjeR2UiQfZ5PKthtZM5+Vc4QjnHXr0Nb1FAGRb6LNZeHLXSrPUZIXt0RBceWCxCkZ4PHI4rXoooAKKKKACiiigAooooAKKKKACiiigAooooAKKKKACiiigAqK4gjuraSCVd0cilWHqDUtI7rGjOxwqjJNAGFpfhxrCa2M14J4bNClrGIQnlg+pBO4478Vo2dpd28t289+9yssheJGjCiFf7ox1/Gq9jql3fhpotOK2pUmGR5gDJ6fLjgH1zUFprd7JraaZd6WsDNCZS6XIk2gHAyMDrz+VAE1rpNwNQW/wBQvRdXEaskASLy0jDYycZOWOOuenaq+n6HqFnr11qc2qQzLchVkiW02cLnbg7z6+lbpOBn0rJ0zXV1LUb20FrLCbVUbdJwXDZwcdulAFiw0wWd1eXLSmWa6k3MxGMADAUfSr9Y+k6veao3mHTRDaEsFlNwGJwcfdx/WtigAooooAD0rjm8Mzy6VPK0cgviZQkW9cEGQkH0zj3712NZ0Wv6RPftYRalbPdqxUwiQbgR1GKAOTn8Pai2qzLOuoyQzXCTLLaralVAwcEviQYx/Dnitm6sZLTxSNQTSHvYJrZYWaLyt0bhidzb2XjDdRk8V0lJkbtuRnrigDkNQ8PT3H/CRzLZI9xdGP7M5K7m2oOhzxg564pt9pl99p1KI6Q1418qCK63x7YcDGG3MGGDz8oNdlRQBw2raPqnk6lbJpp1GW6tkihuDIirHhcEHccg55GAfqK6O4gbztHDaUt0YpPmmLqDa/IRvGeufu8eta1FABXmWreErnVNe1idm+zrNfqQ+QfOtmgSOZOORnaeuOVBr02ivNzLATxcUoT5WvK/bzXYuE+W55BdeGNWe2u44rMfPDrCIBIg5ndTEOv8QH4d8Vc1Tw9qEtxJ9ktFEJtNOiUK6qMw3JdxjP8AChz+gr1OivH/ANXat1++Wn93zv8AzdzV10+n9XT/AEPL4fDt0DZF7KPMfiK4v5MlD+7bztj9eT80fuOPTiCDSdW0vU4dSGlPfRpPqKfZopYw6rNMJEkG9guCFwRnI3dOor1eil/q3U61k/8At19b/wB/zB10+n9av9TxweHNZ02wsreytbv7eumx2kk9vJbyWj4LYjmSb59i5PKDJVj3AFdNrNtfR69pWq21jJfpbxTQyQROispk2YkG9lGBsIPOcNwDXe0Up8NTnJSlVV9fsvW+mvvfd2Eq3keI6fp2qy+D4XsdNe8/tHw2lipSWNBFIBIfm3sDg+ZxgHpzjrWr4s0fWtRguLRLO+u7WTSzBbRWl6LdI7ghgxm+dS6n5AB8w4bjnJ9Vt7eG1t47e2hjhhjUKkcahVUDoABwBUlavh6ftPaKqt2/hf8A8n5W0sP2/l/Wn+R5Lp2kazbz6ZZTaZKVttYlvpr4zRFJEdZccbt5YeYqnK/w8EipotG1aw8D6Dp0FrcKYCn9oWtjOkMzrtYsEk3KAd5UkhgSM888+qUVEuG6knd1Vvf4Xvr/AH/N7bdLCVZLoeR6Ro+r6PNp97/ZF1OkMt+v2T7VHJLEJpQ8chd3wx2qQTuLfN35qnB4c1uz0RrN9HF3JfaFFprATx4tZV8wHflhlD5gOU3H5Tx0r2iir/1eqXb9qtf7r7t/z93/AJgq1un9fceYRaTq1t4mj+xW98qyXNs1zLI9vJaXAQIGkYMfOV8LgbeNyqfU16fUN1dW9lbPcXUyQwxjLO7YAH1pljqNnqdv59jcxXEOdu+NsjNerlmAlgqbg5KV+trdLa6u5lOSk9CzWV4ltZ73w5fW1rEZZ5IsJGCAWOemSQPzNatFekSc5qSahrvhu8s49Pu7CcooQXDRfvOckDazjtjn1rP0/TdSgtNSuYbW+F7JCESK9W2VGx6CE4z/AL2K7OkJABJOAOpNAHEaPpGpC71Ka/tLw29xZiLy3NukjNzkAREKPYk/jWl4Zs7+H7TBd2syWO1REt4kAlJ5yD5RIK9OTznNb9re2t7C0trcRzRqxUsjAgEdRUVpqun3800NpeQzyQnEixuCUPvQBk+FLWfTbMafcaU9u8BcfagYyko3kjGG3dCOoFbtzj7LLmBpxtOYlxl/bkgfmafJIkUbSSMFRRlmJ4Aqnp2s6Zq3mf2ffQXXl43+U4bbn1oA5qz0i9B1BNNsLrSLSa2dBBcSoV809GRUdgo9eR9KhsoJn8RW1s2lf2eRpM8QDshZzujBPyEjHoSc9eBXc0wwxGdZzEhmVSiyFRuCnBIz6cD8qAOP0my1cS6Msulvbrp9m0DvLKhDvsABAUn5TjqcH2qvpOma4/iGzvby1niSNZVm3C3VAT02eX8zL/vHPtXd1Ss9X07UJ5YbS9gnlhOJEjcEr9aAMfw94bhs9KtDc2ohvoXeTcrDO5sjkjrwelZOheH7+11KyW+TUc2ju3nKtsIXJBHLDEpBz0I69fWuut9Y027vJLO2voJbmL78SOCy/UUW2r6deXktpbXsEtxD/rIkcFl7cigDn9Isb+z8QN9nsruGwZ5GlN4ICOTnMbIxfk9m4xXW1St9X067vJbO3vYJbmL/AFkSOCy/UVdoAKKKKAOc0rQJItX1C+uJLyIyXRkiRLphG67QMlAcevUVrPZ3TagtwupzpAOtsI49h/Eru/Wok8QaPJqB09NStWvA20wiQbs+mK0qAOSvLG/j8UfadNsrsebNGZ5JhA1uyjAYgljKp29MAcge9Wr2yktvFC6gmkNewy23lMYfL3RuGzuO9lyMdxk8V0dRR3EM0kscUqO8LbZFU5KHGcH04IoA4nxFpuvajqFxHDZy+V5kbQvGLcRlQQTuZv3gb6YHvWteWEtt4mi1FdIa9ikthC/k+XuRg2dx3suRz2yeK6Wq9ze29o0KzyBWmcRxrjJZvYUAYGuC8bxBpM9toV3cJaSs8k8TQjKmNlwN0gPBYdqi16xvm1hbvTLK8a6MaqZCIGtyAc4YO24Y55UZ+tbV34g0iwvBZ3epW0NyQCInkAbB6cVpUAc5rFjMus2GpJpX25Y0aOaOHy94Jxg/OVBH41H4jW7ln0xrXQru5ME6Ts8ZgG1QDlfmkBzz24966ek3AEAkZPQUAc7qUN0uuW2pHSJtQtzamIwK0e+ByQc4dgpyOCQew61f1JDNaWmNHF3iVG8mRkUw8/e7jK+34VqUhYAgEgE9PegBaKhuLq3tEVriZIlZgil2xlj0H1qagAopCQMZIGeBmorm6gs4GnuZkhiXGXdsAUATUUgIIBByD0qG7vILGIS3Mnlxl1TcRwCTgZ9OaAJ6KKKACiiigAooooAKKKKACiiigAooooAKKRmCqWYgADJJ7VTsNX07VPM+wXsFz5Zw/lOG2n3oAu1DeQm5s5oAcGRCoP1FTdBk1SstY03UZZorK+gnkhOJFjcEr9aAOb0HRri01CzdNMlsTbxGO6maRGF0cYGMMSfX5gK2tGs7hbm91C+i2XNxJhVJBKRLwo4JHv8AjVq01fTr+eWC0voJpYf9YiOCV+tFnq+nahPLDZ3sE8sRxIkbglfrQAtpc3k11eR3Fg1vFC4WCUyq3nrjJYAfd54wawtK/tEeLdTuZ9FvYLa6SNElkeEgbN2chZCecjHH5V0K31q989ktxGbqNBI8IYblU8AkelKL21N6bIXEZugm8xbhuC+uPSgDm7TSSPEMN1Y6M+lRRs5uJHaMfaM9AAjNnnnLYrq6pQaxp11fSWUF9BJdR/fiVwWX6irtABRRRQAV59PcW8ug6jZRvHJqDam/kRAguG3DBx1H1r0GoEsrSO4M6WsKzHrIsYDH8etAHDa74huYNU/0S5uQ1vPFC8fnRqhyQD+7I3nr1FXJ7JIvHcktxrV5arNaRtGDMiqxDtlBleRyOOvNda1laPOZ2tYWlPWQxgt+dLNaW1yUM9vFKUOVLoG2/TPSgDidX1XWD4gvYLeUwNbui2yNcxRRyAgHLK3zNySOPSunvJQup6Ysmp/ZpHLf6MACLg46Z9utXprK0uZFkntYZXX7rPGGI+hNSNFG7q7RqWT7rFeV+lAD6KKKACiiigAooooAKKKKACiiigAooooAKKKKACiiigDI8RWUF7p8YmvksmhnSaKaTG0OpyMg8Ee1YbeIb99JZ5ZoA9rexRS3VscxSISNxBPTrz6V109vBdR+XcQxypnO2RQw/I0gtLZbb7MLeIQH/lkEG38ulAHIXuuXU51X7DqHyR3MEUUiAMFDfex61raHLcw6nqljcXkt1HbsjJJNjcAy5I4A4zWylrbxpsS3iVOPlCADjpSTwF4ZhBJ5E0i485UBIPY89fxoASxv7XUrRLqynSeB8hXQ5BwcH9RT7pYHtpFudvkkfPvOBj3qto+lW+i6ZHY227y0LMWbqzMSWJ+pJNXHRJUKSIrowwVYZBoA4TTLiJ/CGuxafNC0i3ExVI2BwuR2HbGa1/D99N9uFgl1aXlotssivbRhRCc42HBIPH8q3oLGztSxt7SCEsMHy4wufyp8Frb2oYW8EUIY5IjQLk/hQA93WNGd2CqoySewrmbe9hXW9c1CKQSW8dtH+8i+cZAYkDHU105AYEEAg9QajitoIIjFDBHHGeqogAP4CgDgdP1++e7vkS6uHibT3uEM08cpRhnGNg+X6GtjRp7+HWNOjuNQmulvrB55FkACo6lOVAHAO48HNdJFZWkIIitYIwcghIwM561IIowysI1BUbVOOg9BQA5ioRi+NoHOemK4y3vrfXdVuLrTp7dI7W3kt7ZUdQ8rdyAP4R2rsyAQQQCD1BqvDp1jby+bDZW8cn99IlB/MCgDhNIZry78OtHNGkluzg2sRBaNNpDGQ+pOOK1rLUbHW/FML2c9qlppvmwptdQ00h4YKv8AdGD9T9K6mO1t4pXljgiSR/vuqAFvqe9RR6bYRSiWKytkkHIdYlB/PFAHN2uoWWteKovsk1qlrpxdF2uoaWU8EKv90c59666qsem2EU3nR2VskoOd6xKD+eKtUAFFFFAHEadpt/qzX1u7W0enrqTSFxky5XBwOMD61chi1fUdW1JodWkiW0ulWGHaNhXgsG4yeM46V1KoiZ2Kq5OTgYyaFRFLFVUFjliB1oA4i+1W7V9Quv7Ukiv7a58q305Su2UZG0FcbjuB6g8fhVa6nlttT8RXEGqSW91HdRtDaRlczHy06g8sD04xXeNaWzXK3DW8JnXpKUG4fj1pDZWpuRcm2hM46SmMbvz60ATISUUsMEjkVhk7/G+2YfLHZBoM+pY7iPyFbtUrzTYru5trks0c9u2UdDyQeqn1BoAwkOpjxvqn2FbQxeTb+b57MD/F93A/nW7d3V7DcRpb6c1xG335BMq7PwPJq2EQOzhVDNwWA5NOoA5LxNe3VnqcMhvZI7NUBaG2uI0lznqVYEsPYc1Br9qj+JdHu5dXvLKCSKUBxIiKhwuBll4J56+ldbLZWk8yzS2sMkq/dd4wSPoadPbQXSbLiCOVAc7ZEDD9aAOR8U6s1s0Vna3t0sqW3nB4p44946AksPnPstU9QEmop4X1S71S6sxKAZWjdURGMZ55BwSeK7iSytZTGZLaFzF/qy0YOz6elOktbeaEQywRPEOiMgK/lQBy/ieW3trDTpf7XOUniwJJIyJhu5Y5HP1GKl8UXlykdnNaagsdqQzOsNzHFJJwMFWfII65HuK35NOsZlRZbO3kCDCholO0eg44ol0+ymREls7eRYxhFeJSFHtxxQByfiBE1Cw8P6iNSv7W3M8RLFlQqCPvNleG/SrHihreDwqrjWGPl4ZHeWNvP5HXIw34V1UkMU0RiliSSM8FGUEH8KhfTrKWJIpLO3eNPuI0SkL9BjigDE1jUd0OmRxagLWzumIlvImX5cDIAY5Aye9aPkWsugSwS3RvbVomDzSur71wc5IGKuGztTbfZjbQmD/nl5Y2/l0qG70u3u9P+wgeTbEjfHEAoZc5K8dj3oAy7CeRvAlrNdXrWbmyQvckZKfKPm5rbtSGtISJvOBQES/3+Ov408xRtF5RjUx427COMemKcAFUKoAAGAB2oAWiiigAooooAKKKKACiiigAooooAyPFAlPhq+8lWZxHnap5IzyPyzWFojG88T2t5FcwyAWJWSO3IKRrkbFJ7t1rtKigtbe2DCCCKIMct5aBcn8KAMrUr6LU/D+rrpc4mnhjlhPlnlZAp+X61yUbSahJYXNjNGXTT5VFtbEYhj2DCsf72ccexr0SOGKLd5caJuO5tqgZPqfemw2tvbs7QwRRlzlyiAbj7460Aeb/AL+/h0+W0mUzRWUq/Zrc8xLs6Of7xNW7C4llv9Lvrdlmlt7OX/Q7Ug7EwMKx/vFv613sVrbwO7wwRRs5y7IgBb6460RWtvAztDBFGznLFEALH3x1oA4TRb2S38Sl5NN1E309i8k7Pbldz7wcf7owFH4UzTLmb/hIFaXT9Qj1C6tJWleSAqAxIwM/3R0//XXoWxd+/aN+Mbsc49KNi7w+0bgMBsc4oA860ppLyXQAk0cc1vMwa2jILoMHe0n1OOK9GqJLW3jmeaOCJJX+86oAzfU96loAKKKKACuUuNNU+NIIftupCGS3eZo1v5gu4MMcbsAc9OldXVRtPhfVY9RJfzo4jEBn5cEgn8eKAMua5u08Y2dvIrJbvBJ5ZjuiQ+MZLxlOvPBDGs298bXVrdXUUejCWODzjvN0F3CLG842nHB49+OBzWvc+HTc6zFqZ1fUY5IshIkMWxQcZHKE4OPWmTeFNPneZne4zMs6thh/y1xu7ewxQBnal49s9P1Ca3/0LZb7RMs18scxLAHEceDvwCOpXngZropbq6F1aLb2XnW02TLN5oXyhjIO08tn2qpJoK/bDc2uo31mX2+akBTbKQMAkMrc4AHGKuXFgLi8tbk3NyhtySI45NqSZGPnHegC3RRRQAUUUUAFFFFABRRRQAUUUUAFFFFABRRRQAUUUUAFFFFABRRRQAUUUUAFFFFADJUMkToHaMsMb16j3Fc5opk/tbUrawvbmeyiQJ5txK022buFLHJwOozgGugurf7VaS2/myReYhXzIiAy57gnPNZej+Hf7Ftvs0Gq6hLCE2IkvlfJ/tAhASfc5oAg8LvcGXVobi6muTDdlVaVskDA6dgPYVrWs13Obpbm0NqEkKQuJQ/mJjh+Pu/Q+lUdI8PjSLq4nXU7+5+0NvkS4Me0t6/KgP61dt9PFsLvbdXTm5kMmZJN3l5GMJkcAelAHORTvp+s30djeXV1BbWjPdG5naVVm6qAT904ySowMY46VT0bUbo6npNxBPdz296pFzJPMxjd9u790p6AdMjA+tb2keGE0dGiTVL+4t23FobgxFWLdSSqBiffNS6f4dttPuUlW5upliBW3imcFIAeoXAB/MmgC7bz3cl7dRTWXkwRkCGbzQ3nAjk7RyuDxzWEge28Wx2tje3dzIYZJL5ZpjJGgP3ODwjE9AoHGfat23sBb3l1ci5uZDcEExySbkjwMfIO1ZmleGBpN1JNDq+pSLLK00sUpiKyM3Uk7A3054wB0oAw9Pv7q31TTllbVvt087RXiXKSCDofubvkwMDBTt1713VZlvoscV/9tuLu6vJlJ8r7Qy7YQeoUKoHtk5PvWnQAUUUUAY2h3E019rCyyu6xXe1AxztGxTgVWl8S3CNNcppyNpkM/kSTm4xJnIUkR7cFQT/eB9qsp4f8nU5r2DVb+ETyCWS3QxmNjgDuhbt601/DNq928pursW8komezDL5LP1yfl3decbsUAUr/AMVXcF3Mllp1rPDDcxWrNNemJy7leiBGyBuHcHrxW3NrGm217HZXGoWkV3JjZA8yh2z0wpOTXF3XhnVB4judQtbMpePcb4bxRbGNV4HzblMvTIIUj2xXoIzjnrQBi6ZcTSeI9YheV2ji8rYhPC5Bzio765u4/FemwsrLayLIFaO6I3kAZ3x7MHHY7vwqWTw/u1abUINUv7Z5tvmRRGPY23p95CfyNJfeHjfapDfnV9RhaA5jjiMWxc9eqE8/WgDNfX5LbxdqOlw5uryRYWtrVpdqqu353Jwdq9MnBJOMA0us+NrfSdSls2+w7rdFeZZ79YXO7tGpB3n67e1ad54bsr2a4neSdLiVo3WaNgHiZBgMhxwcEg5yCCR0pbjQvNu/tUGp31pMyqsrQNHiXb0LBkIz16Y60AUdYkLXuh39tcXUYnuEQoJnVGQqTymdpP4VNr9zdwX+khFZbV7tVd4roxsSQ3BTYQy/8CFTar4e/tW4t5n1bUIPs7B0SExY3D+L5kJz+lJqvh46rJbs+rahB9nKuiwmLBcZ+Y7kPPP09qAKOo6nqlp4quI7K2F1GmnrKY5bnyo1Idsn7rHcR047ckVP/wAJHcXn2ddJ09Lh5LZbqQXFx5IRD0AIVst7YA461pf2TAbuS6eSV5pLYWzsxHKgk54HXk1RfwvbeXbLbXt7aNBALffA67pIx2bcpH4jBoAhTxNPfmKPSdPSeZofOlW4uPKCDJGMhWy2QewHvS/8JJPfR2yaTYpNcTQGd1ubjyViUHHJCsSc54A7HkVPN4YtT5JtLq7sGii8ndbMoLp1w25T37jB96WbwxaOtuLe4urPyYvJJtnCmSPOdrEgn8Rg8nmgCtod/qLeCNLu0t2v72SCMurThS2cbjub05PvXR1lroUEWhW+kQXF3BBAqKkkUu2TCkYG78Oa1KACiiigAooooAKKKKACiiigAooooAKKKKACiiigAooooAa4YowRgrEcEjIB+lc74ca7/tDXrea9muGhuVVHmOduY1JwOgGT0FdGwLKQGK5GMjqKxdL8Of2Xe3N0urahcPcndKsxiwWxgN8qDkAfSgCv4ee6Gta1bXN5NciKSPaZDwMrk4HQD2Fb1xL5FtLNjPloWx64GaytN8OjTdTuL4arqFw9wcypMYtrEcD7qA8fWrtnpiWkl2/2m6nFzIXZJ5N6pkY2qOy+1AHOeHr/AM+5tZb9dXS5v4S0U08u2CTgMVSNX+QgdNyqcA8nmprWw2eLFisrzUDDaRF7gTX0sqszcKu1mI9T+Vadh4egsLiOX7VdzpACttDMylIAePlwoJ44+Yk4q3Y6bDYfaDEztJcSmWR3ILEnj06AYAoAyNIa7TxXqlvcXs1wqwxuFY4VSc/dXoK6OsS08OfZNZl1P+1tQlllADxyGLYwHQcIDx9a26ACiiigArn4fFcEsWoObaRWs5/JKlh84zjcPbNdBXD3OhakLOZ4bZjNJevuQMvzRMwIbr2xmgDsGv7NLpbV7uBbhuViaQBz9B1qxXE3WlXrvfWX9lvLPcXIlj1DKbI1yDyc7gRjGAK6h7m7i1K1tUsXltpI2Mt0JABGw6Ar1OfagC9WFfeIntri4W30+W6gtMfaZVcDy+/AP3iBzW7XK3MOp2s+q2UOmyXEWoMWiuEdQkZZdp35IIx7A0AacPiKwkvZbd5o4QqoUeWQKJN4yAM96vXGoWVm0a3V3bwNJ9wSyBS30yea4y50K4guL+2GjPeNc2cdvDc/JsjIXGWy24YPPANWNY02+ivbaWwtLya+S3jiMuyF7dsHgNvO5e+Sozg0AdbPe2lq0a3F1DC0hwgkkClj7Z60XF7aWozcXUMI6/vJAv8AOuQ8Q6PqE+syXGy8mt57dYttpFA5jIJz/rcYByOQe1X08PLNrtrLdWzT28Vh5IefBO7PceuO9AHRrPE7lFlRmChioYEgHofpUMupWNvAk817bRwyHCSPKoVj7EnmsPU9HuLRoH0iJyzwGyc7uUQ/dcknnbz781V17Tb+JbGw0+zkaxjt2j3QRQuyvwAG8zgLjuATQBvX+v6XpkttHeXsETXDYj3SKPx69Pek1HW7axsY7mN4rjzXVYlWZR5mSB8pJwcda586NdxeHdBafTftd1YMhmhGwuQAQQCcA/mKteJVmu/D8UNroN1LK7KyxqsQMOGBOcuAOB2zQB0VxeW1pCJrq4it4zxulcKM+mTSSX9nDCs0t3AkTLvV2kAUr659ORWBqCXMt3pupvo9zcwRwvHJZnyzJGxxhsFtp6Ede9VLDw7cfbNMe8s0MMZupPKYhhB5jZRPfA444oA6qS+tIbZbmW6gjt2wRK0gCnPTnpTvtVv9m+0/aIvIxnzd4249c9K499IuYvDlnDJZXzXMFxK0S2oifYCzYysjBSMEcc1siO7bwl5d/pkd5ceXh7Ndqh+en90H9KANwEEAggg9CK5zxHrun6Re20N5JKJriNmiiht5JncKRuwqKScbgfpk9Aa6GIYhQbPL+UfJ/d9q5/WNJubnxVpmpRAGC1tZ4nHO4lzGRjjH8Bzz3FeHxDTVTBOLTevTfrbo+prRdpGtpN1Be6TbXVtIJYJkEkbr0ZTyD+VXaxfCOmT6N4S0vTbooZ7WBYnKZ2kj0yAcfhW1XpYGChhacVsor8iJfEwooorqJCiiigAooooAKKKKACiiigAooooAKKKKACkOcHAyaWigDBXXb9NXtbG60cw/aWYK63KvgAZJIAzit6sextLiXXbzUbuLYEHkWqkgnZ1ZuPU/yrYoAKKKD0oAyn12JNfTSjE2WX/XZG0NjO3HrgVDNrd7F4gj0tdKLrIpcT/aFA2g4Jx1/CsGTR/EjBr7/Q9/277SIPLPm7QcBd+/b90enetS4mvT4xtp10e+a2SFoWnBi25Jzn7+cfhQBdbW5pdRltrHT5LqGBwk84kChG7gA/eIHpWq00SyrE0qCRwSqFhlsdcCuesRf6Lf3tsNMnuobq5aeK4idNq7+ofcQRg+gPFadzHnW7J/7ME21H/0zcMwdOMdTu9vSgDRooooAKKKKACiiigAooooAKKKKACiiigAooooAKKKKACiiigAooooAKKKKACiiigAooooAKKKKACkZgqlj0AyaWqNpa3dq8zz6jNeK3KxtHGu36bQM/jQBTsvEcN2dSMlvLAljgsZOrAjOcdqXTtde7vI7e5sXtDPGZbctIG8xRjPToeRx71maQLuTW9Za80S9itrzaVaXyiCAuCDhyeaTRtEf+3Ib/7NfW1vaxPHGl7ceY5LY6AMwVQB6/hQB1tZFtrFw+rDT7zTzbO6s8TCYSBwDz06VatLu7nur2OfT3t4oHCwymQN564zuAHTnjBrCgsp7nXPtllpk+lHa/nyz7P3xIwuArNnB55xQBpxa9FN4hfSY4XbZGWafI27h1X681r1x+m6Jr+n61YtJPYS20cbiWRIHDMWOTnLnk+uK7CgAooooAKzote0ifUGsItTtHvFJVoFlBcEdRitGvPp57eXQNQtI3jkv21N/IiBBcPuGCB1H1oA7W+1XT9M8v7dewW3mnanmyBdx9BmrYIIyOQa5A2uqnx2h/tKEAWYYKbXJC7uVzu6+/6V2FAGdLr2kQ6iNPl1K1S8JAEDSgPk9OOtaNef6lBcSarrbvcKNMF3b/a4vL+fbsXLBs8Y47VLq+ras2u3MFpM8SwBDbqLiGOOTPdg/LD/AHcUAd3UM13b28sMc08cbzvsiVmALtgnA9TgE/hXLa9f3tpqFvNNeSR2qxoXis541cNnnKsCWH+7zUniG5gt9e0Cd9RCZugrW8rR7QpjkO/kblPQZBHpQB1MkiQxtJI6oijLMxwAKEdZI1dGDIwyrA5BFcX4ovTNLqVtNqktlBBaK8SRFR55bdnqDkDA6etSrrD2CNHLdrDEulJJCGIGXx1HqaAOxqnearp+nzQQ3l7BbyTttiSWQKXPTAz16iuQ1TXpzptlEl3dpdNZ/aGaGSKPPuS4w3I6Dmp9W1ZLnwRpNzeTxRz3D2crBmC5/eISQPSgDtKK5rxPd3SRWstpfeXbHLSeRcRxyOMcFS+QR7VZubyObw3b3I1SWwRzGRcSqCx5HBHTJ6fjQBevLiWKYKjYBXPQVmLrzPrEulhn8+K3S4Ztq7drMygeucoe3pWF43toZvEOkSapp0upaOtvKGhW0a5UTkrsZo1U/wAPmAMRgZ7ZFYngCCVV0+48h1gbQLONX2/LuDykrnpkAjj3Ffnub1sTTr1pxrSST0SbSWvr5bW6nZBR5dv60PQ/tlx/z0/8dFVNT15tKsvtc7O0fmRxYRVJy7qg644ywz7VwuqaG0up65qa6a8l8mqWLWk/klnVAIA5jOOBgMGI6gEHpWl4n0jUm8PXiW+p3t5PNc2zQpLBE4gxOhyFjRSwA5O4nhevU15scViuaF8TKzav70utm9m+/lsXyR7HZ/bLj/np/wCOij7Zcf8APT/x0VzfhyIw6TNbize0vo5GW5eRDieXvKHI+cNwc846HGMDhoNKuf7GkjtNHvbfUF0O7h1d2tmU3VyUAX5sfv2LByGUnAJ5+bFFKvjJylF4mSs/5n56/Ft231aBRjpoeu/bLj/np/46KqWuvNeXt/aRs4kspFikLKuCWRXGPbDD05rz7UNDlsP7Qh03TZY7KaysXu47eFs3GJ388ccvIY8g9WII65FULnSpGg1A6VpH2TRW1aGWW2l0mQpJCLdVz9mGxnUS4JA9M4OCK2p1cTJP/aZ+Wr/u/wB7fVpLqTaP8v8AVj1v7Zcf89P/AB0VU0rXm1fSrXUbdnWG5jEqLIqhgD64zz+NYvg+1a08PpEXcx+bI0atZvahFLEhVicllUdge2OgxXPeCNPu7LTYrbUtPmOoSaeot7lkeIJHjHkFgCYmB5Pds7hyCBz/AFvF8tT/AGid4tW956rW+jf39hqMex6N9suP+en/AI6KPtlx/wA9P/HRXF6XomqW2pQTTWWyNGyzf8JPe3GOP+eboFb6E1zln4ZuIPD+nxWelvBeXnh+8gu2MRVnlKxiNZCe4O4KD0GQOKuGIxUnb61Jf9veTfST7fiNRi3ax6v9suP+en/joo+2XH/PT/x0V5fqMU+uPdvDpupCB7PTYf3trLCzFbos4AIDfKpyT2HPTmpbnwzDaTavLY6OInttUsn0/wAm3wIkPkeaYgBhQfn3FeuDnpVKri9pYmafq/7v97+9+DJSi9o/1Y9L+2XH/PT/AMdFVL7XmsJrGKVnLXlx9nj2quA2xnyfbCH9Khsr37Z9o/0a5g8idof38e3zMY+ZfVTng+xrgU09j4gs5JNInbXI9ankm1BrJ8fZykwi/fYwU2mIbQeCMEA1jh8XjZuXPXmrL+Z9n57f8Apxilsen/bLj/np/wCOij7Zcf8APT/x0V5l4I0u8tdXt5LxTDfpbyJf7NIlh8+QsMtJcM5SY7gSpUdCcYBIrU17S7t9dltLeCZ7DXY0jvHQZSExn5i3pvi+TPqoq54jFxrey+sy2ve8l67vtqu/zFaNm+U7n7Zcf89P/HRUbalKs8cJZ9zqzAiIlRjGctjAPPAJ55x0NeY22nTL43tb9dPubW+/tSZbhLbTFjg+zlJArtOI8yFvkY/ORub7oIGItP8AD8+m6Vo9zZ6AkuoHQ7tLhJ4D+9kKxbI5SeSD8wCk9AQMCtfaYpWTxUtV3faX97bTfrcFGLdrHp1trFzc3F1F5NxEkDhBLLGqrKcZOzuQOmSAD2zVn7Zcf89P/HRXkWm6FNAb+XSYNRItoLW+gEumrZK9zG8m9EQRoPmT5CSCcMOSMVZ1TSb6cafqF3aK9peyT3V1BdaXLfeXK4QQ74EYNlYlK7udpzxzkVKpivacqxUresr3tfa99fz0sJcv8v8AX9WPUBqUpuGg3PvVA5PlHbgkj72ME8dM5HHqK1bZ2kt1dzknOT+NePTaTcGxmhujqUkJ0eyhNwtg7s5WaQ7XiyWYYK70yW2k5613Xw/gMGgXCDTreyha5Yxm3sns1mG1Rv8AIf5o+QVx327v4q93h2VaeJn7StKaUdndreOur3123Mq9klZf1Y27bXtIvL1rK21K1mulJDQpKCwI68e1aNclYzXGk6va6db6jbX9rPNLuiSPDwZJbJYMc88cgV1tfYHOFFFFAGcmv6PJqB09NTtGvA20wCVd4PpjrTZPEWjRagNPk1S0S8LbRA0yh8+mOtcYjSfapt19byxpq+4WIjHmE5HO7Offp+NdHc3lqvjmzjNzCHFo67S4zncOMetAGtc6xptneRWlzfW8NzNjy4nkAZ88cDvV2uW0W5s4L7WotQlhS7e8bcJSAzx/wYz1GPT3rYuZFGuWKHUvJLJJiz2j9/05z14/rQBo0UUUAFFFFABRRRQAUUUUAFFFFABRRRQAUUUUAFFFFABRRRQAUUUUAFFFFABRRRQAUUUUAFFFFABRRVG1ubq5aZLvTntY1GFdplbeP+AnigCeG9tbmSaOC4ikeE7ZVRwSh9D6VFZatp2oySx2V9b3DxHEixSBip98Vy+jpp8+qeJNPtbiCNJAiKI3HA2HJFJpIvH8TafEZLGSKztZI3ezYsNpK7dxIwDweOaAO1qAXtqbw2YuIvtITeYtw3BfXHpUI1S1m+2payLcT2fyzRR8srYyFx6muO0O6P8AwlUElzYX8d7dW8jTvLbFQCWXAz/dA4//AF0Adba69pF9eNZ2upWs1yud0UcoZhjrwK0a5PTpp9J1W10yDULe/tZmk3JHHh4Oc5JDHPJxziusoAKKKKACq6WFnHcNcR2kCTt1lWMBj+PWrFcI8l1babqOtpqF79ot751EbTs0TIGA27CcDr25oA7ny08zzNi78Y3Y5x6Zp1cZf6le33iuGwbTdYS1SESf6NcRxBiWxvJEoJX2PPtXZDgAc/jQA0wxEODEh8z7+VHzfX1qGbT7K5KGezt5SgwheINt+mRxXE6hqGpCbXLeO+uFFxMy27oT+4EaqX2ntxz9c1rx+Jbv7KZLbT1ube1hRrqZrjY2SoJ2LtO7A9SKAOgksLOadZ5bSB5UxtkaMFhjpg02fTbC6l8y4sraaTGN0kSscfUiub8QeIbuXSdRGjwIwgtvMkuHuDEY9y5G0BWycepH1puqeObbR5/srtZF4IEln+036QSNkZxGpB3tj12jkDPoAdTJZWsro8ltC7xjCM0YJUe3pRJZWkzRtLawuY+ELRg7fp6Vh6xJvuNF1C2ublBNPGuxZWVHRueUzg/iK2L24uoGtxbWRuRJIFkIkCeWv97nr9BQA+SxtJjGZbWCQx/cLRg7fp6VDeWenNHGbmxt5VT5UDRK20egz0FXq5zxvLKnh3yIZGje7uYbXzFbDIJHCMwPYgMce+K48fVqUsNOdPSS2Kgk3rsX5BpcyRpLYROkYwitCpC/T0qV7m0kjEbwboxjCsgIGOnFebzzDRvHaaVpUNvamfTbeGBniPkQhZJjghSMkjouRk554NdQlxd6il1bNaahpZX5Y7pjA27nqgDP6fxKOvSvh6vEOYws+aNmk9Ulo/K/5XOn2ML2Zo6tYaTrflfbYrvdECEa3uZIGwcZBMbqSOBweKuQvp9tBHBBaJHDGoRESNQqqOAAOwrgLOF9T+GOnXlxK0moW9ml3DdSHc6zKuQ2evPQ+oJHetrWNalsvD8N9bRoZ7l4IoRKfkVpXVAW5GQN2cAjOMcZzWVTOca58nut8zXwrfuP2cd3/Xc6j7Taf88P/HBR9ptP+eH/AI4K8+l8Ra3HdDSgdObUF1JLNrjyXERR4GlDiPeSGGMbS3OOozw+18Q6vqMtrplu1jDqDSXYnuZLd3i228ojO2MODliynl+MHrxTeZY5K9oW3+FbWbvt2Xr5B7OK7/1/wx332m0/54f+OCj7Taf88P8AxwV5DpXiq/0/w9pOnadD5kttpENzIo064uTOzbgsYMXEWdh+Zs9RwcGuq8aXO3wa100M3E9pIYlQmT/j4jO3aOS3bHrVVMxxsK0acow952Xurvv/AEwVOL0O0+02n/PD/wAcFH2m0/54f+OCuGm8UXFno9pqE9zoCC8YvEt3qBtFRMDC7ir73HfAUD0pkniy5l8N3OoWbaJPcR3MECCz1A3cXzyIh3MEQqcMex9fas1mWYOzUIWbt8K3vb8w5IdzvPtNp/zw/wDHBR9ptP8Anh/44K4WHxDqcOoppt39kmmXVUspJoYWjVo2tjMCFLsVYHA5JH58RJ4h1q/1G3sLI6fA8s9/GZZoXkCrBKqL8odckg88j17YL/tPHdoWte/KtrN3+5eo/Zx8/wCr/wCR3/2m0/54f+OCj7Taf88P/HBXCeH/ABFqmo3OkNfJZiDVbGS5jjgRg0JTy8gsWwwO/PCrjGOetbPiDU5dJ0lriBFe4klit4Q4O0PI6opbHO0FgT9Kznm+NhUVJxhd/wB1d7fmgVONrnRfabT/AJ4f+OCj7Taf88P/ABwV5murXvh5PFV3dPBdX39oW0KNDbOqF5IoUU+WGdiBuBIBJOOMZrc0TVdV1LTtRDwgXUDFbaeWwmtY5soCD5ch3ABiQeecZBGeNKmZ42EedKDjpryrqk/1Xn5b2FTjdI7D7Taf88P/ABwUfabT/nh/44K4a28WPeWbXmYLO1t9LN1eSTI0n2eYkgLhSMhdkm4Dk/LgisiHxd4lOpW+lz2VtBdXMsPlS3Nt5YEciTHJjSaQ5BiBwWBOSCF+9VRzDHu/uwVt/dQuSFr6nqH2m0/54f8Ajgo+02n/ADw/8cFedXmt6jbNqdmk0T6gb2G1iWO3kk+0M1srsEQzqI/4mzvAAU5yxyYND8Ty6XpcMNzpcFlaQ291GkUKhSJ4JCGTAdhl1+YAFuQ3zNnNP+0Mc4c0VBvTTlXVXv8A1+D0D2cVuemfabT/AJ4f+OCj7Taf88P/ABwV5sPF+s/2k1qbQSSWclvb3cEGm3EvmSOqNIVmXKRhQ/AbJO05IyDT5PEOrQ25a2i8uA6hexS3X2O4vvL8uVgq+Wj7xuAJyDtXbjAyMH9oY9WvGGv91dr/AJdr323Dkj5nqPkRf88k/wC+RR5EX/PJP++RUGmXX23SbO6M0ExmgSQyW5PlvlQcrnnae2e1W6/QHhKCduRfcjkUm1e5H5EX/PJP++RTwoVcKAB6AUtHaqhRpwd4RS9EF2yCGytbaR5ILaGJ3OXaOMKW+uOtT1zmlveJ4w1G2uL2WdBbRyBW4VSWb7q9uMV0daCCiiigCulhZx3JuUtIFnPWURgMfx601tNsHuPtDWVs0+c+YYlLZ+uM1aooAglsrWadJ5baGSaP7kjxgsv0PapDFG0qytGhkQEKxXkZ64NPooAKKKKACiiigAooooAKKKKACiiigAooooAKKKKACiiigAooooAKKKKACiiigAooooAKKKKACiiigApCARgjIPUUtFAFSLS9PgkMkNjbRuQQWSFQefcCpoLW3tUKW8EUKk5KxoFBP4VLRQAxIYonkeOJEaQ5dlUAsfU+tKUQvvKLuAxuxzinUUAQQWdrbO729tDEz8sY4wpb6461PRRQAUUUUAFYMfhW2W6d5L69mtnnNx9jdk8oOTnPChj9CxFb1YcGq6hqF9P9htrc2NvL5TySuQ7sPvbQOOPegDR/s+H+1f7Ry/neV5OMjbtzn86t1nS67pkF6LOW7RZyQNuDgE9AT0B/GpX1WxjguZ2uUEdqSszH+AjsfzFADYtLgit7yENIVu5HkkJIyCwwccdOKzn8J2pbEV9fQwOiRzQRumycKMDdlSRx12kZq/d63pthPHBdXSxySY2gqcc9MnGB+NNu9f0qxuDb3N7HHMMEpySAeh47e9AFPUPCdnftMPtV5bQzxiOaC2kVFkAGBn5SeB6EA981NcaAJLoXFpqV9YSFFSQ25jIkC9NwdGGR6jH8qW91tLfVtPsYmiZrlju3kg7cEgrxgn2zVi/1rTtLdEvblYS4yMqSAPUkDgfWgCrqvh9tVnt5G1fULcQMHRIPKxuH8R3Rk5/HHtVy50/7UtqGvLuM27h90UmzzcdnwMEH04qO81/S9Pm8q6vY45NobbySAeh47cdafe6xp+npG1zcqgkGUwCxYeoABOKAL1ZfiDSW1vRprJJ/ImJEkMu3d5cincjY74YA/hUl3renWCxNc3SxiUbkBUkkeuAOB7mryOksayRsGRhlWByCKzq0oVYOE1oxp2dzm38JW+qW7S6vBELy4gjiuBBK5UbGLrsb5SMMSQwAP5CtG40SO5tHtpJ5RG67SY5HjfHs6sGB9wc1B4i1HVNLt1uLKGzki3KjCZmDZJxxgdK0La7ZWjtb2SBb5kLmOInaQO4zXlPh/Lnb93t/el/mX7Wfc5ufwV9l0FdD0aXybKZhHOZ7iWRooSMMI9xbkgbQMqBkntg7F74dtNR0+SwuwslrIoVo9pHA6YIOQQQCCOQQCKmm1/SoIo5ZL2MJJu2Yyd+04OAOuM9qJNf0uKxhvWvE+zz/AOrYAnd9ABn/AApvIcvbu4a3vfmle/rfyD2s+5nW3gvS7VIRGrlorj7UskkjyO0u0puZ2Ysx2nHzE8Y9BTJ/A+kzqgZZUZJpZ1eGaSNw0hzJ8ysDhj1XOOnHArak1Wxh07+0JLqNbTAPm5+XnirasGUMpyCMg0/7CwN78rv/AIpf/JB7WZy7+AdGa2tbdUmhjtYfs8X2e5lhPl/3GKOCy8dGJ7+prSu/D1rfWgtbjDwBkcIAVwUYMvQ9ioP4Vr0UnkOAk03B6f3pf/JB7WZjWfh21083H2UmMTymaRcsV3nqQCcLk8nGMkk9Safe6Bb6hbfZ7o+ZFvR9uCPmRgyng9ioP4VrUVP+r2Xc3N7PX/FL/MPbT7nO3Xg3TLz7QZhIGuJknkeOWSN/MVQqsrKwKnaAPlI7+posfBul6a8D2kfltAZjGdzNjzWDSdW5yQDz+FdFRV/2DgOXl5Hb/FLtb+btp6B7WZzg8F6Utrb2wi/c21tJaRLub5YnADLndzkKOTzxU8vhawn0caTIu6xWNYljywKquNuGzkEYBBzkEA5zW5RSeQ4B2bg9Nfilv94e1n3Oah8EaTBZXlmqO8V6Q1x50skjyMFCgl2YtkBRg5yMA9atad4attLieO2mnbzG3M080k7k4x96RiccdM4rboolkOAkmpQbv/el/mHtZGBD4Q0u3t7+COCMQ6hI8l0hUkSs4w2QT39Bx19aqWvgDRrS8iu41ne5iKlJZ7maVhtDheXc8ASPx05rqqjnnitbeS4ncJFEpd3PRQOSaayLAq6UXrv70tf/ACYPayMC78F6XetM8yuJJpluGkilkjcSKgQMrKwKnaMfKRkZ9TTF8C6MtlBZ/Zw0MF19sjDs7ETbixfcWySSTnJ5ya1bbXdLvGmEF7G/krvfqAF9cnqPcUltr+l3aTPDeIVhXe+QVwvryOnvQsiwKSSi7L+9L/5IHVk9zPufBum3eo/b5DMJzs3+VPJGkm05XeiuFfH+0Dxx0qKfwLpU+PmuoT5ksha2u5oWJkbc+SjgkFucHgdsVrWmu6ZftKtreRyGJd74z9319x9KLPXtK1CZobS9ilcJ5ny5wV9Qeh6jpQsiwKtaL0/vS/8Akg9rMuwQRWtvHbwRrHDEoREUYCqBgAVJWXD4g027Ey2d0k0saM+3BG4D0JHI+lQaN4msNWghAnjW6ePzGiGePXBxzivXMzboqpHqVnKLYx3CMLnPk4/jx1xUcOt6dcXclrDch5o87gqNgY684x+tAFO28OG21yTVf7Y1GWWQbXik8nYVBJC8Rg4GfXPvW3WFpXizTNXvp7SB3EsUpjAaNvn4Bz046963aACiiigAooooAKKKKACiiigAooooAKKKKACiiigAooooAKKKKACiiigAooooAKKKKACiiigAooooAKKKKACiiigAooooAKKKKACiiigAooooAKKKKACiiigArn7Gy1XSby5gt4LaeynuDMsrSlWi3dRtwd35iugooA5OfQ9TZb3Tkitms7u4843TSHegyCRtxyeODmrd3oM0usK0ez7BO0cl0pPzM8f3cDvn5c/7vvXQ0UAcX4j8P65q15eJFKPssqqISLpo1TA5DRgfMSe+f5Vs2+if8Tq/urqKGSG4gjhAPJIAOQfatuigDnNatNVkvtN/s/T7Z7ezlEmXuShI2lcAbT6+tUfE2h65rE9zHBIFtp7YRoFumiEbYOdygfvByO4rsaKAObGg3PnXsjCEmbTorVCTzuXdnt05FNTS9U064sru1gt7qRLNbaWKSYx7SMcq20/yrpqKAOT1zQb+91RdRgEjGS3EMsEd80GOSfvBTuHPpXQ6ZaLYaZa2iIUWGJUCF9+3A6bu/wBat0UAZmu2E2pab9ngKh/NR/mOBgMCay/FUg86yjs54hqpfZHFu+cxtwxx1wOuenFdPSbV3bsDPrigDkdRt5dN1zw9Bp9nFcNDBOqxyS+WB9znODz+HeobjwpqCxWU8UrPcRPO8sUN01uP3r7iFYA9OnTmu0wM5xzS0AYVrptzp3hlbSytITcAlhDdTGVMlsnLYye56VuJnYu4ANjkDpS0UAFFFFABRRRQAUUUUAFFFFABRRRQAVQ1uzl1DQtQsodoluLd4k3HAyVIGav0UAcvqXhq4vZVEbRRR/2a1rx2clSOPTg02XR9U1PzpruC1tZFs2to44pS4ct3J2jA9sGuqooA55dDuFubZ1ESpHpzWxAOPmP4dKktPD0Ufhy3sJI40uYrRrcSRj7m5cNg+9btFAHK22j6rcGxS9gtbZLCBo0aGQt5pKbOmBtHfHNN0vQ9SA06K8gtraKwR1DRS7zKWGM/dG39a6yigDktM0XWIbjSI7iO1S204yAuspZpAwwDjAx9Oam0rSdRs9cMscQs7AmRnhF2ZUcscgqhUBDnng+tdPRQBh6fZ6jp+s32LeGSyu5/O87ziHQ7QMbdvPTrnvW5RRQAUUUUAFFFFABRRRQAUUUUAFFFFABRRRQAUUUUAFFFFABRRRQAUUUUAFFFFABRRRQAUUUUAFFFFABRRRQAUUUUAFFFFABRRRQAUUUUAFFFFABRRRQAUUUUAFctPpfiZ9aaeLU9tkZAwi+0AfL6Y8k/+hfjXU0UActeaX4mk1hprfU9ln5gIj+0AfL3GPJP/oX40ahpfiabV2mtNT8u0LAiP7QF478eSf8A0KupooA5fVNL8S3GqvNY6l5VqSMR/aAuPXjyW/8AQqNU0vxLcal5tjqXlW2F+T7QF578eS3866iigDltX0vxLcXgfT9S8mHYAV+0BeccnHkt/OjVtL8S3F4r2GpeTCI1BX7QFyw6nHkt/P8AAV1NFAHMatpfiS4uIWsNS8mNYlVx9oC5buf9S38x9KTVdL8S3DwGw1LyVWILIPtAXc3c/wCpbP6fSuoooA5fVNL8Szi2+w6l5WyILL/pAXc3c/6ls/p9KXUtL8STw2S2WpeU8cIWc/aAu9/X/Utn68fSunooA5jUNL8STWlmlpqXlzRoRO32gLvb1z5Jz+QovtL8SS2FnHbal5dxGpE7/aAN5+vknP5CunooA5i80vxJJplnFb6lsuowfPk+0Ab/AE58k5/IUy50rxM+mWcUGp7LqPd58n2gDfk8c+Sc/kPxrqqKAOXutL8SyaTaQwalsu0J86T7QBu9OfJOf++RS3GmeJH0e2hh1LbeIxMsn2gDcO3PknP/AHyK6eigDl5dL8StocECali+WUtJL9oHzL2GfJ5/75H1pX0zxIdCjt11LF8JSzS/aByvpu8n/wBl/GunooA5f+y/Ev8AYfkf2l/p3m7vN+0D7vpnyf8A2X8aVdL8SDQ2gbUs3xl3CX7QOF9N3k/+y/jXT0UActHpfiYaJNA+p5vmmDJL9oHCY5GfJ/TafrSxaX4lXRZ4JNSzetIDHL9oBwvcZ8nj/vk/WuoooA5i30vxImj3MMupbrx2Bik+0A7R358kY/75NFrpfiSPSbyGfUt93IV8mT7QDt9efJGP++TXT0UAcxZaX4ki02+iudS33MigQP8AaAdh78+SMfk1FhpfiSKyvEutS8yeRMQN9oB2H6+SMfka6eigDl9O0vxLDbXi3mpeZJJHiFvtAba3r/qRj8j9KXTNL8SQR3gvdS81nhKwn7QG2v6/6lcfr9K6eigDldO0rxNCt0LzU/NLwlYv9IDbX7H/AFK4+vP0p2l6X4lg+0/btS83fEVi/wBIDbW9f9SuP1+ldRRQBzGlaX4kt3nN/qXnK0RWMfaA21ux/wBSuP1+lGkaX4kt7qV9Q1LzomiZUX7QGw56HHkr/M/Q109FAHL6RpfiW2u2fUNS86EoQF+0Bvm7HHkr/OjStL8S2+oeZfal51vtYbPtAbntx5K/zrqKKAOX0vS/EsGqLLfal5trzmP7QG+nHkr/ADpNO0rxNDqyTXmp+ZaBmLR/aA2Rg448ke38VdTRQBy1hpfiaHVlmu9T8y0DEmP7QG47ceSP/QqLPS/E0esrPcanvsw5Jj+0A/L2GPJH/oVdTRQBy0Gl+Jk1tZ5dT3WQl3GL7QD8vpjyR/6F+NC6X4mGt+edT/0Hzt3lfaB9zPTHk+nbd+NdTRQByz6X4mOtGddTxZebuEX2gfd9MeT/AOzfjRcaX4lfWjPFqW2y80N5X2gD5fTHkn/0L8a6migDlr3S/E0usNNbansszICI/tAHy9xjyT/6F+NLqOl+JZtXeaz1LyrMsCsf2gLgd+PJb/0KuoooA5a+0rxNLqxmtdT8u03AiP7QBx348k/+hUalpfiafVDLZ6n5VrkYj+0Bfrx5LfzrqaKAOW1bS/E1xqLS2Gp+TbkLhPtAXnHPHkt/OnatpfiS41ASafqXk2+1QU+0Bee/Hkt/OunooA5fVtL8S3FyjafqXkxCNQy/aAuW7n/Ut/P8KNW0vxLcTQtYal5KLEFcfaAuW7n/AFLf0+ldRRQBzGq6Z4kuGtjYal5ISELL/pAXc/c/6ls/Xj6UmpaX4lnitBZal5TJEFmP2gLub1/1LZ/T6V1FRT3MNsqNNIEDuEXPdj0FAHN6jpfiWaG0Wz1Ly3SPEx+0Bdzev+pOf0+lO1HS/Es1rZJaal5csceJ2+0Bd7ev+pOfyH0rp6iuLmG0jEk8gRWdUBP95jgD8SRQBzt9pniSXT7GO11Ly7iNCLh/tAG89ufJOfyWi80vxJJptnFb6lsuYwfOf7QBv9OfJOfyFdPRQBzF1pfiR9JtYYNS2XaE+dJ9oA3enPknP/fIouNL8SPotrBFqW29R2Msv2gDcO3PknP/AHyK6eigDmJNL8SNokMCali+WUs8v2gcr2GfJ/8AZR9aY+leJjo8cK6ni8EhLSfaByvYZ8n/ANlH1rqqKAOXfS/Ep0OKBdSxfCQs8v2gcr2GfJ/9lH1pTpniT+wRbjUv9P8AO3GX7QPuY6bvJ/Tb+NdHNPDbQtNPKkUa/ed2CgfUmiGeK5hWaCVJYmGVdGDKfoRQBza6X4lGhvbnUs3xl3LL9oHCem7yf/ZfxpY9L8SDRJYH1LN80gKS/aBwvpnyf/ZT9a6eigDl4NL8SrotzBLqW69eQGKX7QDtXuM+SMf98n60ttpfiRNHu4ZtS3Xjsphk+0A7R358kY/75NdPRQBy9ppfiWPTLyK41LfdSY8l/tAOz158kY/I0lnpfiWPT7yO41LfcSAeS/2gHae/PkjH5GupooA5ix0vxJFYX0d1qXmXEiAW7/aAdh7nPkjH5NRp2l+JIba8S81LzJZI8QN9oDbG9f8AUjH5H6V09FAHMabpfiSCK6F7qXms8eIT9oDbW9f9SuP1+lJpel+JYBdfbtS83fEVi/0gNtfsf9SuP1+ldRRQBzGk6Z4kt5p2v9S85GhZYx9oDbX7H/Urj68/Q0mkaX4lt7mRtQ1LzozGQq/aA2G7H/Ur/P8ACuoooA5XTNK8TQXTve6n5sRRgq/aA2G7HHkr/OnaTpfiW3vXfUNS86ExsFX7QGw3Y48lf5/ga6iigDl9I0vxLb6h5moal51vtYbPtAbntx5K/wA6TS9L8TQakst9qfm23zZT7QG+nHkr/OupooA5fTdL8Swass15qXm2gYkx/aA3HbjyV/8AQq6ioIr60nuJLeG6gkmj+/GkgLL9R1FT0AFFFFABRRRQAUUUUAFFFFABRRRQAUUUUAFFFFABRRRQAUUUUAFFFFAGZrOoT2f2S3tFjN1eTeTE0oJRPlLEkDBPCnjIzVW8v9Us0sbMtZyaheSsiyiJliQAFs7d2TwP71aeoada6pbeRdxl0DB1KuyMjDoVZSCp9wQarSaDYS2CWUouZI433o73crSq3qJS28fg1AGLdeKbyztXhmhja+S6FsZIoJJI+RndsXLdO2fxptxr2r3HhLU7mGyC3MCSL5kiy2oKhSd6K6lvwP51uf8ACP6Z/Z32H7O3k79+7zX8zf8A3vMzv3f7Wc1LFpFpFp0tgftEtvKrK4uLmSViCMEbnYt+tAFDwpY/Y9JVm0+3s5JQrN5Mxl8zj7zEqvNbtNjjSKJY0GEQBVHoKdQAUUUUAVtRnuLbTrie1tzcTohZIgcbz2FYdjq1/qWjXpjvLUX0S52tZSwmPjPzI7bvoRxXQXECXVvJBIZFRxgmORo2H0ZSCD7g1WsNHstNWUW6Ss0v+seed5nb2LOSce2cUAYelanqtn4TGpalPbXWIQYxHGyMWJwNzFjnr6UuktqR8Y3P9ozWzsbCJlFvGyKvzv1yxyffitW38PabawzwRxTGCcFXhkuZHjAP91WYhf8AgIFLp2gabpVxJcWkDieRAjyyTPK7KCSAWcknGePTpQBPq1+ul6VdXzIXEEZfaoOTj6Vz+neJtQnW6+0WrMI7Zp0lFjPbopH8B8wfMfcflXUyxRzwvFKivG4KsrDIIrPtdBsLOOaKL7W0UqeW0c17NKoX0UOxC/higChp2qa5NbJeXdpai3ltjMvkk5iYDIDEn5s+wGKdoWpa3qC2l1eWtqtndQGTEJO6FuMBiT82cnoBjHetpLWGOzFoiYgCeWFyfu4xjPWltraGzto7aBNkMShUXJOAPrQBLRRRQAUUUUAFFFFABRRRQAUUUUAcokuvt41vLZL6z+ypbxSCJ4HOFLv0+f72B1+nFdXWfd6LY3t9FeyrOlzENokguZISRnOG2MNwz2bI6+taFABRRRQAUUUUAFcHrtql74wu4W0efUJPsMYhdHRRAxZsMSWBHblQTxXeVAtlbpfSXqx4uJEEbPk8qMkDHTuaAMPULvUfD+i2d5PcxXP2eJY7qJvlM7HAyh6789B3zj3qbW5hcadp0yo6CS6gYLIpVhkjgg9DWpLYWs95DdyxB5oAREzEkJnqQOme2euM+tQ6rYyX8VukbIpjuElO70U5P40AZPiGXWo9Z0qPT7y1hhlkZSssTNk7e+HGR7VP4hEw0W1E7I0v2y23mNSqk+avQEnH51pajpdpqsKR3aOQjb0aOV4nQ+oZCGH4Gq+paU1zpkFnbuR5U8MmZpGclUdWOWOSTgd6ANSiiigAooooAKKKKAMHxiA3huUEAgzQAg/9dVqt4pkSGPSbI28klrc3Jjkt4U/1uI2ZU7AAkDOcDitPxDp9xqeiy2toYhOXjdPNYqp2uGwSASOnoakl09dV0yODVreMSZDFYJm/dsOhSQBWBHqMGgDK8Ipc2/8AadnMESKC5HkxRklYgVBKAnrgn9ak8XXHlWdnC6yvBcXKxypEuWkGCdv4kVpxaPYQ6bJp6Qn7PKCJA0jMz56lmJ3En1JzTTomnHSI9KNt/ocahUj3tlcdCGzuBHrnNAHO6LapGNb0/UEjt9NjZJBAsh2QqV3Mpb07ntzTLLTJ9Q8LapDYwCKzupy1hbzsUHlYX2JVWIYgY6Gt6TwzpUuky6ZJBK1tM26XNzJvkOc5aTdvP4mpYNCs7ezmtY5dQMcuNxfUJ3cf7rlyy/gRQBR8NtbwS3mnJpcOn3EBVpI4JfMRgw4IbAPY9QK6CqlhplppkTJaxsu87neSRpHc+rOxLN+JNW6ACiiigAooooAoa5cS2mg6hcwf66K3kdMDPIUkcVymiQtaa9pc1lbtBaXkDiXzCfMuMLuErDtz68/NzjpXcsqujI6hlYYII4IrN03QNM0mQyWcDI23Yu+Z5BGv91AxIRf9lcDgcUAW75J5LC4S2fZO0bCNs9GxxXG6PE9r4hs7MaTPZCe1lF4JnRvPI2/N8rH1PJwfauttdIsbKa8mtoTHJePvnYSNljjGevH4YpLHR7LTpJJLeOQyycNLPM80hHpuck49s4oA5/TdF07/AIS6ebTbWG3g0+Iwu0YxvmcAkH/dXH4t7VFoVoug6tbWt7pVrFd3RkEd5BOZGkOSx3AqMcema6u0sbexheK3jKK7tI2WJLMxySSTmq1nodhZXTXUaTyTnIElxcyTlAeoUyMdo9higCgI408dAoiqWsSWIGM/P3roKxYLHUW8USahcx2sdssHkxeXMzO3OcsCoA/AmtqgAooooAKKKpPpNi+oLftbg3S9JNx/lnFAF2iqUmk2M1+l9JbhrlPuybjx+GcUTaTY3F9Hey24a5jxtfceMdO+KALtFUrjSbG7vI7ue3DzxY2PuIxjn1oudJsby6jubi3DzR/cYsRj8jQBdoqld6TY308U9zbiSSL7jFiMd+xovNJsb+aKa6txJJF9xixGO/Y0AXaKpXuk2OoyRyXduJGi+4SxGPyNF7pNjqJjN3biUxfcyxGPyNAF2iqV7pNjqKxrd24lEf3MsRj8jS3ulWOoxxx3cAlWM5QFiMfkaALlFU7zSrK/hjhuoBJHH9xSxGPyNF1pVjfW0dtcwCSGP7qliMfkaALlFU7nSrK8tI7S4gDwR42oWIxj8aS40iwurOOzntw9vFjYm48Y4HegC7RVO40qxurJLOaAPbpjam48Y6d6JtKsrixWylgDW6Y2puPGPxzQBcoqnJpVjLp62DwA2q4xHuPGOnOc0NpVk+nCwaAG1AwI9x+vXOaALlFUv7Ksf7O+weQPsv8Azz3H+ec0q6VZLp5sBABakYMe4/zzmgC5RVJNJsY9ObT0twLVs5j3Huc9c5pY9KsodPaxjgAtmzmPcec++c0AXKKpw6VZW9i9lFAFt3zuTcec/jmi30qytbJ7OCAJbvncm485696ALlFU7XSrKytJLW3gEcMmdyhic547mi00qxsbeS3toBHFJ95QxOfzNAFyiqdnpVjp8UkVrAI0k++AxOfzNFjpVlpqyLaQCJZDlwGJz+ZoAuUVSstIsNOWVbS3EYl+/hic/maLLSbHThILS3EQl+/hic/maALtFUrLSrHTjIbSARGTl8MTn8zRZaTY6dJLJaW4iaX75DE5/M0AXaKpWmk2NhPLNbW4jkl++wYnPfuaLXSbGyupLm3twk0v32DE5/M0AXaKpW+k2NpdyXUFuEnk+++4nP60QaTY219Jew24W5kzvfcec9e+KALtFUodJsbe+kvYrcLcSZ3PuPOfxxRHpNjDftfR24W5f70m48/hnFAF2iqS6TYpqLX624F03WTcf5ZxQNJsRqJ1AW4+1H/lpuPpjpnFAF2iqR0mxOoi/NuPtQ6Sbj/LOKH0mxk1Bb9rcG6XpJuPH4ZxQBdoqlLpNjNqCX8luGukxtk3HjHtnFE+k2NzfR3s1uGuI8bX3HjH44oAu0VSm0mxuL5L2W3DXCfdfceP1xRPpNjdXsd5Nbh7iPGx9x4x+NAF2iqVzpNjeXcV1cW4eaLGxyxGMHPY0Xek2N9cRz3NuJJYvuMWIx+RoAu0VSvNJsb+aOW6txI8X3CWIx+RovdJsdQaNru3EjRfcJYjH5GgC7RVK+0mx1Ly/tluJfL+5liMfkaW90qy1FY1u4BKIzlAWIx+RoAuUVSvNJsdQjjjurcSJF9wFiMfkaLzSbHUII4bq3Ekcf3FLEY/I0AXaKp3elWV/bx29zAJIo8bFLEYxx2NFzpVjeWkdrcQB4I8bULEYx+NAFyiqdxpVldWSWc0Ae3TG1Nx4x+NE2lWU9gtjLAGtkxtj3HjHTnOaALlFU5NKspdPWweAG1UACPcePxzmkfSLCTT1sGtwbVeke4/zzmgC7RVN9KsX04WDQA2owBHuPb3zmg6VZHTv7PMA+y4x5e4+ueuc0AXKKpjSrFdO+wCAC1Ix5e4/wA85oTSrKPT2sUgAtm6x7j/ADzmgC5RVOLSrGCwaxjgC2zgho9x5z15zmiDSrK2sXsoYAlu+dybjznr3zQBcoqlbaVY2dpJa28ASCTO5NxOc/jRa6TY2drJbW9uEhkzvUMTn9aALtFU7TSrKxtpLe2gEcUmd6hic5GO5pLLSrHT4ZIbWARxyffUMTn8zQBdoqlZaTY6dHIlpbiNZPvgMTn8zRZaVY6d5n2SAReZ9/DE5/M0AXaKpWWk2OnNI1pbiIy/fwxOfzNFnpNjp8sslrbiN5fvkMTn8zQBdoqlaaTY2M8s1tbiOSX77Bic/maLPSbGwmkmtbcRyS/fYMTn8zQBdoqlaaTY2NzLcW1uI5Zc72DE55z3NFtpNjaXcl1BbhJ5M733E5z+NAF2iqUGk2NteyXkNuEuJPvPuPP61doAKKKKACkyPWlrko7W2j8SXMmraPJeXLzhrS7Np5yxpgYAbB2YOfTrQB1mRnGaMj1rhL3TXkvLyOTSp5dYkuQ9rqAhJEaZBGJf4QBkFc80t/4feb+3b02DSX63UT2cpUllwI8mP06HOOuOaAO6yPWoDfWy3y2RlAuGQyBMH7oOM56VyWu2WfFEd3BYG+uP3YCXOnGWNMHrHN0jPPPXkCpNa0XTU8VW+pXWgR3kUkJR3jsRMwkyMFsAnp3oA7GikTGxdq7VxwMYxS0AFFFFABRRRQAVyH/CV2p8RahpNxeQ2txDciGBJLkBrjMaP8qnB43gYGf1rr68s1rRdSute162j0hzHqGo2k6agZIhGiRCInI3+ZuBR8ALjJ6gEmvm+I+X2UFKXL53t2+/S+nU2o9TorLxbDc65FYiO8EUly1tFdsVMMsqZLxjDFsja/JUD5Tz0z2NeZabompR61ptlJaOLWy1efUfthdCkiyeaVRRuL7gZucqB8p56Z9NpcNtOlPllfXvfv8Adda2Cv8AEZ+pasmnNDGttPd3ExPlwW+3e2OSfmZQAPc1LpuowapZJdW+4KxIKuMMjDqCPUVh+Jba5XVLK+jW6e1VHiuBaRl5cHkYxyORgkDP0p2jxSeH/DU866dcOWlaZLOFcyAMeBgnr619KYm9e3kOn2U13cMViiUsxAyfwHc+1Zq+JLeTSLS/jtbpmuzthtdqiZmycrgttBGDnLY461HrVpqeo/2fJZw2rQxP50tvdyMm5gPkztVuh5x6gVzqWGuR6HpM9xbtC9pcS+almDLKI33AlQVHPPYHigDrbTW7W606e8KyQC3LLPFKBvjYdQcEjP0JqK28R2dzoq6oIrlI2JVYmj/eMR2Cgn/PXFc9b6FqD2jvp9pDFbz3fntbXrvGzqAMbvlY5J5Oeau6Q+pad4cu/wC07Aq5lk2R2ivKx3E842g4oA6DS9Rh1bS7bULdXWG4jEiCQAMAfXBNMvLiWKYKjYBXPQVmeCWkHhSwtprW5t5raFYpEuIWjOQO2eo9xXO/Eiziur/TXmieYRRyFYptIk1G2YnA+aOPlXH8LHjBYd68bPXNYT93Nxd1qr3/AA1NaSTlqdFa6815e39pGziSykWKQsq4JZFcY9sMPTmm2Piizutd/ssXLmcMycwOsbOoyVWTbsZgOSoJIweODXmC6S0lzOjaDcway1xp72bpbyNHbKkcHmbZyu1QArqecttxzxXQaJZXa67pemm0uVms9Zu76aYwOIjC4nKkSYCMT5qDaCSOeODXy+BnXeLpKVebTcdOZ+Tb3d4t6fgbTtyNpf1qepUUUV+gnIQ3d1DY2kt1cNtiiXcxxmqGm65HqF1JaSWd1ZXKoJRFchMuh6MNjMMZ7ZyPSjxJZ3F/oF1BaAG4wHjDDILKQwH6VjaBZNPrw1Q217GyWpilmvIyjyuxBIAP8IxxgY5OO9AHU3VzFZ2stzO4SKJSzMewFZtjr8d7O9u1jd21yIvOjhnCBpU9V2sR+BIPrVbUWutf8O6pbw2U9rcKzxRLcoB5hXow55U9qztHtXk1catJaX6vDbMs8lzEVkkc/wAKL/dHbHH160AbdrrqzzXMFxYXdlPBH5pin8slk55BR2HY9SDT9J1aXVUEp0q9tIWQPHJcNCQ4PoEkY/mBWRpNujapd3Nva6hHYSQFZherIZHfnhd+XxjsOPSk8P2ph1ndpsGpW+lLblJY755TmTI27FlJIAG7OMDkelAHV0VC13ArFS+CDg8Gk+2W/wDz0/8AHTXE8ywSdnWj/wCBL/Mrkl2J6Kg+2W//AD0/8dNH2y3/AOen/jppf2pgf+f0P/Al/mHJLsT1l2evWl9qs+nwJNvhQOZGTCMM4+U9Tz7Yq79st/8Anp/46awYXkHjOW7NrObea3WFZFUMNwJPIBJA9yMVcMwwlSShCrFt9FJf5g4SW6NG1160vNZl0yFJjJHEJfNKYRhkrwep5Hpj3rUrk47xz4/eX7BqAga0W2ExtH2bw5P3sYxg9elb4vnOsNYfYrkIIRL9qKjyic425/vd66ySIawJNRa0trG7uVjbZNPGEEcR64JZgT/wEGq03ie3iumT7HdvbJMIHu1CeWjk4wQW39SBkKRWCun3dvqckUKaot+bwyxzBn+zeWTk5AOw8ZHIzUF3p94+vyzizuxqRvUaJ44f9GMQxyxxtLYzyfmB6GgDrb/XbXT9SsbCRJnmvH2L5a5CehY54BxitOuIv9M8RpqaXSWmn3DSagkgk89wyxqGCgjy+FAPqeT712wzgZ698UALRWfc3M0dwyq+FGMDA9Kh+2XH/PT/AMdFfNV+KcHQqypSjK8W1sujt3NlQk1c1qK57StebV9KtdRt2dYbmMSosiqGAPrjPP41b+2XH/PT/wAdFZy4twUW4uE7ryX/AMkP6vI1qyNT8QQ6bO8Qs7u7aKPzp/syqfJT+825hnoeFyeOlL9suP8Anp/46K5/VrW6TVrqSa1vLuzvYEKxW0WRJKBjbIR0Xp1wOuc16OW53h8xnKFFNW11t+jZE6bhudlBNHcwRzwuHikUMjDoQehrP1LXI9OmECWd1eTbDK8dsEyiDqx3Mox7DJ9qgtDL4f0PSLH7HcXTKI7ZzbrkR8YLNzwoxWXr1pcRa89y8F5PY3NuI3jtIyzM6k4ViOQpz7fWvYMzVn8TWqxQvaW1zftLF5+y2Cblj/vHey/kMn2om8S2whtnsrW51B7iIzJFahNwjHVjvZQOeMZz6CuYTRrrSGthPbXcllJaiOSGyjLNvBJCMRyF57ce+KVNHutGbTzNb3bWT2YhnisIyzhgxYIdvIU7jyPTqO4B3FhfW+pWEN7avvgmUMjYwce47H2qxWR4Z099L8PWtrJEsLDc5iXGI9zFtoxxxnHHpWvQAUUUUAZmvatDoekyahcvIlvDzI8cLSlV7naoJwOpOOBzWNceMbO2gtZZJ7gtdqXhhSyleZlHU+UqFwBxkleMjPUVP4/Zv+EH1ZEhnmkltpYo44IWldmZGVQFUE9SOe3euXjuG07W4NZmsr+WxutNitw0VnK8kDozMQ0QUuAwbrt6pzjIr4jPq1aGKfJUmtNlJpPRbefXztY6qaXLt/V0bsnjjToUhd7yULKpb/j0k/dKG2ky/J+6AOQS+3GD6GuhvdUj0+yglkjknmmKpFDCBvlcjOBkgdATyQMA15jrv2i8fWpotNv2XWdIFlZg2j5EitKMOAMxA+YjZfbx1xggdpr1le/2fotxbGZjZODMYI98uxoyjMg7sM+/fg118O1Ks6kuepKWm0pX7fls/QiskrWNvS9Uh1SGR445YZYZDFNBKBvjYdjgkdCDwSOanu55Le3aWK1munHSKEoGb6b2UfmawdAtf7Ms9Tvo7G4RJ5PMjgYHznCqBkhjncTnrzWlPepPoS3NzZ38azIN0EaP5yZ7fJyD9DX1hgJb67bT2EtzJDcQNDIYpIJFDSK/93CFgT9CajTxFbSeG11xLe5MLLuEOF8zOcY+9tzn3xVLRN+l6bezm1vRZmXdbwtEzz7SBksOXJJyfmyfWqegLFL4FFjqem6iqwqVlhMEiO2WJG3GGPbpQB01hdz3cTPPp1zZMDgJcNGSfceW7D9at1z3hqG5jkvGC3senOVNtHeyO0oP8R+clgOnBNdDQAUUUUAFFFFABTZJEijaSRgqKMsT2FOqpqds93pd1bxkB5I2Vc9M4oAo2HiO3vryO3NrdW3nqXtnnCBZ1HUrtYkfRgDWzXEaJp1xcarps9xa3a3NkjC4muIyig42hY+23vx+NdIt7d3sOoRW9pLa3EJaOGS5XCSNjhhjOVzQA2HX7OfWrrTEWXzLWLzJJSv7vtlQc5JGRnjHPWo7DxHBfXEMf2S6gS4Ba2mmCBJwP7uGJHHPzAViaPpetWWuwRXVlZfZBZPHNNFO7FyXyTygyxPOPc0adpMkutWLwPqv2HTy5Vb5AgXgqFQbQzDnqc9OtAHQQ61v1QWFxp13aSOGMTzGMrKB1xsdiPxArUrlreMXPiaK7sbXUYtpcXL3iyBCOwQSdOf7mB611NABRRRQAUUVydxrF/F4hOlC9i8qSZSLooP3Wf8All0wWOOM/wCFAHWUUUUAFFFFABRRRQAUUUUAFFFFABUfnxf89U/76FSV5to/ip2vGs9QguyJdTubOC78tBFuR32x8HdnYnXbg4xnOa8XOcyrYGMZUoKV73v5WNacFJXf9f1Y9GEsbHCyKSewNPrkPDGp319rWq219BbQtZXIijEEjPlTErgliBk/N6DHTnqevrXKMfUxtF1KkUmnbTXon+oqkFF2RFcXMFpF5tzPHDGON8jhR+Zp6OkiK6MrIwyGU5BFcx4ieRvEWl2/kRzLKkgjExHlh8dWHfjPFP8ACkqWHh6Z7u7jFtFcSBJnYIgTdxznAFeqZnRT3ENtE0txNHFGvV5GCgfiaabu2W1+1NcRC3xnzS42Y9c9K57xJMx1XQ0WFLmKaSQIrsBGZNnylj3GN5AGcnH1rnIftFqba2IS8tm1eVI14SEvszjvhQ+7A55FAHon2u2+y/aftEP2fGfN3jZj69KdHcQTQCeKaN4SMiRWBXH1rzoCe0dYHCXVs2qlQgwkW8r0/wB0N9ak8q7igu7RJIHgl1VEYY2wrlcsvHbdjjv0oA9At7q3u4/Mtp4pkzjdG4YZ+oqlNdHzmBiibaSAWXNQaBczO19ZTwWqSWcwjZ7Vdsb5UN0JJBAODzXAaxfiL4gSxvqQunN7CkdnBqskE8A+XI+zAbJk53Mx52lv7or5ziKVb2UVSlbe/wDT0NqVtWzu7HV7fUrGC9tEhkt50Ekb+WRuU9Dg81Pa6pZOJJmms0hiLI0oYAKwO0qTngg5BHrXlPge5tGXRIrTVHu4Dpcn9qwPc+bDBjZsDKTtiP3hgAZAYnOCa6n4bXOiXGlalbWU1hLa297dN5MDIyRxmZih2jgKQMjtjpXhYH28cdGMpNpSXRbXa1+7Tve5rUSUf67Hd21/Z3u77JdwT7fveVIGx9cVM7pFGzyOqIoyWY4AFYHha2jeK61kRLF/aLh40CBdkK8IPxGW/wCBVoXaw65o1xDZ3UMiTKYxKhDqD+B5r9AOQs29/Z3as1tdwTqn3jFIGA+uKW2vbS8DG1uoZ9hw3lSBsfXFcfNdmy07V9LvYrYm3tVdptPQx9eACCTg9+vSq9rc3OiXOo3FxBby3kWlCeJbUBUZVzwy/wB7Pfv2xQB39Fct4ev9cnuj9tt7ySzeDzBNOkKfPxhU8tjkEHv6dasarqV1ceHNTcabfWbRxHHneXlx327XPb1xQBtQ3tpchzBdQy+WcP5cgbb9cdKbbajZXjslreW87KMssUqsR9cGuO062kl121MHkQRXOnOGhhwdqcbWcjqck1paF5+katDodxHYyMbQyLNaxGNgFIXDgk9c8HjoaAMe31fWm8SeJYpbFLq0s7hVgjt5187mONtoDKq87ixLPweBkYNaFjql5d3PlT6DqNkmCfNuJLcr9P3crHP4VNP4Sim1bUrqUPPbahj7RZTCN4JGAADkMu7OFAxnHtnmlsfB+laXc/adP0LTrSfBXzbe2jjbB6jIAOK/L8ZgK06s3GhLXtCX+ffyZ3KatucRpPivUrXwja/b7WTdJo811b3i3QeWRokBbeGQhWOcgnf05HaugudUlF+1wi3MsOnaebqaCDlppHHyLgYDEBH49WFOtvhzDDYmzmvNQuolspLGDzniBt4pAA2zai5JAXltx49znQsfDN5Da6nHLI8ct7KxEsEoDRoFEcZUkcMFVT0xuJ6iqrYCo5OUKEt39mXV+a7X+ewc601/rT/gnG2/i3VtX8RaYdNh0u5VrW4by7TWDJCzfuj+8IjBVlHQbT9/tyR1nhHxF/bmrgpFNFHLpcN15UjLhGd3UjG3ORsxndjpgDkmo/w8mfVl1Y63qw1RYmg+1j7KHMRwdhHlbcAgkHGeTz0xuaB4XtdDvVmto5I0SxjskQuGUIjMw9y3znJJ5r0svwfJi6UlRkrdeWWmrvdv8H67aGc5e41f+rr/AIJti+tGujai6gNwOsIkG8fh1qxXnNqCL7TrtljawfVHSHOBcB/mA3HHK5zx1Hqa9AF1bm7NoLiL7SE3mHeN4XpnHXHvX3hyj/Oi87yfNTzSNwTcN2PXFRm8tRdC1NzCLgjIi8wb8fTrXPNaw2/xAtXjX55bSVnYnJJyKy9Xsb7T5iot7R3udQSSC680+ccsCVC7ewzzu6dqAOzfUrGO5Fs97brcEgCJpVDEnpxnNWa5HUobnQdQl1YrYXEFzdxAxPEfOBbamEbOMjrjHrXXUAeb+KtLu38UXFpbwTPYa6kcd46DKQmPG4t6b4spn1UVz9tp0y+N7W/XT7m1vv7UmW4S20xY4Ps5SQK7TiPMhb5GPzkbm+6CBj2UxRsctGpJ7kUnkRf88k/75FfL18jxFSrUmpq0r9+v/Asvl6339qrWPDBpM66Hbxalo19c3B0KKHS9lszm1uhv3cgfuHyYjvbA+Xr8tdXpWgGbXNbvL2Jo7/zIRb33lKzRn7NGrvFvUqMncCQOcYPTFekeRF/zyT/vkUeRF/zyT/vkVhV4fxVRO1RK/r3T/TXvqV7aN72PGPEunQNreo2N7Hf6zfvoqLZSG13usxkm2tujQJEQSMOQuBnnrXrltdRWWnWMd/dwxztEikySAb2wM4z15p66VYrqMmoC2T7VJEsLPzyiliBjp1Zucd65LWVFzrmsWk0cKItkp8+fG2GHByUHrnPPQcda9bK8tq4N+/JPT/LbstDKrNTd1/WiO5qG4u7a0Cm5uIYQxwpkcLk+gzWbot2Lbw5pJ1K4SK4lhjTMzhS7lRxz1PtWLre+48Tz2skUJU2JaOS4I2Rrn5yB3bpXsmZ1c95a2qK1xcwwq5wpkcKD9M0XF5a2kayXNzDDGxwGkkCg/ia8908XE72tncrHLnTcpNdY2JHuOWA7tjFO0z7TLPpdncJHcM+mZhku8bFUMd7bf4jjZ/iO4B6MCCAQcg9DS1g+DBIvhKwWSVpQqsI5G6vGGOw/iuK3qACiiigCC6MSxAyqWXdwB61U8yy/54v+f/16zPH6t/wg+rOk08MkVtLLHJBM0TqyozKQykHqBx371y8du2o63Bo017fxWNrpsVwFivJUknd2ZSWlDByFC9N3V+c4FfE59iHTxT92LSXWCb6dX67HTTj7t/66f5nd+ZZf88X/AD/+vV0zQwWomkkWKFVBLSMAFHuTXn2qW1xpl94bjt9Uvzbm/MLwyShxIpilYb2I3tjAAy3YE5PNbvieV4xoK+T50Ul0EaNmCozeW2wOT23Y9ecVvw3iHVqy92KTV/dio9WtbCrRtY6aGaK4iWWGRJI2+66MCD+IpZJEhjaSV1RFGWZjgD8a5nwsrWJ1rz7iL7PHdbtygJHGdoLgegB/rS+KrxH07TpoQt1ay3SA7JBskBzty3TbnFfXnOdCl3bS2xuY7iJ4ACTKrgrgdeelEV3bT25uIbiKSEZzIjgrx156V55c+fYtqCyhJrVtRt/OhhwkSsR93J6Lu2Z/H6Ul8J7B9Y3bHtmubM3EFthY0JOGTJ7bdmSfXNAHotvdW93F5ttPFNHnG6Nww/MVLXLeHoJ4PEmqBjCqvFGzwwD93E/PA9Tjqa6mgAooooAKKKKACiiqWrtKmj3jQ7vMETFdvXOO1AE0N5a3EjxwXMMrxnDqjhiv1A6VPXA6MkjaroF1AIoI5IHBijwWdNoy0hHfP5V1t9eLNpeojT7iOW5hiddsbhij7TgH0PsaALUN5a3EskUNzDJJHw6JICV+oHSiK8tZp3hiuYZJY/vojgsv1HauAs1laXQLyxWKDzLWUJFHhpJI/LyXkPc7gnHYnqadoyyTTeGruIRwbwylEIMko2ne0hH+127GgD0FZonleJZUaRPvIGBK/UdqfXMaPaw2njPVo4V2qYImPOSSc8munoAKKKKACqh0uwMMkJsrcxyP5joYhhn/ALxHc+9W6xJfFVhFqJsWjuvND7MiElc/WgDb6DAorEuPFVhbagbJ47oyhwmVhJXJ96LvxVYWd+1nJHdGUMFJWElefegDborEvvFNhYXzWk0d0ZFxkpCSOfei98U2FhefZZo7oyYBykJI596ANuisS/8AFNhp1wIZo7osVDfJCWGDRf8Aimw064WGaO6LMgcbISwwaANuisW/8UWGnTRxzR3JZ0DjZCWGDSX3iiw09olmjuiZEDrshLcH1oA26KxL3xRYWAh86O6PnIHXZCTx7+9F54osLGO3eWO6IuI/MTZCTge/oaANuvP7XwfqEWoo9xfCSwi1CbUIreO0ZH8xy5Ad95DKN54CjJA+h6a78UWFnb280sd0VuF3JthJIHv6UXPiiwtbW3uJI7opOCUCwkkfUdq8vMst+vKKc+W1+ie/rt8jSE+VWMvw7oeq6d4h1C+vLy3mhvpBIY47JoijBFQfMZGyNqjPHU546V11Ytx4osLayt7t47ox3GdgWEkjHqO1Nm8VafBZW928d0Y592wCEkjHXI7Vrl2BWCpOmpc13fZLol09BTnzO5p3un2epQeRfWkFzDnPlzRh1z9DSyWFnNZfYpbWB7UqF8howUwO23pisybxRYQWFvePHdGOckKBCSwx6jtSy+KLCHT4b1o7nypiQoEJLceorvING50+zvbT7JdWkE9tx+5kjDJx04PFNfS7CTTxYPZW7WYUKLcxAxgDoNvSs9/FFhHpsV+Y7ryZHKKBCd2R6ilbxRYLpi6gY7nyWfYB5J3Z+lAF86ZYNYfYDZW5s8Y+zmIeXj029KBplgun/YFsrcWe3b9nEQ8vHpt6Vn/8JRYf2Z9v8u68nf5ePJO7P09KUeKLBtMa/Edz5KvsI8k7s/SgDTtLO1sLdbezt4reBfuxxIFUfgKa1jE7sxZ8k5PIrNTxTYPpsl+I7ryY5BGQYTuyfb0oj8UWEmnS3wjuvKjYKwMJ3ZPoK5sTg6GKSjXipJdyoycdjQ/s+L+8/wCY/wAKX+z7cpJHInmxyKUdJACrA9QRWfF4osJtPmvVjuvKiYKwMJDc+gog8UWFxYXF4kd0IoCA4aEhjn0HeuellGBozVSnTSa2Y3Uk1Zs2FRVQIqgIBgKBwBVePTbCKyayjsrdLV87oVjAQ565HTms+28UWF1Z3N1HHciO3ALhoSCc+g70Wviiwu7a4njjugluu5w0JBI9vWvRIL9rplhY2rWtpZW8Fu2cxRRBVOevA4pLHSNN0xZFsLC1tVkOXEESoG+uBzVC08UWF7DcSxR3QWBN774SCR7etLZeKLC/S4aKO5AgjMj74SMj29TQBcstF0vTZZJbHTrS1kk4d4YVQt9SBzV0gEEEZB6isS08VafeiYxR3Q8mMyNvhI4Hp6mlsvFFhf8AneTHdDyUMjb4SOPb3oAv2ukabYrMtpYWtus3MoiiVd/1wOaWx0rT9LR00+xtrVXO5hBEqBj6nArPsfFFhqDSrDHdAxIXbfCV4HpRYeKLDUZ3ihjuQyRmQ74SowP60AbdFYlh4psNRuDDBHdBgpb54SowKLHxTYahd/ZoY7oPgnLwkDj3oA26KxLLxTYX96LSGO6Ehzy8JA496S08VWF7frZxR3QkYkAtCQvHv+FAG5RWJa+KbC8vxZxx3QlLFctCQvHvRb+KbC51AWSR3QlLFctCQuR70AXk0bTI9QbUE061W9b71wsKiQ/8CxmphZWovTei2iF0U8szbBvK5zt3dcZ7VlxeKbCXUlsVjuvOL7ATCdufrSDxVp51L7B5d153meXnyTtznHX0oAsv4d0SS++3PpFg13u3ee1uhfPruxnNWI9L0+K+e+jsrdLuQYedYgHb6t1NZ7eKrBdRNiY7rzQ+zPknbn60S+KbCHUfsLR3XmhwmRCSufrQBeGkaaNROojT7UXp4Nx5S+Yf+BYzV2sO58VWFrqBspI7oyhwmVhJXJ96W88U2FlftZSx3RlUgEpCSvPvQBt0Vh3XirT7S+NnJHdGQEDKwkrz70t54psLK+NpLHdGQEDKQkjn3oA26KxL/wAU2GnXZtpo7oyAA5SEsOfei/8AFFhp12LaaO6LlQ2UhLDn3oA26qXmlafqEkUl7Y21y8J3RtNErlD6jI4rPv8AxTYadMsU0d0WZA42Qlhg0X/iiw06SNJo7omRA42QluDQBqXFla3flfabaKbynEkfmIG2MOjDPQ+9R3ul2GpCMX1lb3QjO5POiD7T6jPSqF94osNPMImjuT5sYkXZCW4Pr70l54osLFLd5Y7oidPMTZCTx7+hoA0LzStP1BI0vbG2uFjOUE0SsFPtkcUXulafqMKQ31jbXMcZyiTRK4U+wI4rPu/FNhZRwPLHdETpvXZCTx7+lF34osLKG3lljuitwm9NsJJA9/SgDaVQqhVACgYAHalrFufFFhaWttcSR3RS5UsgWEkgD1Hai48UWFtZ2908d0Y587AsJJGPUdqANqisWbxRYQWEF48d0Y5iQoEJLceo7US+KLCHTob5o7nypmKqBCS2R6jtQBY1zR4Ne0qXTroObebiRUmeIsvcbkIOD3GeRwaybjwXY3MFrFIsoa0UpDMl5Mkyqeo81WDkHjILc4Gegq6/iiwTTY78x3XkyOUAEJ3ZHtSN4q09NPS9Md15TuUAEJ3Z+leXi8ow+Kq+1qOV/JteRpGo4qyM6fwHp1xHaJJ9pAtGLw7NQuEIc5y5KuCzHc3zHJ5PPNdLLZW91Y/ZLuCKeFlCvHIoZWx6g9azG8UWC6Yl+Y7ryXcoB5J3ZHtSnxRYDSxqHl3PkmTy8eSd2fp6Vpgsso4OTlTbd+7v5ilNy3NKOws4bL7FHawpa7dvkrGAmPTb0xSfYLP7D9h+yQfZAuzyPLGzb6bemKzR4osDpjX4juvJWTyyPJO7P09KVPFFg+mvfiO68lHCEGE7s/SvQIL8WmWENgbGKyt0syCpgWIBCD1G3pRBpdha2Jsbeyt4rQggwJEAhz1+Ucc1nx+KLCXTpr5Y7ryomCsDCd2T6Clh8UWE+nz3qR3IigIDAwkNz6DvQBo2VhZ6bB5FjawW0Oc+XDGEXP0FWaxIPFNhc2VxdJHdCODG8NCQTn0Hei38U2FzaXFykd0EgALhoSCc+g70AbdFYlt4osLu1ubiOO6CWyhnDQkEg+g70tp4osL2G4lijugtum998JBI9vWgDaorFs/FFhfJO8Ud0BCm9t8JHHt60ll4osL8TeTHdDyYzI2+EjgenqaANuisWw8UWGoySpDHcgxRmRt8JXgenvSWHiiw1GZooY7oMqFzvhKjAoA0LXS9PsZpZrSxtreWY5keKJVLn3IHNSQWVravM9vbRRPM2+VkQKXb1OOprKsvFWn307RRR3QZVLHfCQMClsPFFhqNy0EMd0HVC53wlRgUAX7XStOsbia4tLG2gmnOZZIolVn+pA5pbfStOtLmW5trG2hnm/1sscSqz/Ugc1n2Himw1G7+zQx3QfBOXhKjj3osvFVhf3gtYY7oSHPLwkDj3oAsQeHdFtb37Zb6RYxXWSfOS3VXyfcDNadYln4osL6/FnFHdCUkjLwkLx71t0AFFFFABVRtL055/PawtWmJ3eYYV3Z9c4q3WJN4ntYbl0NrdtbRyiGS8VF8pH9D827uOQpHvQBoPpWnST+dJYWry5zvaFS2fXOKJNL06aYzS2Fq8pOS7QqW/PFW6KAKkul6fcTGaawtZJT1d4VJ/MiiXS9PuJfNmsLWST++8Kk/mRTprwQ3ttbfZ7hzPu/eImUTAz8x7Z7U231CG5v7qzQOJLbbvJHB3DIx+VABNpen3L757C1lfGNzwqxx+Iom0vT7hw89hayuAAGeFWOB25FW6KAKk2l6fcMrT2NrKyjaC8KsQPTkUTaXp9wVM1jaylRtXfCpwPQZFW6KAKkul6fPt86wtZNg2rvhU7R6DIol0vT51RZrG1kEa7UDwqdo9BxwKt0UAVJNL0+ZESWxtnWMYRWhUhR7ccUSaXp8saRyWNq6RjCK0KkL9BjirdFAFR9L0+SJIpLG2aOP7iNCpC/QY4obStOeJInsLVo487EMKkLnrgY4q3RQBUfS9PkhSF7C1aJPuIYVKr9BjihtL094VhaxtmiQ5VDCpVfoMVbooAqHS9PaBYGsLUwqdyxmFdoPqBjFB0vTzbi3NjbGEHcI/JXaD64xirdFAFT+y9P+z/Z/sFr5Od3l+Su3PrjGKBpeni3NuLG28kncY/JXbn1xjFW6KAKg0vThA0AsLUQs24xiFdpPrjGM0DS9PWBoFsbUQsctGIV2k+4xVuigCoul6ekLQrY2qxOcsghUK31GKE0vT44XhSxtVik++iwqFb6jHNW6KAKiaXp8UUkUdjapHJw6LCoDfUY5oj0vT4Y3SKxtkSQYdVhUBh78c1booAqR6Xp8KusVhaxrIMOFhUBh6HjmiLS9PgDiGxtoxIu1wkKjcPQ4HIq3RQBUi0rTod/lWFrHvXa2yFRuHoeOlEWl6fBu8mwtY942tshUbh6HAq3RQBUh0vT7csYbG1iLDa2yFRkehwKIdL0+2cvBY2sTMCpKQqpIPUcDpVuigCpDpen2z74LC1iYjG5IVU4/AUQ6Xp9vJ5kNhaxydNyQqD+YFW6KAKkWl6fby+bDYWscg/jSFQfzAoj0rToZhNFYWscoOQ6wqGH44q3RQBUj0vT4ZvOisLVJQc71hUN+eKE0vT45/PSwtVmBz5iwqGz9cVbooAqLpenpOJ1sLVZgdwkEK7s+ucZo/srThP54sLXzt27zPJXdn1zjOat0UAVDpenGfzzYWpmzu8zyV3Z9c4obS9Pefz2sLVps7vMMKls+ucVmReKraSY+ZY3sNr5xgF3IqeUXBxjhiw57kAVvUAVH0rTpZvOksLV5Scl2hUtn1ziiXS9PnmM0thaySk5LvCpY/jirdVLTUIby5vLeMOHtJBFJuHBJUNx+BFABJpWnSzedJYWry5zvaFS354ol0vT55vNlsLWST++8Kk/ninS3giv4LX7PcMZVY+aqZjTHZj2J7VZoAqTaXp1xL5s9hayyH+J4VY/mRRNpen3EnmT2NrLJjG54VY/mRVuqUOpwT/bdqyD7G5STcOp2huPwNADptL0+4YNPYWsrAYBeFWIHpyKJtL0+4ZWnsLWUqNoLwq2B6cipLS6jvbOK5iDCOVQyhhzg0SXlvFdw2ryYnmDGNcH5guM8/iKAI5tL0+4Kmaxtpdi7V3wqcD0GR0ol0vT5wgmsLWQINqB4VO0eg44q3RQBUk0vT5lRZbC1kCDCBoVO0eg44ok0vT5kRJbG1kWMYQNCpCj0HHFW6KAKkml6fLHHHJY2zpGMIrQqQo9hjih9L0+SJIpLG1eOP7iNCpC/QY4q3RQBUfS9PkhSF7G1aJPuIYVKr9BjihtL094EgaxtWhQ5WMwqVU+wxxVuigCodL09oFgNjamFTuEZhXaD64xig6VpxgEJsLUxA5EZhXaD64xVuigCodL08wCA2FqYQdwj8ldoPrjGKP7L0/7P9n+w23k7t3l+Su3PrjGM1booAqf2Xp4tzbiwtfJJ3GPyV259cYxmgaXp4gMAsbUQscmMQrtJ9cYxVuigCoul6esDQLYWohc5aMQrtY+pGKF0vT0heFLG2WJ+XQQqFb6jHNW6KAKiaXp8cTxJYWqxyffRYVAb6jHNCaXp8cbxx2Fqkcn31WFQG+oxzVuigCpHpenxRyRx2NqiSDDqsKgMPcY5oj0vT4UdIrG1jWQbXCwqAw9DxzVuigCpFpenwBxDY20YcYcJCo3D0PHNEWl6fBv8mwtY942tshUbh6HA6VbooAqQ6Xp9uWMFjbRFl2sUhVcj0OB0oh0vT7di0FhaxMRglIVUkenAq3SE4BOCcdhQBVi0rToHLw2FrGxGCUhUEj8BRDpen27l4LC1icjBZIVU49OBVez1kXOoNYz2F3ZzhN6C48siRc4yCjN+uK0icAn0oAqw6Xp9tJ5kFhaxSYxuSFVP5gURaVp0Evmw2FrHIP40hUH8wKqWmvxXF6bSazu7OQxtNF9pVQJUBAJXaxIxkcNg89Kis/E1vd3dvD9ju4o7oE21xIqbJsDPG1iw45+YCgDQi0vT4JvOisLWOUc70hUN+eKt1lW+uxzaitlLZXls0gYwyTooWXHXGGJH/AgK1aACiiigA7VxTx3Y0288Pf2ddGeW4cxzCI+SUZ924v0BGTx14rtari/szc/ZhdwGfOPK8wbvy60AecT+FpZLq4mfTJXkJmIcoTkhlKH+ZH6VpXnh95l1u+bT5JNQW5hezlKkumBHkx+nQ5x1xzXe0UAchrJtYfGOmXkekXT3ELMJ7qGwdiUKEAbwvIyRxnis/WNLhuNe1Yz6Nc3VzcJF9im+zsyRsAfmD/dQj1yDXerIjMyq6llOGAPI+tMnuYbZFaaRUDMFGT1J6CgDi9VivrZdZtzY3d1NfWKpE0ERZWYJg5boPxPNR69YZvbK4XTzfXcdtGiW11pjXEIIP8MnSJj3Y56AkcV2813bW8iJNcRRO5wiu4Bb6Z61NQBk6pFby3OmNc6dPcyJOGjaLOIGwfmbBHHbvWtRTHljj2+Y6puOF3HGT6UAPopvmJ5nl7134ztzzj1xTqACiiopbiGBo1lkVDI21M9z6UAS0UUUAFFFFABRRRQAUUUUAFFFFABRRRQAUUUUAFFFFABRRRQAUUUUAFMmBMEgAySpAH4U+igDh9E0E6dJoN1Fp7xXRWRbyUqd5GOA5POM9AenaqFhaX83iqzvxpK2svnyrdtHpzxvtKtgPOW/egkL0GM46cV6PRQBw+k6AbJtGvEsHjvftMouZip8zyyWwGJ529MDpXcUUUAFFFFAHBrFd3mlXGhJY3kc0t67tNJAyRqm/duDkYPHYUt1Ddxi901NPvJJJNRjnWRYT5fl71Od/Tt0612f2+zNz9mF3B5/TyvMG78utWKAOSi8L22o61rNxf28odriNrWcnmPCJ80echTkYLAZOMVlalpKT6vrStpFxNqM88b2NybdikeEUblk+6hyDnBBOPpXoVFAHG3/ANnt/Gmn3aaRdNOitHc3cOnud2VwMuF5GffioNT0D7VLrt82nvLeLNG9lIVJZSAuTH6Hrkj8a7migChNDqbzwNbXttDAAPNjltmdm9cMHGPyNcdrFjqf9s6rcW1hdMluy3MRjX/XsyBCq+pAB/MV6BVeS/s4ZxBLdwRzHpG0gDH8KAPPvEFje3Fpb2f9kLLJFZL5EsmnPct5mOQrhgIiD3PNaOraJYvd6LqepaCl/thaO6P2ITyFiq7dwwScYP0zXcUUAcV4qsYLh7GWKxNwYoSIrSfSWuoADjHAwI24xnsO1O1i0jl1CCXWNEkvbY2gWGCO3M6wTd+ADg9g3HTrXZ0UAcND4ckvbq2j1iyN1HHpxXEwLoH3HAPYsBj6VoC2VvB2lw6rpl3eujwZhjB3o4YYY8g4U4J9hXSzzxW0LzTOqRoMszHgVHNf2dsiNcXUMKuMqZJAu76ZoAsUVXnv7O2VGnu4IlcZQySBd30z1pz3UEYiLyoBKQsZzwxPTFAE1FFFABRRRQAUUUUAFFFFABRRRQAUUUUAFFFFABRRRQAUjNtQsQTgZwBk0tFAHLaXEJfEZvLG31GKAowuWv1l5P8ACE83kD2XArbtNRa5kvFaxuoBbSFA0qYEoA+8nqKsRXdtPI8cNxFI6cOqOCV+oHSpqAOP0a9n1XW59QvLK/guRG8NnBNZyJHFHnJLORgsxA78AAetZ/h2wubbVrGSOzvY51Ep1ATW+2BScn91kADn+51HJyea7eDULK5lMdvd28sijJWOQMR+ANPiu7aeR44biKR4+HVHBK/UDpQBy+mX0uqeJjc31lqMAh3RWkUllIqKO7s5GMnHHPSuuqtFqFlPMYYru3klHVEkBYfhmrNABRRRQAVwNrpd1ql9q0UVnbRoNTL/AG4v+9XAU4C7f6131RxW8MBkMMSR+Y299q43N6n3oA5oXGvXurajHZ3kEcNnMipE0Y/eAgEhm7d8YqC+1jU0TVtRivY4o9Nl8sWXlqfOxjgseQWzxj2rrI4IYpJJI4kR5Dl2VcFj7+tVpdH0ye/S/lsLZ7xMbZ2iBcY6YPWgDkrifULS/wDEeoWt8ltHbyROYmiDeYfLHyknp6cc1tSN9s8V2STphIrUzxqf75IB/ECtGTRNKm1AX8unWr3gxidolL8dOetF/pgvLm1uo5mhuLZso4GQVPVSO4NAHPXMNjcz+JW1EI0kSfKZOsabMgr6c9x3rJi1vxB5tvapfJCA6W5DQhiCbbzC2T3BH613VzpOnXtzFc3VjbzTxf6uSSMMy/QnpT206yeYzNaQGQvvLlBndt25z67ePpQByK6xrV9E0kN7HbiLTIbtgIQxd2DZHPQcVb1eSe7ttA1AyJskniZoGiVhuYZyCeQRXRpp9nGrKlrCoaMREBAMoOi/QZPFVbvw7ot+YzeaVZ3HlKFj82FW2gdhkcCgDF1OO8k8Yzm0v1stmmqzSmMP0dvXjHrUmneILq5msWuGSKKbSmu3BAADgqM59MGti40HSLxoWudMtJmhULEZIVOwDsOOKlu9K06/aE3ljbzmE5iMkYbZ9M9OlAHNyarrd14d0u/tWkZJYy9zLaxxu49CFfC4rR1R4dQ8GzXPmmUC3M0crKFO5RkH2ORTryx0m5CQXOkWk0duSIleNSE+gxxRfql9axWm3yrVWBeNP41HRfYV4suIsthJxlU1XlL/ACNPYz7E9xPcN4cjmS9hsZ2jjPnzgFVzjOc8c9PxrVH3RznjrWOb2w1TT1XyLe7spVDL8weNx1BHGCOlWhqOBgQ/+Pf/AFql8R5YnZ1f/JZf5D9jPsX6Kof2j/0y/wDHv/rUf2j/ANMv/Hv/AK1H+smV/wDP3/yWX+Qexn2L9FUP7R/6Zf8Aj3/1qP7R/wCmX/j3/wBaj/WTK/8An7/5LL/IPYz7F+is1tZhSeOBtizSKzJGZBuYDGSB3AyM/UU/+0f+mX/j3/1qP9Y8s/5+/wDksv8AIPYz7F+iqH9o/wDTL/x7/wCtR/aP/TL/AMe/+tR/rJlf/P3/AMll/kHsZ9i/RVD+0f8Apl/49/8AWo/tH/pl/wCPf/Wo/wBZMr/5+/8Aksv8g9jPsX6Kof2j/wBMv/Hv/rUxtZhSeOBtizSKzJGZBuYDGSB3AyM/UULiPLHtV/8AJZf5B7GfY0qKof2j/wBMv/Hv/rVdRt8atjG4A4rsweaYTGyccPPma30a/NImUJR3HUUUV6BAUUUUAFMlYpC7DqFJFPpCAQQRkHqKAOQ0fVtXebR57y8jli1BZA0KwhRGVGQQev1zUFv4mvZPEViqS3ElhfSSpH5kMaRkKpIZCDvP3e47/SuvSxtIxCEtolEGfKAQDZnrj0qvBoWk2ty1zb6ZaRTs+8yJCoYtzznHXk/maAOf0zVdXeTS7q6vI5Ib2eSFoFhChQC2Gz1zx9K7Cq62NoixKltEqwsWjAQfIT1I9DyasUAFFFFAHOa1Bbf2zossUUPnNdnLqo3HCnPPWs3V/Et3basrWktw9ql0ltIPJj8nJIBG4nfnnsK6pNMsI79r5LOBbtxhpxGN5H161E+h6TJeNePpto1yxBMxhUscdOcUAY32nX77VtUSzu4I4rKZFiiaMfvcqrEM3YcnpzVXWNb1GP8AtG6h1FLSOyuktlgMaHzSQpyS3PO7jHpXXx28MUkkkcSI8p3SMq4LHGMn14ArK1jw5Y6qkknkQRXjgL9q8kM4AOcZ6/rQBm3/AIgu7Wz1iQzRo9tcxxQ7gOjY49+pqrea7rsusXUWnWt1Ito6KIo4oikmQCSzMwYdewrpptE0u4ujdT6dayXBAUyvEpYge9F1omlX1wlxd6dazzR42SSRBmXHTBNABcajNb3MEI0y8mEgG6WIIUjz65YHj2BrjNdtJ59c8QSoLHyY7aAyNPGTIB833G6Kfwr0LpWfPoek3V8t9cabaS3a4xM8SlxjpzjPFAHMahrusNffZdKtrwiC2jlVI4on8wsM4cuwIHbIq/cXeuXutJYW1xHY/wCgrcSZiDsJCSMc8Y45ravtG0zU2Rr7T7a5aP7hmiDFfpmrK2tuk3nJDGsoQR7woztHQZ9KAOV17WdRtIIYI5Zkv4rX7RcraQxyKvbLGQgBcg9OeK6LR719R0WyvZFCvPAkjAdASM0Xmj6bqE8U95YW1xLF/q3liDFfoT0q1FFHBEkUKLHGg2qijAA9AKAMXXf32paRZyj/AEeWcs+ejFRlQf8AParHiGG0l0O++0RwuY7WRl8xQdvynkZ6VPqmmpqdqsZkaKWNxJFKvVHHQ/8A1qddaXZagsP2+0t7pojuQyxhtreoz0oA5C6tLm4vfDkUCWnmDS5NwvIi6jiPtkc1oWsUFz8PirD5YoXIbPRlJ5U+mRxW7f6NpmqGM3+n210Ys7DNEG2564z06Ul/pi3tmlmr+TbBhvRFxuUfw+woAqm4uZPC0Nwt7DZXDQxsZ5wCqk4znPHP9a10zsXLBjjqO9RTWdtc2ptZ4I5bcgAxuoKkDpxUwAUAAYA6CgBaKKKACiiigAooooAKKKKACiiigAooooAKKKKACqWrvLHpF48O7zBExXb1zirtHWgDgdGRzq2gXUCxQRywODFHgu67RlpCO+a7iO5t7nzo4Z4pGjJSQI4JQ+hx0NQ2mlafYTSzWllbwSynMjxxhS31I61JBY2ls8zwW0UTTtvlKIAXb1PqaAOa0WKbQdUstFuIrCXzrdyk1vEUkATHL5JyDnrxzUmnRW994k+06ZbpFZWaPC86DAnc9QPUL3PrW5Z6RpuneZ9isLa3837/AJUQXd9cdagtPDeh2FwLiz0iyt5hnEkUCqwz15AoAxtOhn8P6taWE0VhMt00nlywxFZl53ZY5ORzjtXW1StNI06wmkms7G3gklOXeOMKW+pFXaACiiigArkotRuF8Sy2+raheWRM+LSFY0EE6YGPnKklic8ZFdbWLd6LdahcAXeps9mJBILdYFXocgbutAFK28ROus6hp5D3dytyFigj2gpHgZYk4wB71Ne+LrWyvpYWgkaGB1juJw6ARscfwk7m6jOAadJ4Wh/tCbULe5e3vZJhL5yKM4xgofUfWmT+E4ZNWkv4pIFMzrJKstokpZhjox5XOKALo1+z2XW8lJLeSRPLYjc+xQxI/Aipv7SdnsAllcOl2u4yKAVhGM/N/Ksy+8JW97c3k5uZI3uWUjCj93wA2P8AeAANastlK1zZyRXksMVvkNCoG2UYwAfpQBdooooAKKKKACiiigDy3Wlm0vWNf0q1bym11kksyP4ZX/dTEf7qhZD9TVLUdT1HStSZNGndNK0u6s7Ga3nkiVPn8tdsaeSXb5XU5Mi85wCBg+mz6PBcXaXUixtNEWMTtGC0e7g7T2yODiqlx4S0m7vlvbmwsprtQAs8lqjSAA5HzHng818DPKcdKq5SoXTv1jrt59l8m2zq9pG2/wDXU8t0vV9Rh8LRpban9gTSvD8N/GnlowuGPmZD7lJ2DywPkIPzHnpXWaNc6lqfiDUpJ7+WG1tJIlSySJADvt0dg7FSxwzZGCpznJIwB0svhHSJxaiWwsZBZ/8AHsHtUPkdPuf3eg6egq4mjQxSSyR7EklYNIyxgFyAACT3OAB9BWVfJ8fUUnHD2bv1h1a8/J69L2RXtYX3OA8UajqsGoav9k1drGDT9IW+VRDGweTdLwxZSdpCAEDB6YI5zR1HxDrS6k15ZXEiWdrc2dvd29xJEqb5fL3KieSXbiQHJkXnOAQMHtrjwPp974l/tm9S2unS3jhhSa1VzCyO7b1YngncOgH3etXLjwlpN3fLe3NhZTXagBZ5LVGkAByPmPPB5qoZJi4KKdC+n9zy89dnr0uKVWLbs/6sjz+bUdamjZ49ZvBdXOr3FhZ28C28UQCPIQZHeGQ8Kjcgc4UYzk10PhPUb6/8PtJqDJNdwXE9u7RsGD+XIyg5CqCcAchVz6DpXQ3HhfTbq0ktLm0tJraRzI8MlurIzk5LFTwTnnPrU1roVrYwCCzSG3hBJEcMIRQTyeBxWVbJMdUpcscOk794ba9n/Xfs/aw5r3PI7u9vLqys9audRNzNeeHtQultpIojFb5WI7FXblgM7TvLZ2/Wtu5v9YTVFaS9vbfTWkt4IpdPjtZIkL7QVlVwZA5ZsAqNoDKSODXbR+DtFilnlj02wSS4DiZ1tEBkD/eDHvnvnrTv+ER0j+0l1L7BY/b1xtuvsqeaMDaMP16cdelbyynGuy+r6K/8nV372Vtr6+gnUjbc5TwC8dp4N0SGfUjNLc24aCOZowwAUZRAoBIHXnJ55NYUHiTXdP0Gz1Se/a/lu9Fub0wyQoqRyRCMqRsUNghjuBJz229K9Kt/Cul2koltrKzhkEjSh47ZVO9hhmyO5AAJ71LH4es4RCIoYE8hDHDthA8tTjKr6A4HA9BWf9jY72kpuhfmd9XDz0303X3DVWHc86vtY1jTVvLK31o3r+TYzxXcsEZMZmuPLYEIqqUKjI79eehEutXGt6fPqkMGv3RXTdHF+rPBAWmk3TcNiMDbhAMKAeByDnPc23hLSbK2e2tbCygt3cSPFFaoqs4IIYgcEggHPsKsy6DaztK0scMjTReTKXhB3x8/I3qvzHg8cn1o/sfHJ6Ydf+SeXn5PTzBVIW1f5nmt/q+s2uqx6Omq3U13fR28tsyLBCEd/OLoWMTgRhY8jKs+QBk5NS6BqF7qOuaG+oyRyXUKanbvJGwYN5c0SA5CqCcDqFXPoOld/d+FtMv0ZLyzs7lXVUZZrZXBVSSoOewJJA7ZNOt/DWn2flfZra2g8oMI/Kt1XZuILYx0yQM+uBTlk+NdOyw9pd7w/la7+e1he0jpqed+MIYrjUPEMt1GryWGiLcae7ICYJd0pLxk/dbKx8g54FerWRc2FuZBhzEpYe+Bms278NaffzW815bW1zLbNvgea3VzE3BypP3TwOR6CtdF2Rquc7QBmvcyDBYrDNqvDl07p9trN9r+rM60oyd0Oooor6YwCqupXf2DTLq727vIiaTHrgZq1Uc8MdzbyQSrujkUowPcEYNAHIaTq18ut2ET3019BeRsJmZFEcUoXdiMgAkcEc57c12RztOOuKxNK8Of2dNbtJeyXEVpGYrWNkCiJenbqccZq/a2U9vd3c0l9NOk7Bo4nAxCMdFoA5/w/fT/AG1IdSv9UF9Ir4t7qBY4mwf4CEBOBjuaoaRreoXOtWsb38zSyPMs8Mip9nbZn/UsBknIHc4Gc10sWiyvqMd5f3z3TQhhCgjCKm7g9OpxVWy8LC0msg1/JLaWDs9rbmMDYSCBlurYDEUAZGm6/P8A2lYLLqcs9zczNFdWLRqFtzzjGFBGMDqTmu4rKi0iVtRW8vr17oxEmCPywix5+nU44zWrQAUUUUAcDHrN5JqdwltrE899HfGIafsQp5XGc4UMMDJzurel8UpHfT26addyR20yxTzKBtQtjB65PXtWnp2nJpy3CpIz+dM0xyOhPb9KLLTksri8mWRmN1L5jAj7pxjFAGbceKEgmmZbG4ksbeTy57xSuyNuh+UncQM8kD+VUh4lurPVNZWe0uLmztbhFMqbQsCGNT3wW5JPGTVyfwx50txGL+RNPupfNntAg+cnkjd1AJHI+tJceGDPd3rf2hItneurz2wjHzEKFwG6gYUUATy3El94iis4pmS3tohPKEOC5P3R9O9QeIReWklte2+p3UatcxRNbgRmMqWweq7v1qxPZz2uvwX9tHvhlj8i4UHkAcq34VLe6RJf3sTzXr/ZI3WX7MEHLDod3XHtQBy+taxqEGs6qIr6/j+y+V5KJArW4yoJ8xiuQPX5hxXRaxPPYXFjqEcx8rzFhnjz8rK5ABHoQcVFeeGnu72+kGoyR2t8FW4gWMZYBdvDdRkVY1Oymvbiys0j22cTiWV/937qj6mgC7dXj209tGtpPMJn2s8YyI+Ore1Wqq3VrNcT20kd3LAsT7nRAMSjHQ+1WqACiiigAooooAKKKKACiiigAooooAKKKKACiiigAooooAKKKKACiiigAooooAKrahcmz0+4uQu4xRlgPXAqzUc8KXMEkEq7o5FKsPUGgDj9J1i+/tnT4zeTXtveI3nMyKI4pMbsIQASOxzn612bqWRlDFSRjcvUe9YmmeHBp88DyXj3EdqhS1jZAoiB+nU471fsrOe1munlvprlZpd6JIBiIf3RjtQBiW631v4naBNXvru1tbYy3KziIrub7ijagOcAnr6etQaJrjX08dxPfXnnXMbPBbGAJbtxkBWK5ZgOvzevFdBp+lx2KXWZGlkupmmldhgsTwB9AAB+FU7Pw8ba4tzJfSTW9qSbaEoB5eeOT1bANAGFpevT/wBqWKSapLcz3UjR3No0aqtueSMYUEdO5Oa7isqHSJf7RW9vr1rp4s+QnlhFjz14HU+9atABRRRQAVhjxEJLo2kFqZLr7Q0Ij8zHyqAS5OOBzW5XJ2mi6hpesXeqW0Jka5uiJoWlB3xEDDLk4Ug544zQB0pvLZVdmuYQqNsclxhW9D6Go5tU063mSGe/tYpXcRqjzKrMx6KATyeRx71y+oaZq7f2hZW+nGSO5vI7hbgzIqBQykjGd27j0x71oweHYp9W1ya/s0aK+8tFfdhmQIARkHI5z6UAWJvFmhW2sHS59UtIrlU3MHnRQDkDacnO7npV641XTrS4it7nULWGeb/VxyTKrP8AQE5P4VmX1veW3iW31G3097yA2xgcROish3AgnewyOvQ5qjf6bqH2rVoY9L+1JqQUJceYgEXGMOCc8dRtBoA6K71XTtPlijvb+1tpJTiNZplQv9ATzVa+1qG01Ww05DBJPdOQ0ZuUR0Tax3hCcsMjHHrntWNqOmalBeW8mlxX32xYUie4V4DBJj/nornfjrygBqxr41KTUdJa20e4ultLkTySxSQqCNjqQAzg5yw7YoA2r3VdO00xi+v7W1MhwgnmVNx9snmppbq3g8vzp4o/NbbHvcDefQeprndetNQk1CK70u21CO8MQQyxPbmLGc7ZFkJOAe6DPvWpfxzuthnTLe9dZVMjMwAh45ddw5x7c0AadYXizVjoukR3pg82FbmJJzv2+WjNtL9DnbnJHHGea3azddsI9U0iewmjLw3CNHIo67SpB/nXnZsk8FUUldW2Lp/EjnbjXUttWuLQ200kNrbJPPLDG8rKXYqiCNFLMTtYnHQAetUx4stZtXtYYZFSzMFzJdNcxPDJCYhERuVwpUbZM8jpgjioG8J6zN4WvLW4ljfVbyVJLll3rHMqFR5RbG4KyJtOB/E3B748fw21Ca41Hda6dplrewXMQt7FWZYTJFCgIGxQ3MTE8DORX55Sy+lZ86atdbPtv33bt6HYpao6dPF2iNZXF4928MNv5fm/aLeSJlEh2o211B2k8BsY4PPBq8NWtP7Il1RzNFaRRvK7TW8kbKq53Eoyhux7c9q5248K6/qrT3d/FZwXbJaQpHbu7ptinErMWKA5PIC4IGOpzxteLoZR4L10mNwP7OuP4T/zzaueeASlGMYy1evWy08u7evkVB3dmR2/inSbuK5e3luJfs6o7olnMZCjHCuibNzqcHDKCODzSN4s0ZLRbmS5ljVrj7KEktpVl83buCGMrvDFRkDHORjORnEm8La/rFnc3VxHbW089pb20dvDM7pLEj+Y6ySbFYBwShAU4GeucU/S/BOo2l4k62GnWEQ1VL37LZbvLRBbGIgfIuWLHPQdTWzy2mk21K66fJaXt3vra2hCqNr+u3+Zt2viXTbu8itVF7DNMSIxdafPbhyASQGkRQTgE4znAPpVnUtYstJEP2p5S8zFY44IJJpHwMnCICxAHU4wOPWuZh8E6oviS31CWy0+R4dSku21Fi5upYmVwsWNnyhQygAORhBwK3NW0jVm1uw1bTIIZZYIZreSG5keNSkhQ7gVVuQYxxjkHqMVlUy+KqRUFJpr8dbK9uum69bD5tzP0fxhDcaPb3mpPBCzafDdyiMOTmRmUBU2nOSuAAxYk4x0y8eNbB9bsdOhtr9vtIkDO1jcIYmXy8BlMeQCJASxwAME9RWdbeB9Vt9LS3ltrK8ZdLtbNopJJY1Z45HZiHVdycMCrAEgjp3qzp/hjxDZ6jYX7BJfJkmRrae9mm8mGQRZ2TOm5yDGWwwH38ZAArongKLlJqL626LbTpff5efQTk/69Db1PXdP0iWCG8klE1wrtFFDbyTO4XG7CopJxuB+mT0Bqvc+LNEtY7eSS8JjnhFwrxwvIqxHpI5VSI0/2mwOD6GiDR9an1XSdR1FLYTWsFzFOtuH2kyMmzbuHonOT16Vz8PgjxBZaUbO1FlIbvSY9Nu2lLjySm8eYmEPmDEjfK23oOeTWNLL4NJTUr9e278uiSfW5XMdFceKNItbq7tpLiQy2aF7ny7eR1hUR+ZlmVSACvIyeeQMkYqsfG2gKrsbqcBFEjf6HNxGc/vfuf6rj/Wfc96Y3hO+XTPEtnFt/wCJlD5VsW3fLi2WIb+OOVzxnj8qXUPC2o3f9reWIx9s0VdPj3buJB5vJ4+7+8Hv14ojgaWl4y6fpf7Pm/uBSulr/WhoR6/p76munk3UdwzsiGazmjjkYAkhJGUI3AJ4JyASOKi0XVbvUvCNnqpt0kvJ7UTeRGdis5GdoJJwCe5rnrHwLqsGt2V5PZ6dLJb373L6kWc3UsZR1WLBT5VXcoA3Ywg4FdHo2kapo/hGz0+OOKS+tbVY13bvKZwO5xnGe+PwpV8CoRSpxbem6/xX26beYozu9S74X1a8u7/UrDULKG2ubVYnJt7gzRsr7sfMUQhvlORjoQe9dNXI+D9CvNM1LVb65s7PTlvBGBZ2Tloiy7i0pJRMu27B+XooyT266v0fJqcaeBpxirb/AJu/fr5nHUd5sKKKK9MgKQkhSQCSB0HelprlljZlUuwBIUHqfSgDIsdYupNUGn6hp62kskRmhKT+ZuUEA7uBtPI45HvWzXLeHo9Tk1We/wBY0m6hvJgVEjSwtFDGDkIoVyxz1JI5PsBW5a3F9JdXaXNiIYY2AgkEwYzDHXH8P40AU7fV7z+2l06+sIoDKjSQyRXBl3BSM7htXb1HrSaRq2o6mTM+mwQ2JLhZRdF3O1iPubBjOPWqdnp8sniFL+DRm0pRvNy5aMNdE9MiNmzjk5bBHbvUNvopPiKG9sNDj0YRPIbif90GugwIAxGxyM4YlsdBjvQBZsfFEl5fW8f2KMWtzI8UUiXG6QMuc749o29PU44ro64nStE1KDWLWd7CSG7SV2vNRM6lbpDnChQxJ7YDAbccV21ABRRRQBjQ6zd3l9IllpwmsoZPLkuGn2EsOu1dp3Ae5FXn1TT479bB7+1W8YZW3MyiQ/Rc5rH0qHUtGmmsBprT28lw0sd0kqBVDHJDgndkH0BqjLpGost1po0/cs94Lgah5ibVG4NyM7twxjpj3oA6Z9V06K6jtZL+1S4kbYkTTKHZvQDOSap634jsNDi/f3Fv9pbHl2zTqjyZOOAeT+VY9x4duXtNY2WsZuLm/imjfK7mVShzn2wai1TStXd9WtrfThOL24SZboyoqqgCjYQTuyNpxxjnrQB2g5FFUpZ75NTt4I7ESWboTLc+cAYyOg29TmrtAHPP4qSO91m2a0YNp0ZkU7/9dhQzAccY3L69a05NY062Nul3fWttNcKDHFLMqs/0BPPXtXN6roGozQ65NbQ7riaffbr5ijzUMKowOTx3POOVFPuNM1GGfUI00r7Yt/BHGs3moBDtXBD7iDgdRtB70AdfRWWP7Q0+DTbSC1F4oCx3ExmCeWAPvYP3ue1alABRRRQAUUUUAFFFFABRRRQAUUUUAFFFFABRRRQAUUUUAFFFFABRRRQAUUUUAFFFFADZC4jYxqHcD5VLYBP17VhW2t6o+tf2bdaVbRyGBpt0V6ZNuDgBgYxjJzzz0rfrI0eyuI57y/vkC3VzLwuQdkY4VeOOnP1NAFe21rUzrsGmXul20JlieXfDeGUoq4GSDGvUnHWp7bVrz+2Bp99YRQGRGeF4rgy7gp/iG1dvX3pdKs7lb3UNSvY9txcSbIkyCUhThFyDjklm/wCBe1UbLT5X8QLfQaOdJUFjcuWiDXRIwMiNjnHXLYNAHS0VSt7i+k1G6hnsRFaxhfJnEwYy56/L1XFXaACiiigAoorlp08Wf20xhdfsHmDA3x/c/wC+c/rQB1NFcteJ4sOsMbV1Fj5gwN8f3e/Vc/rRqCeLDq7GydRZbhgb4+nfqpP60AdTRXL6oniw6qx051FnkbQXjH16qT+tGqJ4rOpZ091FrheC8Y579VJ/WgDqKK5bV08WG8H9mOog2DOXjHzY56qTRqyeLDeL/ZrqIPLXdl4x83fqpNAHU0VzGrJ4rNxD/ZrqIvKXzMvGPn79VNJqqeKy8H9nOoXyh5uXjHz9+qmgDqKK5fVE8VkW39nuo/dDzsvGPn79VP6UupJ4rMNl9gdRIIR9oy8Y+f8AFT+mKAOnormNQTxWbSz+xOonCH7R88f3vxU/pii+TxWbCzFo6i5Cn7R88fXt1XH5YoA6eiuYvE8VnTLMWzr9sAP2g74/w6rj8gKZcp4t/syzFu6/axu+0HfH68dUx09AKAOqorl7lPFf9k2gt3X7aCfPO+Pp26rj8gKW4TxV/Y9sIHX7duPnHfH07fw4/IUAdPRXLyp4r/sOARuv9oeafNO+P7nb+HH6Urp4q/sOMK6/2j5p3HfH9z/vnH6UAdPRXL7PFf8AYeN6/wBo+b13x/c/75x+lKqeKv7DYM6/2j5vynfH9z/vnH6UAdPRXLRp4s/sSYO6/wBoecPLO+P7mOf4cfpSxJ4r/sWcSOv2/wAweWd8f3e/8OP0oA6iiuYt08V/2PciZ1+3bh5J3x9O/wDDj8xRap4r/sm8Fw6/bSV8g74/x6Lj8waAOnormLJPFY02+F26m6Kj7Md8fXv0XH5g0WCeKxZXgvHU3BT/AEf54/vfgoH55oA6eiuX05PFYtrz7c6mUx/uMPGfm/BR+uaXTE8ViO8/tB1LGE+Rh4z8/boo/XNAHT0VyunJ4tC3X251J8k+Th4z8/bog/WnaWnisfaf7QdT+6Pk4eM/P26KP1oA6iiuY0pPFYef+0XUr5R8rDxn5+3RRRpCeKxdS/2m6mHym2YeM/P26KKAOnorl9ITxYLtjqbqYNhxh4z83booo0pPFg1DOouptdrdHjPPbooNAHUUVy+lp4rGqKdQdTZ85AeM/TooP60mnJ4tGrIb51NlubcA8Z4wcdFB9O9AHU0Vy1gniwaspvHU2W45G+M8duig/rRZp4sGsqbl1+w7zkb4/u9ui5/WgDqaK5aBPFn9tKZnX+z/ADeRvj+5/wB85/WhU8W/23kuv9n+d03x/wCrz/u56e9AHU0Vyzp4s/tolHX7B5vA3x/c/wC+c/rRcJ4s/tomF1+weaMDfH9zv/Dn9aAOporlr1PFp1hjauosfMGBvj+736rn9aXUU8WHV3Ni6ix3DaC8Y479VJ/WgDqKK5a+TxadWJs3UWW4YG+Pp36oT+tGpJ4sOqE2LqLPIwC8Y479VJ/WgDqaK5bVk8WHUWOmuotcLjLxjnHPVSadqyeKzqAOmuottq5y8Y579VJoA6eiuX1ZPFZuU/s11EXlruy8Y+bv1U0asniszQ/2a6iPyh5mXjHz9+qmgDqKK5jVU8Vlrb+znUDyR52XjHz9+qn9KTUk8VmK0+wOocRDz8vGPn/FT+mKAOoorltRTxYYbT7C6iQR/v8ALxj5vxU/pTtRTxWbWy+xOomEf+kZeMfN+Kn9MUAdPRXMXyeKzp9iLN1FyEP2n54/vduqkflii8TxWdNsxauouwD553x/h1XH5AUAdPRXMXSeK/7JtRbuv20E+ed8f4dVx+QouE8V/wBi2ohdft+9vOO+P7vb+HH5CgDp6K5eRPFf9iQiN1/tDzT5h3x/c7fw4/Smuni3+x4wjr9u8w7zvj+72/gx+lAHVUVy7p4r/sOII6/2h5h3nfH93t/Dj9KUp4r/ALBADr/aXncnfH9zH+7j9KAOnorl1TxX/YbhnX+0fN+U74/uf984/SljTxX/AGJKHdf7Q8wbDvj+73/hx+lAHT0Vy8CeK/7FuRM6/b/MHknfH93v/Dj8xS2yeKv7HuxO6/biy+Qd8fTv0XH5igDp6K5e0TxWNMvBcuv2s4+znfH+PRcfmDSWaeLBp94Lp1N0QPI+ePr36Lj880AdTRXMWKeKxYXwvHU3JQfZvnj+936KB+eaNOTxWLa8+3OpmMf+j4eM/N+Cj9c0AdPRXMaanisRXX291LmP9xh4z834KP1pNLTxWBdf2g6n90fJw8Z+ft0UfrQB1FFcxpKeKhNP/aTqU8lvKw8Z+ft0UUmkJ4rFzJ/aTqYvLO3Dxn5u3RRQB1FFcrpieLRdP9vdTDsbbh4z83bogp2kp4rF651J1Nv5bbcPGfm7dFBoA6iiuX0hPFY1DOpuptdrdHjPPbooNJpaeLBqSnUHU2nzZAeM/TooP60AdTRXL6anisaspv3U2W45AeM8duig/rXUUAFFFFABRRRQAUUUUAFFFFABRRRQAUUUUAFFFFABRRRQAUUUUAFFFFABRRRQAUUUUAFFFFABRRRQAUUUUAFFFFABRRRQAUUUUAFFFFABRRRQAUUUUAFFFFABRRRQAUUUUAFFFFABRRRQAUUUUAFFFFABRRRQAUUUUAFFFFABRRRQAUUUUAFFFFABRRRQAUUUUAFFFFABRRRQAUUUUAFFFFABRRRQAUUUUAFFFFAH/9k=)"
   ]
  },
  {
   "cell_type": "markdown",
   "metadata": {},
   "source": [
    "##### c.\n",
    "<p>\n",
    "Os investigadores estavam particularmente interessados no impacto sobre a névoa ao aumentar a velocidade de 100 para 1000. Quando x aumenta dessa forma, há alguma evidência significativa de que o aumento médio verdadeiro em y seja menor que 0,6?\n",
    "</p>"
   ]
  },
  {
   "cell_type": "code",
   "execution_count": 18,
   "metadata": {},
   "outputs": [
    {
     "name": "stdout",
     "output_type": "stream",
     "text": [
      "|-0.6014072119613016| >= 2.5705818366147395 negada, Não há evidência que o aumento médio seja menor que 0,6\n"
     ]
    }
   ],
   "source": [
    "#tabela t-student\n",
    "alpha = 0.05\n",
    "gl = len(x) - 2\n",
    "t_student = t.ppf(1 - alpha/2, gl)\n",
    "\n",
    "#teste de hipótese\n",
    "var_x = 1000 - 100\n",
    "var_y = 0.6\n",
    "b1_inf = 0.00062108\n",
    "sb1_inf = 0.0000758\n",
    "b1 = var_y / var_x                     #hipótese\n",
    "t_calc = (b1_inf - b1) / sb1_inf\n",
    "print('|{}| >= {} negada, Não há evidência que o aumento médio seja menor que 0,6'.format(t_calc, t_student))"
   ]
  },
  {
   "cell_type": "markdown",
   "metadata": {},
   "source": [
    "##### d.\n",
    "<p>\n",
    "Estime a mudança média verdadeira na névoa associada com um aumento de velocidade de 1cm/s. Faça isso de maneira que transmita informações sobre precisão e confiança.\n",
    "</p>"
   ]
  },
  {
   "cell_type": "markdown",
   "metadata": {
    "id": "w062B2PaEBd8"
   },
   "source": [
    "![aula7fig1d.png](data:image/png;base64,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)"
   ]
  },
  {
   "cell_type": "markdown",
   "metadata": {
    "id": "3JVjYPtQEowt"
   },
   "source": [
    "IC de $\\beta_1= \\hat{\\beta}_1 \\pm t_{\\frac{\\alpha}{2},n-2} s_{\\hat{\\beta}_1}  $"
   ]
  },
  {
   "cell_type": "code",
   "execution_count": 49,
   "metadata": {
    "colab": {
     "base_uri": "https://localhost:8080/"
    },
    "executionInfo": {
     "elapsed": 13,
     "status": "ok",
     "timestamp": 1647199605561,
     "user": {
      "displayName": "victoria alejandra herrera",
      "photoUrl": "https://lh3.googleusercontent.com/a/default-user=s64",
      "userId": "16346835995419242908"
     },
     "user_tz": 180
    },
    "id": "PyQR_UHI6VcL",
    "outputId": "e229f3f0-685b-439b-b7f6-926c5dcf9304"
   },
   "outputs": [
    {
     "data": {
      "text/plain": [
       "(0.0004718165634512694, 0.0008615167698820639)"
      ]
     },
     "execution_count": 49,
     "metadata": {},
     "output_type": "execute_result"
    }
   ],
   "source": [
    "#Cálculo do intervalo de confiança de b1\n",
    "#v é o nome com que foi armazenado t_crit\n",
    "b1a=b1+t_student*7.58e-5\n",
    "b1b=b1-t_student*7.58e-5\n",
    "b1b,b1a"
   ]
  },
  {
   "cell_type": "code",
   "execution_count": null,
   "metadata": {
    "colab": {
     "base_uri": "https://localhost:8080/"
    },
    "executionInfo": {
     "elapsed": 12,
     "status": "ok",
     "timestamp": 1647199605562,
     "user": {
      "displayName": "victoria alejandra herrera",
      "photoUrl": "https://lh3.googleusercontent.com/a/default-user=s64",
      "userId": "16346835995419242908"
     },
     "user_tz": 180
    },
    "id": "M_SpjPgwuQGW",
    "outputId": "1ee12f3c-5c66-45e2-e063-b12fb15fc604"
   },
   "outputs": [
    {
     "data": {
      "text/plain": [
       "array([0.45939953, 0.51405421, 0.52150712, 0.62398463, 0.62895324,\n",
       "       0.6786393 , 1.00346197])"
      ]
     },
     "metadata": {},
     "output_type": "display_data"
    }
   ],
   "source": [
    "#Alguns complementos para observação \n",
    "y_pred=modelo.predict()\n",
    "y_pred"
   ]
  },
  {
   "cell_type": "code",
   "execution_count": null,
   "metadata": {
    "colab": {
     "base_uri": "https://localhost:8080/",
     "height": 513
    },
    "executionInfo": {
     "elapsed": 580,
     "status": "ok",
     "timestamp": 1647199606132,
     "user": {
      "displayName": "victoria alejandra herrera",
      "photoUrl": "https://lh3.googleusercontent.com/a/default-user=s64",
      "userId": "16346835995419242908"
     },
     "user_tz": 180
    },
    "id": "rOncAcMmt6J-",
    "outputId": "486fedb5-72e8-4ea6-ab1c-1290157f761d"
   },
   "outputs": [
    {
     "data": {
      "image/png": "[encoded data removed]",
      "text/plain": [
       "<Figure size 800x600 with 1 Axes>"
      ]
     },
     "metadata": {},
     "output_type": "display_data"
    }
   ],
   "source": [
    "#Observar o intervalo de previsão\n",
    "pred_ols = modelo.get_prediction()\n",
    "iv_l = pred_ols.summary_frame()[\"obs_ci_lower\"] #dentro [] define só mostrar extremos\n",
    "iv_u = pred_ols.summary_frame()[\"obs_ci_upper\"]\n",
    "\n",
    "fig, ax = plt.subplots(figsize=(8, 6))\n",
    "\n",
    "ax.plot(x, y, \"go\", label=\"dados\")\n",
    "ax.plot(x, y_pred, \"b-\", label=\"calculados\")\n",
    "ax.plot(x, modelo.fittedvalues, \"y--.\", label=\"Reta\")\n",
    "ax.plot(x, iv_u, \"m--\")\n",
    "ax.plot(x, iv_l, \"m--\")\n",
    "ax.legend(loc=\"best\")\n",
    "plt.grid(True)"
   ]
  },
  {
   "cell_type": "markdown",
   "metadata": {},
   "source": [
    "#### 2.\n",
    "<p>\n",
    "y = constante dielétrica a\n",
    "\n",
    "x = vácuo de ar(%)\n",
    "\n",
    "para 18 amostras tendo 5% de teor de asfalto\n",
    "\n",
    "A reta de regressão é y = 4,8587 - 0,07468x\n",
    "\n",
    "O coeficiente de determinação desdes dados foi r² = 0,7797 e o desvio padrão estimado de b1 = 0,09923. Faça um teste de hipótese para verificar se o valor da variação da constante dielétrica frente à porcentagem de vácuo pode ser maior que -0,05, utilizando nível de significância de 0,01\n",
    "\n",
    "Definir hipótese nula e alternativa:\n",
    "\n",
    "H0: b1 = -0,05 / H1: b1 > -0,05\n",
    "</p>"
   ]
  },
  {
   "cell_type": "code",
   "execution_count": 19,
   "metadata": {},
   "outputs": [
    {
     "name": "stdout",
     "output_type": "stream",
     "text": [
      "t_crit = 2.9207816223499967\n"
     ]
    }
   ],
   "source": [
    "alpha = 0.01\n",
    "n = 18\n",
    "gl = n - 2\n",
    "t_crit = t.ppf(1 - alpha/2, gl)\n",
    "print('t_crit = {}'.format(t_crit))"
   ]
  },
  {
   "cell_type": "code",
   "execution_count": 20,
   "metadata": {},
   "outputs": [
    {
     "name": "stdout",
     "output_type": "stream",
     "text": [
      "|t| >= t_crit negada, -0.24871510631865357 < 2.9207816223499967\n"
     ]
    }
   ],
   "source": [
    "#Calcular a estatistica de teste sendo:\n",
    "b1 = -0.05\n",
    "sb1_inf = 0.09923\n",
    "b1_inf = -0.07468\n",
    "\n",
    "t = (b1_inf - b1) / sb1_inf\n",
    "print('|t| >= t_crit negada, {} < {}'.format(t, t_crit))"
   ]
  },
  {
   "cell_type": "markdown",
   "metadata": {},
   "source": [
    "#### 3.\n",
    "<p>\n",
    "Considere os dados a seguir:\n",
    "\n",
    "x = concentração de Ge(variando entre 0 e 1)\n",
    "\n",
    "y = posição do nível Fermi(eV)\n",
    "\n",
    "    x = 0.00, 0.42, 0.23, 0.33, 0.62, 0.60, 0.45, 0.87, 0.90, 0.79, 1.00, 1.00, 1.00\n",
    "\n",
    "    y = 0.62, 0.53, 0.61, 0.59, 0.50, 0.55, 0.59, 0.31, 0.43, 0.46, 0.23, 0.22, 0.19\n",
    "</p>"
   ]
  },
  {
   "cell_type": "code",
   "execution_count": 35,
   "metadata": {},
   "outputs": [
    {
     "name": "stdout",
     "output_type": "stream",
     "text": [
      "Equação da reta: y = 0.7217185973357485 + -0.43268474608583807x\n"
     ]
    },
    {
     "data": {
      "image/png": "[encoded data removed]",
      "text/plain": [
       "<Figure size 1200x600 with 1 Axes>"
      ]
     },
     "metadata": {
      "needs_background": "light"
     },
     "output_type": "display_data"
    }
   ],
   "source": [
    "#análise do gráfico de dispersão\n",
    "x = [0.00, 0.42, 0.23, 0.33, 0.62, 0.60, 0.45, 0.87, 0.90, 0.79, 1.00, 1.00, 1.00]\n",
    "y = [0.62, 0.53, 0.61, 0.59, 0.50, 0.55, 0.59, 0.31, 0.43, 0.46, 0.23, 0.22, 0.19]\n",
    "df = pd.DataFrame({'x':x, 'y':y})\n",
    "\n",
    "fa = first_analysis_lr(x, y, 'x', 'y')\n",
    "\n",
    "plt.rcParams.update({'figure.figsize':(12,6), 'figure.dpi':100})\n",
    "plt.scatter(x,y, label=f'Correlação = {np.round(np.corrcoef(x,y)[0,1], 2)}')\n",
    "plt.xlabel('Velocidade do fluxo do fluido (cm/s)')\n",
    "plt.ylabel('Quantidade de gotículas de névoa (mg/m3)') \n",
    "plt.title('Gráfico de dispersão')\n",
    "plt.legend()\n",
    "plt.grid(True)\n",
    "plt.show()"
   ]
  },
  {
   "cell_type": "code",
   "execution_count": 28,
   "metadata": {},
   "outputs": [
    {
     "name": "stdout",
     "output_type": "stream",
     "text": [
      "                            OLS Regression Results                            \n",
      "==============================================================================\n",
      "Dep. Variable:                      y   R-squared:                       0.802\n",
      "Model:                            OLS   Adj. R-squared:                  0.784\n",
      "Method:                 Least Squares   F-statistic:                     44.43\n",
      "Date:                Mon, 02 May 2022   Prob (F-statistic):           3.53e-05\n",
      "Time:                        15:17:42   Log-Likelihood:                 16.530\n",
      "No. Observations:                  13   AIC:                            -29.06\n",
      "Df Residuals:                      11   BIC:                            -27.93\n",
      "Df Model:                           1                                         \n",
      "Covariance Type:            nonrobust                                         \n",
      "==============================================================================\n",
      "                 coef    std err          t      P>|t|      [0.025      0.975]\n",
      "------------------------------------------------------------------------------\n",
      "const          0.7217      0.046     15.753      0.000       0.621       0.823\n",
      "x1            -0.4327      0.065     -6.666      0.000      -0.576      -0.290\n",
      "==============================================================================\n",
      "Omnibus:                        2.568   Durbin-Watson:                   1.012\n",
      "Prob(Omnibus):                  0.277   Jarque-Bera (JB):                1.002\n",
      "Skew:                          -0.031   Prob(JB):                        0.606\n",
      "Kurtosis:                       1.641   Cond. No.                         4.53\n",
      "==============================================================================\n",
      "\n",
      "Notes:\n",
      "[1] Standard Errors assume that the covariance matrix of the errors is correctly specified.\n"
     ]
    },
    {
     "name": "stderr",
     "output_type": "stream",
     "text": [
      "/home/felipe_oliveira/data-science/Statistical Modeling and Inference/statistical-modeling-inference/venv/lib/python3.9/site-packages/scipy/stats/_stats_py.py:1477: UserWarning: kurtosistest only valid for n>=20 ... continuing anyway, n=13\n",
      "  warnings.warn(\"kurtosistest only valid for n>=20 ... continuing \"\n"
     ]
    }
   ],
   "source": [
    "#análise dos dados de regressão \n",
    "x = sm.add_constant(x)\n",
    "\n",
    "#fit linear regression model\n",
    "modelo = sm.OLS(y, x).fit()\n",
    "print(modelo.summary())"
   ]
  },
  {
   "cell_type": "markdown",
   "metadata": {},
   "source": [
    "##### a.\n",
    "<p>\n",
    "Obtenha uma curva estimativa intervalar da mudança esperada na posição do nível de Fermi associada com um aumento de 0,1 nas concentrações de Ge e interprete ser resultado\n",
    "</p>"
   ]
  },
  {
   "cell_type": "code",
   "execution_count": 29,
   "metadata": {
    "colab": {
     "base_uri": "https://localhost:8080/"
    },
    "executionInfo": {
     "elapsed": 50,
     "status": "ok",
     "timestamp": 1647199606598,
     "user": {
      "displayName": "victoria alejandra herrera",
      "photoUrl": "https://lh3.googleusercontent.com/a/default-user=s64",
      "userId": "16346835995419242908"
     },
     "user_tz": 180
    },
    "id": "gS-k0sryNMpY",
    "outputId": "35c333f0-e312-489e-af64-309d4810393c"
   },
   "outputs": [
    {
     "data": {
      "text/plain": [
       "-0.43268474608583807"
      ]
     },
     "execution_count": 29,
     "metadata": {},
     "output_type": "execute_result"
    }
   ],
   "source": [
    "#b1\n",
    "b=modelo.params\n",
    "b0=b[0]#intercepto\n",
    "b1=b[1]#inclinação\n",
    "b1"
   ]
  },
  {
   "cell_type": "code",
   "execution_count": 30,
   "metadata": {
    "colab": {
     "base_uri": "https://localhost:8080/"
    },
    "executionInfo": {
     "elapsed": 46,
     "status": "ok",
     "timestamp": 1647199606598,
     "user": {
      "displayName": "victoria alejandra herrera",
      "photoUrl": "https://lh3.googleusercontent.com/a/default-user=s64",
      "userId": "16346835995419242908"
     },
     "user_tz": 180
    },
    "id": "kLVJGcSpj-D-",
    "outputId": "8eed5b24-3ef8-422e-b241-31148379c195"
   },
   "outputs": [
    {
     "name": "stdout",
     "output_type": "stream",
     "text": [
      "t=: 2.200985160082949\n"
     ]
    }
   ],
   "source": [
    "#usar a tabela tstudent pata t\n",
    "from scipy.stats import t\n",
    "alpha = 0.05  # nível de significia = 5% \n",
    "df = len(x) - 2 # graus de liberdade (Número de amostras menos dois)                                     \n",
    "#\n",
    "v = t.ppf(1 - alpha/2, df) \n",
    "ta2=v\n",
    "print(f't=: {v}') "
   ]
  },
  {
   "cell_type": "code",
   "execution_count": 31,
   "metadata": {
    "colab": {
     "base_uri": "https://localhost:8080/"
    },
    "executionInfo": {
     "elapsed": 45,
     "status": "ok",
     "timestamp": 1647199606599,
     "user": {
      "displayName": "victoria alejandra herrera",
      "photoUrl": "https://lh3.googleusercontent.com/a/default-user=s64",
      "userId": "16346835995419242908"
     },
     "user_tz": 180
    },
    "id": "GSp9W_iEnz2L",
    "outputId": "0eb558a4-68e4-4390-d2a0-9ec3b4720c1d"
   },
   "outputs": [
    {
     "data": {
      "text/plain": [
       "0.06491029555205573"
      ]
     },
     "execution_count": 31,
     "metadata": {},
     "output_type": "execute_result"
    }
   ],
   "source": [
    "sb=modelo.bse #desvio padrão\n",
    "#sb0=sb[0]    #desvio padrão de b0\n",
    "sb1=sb[1]     #desvio padrão de b1\n",
    "sb1"
   ]
  },
  {
   "cell_type": "code",
   "execution_count": 32,
   "metadata": {
    "colab": {
     "base_uri": "https://localhost:8080/"
    },
    "executionInfo": {
     "elapsed": 42,
     "status": "ok",
     "timestamp": 1647199606599,
     "user": {
      "displayName": "victoria alejandra herrera",
      "photoUrl": "https://lh3.googleusercontent.com/a/default-user=s64",
      "userId": "16346835995419242908"
     },
     "user_tz": 180
    },
    "id": "xSZyx0L3oUab",
    "outputId": "2e5859a5-8817-4c2d-9152-f1263ab09550"
   },
   "outputs": [
    {
     "data": {
      "text/plain": [
       "[-0.575551343332511, -0.2898181488391652]"
      ]
     },
     "execution_count": 32,
     "metadata": {},
     "output_type": "execute_result"
    }
   ],
   "source": [
    "#IC de b1\n",
    "ic =([b1-ta2*sb1,b1+ta2*sb1])\n",
    "ic"
   ]
  },
  {
   "cell_type": "markdown",
   "metadata": {},
   "source": [
    "##### b.\n",
    "<p>\n",
    "Obtenha uma estimativa de intervalo para a média da posição do nível de Fermi quando a concentração é 0,50 e interprete seu resultado\n",
    "</p>"
   ]
  },
  {
   "cell_type": "code",
   "execution_count": 40,
   "metadata": {
    "colab": {
     "base_uri": "https://localhost:8080/"
    },
    "executionInfo": {
     "elapsed": 39,
     "status": "ok",
     "timestamp": 1647199606600,
     "user": {
      "displayName": "victoria alejandra herrera",
      "photoUrl": "https://lh3.googleusercontent.com/a/default-user=s64",
      "userId": "16346835995419242908"
     },
     "user_tz": 180
    },
    "id": "nKnatXd_FQht",
    "outputId": "02425696-58a7-4208-f5fa-4f5ae7405fc5"
   },
   "outputs": [
    {
     "data": {
      "text/plain": [
       "0.5053762242928298"
      ]
     },
     "execution_count": 40,
     "metadata": {},
     "output_type": "execute_result"
    }
   ],
   "source": [
    "uy05=b0+b1*0.5\n",
    "uy05"
   ]
  },
  {
   "cell_type": "code",
   "execution_count": 54,
   "metadata": {
    "colab": {
     "base_uri": "https://localhost:8080/"
    },
    "executionInfo": {
     "elapsed": 33,
     "status": "ok",
     "timestamp": 1647199606601,
     "user": {
      "displayName": "victoria alejandra herrera",
      "photoUrl": "https://lh3.googleusercontent.com/a/default-user=s64",
      "userId": "16346835995419242908"
     },
     "user_tz": 180
    },
    "id": "8u9S1AtevphO",
    "outputId": "aa6bfac4-66a0-46a2-8c85-d3e935f1690a"
   },
   "outputs": [
    {
     "data": {
      "text/plain": [
       "0.3756736000709177"
      ]
     },
     "execution_count": 54,
     "metadata": {},
     "output_type": "execute_result"
    }
   ],
   "source": [
    "x = 0.5\n",
    "sy_inf = s * np.sqrt((1 / fa['n']) + (((x - fa['x_mean'])**2) / fa['sxx']))\n",
    "sy_inf"
   ]
  },
  {
   "cell_type": "code",
   "execution_count": 55,
   "metadata": {
    "colab": {
     "base_uri": "https://localhost:8080/"
    },
    "executionInfo": {
     "elapsed": 31,
     "status": "ok",
     "timestamp": 1647199606601,
     "user": {
      "displayName": "victoria alejandra herrera",
      "photoUrl": "https://lh3.googleusercontent.com/a/default-user=s64",
      "userId": "16346835995419242908"
     },
     "user_tz": 180
    },
    "id": "S-gePU700bBl",
    "outputId": "b96089f0-060e-47ef-c9c7-0091934ed79d"
   },
   "outputs": [
    {
     "data": {
      "text/plain": [
       "[-0.32147579449819674, 1.3322282430838563]"
      ]
     },
     "execution_count": 55,
     "metadata": {},
     "output_type": "execute_result"
    }
   ],
   "source": [
    "#IC do valor esperado para um valor específico de x \n",
    "ic = ([uy05 - ta2*sy_inf, uy05 + ta2*sy_inf])\n",
    "ic"
   ]
  },
  {
   "cell_type": "markdown",
   "metadata": {},
   "source": [
    "##### c.\n",
    "<p>\n",
    "Obtenha um intervalo dos valores plausíveis para a posição resultante de uma única observação a ser feita quando a concentração é 0,50, interprete ser intervalo e o compare ao intervalo de \"b\"\n",
    "</p>"
   ]
  },
  {
   "cell_type": "code",
   "execution_count": 57,
   "metadata": {},
   "outputs": [
    {
     "ename": "KeyError",
     "evalue": "'s2'",
     "output_type": "error",
     "traceback": [
      "\u001b[0;31m---------------------------------------------------------------------------\u001b[0m",
      "\u001b[0;31mKeyError\u001b[0m                                  Traceback (most recent call last)",
      "\u001b[1;32m/home/felipe_oliveira/data-science/Statistical Modeling and Inference/statistical-modeling-inference/03_teste_hipotese_previsao_resposta.ipynb Cell 86'\u001b[0m in \u001b[0;36m<cell line: 3>\u001b[0;34m()\u001b[0m\n\u001b[1;32m      <a href='vscode-notebook-cell:/home/felipe_oliveira/data-science/Statistical%20Modeling%20and%20Inference/statistical-modeling-inference/03_teste_hipotese_previsao_resposta.ipynb#ch0000089?line=0'>1</a>\u001b[0m \u001b[39m#valor de y-chapeu para uma única observação uy05 calculado em 2b\u001b[39;00m\n\u001b[1;32m      <a href='vscode-notebook-cell:/home/felipe_oliveira/data-science/Statistical%20Modeling%20and%20Inference/statistical-modeling-inference/03_teste_hipotese_previsao_resposta.ipynb#ch0000089?line=1'>2</a>\u001b[0m \u001b[39m#ta2 valor t-student usado nos items anteriores\u001b[39;00m\n\u001b[0;32m----> <a href='vscode-notebook-cell:/home/felipe_oliveira/data-science/Statistical%20Modeling%20and%20Inference/statistical-modeling-inference/03_teste_hipotese_previsao_resposta.ipynb#ch0000089?line=2'>3</a>\u001b[0m ip1y05\u001b[39m=\u001b[39m([uy05\u001b[39m-\u001b[39mta2\u001b[39m*\u001b[39m\u001b[39mpow\u001b[39m((fa[\u001b[39m'\u001b[39;49m\u001b[39ms2\u001b[39;49m\u001b[39m'\u001b[39;49m]\u001b[39m+\u001b[39msy_inf\u001b[39m*\u001b[39msy_inf),\u001b[39m1\u001b[39m\u001b[39m/\u001b[39m\u001b[39m2\u001b[39m),uy05\u001b[39m+\u001b[39mta2\u001b[39m*\u001b[39m\u001b[39mpow\u001b[39m((fa[\u001b[39m'\u001b[39m\u001b[39ms2\u001b[39m\u001b[39m'\u001b[39m]\u001b[39m+\u001b[39msy_inf\u001b[39m*\u001b[39msy_inf),\u001b[39m1\u001b[39m\u001b[39m/\u001b[39m\u001b[39m2\u001b[39m)])\n\u001b[1;32m      <a href='vscode-notebook-cell:/home/felipe_oliveira/data-science/Statistical%20Modeling%20and%20Inference/statistical-modeling-inference/03_teste_hipotese_previsao_resposta.ipynb#ch0000089?line=3'>4</a>\u001b[0m ip1y05\n",
      "\u001b[0;31mKeyError\u001b[0m: 's2'"
     ]
    }
   ],
   "source": [
    "#valor de y-chapeu para uma única observação uy05 calculado em 2b\n",
    "#ta2 valor t-student usado nos items anteriores\n",
    "ip1y05=([uy05-ta2*pow((s2+sy*sy),1/2),uy05+ta2*pow((s2+sy*sy),1/2)])\n",
    "ip1y05"
   ]
  },
  {
   "cell_type": "markdown",
   "metadata": {},
   "source": [
    "##### d.\n",
    "<p>\n",
    "Obtenha IC simultâneos para a posição esperada quando a concentração é 0,3, 0,5 e 0,7; o nível de confiança conjunto deve ser de pelo menos 97%\n",
    "</p>"
   ]
  },
  {
   "cell_type": "markdown",
   "metadata": {
    "id": "_dkCbb0IH5hC"
   },
   "source": [
    "Considerando que 100(1 - (k * alpha)) = 97%\n",
    "\n",
    "Quantidade de observações simultâneas k=3 encontrar $\\alpha$\n",
    "\n",
    "$(1-k\\alpha) = 0,97 $ \n",
    "\n",
    "$1-3\\alpha = 0,97 $ \n",
    "\n",
    "$\\alpha = \\frac{0.03}{3} = 0,01$\n",
    "\n",
    "Portanto cada observação deve ter um $\\alpha = 0,01$, isto é o 99% de confiança"
   ]
  },
  {
   "cell_type": "code",
   "execution_count": null,
   "metadata": {
    "colab": {
     "base_uri": "https://localhost:8080/"
    },
    "executionInfo": {
     "elapsed": 27,
     "status": "ok",
     "timestamp": 1647199606602,
     "user": {
      "displayName": "victoria alejandra herrera",
      "photoUrl": "https://lh3.googleusercontent.com/a/default-user=s64",
      "userId": "16346835995419242908"
     },
     "user_tz": 180
    },
    "id": "XjF7XppUIJu3",
    "outputId": "054509e0-9ec4-4a33-8fc9-e96a9981d4cb"
   },
   "outputs": [
    {
     "data": {
      "text/plain": [
       "0.9702989999999999"
      ]
     },
     "metadata": {},
     "output_type": "display_data"
    }
   ],
   "source": [
    "#100(1-alpha) de cada intervalor\n",
    "0.99*0.99*0.99"
   ]
  },
  {
   "cell_type": "markdown",
   "metadata": {
    "id": "MuQFRsF1K0SU"
   },
   "source": [
    "Estimativa de Y para x=0,3, 0,5 e 0,7, ou seja o intervalo de estimado de Y para um único valor de cada x indicado.\n",
    "\n",
    "$\\mu_{Y,x^*}=\\beta_0 + \\beta_1 x^*=0,7217 - 0,4327 (x^*)$"
   ]
  },
  {
   "cell_type": "code",
   "execution_count": 112,
   "metadata": {
    "colab": {
     "base_uri": "https://localhost:8080/"
    },
    "executionInfo": {
     "elapsed": 27,
     "status": "ok",
     "timestamp": 1647199606605,
     "user": {
      "displayName": "victoria alejandra herrera",
      "photoUrl": "https://lh3.googleusercontent.com/a/default-user=s64",
      "userId": "16346835995419242908"
     },
     "user_tz": 180
    },
    "id": "Zx-U2RTFMzng",
    "outputId": "b2c3587d-5976-4515-dc9a-3d4eb6ad7aa2"
   },
   "outputs": [
    {
     "data": {
      "text/plain": [
       "(array([       nan, 0.59191317]),\n",
       " array([       nan, 0.50537622]),\n",
       " array([       nan, 0.41883928]))"
      ]
     },
     "execution_count": 112,
     "metadata": {},
     "output_type": "execute_result"
    }
   ],
   "source": [
    "x3 = 0.3\n",
    "x5 = 0.5\n",
    "x7 = 0.7\n",
    "uy03d=b0+b1*x3\n",
    "uy05d=b0+b1*x5\n",
    "uy07d=b0+b1*x7\n",
    "uy03d,uy05d,uy07d"
   ]
  },
  {
   "cell_type": "code",
   "execution_count": null,
   "metadata": {
    "colab": {
     "base_uri": "https://localhost:8080/"
    },
    "executionInfo": {
     "elapsed": 26,
     "status": "ok",
     "timestamp": 1647199606606,
     "user": {
      "displayName": "victoria alejandra herrera",
      "photoUrl": "https://lh3.googleusercontent.com/a/default-user=s64",
      "userId": "16346835995419242908"
     },
     "user_tz": 180
    },
    "id": "qyxyzCYMLGrq",
    "outputId": "f061dc81-9ad8-4530-d429-ebf9d4c692e6"
   },
   "outputs": [
    {
     "name": "stdout",
     "output_type": "stream",
     "text": [
      "t=: 3.105806513221101\n"
     ]
    }
   ],
   "source": [
    "#usar a tabela tstudent pata t\n",
    "from scipy.stats import t\n",
    "alpha = 0.01  # nível de significia = 5% \n",
    "df = len(x) - 2 # graus de liberdade (Número de amostras menos dois)                                     \n",
    "#\n",
    "v = t.ppf(1 - alpha/2, df) \n",
    "ta2d=v\n",
    "print(f't=: {v}') "
   ]
  },
  {
   "cell_type": "code",
   "execution_count": null,
   "metadata": {
    "colab": {
     "base_uri": "https://localhost:8080/"
    },
    "executionInfo": {
     "elapsed": 23,
     "status": "ok",
     "timestamp": 1647199606606,
     "user": {
      "displayName": "victoria alejandra herrera",
      "photoUrl": "https://lh3.googleusercontent.com/a/default-user=s64",
      "userId": "16346835995419242908"
     },
     "user_tz": 180
    },
    "id": "FWxxgzjNN5Lt",
    "outputId": "30d02529-e8b4-4e5e-bae8-74d1e93a2a95"
   },
   "outputs": [
    {
     "data": {
      "text/plain": [
       "(0.02969165089768393, 0.022166944519205978, 0.020933715463280694)"
      ]
     },
     "metadata": {},
     "output_type": "display_data"
    }
   ],
   "source": [
    "#xm=x.mean()\n",
    "#n=modelo.df_resid + 2 #gl+2=n\n",
    "xm,n\n",
    "sy3=s*pow(((1/n)+(x3-xm)*(x3-xm)/sxx),1/2)\n",
    "sy5=s*pow(((1/n)+(x5-xm)*(x5-xm)/sxx),1/2)\n",
    "sy7=s*pow(((1/n)+(x7-xm)*(x7-xm)/sxx),1/2)\n",
    "sy3,sy5,sy7"
   ]
  },
  {
   "cell_type": "code",
   "execution_count": null,
   "metadata": {
    "colab": {
     "base_uri": "https://localhost:8080/"
    },
    "executionInfo": {
     "elapsed": 22,
     "status": "ok",
     "timestamp": 1647199606607,
     "user": {
      "displayName": "victoria alejandra herrera",
      "photoUrl": "https://lh3.googleusercontent.com/a/default-user=s64",
      "userId": "16346835995419242908"
     },
     "user_tz": 180
    },
    "id": "an_GzrQtPyI0",
    "outputId": "36d2429d-27a2-4342-b7a9-9020a8f4bb60"
   },
   "outputs": [
    {
     "name": "stdout",
     "output_type": "stream",
     "text": [
      "O intervalo de confiança para y, x=0,3= [0.4996966507636827, 0.6841296962563105]\n",
      "O intervalo de confiança para y, x=0,5= [0.4365299836268683, 0.5742224649587897]\n",
      "O intervalo de confiança para y, x=0,7= [0.35382320524388716, 0.48385534490743604]\n"
     ]
    }
   ],
   "source": [
    "#IC do valor esperado para várias observações x=0,3 0,5 e 0,7 \n",
    "ICuy03d=([uy03d-ta2d*sy3,uy03d+ta2d*sy3])\n",
    "ICuy05d=([uy05d-ta2d*sy5,uy05d+ta2d*sy5])\n",
    "ICuy07d=([uy07d-ta2d*sy7,uy07d+ta2d*sy7])\n",
    "print(f'O intervalo de confiança para y, x=0,3= {ICuy03d}')\n",
    "print(f'O intervalo de confiança para y, x=0,5= {ICuy05d}')\n",
    "print(f'O intervalo de confiança para y, x=0,7= {ICuy07d}')\n",
    "#print('Os intervalos de confiança são: Para y, x=0,3= {0}, para y, x=0,5=  {1}, para y, x=0,7= {0} {2}'.format(ICuy03d,ICuy05d,ICuy07d))\n",
    "#ICuy03d,ICuy05d,ICuy07d"
   ]
  },
  {
   "cell_type": "markdown",
   "metadata": {},
   "source": [
    "A 95% de confiança IP é $0.3359 < Y < 0.67489$"
   ]
  }
 ],
 "metadata": {
  "interpreter": {
   "hash": "537b5df5e73e34e4068ed98c26a0ce4652b68f31a345e44a6cf3e71a3ea2a728"
  },
  "kernelspec": {
   "display_name": "Python 3.9.7 ('venv': venv)",
   "language": "python",
   "name": "python3"
  },
  "language_info": {
   "codemirror_mode": {
    "name": "ipython",
    "version": 3
   },
   "file_extension": ".py",
   "mimetype": "text/x-python",
   "name": "python",
   "nbconvert_exporter": "python",
   "pygments_lexer": "ipython3",
   "version": "3.9.7"
  },
  "orig_nbformat": 4
 },
 "nbformat": 4,
 "nbformat_minor": 2
}
